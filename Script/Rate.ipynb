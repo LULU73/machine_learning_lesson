{
 "cells": [
  {
   "cell_type": "code",
   "execution_count": 15,
   "metadata": {},
   "outputs": [],
   "source": [
    "import os\n",
    "os.getcwd()\n",
    "path = \"C:\\\\Users\\\\sliu\\\\My_first_ml\\\\machine_learning_lesson\\\\data\\\\\"\n",
    "filename = \"DAT_EURUSD_2018.csv\""
   ]
  },
  {
   "cell_type": "code",
   "execution_count": 16,
   "metadata": {},
   "outputs": [
    {
     "data": {
      "text/html": [
       "<div>\n",
       "<style scoped>\n",
       "    .dataframe tbody tr th:only-of-type {\n",
       "        vertical-align: middle;\n",
       "    }\n",
       "\n",
       "    .dataframe tbody tr th {\n",
       "        vertical-align: top;\n",
       "    }\n",
       "\n",
       "    .dataframe thead th {\n",
       "        text-align: right;\n",
       "    }\n",
       "</style>\n",
       "<table border=\"1\" class=\"dataframe\">\n",
       "  <thead>\n",
       "    <tr style=\"text-align: right;\">\n",
       "      <th></th>\n",
       "      <th>datetime</th>\n",
       "      <th>Buying_Rate</th>\n",
       "      <th>Cash_Buying_Rate</th>\n",
       "      <th>Selling_Rate</th>\n",
       "      <th>Cash_Selling_Rate</th>\n",
       "    </tr>\n",
       "  </thead>\n",
       "  <tbody>\n",
       "    <tr>\n",
       "      <th>0</th>\n",
       "      <td>2018-01-01 17:00</td>\n",
       "      <td>1.20037</td>\n",
       "      <td>1.20100</td>\n",
       "      <td>1.20037</td>\n",
       "      <td>1.20100</td>\n",
       "    </tr>\n",
       "    <tr>\n",
       "      <th>1</th>\n",
       "      <td>2018-01-01 17:01</td>\n",
       "      <td>1.20083</td>\n",
       "      <td>1.20095</td>\n",
       "      <td>1.20017</td>\n",
       "      <td>1.20030</td>\n",
       "    </tr>\n",
       "    <tr>\n",
       "      <th>2</th>\n",
       "      <td>2018-01-01 17:02</td>\n",
       "      <td>1.20035</td>\n",
       "      <td>1.20043</td>\n",
       "      <td>1.20035</td>\n",
       "      <td>1.20043</td>\n",
       "    </tr>\n",
       "    <tr>\n",
       "      <th>3</th>\n",
       "      <td>2018-01-01 17:03</td>\n",
       "      <td>1.20041</td>\n",
       "      <td>1.20050</td>\n",
       "      <td>1.20031</td>\n",
       "      <td>1.20046</td>\n",
       "    </tr>\n",
       "    <tr>\n",
       "      <th>4</th>\n",
       "      <td>2018-01-01 17:04</td>\n",
       "      <td>1.20049</td>\n",
       "      <td>1.20049</td>\n",
       "      <td>1.20046</td>\n",
       "      <td>1.20048</td>\n",
       "    </tr>\n",
       "  </tbody>\n",
       "</table>\n",
       "</div>"
      ],
      "text/plain": [
       "           datetime  Buying_Rate  Cash_Buying_Rate  Selling_Rate  \\\n",
       "0  2018-01-01 17:00      1.20037           1.20100       1.20037   \n",
       "1  2018-01-01 17:01      1.20083           1.20095       1.20017   \n",
       "2  2018-01-01 17:02      1.20035           1.20043       1.20035   \n",
       "3  2018-01-01 17:03      1.20041           1.20050       1.20031   \n",
       "4  2018-01-01 17:04      1.20049           1.20049       1.20046   \n",
       "\n",
       "   Cash_Selling_Rate  \n",
       "0            1.20100  \n",
       "1            1.20030  \n",
       "2            1.20043  \n",
       "3            1.20046  \n",
       "4            1.20048  "
      ]
     },
     "execution_count": 16,
     "metadata": {},
     "output_type": "execute_result"
    }
   ],
   "source": [
    "# Load the Pandas libraries with alias 'pd' \n",
    "import pandas as pd \n",
    "data = pd.read_csv(path+filename) \n",
    "data.head()"
   ]
  }
 ],
 "metadata": {
  "kernelspec": {
   "display_name": "Python 3",
   "language": "python",
   "name": "python3"
  },
  "language_info": {
   "codemirror_mode": {
    "name": "ipython",
    "version": 3
   },
   "file_extension": ".py",
   "mimetype": "text/x-python",
   "name": "python",
   "nbconvert_exporter": "python",
   "pygments_lexer": "ipython3",
   "version": "3.7.3"
  }
 },
 "nbformat": 4,
 "nbformat_minor": 2
}
