{
 "cells": [
  {
   "cell_type": "markdown",
   "metadata": {},
   "source": [
    "# Packages"
   ]
  },
  {
   "cell_type": "code",
   "execution_count": 56,
   "metadata": {},
   "outputs": [],
   "source": [
    "import pandas as pd\n",
    "import numpy as np\n",
    "\n",
    "import matplotlib.pyplot as plt\n",
    "%matplotlib inline\n",
    "import seaborn as sns\n",
    "\n",
    "import warnings\n",
    "warnings.filterwarnings(\"ignore\")"
   ]
  },
  {
   "cell_type": "code",
   "execution_count": 230,
   "metadata": {},
   "outputs": [],
   "source": [
    "import warnings\n",
    "warnings.filterwarnings(\"ignore\")"
   ]
  },
  {
   "cell_type": "code",
   "execution_count": null,
   "metadata": {},
   "outputs": [],
   "source": [
    "from auto_ml import Predictor"
   ]
  },
  {
   "cell_type": "markdown",
   "metadata": {},
   "source": [
    "# Data"
   ]
  },
  {
   "cell_type": "code",
   "execution_count": 217,
   "metadata": {},
   "outputs": [
    {
     "data": {
      "text/html": [
       "<div>\n",
       "<style scoped>\n",
       "    .dataframe tbody tr th:only-of-type {\n",
       "        vertical-align: middle;\n",
       "    }\n",
       "\n",
       "    .dataframe tbody tr th {\n",
       "        vertical-align: top;\n",
       "    }\n",
       "\n",
       "    .dataframe thead th {\n",
       "        text-align: right;\n",
       "    }\n",
       "</style>\n",
       "<table border=\"1\" class=\"dataframe\">\n",
       "  <thead>\n",
       "    <tr style=\"text-align: right;\">\n",
       "      <th></th>\n",
       "      <th>WF</th>\n",
       "      <th>Time</th>\n",
       "      <th>NWP1_00h_D-2_U</th>\n",
       "      <th>NWP1_00h_D-2_V</th>\n",
       "      <th>NWP1_00h_D-2_T</th>\n",
       "      <th>NWP1_06h_D-2_U</th>\n",
       "      <th>NWP1_06h_D-2_V</th>\n",
       "      <th>NWP1_06h_D-2_T</th>\n",
       "      <th>NWP1_12h_D-2_U</th>\n",
       "      <th>NWP1_12h_D-2_V</th>\n",
       "      <th>...</th>\n",
       "      <th>NWP4_00h_D-1_CLCT</th>\n",
       "      <th>NWP4_12h_D-1_U</th>\n",
       "      <th>NWP4_12h_D-1_V</th>\n",
       "      <th>NWP4_12h_D-1_CLCT</th>\n",
       "      <th>NWP4_00h_D_U</th>\n",
       "      <th>NWP4_00h_D_V</th>\n",
       "      <th>NWP4_00h_D_CLCT</th>\n",
       "      <th>NWP4_12h_D_U</th>\n",
       "      <th>NWP4_12h_D_V</th>\n",
       "      <th>NWP4_12h_D_CLCT</th>\n",
       "    </tr>\n",
       "    <tr>\n",
       "      <th>ID</th>\n",
       "      <th></th>\n",
       "      <th></th>\n",
       "      <th></th>\n",
       "      <th></th>\n",
       "      <th></th>\n",
       "      <th></th>\n",
       "      <th></th>\n",
       "      <th></th>\n",
       "      <th></th>\n",
       "      <th></th>\n",
       "      <th></th>\n",
       "      <th></th>\n",
       "      <th></th>\n",
       "      <th></th>\n",
       "      <th></th>\n",
       "      <th></th>\n",
       "      <th></th>\n",
       "      <th></th>\n",
       "      <th></th>\n",
       "      <th></th>\n",
       "      <th></th>\n",
       "    </tr>\n",
       "  </thead>\n",
       "  <tbody>\n",
       "    <tr>\n",
       "      <th>1</th>\n",
       "      <td>WF1</td>\n",
       "      <td>2018-05-01 01:00:00</td>\n",
       "      <td>NaN</td>\n",
       "      <td>NaN</td>\n",
       "      <td>NaN</td>\n",
       "      <td>NaN</td>\n",
       "      <td>NaN</td>\n",
       "      <td>NaN</td>\n",
       "      <td>NaN</td>\n",
       "      <td>NaN</td>\n",
       "      <td>...</td>\n",
       "      <td>NaN</td>\n",
       "      <td>NaN</td>\n",
       "      <td>NaN</td>\n",
       "      <td>NaN</td>\n",
       "      <td>1.254603</td>\n",
       "      <td>-0.289687</td>\n",
       "      <td>82.543144</td>\n",
       "      <td>NaN</td>\n",
       "      <td>NaN</td>\n",
       "      <td>NaN</td>\n",
       "    </tr>\n",
       "    <tr>\n",
       "      <th>2</th>\n",
       "      <td>WF1</td>\n",
       "      <td>2018-05-01 02:00:00</td>\n",
       "      <td>NaN</td>\n",
       "      <td>NaN</td>\n",
       "      <td>NaN</td>\n",
       "      <td>NaN</td>\n",
       "      <td>NaN</td>\n",
       "      <td>NaN</td>\n",
       "      <td>NaN</td>\n",
       "      <td>NaN</td>\n",
       "      <td>...</td>\n",
       "      <td>NaN</td>\n",
       "      <td>NaN</td>\n",
       "      <td>NaN</td>\n",
       "      <td>NaN</td>\n",
       "      <td>2.490908</td>\n",
       "      <td>-0.413370</td>\n",
       "      <td>99.990844</td>\n",
       "      <td>NaN</td>\n",
       "      <td>NaN</td>\n",
       "      <td>NaN</td>\n",
       "    </tr>\n",
       "    <tr>\n",
       "      <th>3</th>\n",
       "      <td>WF1</td>\n",
       "      <td>2018-05-01 03:00:00</td>\n",
       "      <td>NaN</td>\n",
       "      <td>NaN</td>\n",
       "      <td>NaN</td>\n",
       "      <td>NaN</td>\n",
       "      <td>NaN</td>\n",
       "      <td>NaN</td>\n",
       "      <td>NaN</td>\n",
       "      <td>NaN</td>\n",
       "      <td>...</td>\n",
       "      <td>NaN</td>\n",
       "      <td>NaN</td>\n",
       "      <td>NaN</td>\n",
       "      <td>NaN</td>\n",
       "      <td>0.997093</td>\n",
       "      <td>-1.415138</td>\n",
       "      <td>98.367235</td>\n",
       "      <td>NaN</td>\n",
       "      <td>NaN</td>\n",
       "      <td>NaN</td>\n",
       "    </tr>\n",
       "  </tbody>\n",
       "</table>\n",
       "<p>3 rows × 104 columns</p>\n",
       "</div>"
      ],
      "text/plain": [
       "     WF                Time  NWP1_00h_D-2_U  NWP1_00h_D-2_V  NWP1_00h_D-2_T  \\\n",
       "ID                                                                            \n",
       "1   WF1 2018-05-01 01:00:00             NaN             NaN             NaN   \n",
       "2   WF1 2018-05-01 02:00:00             NaN             NaN             NaN   \n",
       "3   WF1 2018-05-01 03:00:00             NaN             NaN             NaN   \n",
       "\n",
       "    NWP1_06h_D-2_U  NWP1_06h_D-2_V  NWP1_06h_D-2_T  NWP1_12h_D-2_U  \\\n",
       "ID                                                                   \n",
       "1              NaN             NaN             NaN             NaN   \n",
       "2              NaN             NaN             NaN             NaN   \n",
       "3              NaN             NaN             NaN             NaN   \n",
       "\n",
       "    NWP1_12h_D-2_V  ...  NWP4_00h_D-1_CLCT  NWP4_12h_D-1_U  NWP4_12h_D-1_V  \\\n",
       "ID                  ...                                                      \n",
       "1              NaN  ...                NaN             NaN             NaN   \n",
       "2              NaN  ...                NaN             NaN             NaN   \n",
       "3              NaN  ...                NaN             NaN             NaN   \n",
       "\n",
       "    NWP4_12h_D-1_CLCT  NWP4_00h_D_U  NWP4_00h_D_V  NWP4_00h_D_CLCT  \\\n",
       "ID                                                                   \n",
       "1                 NaN      1.254603     -0.289687        82.543144   \n",
       "2                 NaN      2.490908     -0.413370        99.990844   \n",
       "3                 NaN      0.997093     -1.415138        98.367235   \n",
       "\n",
       "    NWP4_12h_D_U  NWP4_12h_D_V  NWP4_12h_D_CLCT  \n",
       "ID                                               \n",
       "1            NaN           NaN              NaN  \n",
       "2            NaN           NaN              NaN  \n",
       "3            NaN           NaN              NaN  \n",
       "\n",
       "[3 rows x 104 columns]"
      ]
     },
     "execution_count": 217,
     "metadata": {},
     "output_type": "execute_result"
    }
   ],
   "source": [
    "dateparser = lambda x: pd.datetime.strptime(x, '%d/%m/%Y %H:%M')\n",
    "\n",
    "X_train = pd.read_csv('./X_train_v2.csv', header=0, index_col=0, parse_dates=['Time'], date_parser=dateparser)\n",
    "y_train = pd.read_csv('./Y_train_sl9m6Jh.csv', header=0, index_col=0)\n",
    "\n",
    "X_test = pd.read_csv('./X_test_v2.csv', header=0, index_col=0, parse_dates=['Time'], date_parser=dateparser)\n",
    "\n",
    "X_train.head(3)"
   ]
  },
  {
   "cell_type": "markdown",
   "metadata": {},
   "source": [
    "# Base line"
   ]
  },
  {
   "cell_type": "markdown",
   "metadata": {},
   "source": [
    "## WF1"
   ]
  },
  {
   "cell_type": "code",
   "execution_count": 221,
   "metadata": {},
   "outputs": [],
   "source": [
    "target = 'Production'\n",
    "features = [i for i in X_train.columns if ((i != 'WF')& (i != 'Time') )]\n",
    "\n",
    "wf_name = 'WF1'\n",
    "\n",
    "def create_data_WFx(wf_name, X_train, y_train=None):\n",
    "    df_train = pd.concat([y_train, X_train], axis=1)\n",
    "    df_train_WFx = df_train[df_train.WF == wf_name]\n",
    "    df_train_WFx.index = df_train_WFx.loc[:, 'Time']\n",
    "    df_train_WFx.drop(['Time'], axis=1,inplace=True)\n",
    "    \n",
    "    return df_train_WFx\n",
    "\n",
    "df_train_WFx = create_data_WFx(wf_name, X_train, y_train)\n",
    "df_test_WFx = create_data_WFx(wf_name, X_test)\n"
   ]
  },
  {
   "cell_type": "code",
   "execution_count": 224,
   "metadata": {
    "collapsed": true,
    "jupyter": {
     "outputs_hidden": true
    }
   },
   "outputs": [
    {
     "name": "stdout",
     "output_type": "stream",
     "text": [
      "Now using the model training_params that you passed in:\n",
      "{}\n",
      "After overwriting our defaults with your values, here are the final params that will be used to initialize the model:\n",
      "{'presort': False, 'learning_rate': 0.1, 'warm_start': True}\n"
     ]
    },
    {
     "name": "stderr",
     "output_type": "stream",
     "text": [
      "E:\\wei\\logiciel\\envs\\alpheeenv\\lib\\site-packages\\sklearn\\base.py:197: FutureWarning: From version 0.24, get_params will raise an AttributeError if a parameter cannot be retrieved as an instance attribute. Previously it would return None.\n",
      "  FutureWarning)\n"
     ]
    },
    {
     "name": "stdout",
     "output_type": "stream",
     "text": [
      "Running basic data cleaning\n",
      "Performing feature scaling\n",
      "Fitting DataFrameVectorizer\n",
      "Performing feature selection\n"
     ]
    },
    {
     "name": "stderr",
     "output_type": "stream",
     "text": [
      "E:\\wei\\logiciel\\envs\\alpheeenv\\lib\\site-packages\\sklearn\\base.py:197: FutureWarning: From version 0.24, get_params will raise an AttributeError if a parameter cannot be retrieved as an instance attribute. Previously it would return None.\n",
      "  FutureWarning)\n"
     ]
    },
    {
     "name": "stdout",
     "output_type": "stream",
     "text": [
      "Now using the model training_params that you passed in:\n",
      "{}\n",
      "After overwriting our defaults with your values, here are the final params that will be used to initialize the model:\n",
      "{'presort': False, 'learning_rate': 0.1, 'warm_start': True}\n",
      "\n",
      "\n",
      "********************************************************************************************\n",
      "About to run GridSearchCV on the pipeline for several models to predict Production\n",
      "Fitting 3 folds for each of 11 candidates, totalling 33 fits\n"
     ]
    },
    {
     "name": "stderr",
     "output_type": "stream",
     "text": [
      "[Parallel(n_jobs=-1)]: Using backend LokyBackend with 4 concurrent workers.\n",
      "[Parallel(n_jobs=-1)]: Done  12 tasks      | elapsed:   33.6s\n",
      "[Parallel(n_jobs=-1)]: Done  33 out of  33 | elapsed:  8.6min finished\n"
     ]
    },
    {
     "name": "stdout",
     "output_type": "stream",
     "text": [
      "The best CV score from our hyperparameter search (by default averaging across k-fold CV) for Production is:\n",
      "-1.6723709955663562\n",
      "The best params were\n",
      "{'model': 'RandomForestRegressor'}\n",
      "Here are all the hyperparameters that were tried:\n",
      "Score in the following columns always refers to cross-validation score\n",
      "+--------------+\n",
      "|   mean_score |\n",
      "|--------------|\n",
      "|      -6.6824 |\n",
      "|      -4.8241 |\n",
      "|      -3.1706 |\n",
      "|      -3.0666 |\n",
      "|      -2.9155 |\n",
      "|      -2.8224 |\n",
      "|      -2.1925 |\n",
      "|      -1.7879 |\n",
      "|      -1.7618 |\n",
      "|      -1.7005 |\n",
      "|      -1.6724 |\n",
      "+--------------+\n",
      "Calculating feature responses, for advanced analytics.\n",
      "Here are our feature responses for the trained model\n",
      "+----+----------------+---------+-------------------+-------------------+-----------+-----------+\n",
      "|    | Feature Name   |   Delta |   FR_Decrementing |   FR_Incrementing |   FRD_MAD |   FRI_MAD |\n",
      "|----+----------------+---------+-------------------+-------------------+-----------+-----------|\n",
      "| 30 | NWP1_12h_D-2_T |  0.1554 |           -0.0143 |           -0.0007 |    0.0060 |    0.0037 |\n",
      "| 29 | NWP4_12h_D-1_U |  0.1475 |            0.0200 |            0.0008 |    0.0277 |    0.0253 |\n",
      "| 28 | NWP4_00h_D-1_U |  0.1481 |            0.0211 |            0.0024 |    0.0283 |    0.0243 |\n",
      "| 27 | NWP4_12h_D-1_V |  0.1506 |            0.0368 |            0.0032 |    0.0463 |    0.0340 |\n",
      "| 26 | NWP1_12h_D-1_V |  0.1563 |            0.0919 |            0.0056 |    0.0587 |    0.0557 |\n",
      "| 25 | NWP1_06h_D-2_U |  0.1713 |            0.0961 |            0.0074 |    0.0147 |    0.0103 |\n",
      "| 24 | NWP1_06h_D-1_T |  0.1544 |           -0.0150 |            0.0077 |    0.0063 |    0.0057 |\n",
      "| 23 | NWP1_12h_D_V   |  0.1825 |            0.0136 |            0.0105 |    0.0000 |    0.0063 |\n",
      "| 22 | NWP1_12h_D-2_U |  0.1498 |            0.0556 |           -0.0109 |    0.0217 |    0.0143 |\n",
      "| 21 | NWP1_18h_D-1_T |  0.1542 |           -0.0205 |            0.0113 |    0.0037 |    0.0027 |\n",
      "| 20 | NWP1_12h_D-1_T |  0.1559 |           -0.0219 |            0.0124 |    0.0027 |    0.0047 |\n",
      "| 19 | NWP4_00h_D_U   |  0.1513 |            0.0483 |            0.0132 |    0.0530 |    0.0410 |\n",
      "| 18 | NWP1_00h_D_T   |  0.1552 |           -0.0412 |            0.0147 |    0.0047 |    0.0047 |\n",
      "| 17 | NWP1_00h_D-1_U |  0.1498 |           -0.0041 |            0.0157 |    0.0160 |    0.0133 |\n",
      "| 16 | NWP1_18h_D-2_U |  0.1475 |           -0.0026 |            0.0159 |    0.0250 |    0.0230 |\n",
      "| 15 | NWP1_18h_D-1_U |  0.1512 |            0.0043 |            0.0180 |    0.0290 |    0.0307 |\n",
      "| 14 | NWP1_06h_D_U   |  0.1772 |            0.0083 |            0.0198 |    0.0160 |    0.0117 |\n",
      "| 13 | NWP4_12h_D_V   |  0.1797 |            0.0051 |            0.0216 |    0.0000 |    0.0063 |\n",
      "| 12 | NWP1_18h_D-2_V |  0.1550 |            0.0099 |            0.0240 |    0.0587 |    0.0760 |\n",
      "| 11 | NWP1_06h_D-1_V |  0.1548 |            0.0345 |            0.0265 |    0.0380 |    0.0497 |\n",
      "| 10 | NWP4_00h_D-1_V |  0.1519 |            0.0243 |            0.0277 |    0.0673 |    0.0320 |\n",
      "|  9 | NWP1_12h_D-1_U |  0.1490 |            0.0026 |            0.0311 |    0.0370 |    0.0263 |\n",
      "|  8 | NWP1_06h_D-1_U |  0.1499 |           -0.0089 |            0.0314 |    0.0220 |    0.0230 |\n",
      "|  7 | NWP1_06h_D_V   |  0.1803 |            0.0719 |           -0.0350 |    0.0240 |    0.0520 |\n",
      "|  6 | NWP1_00h_D_U   |  0.1504 |            0.0061 |            0.0372 |    0.0273 |    0.0350 |\n",
      "|  5 | NWP1_00h_D_V   |  0.1538 |            0.1245 |            0.0514 |    0.1110 |    0.1760 |\n",
      "|  4 | NWP1_06h_D-2_V |  0.1776 |           -0.0128 |            0.0627 |    0.0090 |    0.0297 |\n",
      "|  3 | NWP4_00h_D_V   |  0.1513 |            0.1004 |           -0.0681 |    0.0870 |    0.0493 |\n",
      "|  2 | NWP4_12h_D_U   |  0.1767 |           -0.0038 |            0.0717 |    0.0000 |    0.0007 |\n",
      "|  1 | NWP1_12h_D-2_V |  0.1558 |           -0.0238 |            0.0953 |    0.0500 |    0.0473 |\n",
      "|  0 | NWP1_18h_D-1_V |  0.1545 |            0.3323 |           -0.1616 |    0.1623 |    0.0987 |\n",
      "+----+----------------+---------+-------------------+-------------------+-----------+-----------+\n"
     ]
    },
    {
     "name": "stderr",
     "output_type": "stream",
     "text": [
      "E:\\wei\\logiciel\\envs\\alpheeenv\\lib\\site-packages\\sklearn\\base.py:197: FutureWarning: From version 0.24, get_params will raise an AttributeError if a parameter cannot be retrieved as an instance attribute. Previously it would return None.\n",
      "  FutureWarning)\n"
     ]
    }
   ],
   "source": [
    "def train_wf(df_train_WFx):\n",
    "    column_descriptions = {\n",
    "        target: 'output',\n",
    "        'WF': 'ignore'\n",
    "    }\n",
    "    model_names=[\n",
    "        'GradientBoostingRegressor',\n",
    "        'LGBMRegressor',\n",
    "        'RandomForestRegressor', \n",
    "        'LinearRegression', \n",
    "        'AdaBoostRegressor', \n",
    "        'ExtraTreesRegressor', \n",
    "        'RANSACRegressor', \n",
    "        'Lasso', \n",
    "        'MiniBatchKMeans',\n",
    "        'Ridge',\n",
    "        'PassiveAggressiveRegressor'\n",
    "    ]\n",
    "    ml_predictor = Predictor(\n",
    "        type_of_estimator='regressor', \n",
    "        column_descriptions=column_descriptions\n",
    "    )\n",
    "    ml_predictor.train(df_train_WFx,\n",
    "                       model_names=model_names,\n",
    "                       perform_feature_scaling=True,\n",
    "                       perform_feature_selection=True,\n",
    "                       verbose=False,\n",
    "                       cv=3,\n",
    "                      )\n",
    "    \n",
    "    return ml_predictor\n",
    "\n",
    "ml_predictor = train_wf(df_train_WFx)"
   ]
  },
  {
   "cell_type": "code",
   "execution_count": 225,
   "metadata": {},
   "outputs": [],
   "source": [
    "pred = pd.DataFrame({'pred': ml_predictor.predict(df_test_WFx), 'WF': wf_name, 'Time': df_test_WFx.index})"
   ]
  },
  {
   "cell_type": "code",
   "execution_count": 226,
   "metadata": {},
   "outputs": [
    {
     "data": {
      "text/html": [
       "<div>\n",
       "<style scoped>\n",
       "    .dataframe tbody tr th:only-of-type {\n",
       "        vertical-align: middle;\n",
       "    }\n",
       "\n",
       "    .dataframe tbody tr th {\n",
       "        vertical-align: top;\n",
       "    }\n",
       "\n",
       "    .dataframe thead th {\n",
       "        text-align: right;\n",
       "    }\n",
       "</style>\n",
       "<table border=\"1\" class=\"dataframe\">\n",
       "  <thead>\n",
       "    <tr style=\"text-align: right;\">\n",
       "      <th></th>\n",
       "      <th>pred</th>\n",
       "      <th>WF</th>\n",
       "      <th>Time</th>\n",
       "    </tr>\n",
       "  </thead>\n",
       "  <tbody>\n",
       "    <tr>\n",
       "      <th>0</th>\n",
       "      <td>5.913667</td>\n",
       "      <td>WF1</td>\n",
       "      <td>2019-01-16 01:00:00</td>\n",
       "    </tr>\n",
       "    <tr>\n",
       "      <th>1</th>\n",
       "      <td>5.913667</td>\n",
       "      <td>WF1</td>\n",
       "      <td>2019-01-16 02:00:00</td>\n",
       "    </tr>\n",
       "  </tbody>\n",
       "</table>\n",
       "</div>"
      ],
      "text/plain": [
       "       pred   WF                Time\n",
       "0  5.913667  WF1 2019-01-16 01:00:00\n",
       "1  5.913667  WF1 2019-01-16 02:00:00"
      ]
     },
     "execution_count": 226,
     "metadata": {},
     "output_type": "execute_result"
    }
   ],
   "source": [
    "pred.head(2)"
   ]
  },
  {
   "cell_type": "markdown",
   "metadata": {},
   "source": [
    "## Run all WF"
   ]
  },
  {
   "cell_type": "code",
   "execution_count": 227,
   "metadata": {
    "collapsed": true,
    "jupyter": {
     "outputs_hidden": true
    }
   },
   "outputs": [
    {
     "name": "stdout",
     "output_type": "stream",
     "text": [
      "Now using the model training_params that you passed in:\n",
      "{}\n",
      "After overwriting our defaults with your values, here are the final params that will be used to initialize the model:\n",
      "{'presort': False, 'learning_rate': 0.1, 'warm_start': True}\n",
      "Running basic data cleaning\n",
      "Performing feature scaling\n",
      "Fitting DataFrameVectorizer\n",
      "Performing feature selection\n"
     ]
    },
    {
     "name": "stderr",
     "output_type": "stream",
     "text": [
      "E:\\wei\\logiciel\\envs\\alpheeenv\\lib\\site-packages\\sklearn\\base.py:197: FutureWarning: From version 0.24, get_params will raise an AttributeError if a parameter cannot be retrieved as an instance attribute. Previously it would return None.\n",
      "  FutureWarning)\n"
     ]
    },
    {
     "name": "stdout",
     "output_type": "stream",
     "text": [
      "Now using the model training_params that you passed in:\n",
      "{}\n",
      "After overwriting our defaults with your values, here are the final params that will be used to initialize the model:\n",
      "{'presort': False, 'learning_rate': 0.1, 'warm_start': True}\n",
      "\n",
      "\n",
      "********************************************************************************************\n",
      "About to run GridSearchCV on the pipeline for several models to predict Production\n",
      "Fitting 3 folds for each of 11 candidates, totalling 33 fits\n"
     ]
    },
    {
     "name": "stderr",
     "output_type": "stream",
     "text": [
      "[Parallel(n_jobs=-1)]: Using backend LokyBackend with 4 concurrent workers.\n",
      "[Parallel(n_jobs=-1)]: Done  12 tasks      | elapsed:   31.9s\n",
      "[Parallel(n_jobs=-1)]: Done  33 out of  33 | elapsed:  8.7min finished\n"
     ]
    },
    {
     "name": "stdout",
     "output_type": "stream",
     "text": [
      "The best CV score from our hyperparameter search (by default averaging across k-fold CV) for Production is:\n",
      "-1.6569212447732127\n",
      "The best params were\n",
      "{'model': 'ExtraTreesRegressor'}\n",
      "Here are all the hyperparameters that were tried:\n",
      "Score in the following columns always refers to cross-validation score\n",
      "+--------------+\n",
      "|   mean_score |\n",
      "|--------------|\n",
      "|      -6.6772 |\n",
      "|      -4.9432 |\n",
      "|      -3.9981 |\n",
      "|      -3.0666 |\n",
      "|      -2.8433 |\n",
      "|      -2.8011 |\n",
      "|      -2.2863 |\n",
      "|      -1.7328 |\n",
      "|      -1.7139 |\n",
      "|      -1.6907 |\n",
      "|      -1.6569 |\n",
      "+--------------+\n",
      "Calculating feature responses, for advanced analytics.\n",
      "Here are our feature responses for the trained model\n",
      "+----+----------------+---------+-------------------+-------------------+-----------+-----------+\n",
      "|    | Feature Name   |   Delta |   FR_Decrementing |   FR_Incrementing |   FRD_MAD |   FRI_MAD |\n",
      "|----+----------------+---------+-------------------+-------------------+-----------+-----------|\n",
      "| 31 | NWP1_06h_D_T   |  0.1817 |           -0.0063 |            0.0021 |    0.0172 |    0.0205 |\n",
      "| 30 | NWP1_12h_D-1_V |  0.1563 |            0.0648 |            0.0035 |    0.1150 |    0.1230 |\n",
      "| 29 | NWP1_12h_D-2_U |  0.1498 |            0.0277 |           -0.0039 |    0.0341 |    0.0276 |\n",
      "| 28 | NWP4_00h_D-1_V |  0.1519 |            0.0416 |            0.0051 |    0.1028 |    0.0595 |\n",
      "| 27 | NWP1_12h_D-2_T |  0.1554 |           -0.0372 |            0.0076 |    0.0219 |    0.0191 |\n",
      "| 26 | NWP4_12h_D-1_V |  0.1506 |            0.0651 |           -0.0080 |    0.0770 |    0.0564 |\n",
      "| 25 | NWP4_12h_D-1_U |  0.1475 |            0.0203 |            0.0090 |    0.0537 |    0.0464 |\n",
      "| 24 | NWP1_06h_D_U   |  0.1772 |            0.0377 |            0.0095 |    0.0380 |    0.0300 |\n",
      "| 23 | NWP1_12h_D-1_T |  0.1559 |           -0.0351 |            0.0109 |    0.0241 |    0.0229 |\n",
      "| 22 | NWP1_06h_D-2_U |  0.1713 |            0.0354 |            0.0125 |    0.0272 |    0.0248 |\n",
      "| 21 | NWP4_00h_D-1_U |  0.1481 |            0.0233 |            0.0136 |    0.0521 |    0.0417 |\n",
      "| 20 | NWP1_00h_D-1_U |  0.1498 |            0.0010 |            0.0146 |    0.0306 |    0.0314 |\n",
      "| 19 | NWP1_18h_D-2_U |  0.1475 |            0.0037 |            0.0149 |    0.0377 |    0.0387 |\n",
      "| 18 | NWP1_18h_D-1_U |  0.1512 |            0.0102 |            0.0153 |    0.0505 |    0.0444 |\n",
      "| 17 | NWP1_00h_D_T   |  0.1552 |           -0.0310 |            0.0166 |    0.0241 |    0.0235 |\n",
      "| 16 | NWP1_06h_D-1_V |  0.1548 |            0.0483 |            0.0167 |    0.0720 |    0.0811 |\n",
      "| 15 | NWP1_06h_D_V   |  0.1803 |            0.0637 |           -0.0190 |    0.0534 |    0.0805 |\n",
      "| 14 | NWP4_00h_D_U   |  0.1513 |            0.0284 |            0.0200 |    0.0637 |    0.0707 |\n",
      "| 13 | NWP1_18h_D_V   |  0.1436 |            0.0065 |           -0.0208 |    0.0000 |    0.0153 |\n",
      "| 12 | NWP1_00h_D-2_V |  0.1703 |           -0.0038 |            0.0217 |    0.0065 |    0.0260 |\n",
      "| 11 | NWP1_12h_D_V   |  0.1825 |            0.0272 |            0.0233 |    0.0200 |    0.0704 |\n",
      "| 10 | NWP1_06h_D-2_V |  0.1776 |            0.0136 |            0.0253 |    0.0252 |    0.0430 |\n",
      "|  9 | NWP1_12h_D-1_U |  0.1490 |            0.0023 |            0.0254 |    0.0526 |    0.0454 |\n",
      "|  8 | NWP1_06h_D-1_U |  0.1499 |           -0.0053 |            0.0268 |    0.0405 |    0.0405 |\n",
      "|  7 | NWP1_12h_D_U   |  0.1755 |            0.0012 |            0.0316 |    0.0034 |    0.0343 |\n",
      "|  6 | NWP1_00h_D_U   |  0.1504 |           -0.0029 |            0.0322 |    0.0450 |    0.0524 |\n",
      "|  5 | NWP4_00h_D_V   |  0.1513 |            0.1006 |           -0.0358 |    0.1441 |    0.0829 |\n",
      "|  4 | NWP1_00h_D_V   |  0.1538 |            0.1579 |           -0.0388 |    0.1787 |    0.1952 |\n",
      "|  3 | NWP1_18h_D-2_V |  0.1550 |            0.0322 |            0.0400 |    0.0898 |    0.1155 |\n",
      "|  2 | NWP4_12h_D_U   |  0.1767 |            0.0555 |            0.0415 |    0.0597 |    0.0421 |\n",
      "|  1 | NWP1_12h_D-2_V |  0.1558 |            0.0020 |            0.0558 |    0.0703 |    0.0727 |\n",
      "|  0 | NWP1_18h_D-1_V |  0.1545 |            0.1949 |           -0.0716 |    0.1957 |    0.1445 |\n",
      "+----+----------------+---------+-------------------+-------------------+-----------+-----------+\n"
     ]
    },
    {
     "name": "stderr",
     "output_type": "stream",
     "text": [
      "E:\\wei\\logiciel\\envs\\alpheeenv\\lib\\site-packages\\sklearn\\base.py:197: FutureWarning: From version 0.24, get_params will raise an AttributeError if a parameter cannot be retrieved as an instance attribute. Previously it would return None.\n",
      "  FutureWarning)\n"
     ]
    },
    {
     "name": "stdout",
     "output_type": "stream",
     "text": [
      "Now using the model training_params that you passed in:\n",
      "{}\n",
      "After overwriting our defaults with your values, here are the final params that will be used to initialize the model:\n",
      "{'presort': False, 'learning_rate': 0.1, 'warm_start': True}\n",
      "Running basic data cleaning\n",
      "Performing feature scaling\n",
      "Fitting DataFrameVectorizer\n",
      "Performing feature selection\n"
     ]
    },
    {
     "name": "stderr",
     "output_type": "stream",
     "text": [
      "E:\\wei\\logiciel\\envs\\alpheeenv\\lib\\site-packages\\sklearn\\base.py:197: FutureWarning: From version 0.24, get_params will raise an AttributeError if a parameter cannot be retrieved as an instance attribute. Previously it would return None.\n",
      "  FutureWarning)\n"
     ]
    },
    {
     "name": "stdout",
     "output_type": "stream",
     "text": [
      "Now using the model training_params that you passed in:\n",
      "{}\n",
      "After overwriting our defaults with your values, here are the final params that will be used to initialize the model:\n",
      "{'presort': False, 'learning_rate': 0.1, 'warm_start': True}\n",
      "\n",
      "\n",
      "********************************************************************************************\n",
      "About to run GridSearchCV on the pipeline for several models to predict Production\n",
      "Fitting 3 folds for each of 11 candidates, totalling 33 fits\n"
     ]
    },
    {
     "name": "stderr",
     "output_type": "stream",
     "text": [
      "[Parallel(n_jobs=-1)]: Using backend LokyBackend with 4 concurrent workers.\n",
      "[Parallel(n_jobs=-1)]: Done  12 tasks      | elapsed:   30.1s\n",
      "[Parallel(n_jobs=-1)]: Done  33 out of  33 | elapsed:  6.6min finished\n",
      "E:\\wei\\logiciel\\envs\\alpheeenv\\lib\\site-packages\\sklearn\\ensemble\\_gb.py:1342: FutureWarning: The parameter 'presort' is deprecated and has no effect. It will be removed in v0.24. You can suppress this warning by not passing any value to the 'presort' parameter. We also recommend using HistGradientBoosting models instead.\n",
      "  FutureWarning)\n",
      "E:\\wei\\logiciel\\envs\\alpheeenv\\lib\\site-packages\\sklearn\\ensemble\\_gb.py:1342: FutureWarning: The parameter 'presort' is deprecated and has no effect. It will be removed in v0.24. You can suppress this warning by not passing any value to the 'presort' parameter. We also recommend using HistGradientBoosting models instead.\n",
      "  FutureWarning)\n",
      "E:\\wei\\logiciel\\envs\\alpheeenv\\lib\\site-packages\\sklearn\\ensemble\\_gb.py:1342: FutureWarning: The parameter 'presort' is deprecated and has no effect. It will be removed in v0.24. You can suppress this warning by not passing any value to the 'presort' parameter. We also recommend using HistGradientBoosting models instead.\n",
      "  FutureWarning)\n"
     ]
    },
    {
     "name": "stdout",
     "output_type": "stream",
     "text": [
      "[1] random_holdout_set_from_training_data's score is: -2.022\n",
      "[2] random_holdout_set_from_training_data's score is: -1.922\n",
      "[3] random_holdout_set_from_training_data's score is: -1.843\n",
      "[4] random_holdout_set_from_training_data's score is: -1.765\n"
     ]
    },
    {
     "name": "stderr",
     "output_type": "stream",
     "text": [
      "E:\\wei\\logiciel\\envs\\alpheeenv\\lib\\site-packages\\sklearn\\ensemble\\_gb.py:1342: FutureWarning: The parameter 'presort' is deprecated and has no effect. It will be removed in v0.24. You can suppress this warning by not passing any value to the 'presort' parameter. We also recommend using HistGradientBoosting models instead.\n",
      "  FutureWarning)\n",
      "E:\\wei\\logiciel\\envs\\alpheeenv\\lib\\site-packages\\sklearn\\ensemble\\_gb.py:1342: FutureWarning: The parameter 'presort' is deprecated and has no effect. It will be removed in v0.24. You can suppress this warning by not passing any value to the 'presort' parameter. We also recommend using HistGradientBoosting models instead.\n",
      "  FutureWarning)\n",
      "E:\\wei\\logiciel\\envs\\alpheeenv\\lib\\site-packages\\sklearn\\ensemble\\_gb.py:1342: FutureWarning: The parameter 'presort' is deprecated and has no effect. It will be removed in v0.24. You can suppress this warning by not passing any value to the 'presort' parameter. We also recommend using HistGradientBoosting models instead.\n",
      "  FutureWarning)\n"
     ]
    },
    {
     "name": "stdout",
     "output_type": "stream",
     "text": [
      "[5] random_holdout_set_from_training_data's score is: -1.695\n",
      "[6] random_holdout_set_from_training_data's score is: -1.632\n",
      "[7] random_holdout_set_from_training_data's score is: -1.576\n",
      "[8] random_holdout_set_from_training_data's score is: -1.53\n"
     ]
    },
    {
     "name": "stderr",
     "output_type": "stream",
     "text": [
      "E:\\wei\\logiciel\\envs\\alpheeenv\\lib\\site-packages\\sklearn\\ensemble\\_gb.py:1342: FutureWarning: The parameter 'presort' is deprecated and has no effect. It will be removed in v0.24. You can suppress this warning by not passing any value to the 'presort' parameter. We also recommend using HistGradientBoosting models instead.\n",
      "  FutureWarning)\n",
      "E:\\wei\\logiciel\\envs\\alpheeenv\\lib\\site-packages\\sklearn\\ensemble\\_gb.py:1342: FutureWarning: The parameter 'presort' is deprecated and has no effect. It will be removed in v0.24. You can suppress this warning by not passing any value to the 'presort' parameter. We also recommend using HistGradientBoosting models instead.\n",
      "  FutureWarning)\n",
      "E:\\wei\\logiciel\\envs\\alpheeenv\\lib\\site-packages\\sklearn\\ensemble\\_gb.py:1342: FutureWarning: The parameter 'presort' is deprecated and has no effect. It will be removed in v0.24. You can suppress this warning by not passing any value to the 'presort' parameter. We also recommend using HistGradientBoosting models instead.\n",
      "  FutureWarning)\n"
     ]
    },
    {
     "name": "stdout",
     "output_type": "stream",
     "text": [
      "[9] random_holdout_set_from_training_data's score is: -1.484\n",
      "[10] random_holdout_set_from_training_data's score is: -1.436\n",
      "[11] random_holdout_set_from_training_data's score is: -1.397\n"
     ]
    },
    {
     "name": "stderr",
     "output_type": "stream",
     "text": [
      "E:\\wei\\logiciel\\envs\\alpheeenv\\lib\\site-packages\\sklearn\\ensemble\\_gb.py:1342: FutureWarning: The parameter 'presort' is deprecated and has no effect. It will be removed in v0.24. You can suppress this warning by not passing any value to the 'presort' parameter. We also recommend using HistGradientBoosting models instead.\n",
      "  FutureWarning)\n",
      "E:\\wei\\logiciel\\envs\\alpheeenv\\lib\\site-packages\\sklearn\\ensemble\\_gb.py:1342: FutureWarning: The parameter 'presort' is deprecated and has no effect. It will be removed in v0.24. You can suppress this warning by not passing any value to the 'presort' parameter. We also recommend using HistGradientBoosting models instead.\n",
      "  FutureWarning)\n",
      "E:\\wei\\logiciel\\envs\\alpheeenv\\lib\\site-packages\\sklearn\\ensemble\\_gb.py:1342: FutureWarning: The parameter 'presort' is deprecated and has no effect. It will be removed in v0.24. You can suppress this warning by not passing any value to the 'presort' parameter. We also recommend using HistGradientBoosting models instead.\n",
      "  FutureWarning)\n"
     ]
    },
    {
     "name": "stdout",
     "output_type": "stream",
     "text": [
      "[12] random_holdout_set_from_training_data's score is: -1.364\n",
      "[13] random_holdout_set_from_training_data's score is: -1.324\n",
      "[14] random_holdout_set_from_training_data's score is: -1.29\n",
      "[15] random_holdout_set_from_training_data's score is: -1.262\n"
     ]
    },
    {
     "name": "stderr",
     "output_type": "stream",
     "text": [
      "E:\\wei\\logiciel\\envs\\alpheeenv\\lib\\site-packages\\sklearn\\ensemble\\_gb.py:1342: FutureWarning: The parameter 'presort' is deprecated and has no effect. It will be removed in v0.24. You can suppress this warning by not passing any value to the 'presort' parameter. We also recommend using HistGradientBoosting models instead.\n",
      "  FutureWarning)\n",
      "E:\\wei\\logiciel\\envs\\alpheeenv\\lib\\site-packages\\sklearn\\ensemble\\_gb.py:1342: FutureWarning: The parameter 'presort' is deprecated and has no effect. It will be removed in v0.24. You can suppress this warning by not passing any value to the 'presort' parameter. We also recommend using HistGradientBoosting models instead.\n",
      "  FutureWarning)\n",
      "E:\\wei\\logiciel\\envs\\alpheeenv\\lib\\site-packages\\sklearn\\ensemble\\_gb.py:1342: FutureWarning: The parameter 'presort' is deprecated and has no effect. It will be removed in v0.24. You can suppress this warning by not passing any value to the 'presort' parameter. We also recommend using HistGradientBoosting models instead.\n",
      "  FutureWarning)\n"
     ]
    },
    {
     "name": "stdout",
     "output_type": "stream",
     "text": [
      "[16] random_holdout_set_from_training_data's score is: -1.234\n",
      "[17] random_holdout_set_from_training_data's score is: -1.208\n",
      "[18] random_holdout_set_from_training_data's score is: -1.186"
     ]
    },
    {
     "name": "stderr",
     "output_type": "stream",
     "text": [
      "E:\\wei\\logiciel\\envs\\alpheeenv\\lib\\site-packages\\sklearn\\ensemble\\_gb.py:1342: FutureWarning: The parameter 'presort' is deprecated and has no effect. It will be removed in v0.24. You can suppress this warning by not passing any value to the 'presort' parameter. We also recommend using HistGradientBoosting models instead.\n",
      "  FutureWarning)\n",
      "E:\\wei\\logiciel\\envs\\alpheeenv\\lib\\site-packages\\sklearn\\ensemble\\_gb.py:1342: FutureWarning: The parameter 'presort' is deprecated and has no effect. It will be removed in v0.24. You can suppress this warning by not passing any value to the 'presort' parameter. We also recommend using HistGradientBoosting models instead.\n",
      "  FutureWarning)\n",
      "E:\\wei\\logiciel\\envs\\alpheeenv\\lib\\site-packages\\sklearn\\ensemble\\_gb.py:1342: FutureWarning: The parameter 'presort' is deprecated and has no effect. It will be removed in v0.24. You can suppress this warning by not passing any value to the 'presort' parameter. We also recommend using HistGradientBoosting models instead.\n",
      "  FutureWarning)\n"
     ]
    },
    {
     "name": "stdout",
     "output_type": "stream",
     "text": [
      "\n",
      "[19] random_holdout_set_from_training_data's score is: -1.164\n",
      "[20] random_holdout_set_from_training_data's score is: -1.144\n"
     ]
    },
    {
     "name": "stderr",
     "output_type": "stream",
     "text": [
      "E:\\wei\\logiciel\\envs\\alpheeenv\\lib\\site-packages\\sklearn\\ensemble\\_gb.py:1342: FutureWarning: The parameter 'presort' is deprecated and has no effect. It will be removed in v0.24. You can suppress this warning by not passing any value to the 'presort' parameter. We also recommend using HistGradientBoosting models instead.\n",
      "  FutureWarning)\n",
      "E:\\wei\\logiciel\\envs\\alpheeenv\\lib\\site-packages\\sklearn\\ensemble\\_gb.py:1342: FutureWarning: The parameter 'presort' is deprecated and has no effect. It will be removed in v0.24. You can suppress this warning by not passing any value to the 'presort' parameter. We also recommend using HistGradientBoosting models instead.\n",
      "  FutureWarning)\n",
      "E:\\wei\\logiciel\\envs\\alpheeenv\\lib\\site-packages\\sklearn\\ensemble\\_gb.py:1342: FutureWarning: The parameter 'presort' is deprecated and has no effect. It will be removed in v0.24. You can suppress this warning by not passing any value to the 'presort' parameter. We also recommend using HistGradientBoosting models instead.\n",
      "  FutureWarning)\n"
     ]
    },
    {
     "name": "stdout",
     "output_type": "stream",
     "text": [
      "[21] random_holdout_set_from_training_data's score is: -1.128\n",
      "[22] random_holdout_set_from_training_data's score is: -1.109\n",
      "[23] random_holdout_set_from_training_data's score is: -1.094\n"
     ]
    },
    {
     "name": "stderr",
     "output_type": "stream",
     "text": [
      "E:\\wei\\logiciel\\envs\\alpheeenv\\lib\\site-packages\\sklearn\\ensemble\\_gb.py:1342: FutureWarning: The parameter 'presort' is deprecated and has no effect. It will be removed in v0.24. You can suppress this warning by not passing any value to the 'presort' parameter. We also recommend using HistGradientBoosting models instead.\n",
      "  FutureWarning)\n",
      "E:\\wei\\logiciel\\envs\\alpheeenv\\lib\\site-packages\\sklearn\\ensemble\\_gb.py:1342: FutureWarning: The parameter 'presort' is deprecated and has no effect. It will be removed in v0.24. You can suppress this warning by not passing any value to the 'presort' parameter. We also recommend using HistGradientBoosting models instead.\n",
      "  FutureWarning)\n",
      "E:\\wei\\logiciel\\envs\\alpheeenv\\lib\\site-packages\\sklearn\\ensemble\\_gb.py:1342: FutureWarning: The parameter 'presort' is deprecated and has no effect. It will be removed in v0.24. You can suppress this warning by not passing any value to the 'presort' parameter. We also recommend using HistGradientBoosting models instead.\n",
      "  FutureWarning)\n"
     ]
    },
    {
     "name": "stdout",
     "output_type": "stream",
     "text": [
      "[24] random_holdout_set_from_training_data's score is: -1.077\n",
      "[25] random_holdout_set_from_training_data's score is: -1.065\n",
      "[26] random_holdout_set_from_training_data's score is: -1.049\n"
     ]
    },
    {
     "name": "stderr",
     "output_type": "stream",
     "text": [
      "E:\\wei\\logiciel\\envs\\alpheeenv\\lib\\site-packages\\sklearn\\ensemble\\_gb.py:1342: FutureWarning: The parameter 'presort' is deprecated and has no effect. It will be removed in v0.24. You can suppress this warning by not passing any value to the 'presort' parameter. We also recommend using HistGradientBoosting models instead.\n",
      "  FutureWarning)\n",
      "E:\\wei\\logiciel\\envs\\alpheeenv\\lib\\site-packages\\sklearn\\ensemble\\_gb.py:1342: FutureWarning: The parameter 'presort' is deprecated and has no effect. It will be removed in v0.24. You can suppress this warning by not passing any value to the 'presort' parameter. We also recommend using HistGradientBoosting models instead.\n",
      "  FutureWarning)\n",
      "E:\\wei\\logiciel\\envs\\alpheeenv\\lib\\site-packages\\sklearn\\ensemble\\_gb.py:1342: FutureWarning: The parameter 'presort' is deprecated and has no effect. It will be removed in v0.24. You can suppress this warning by not passing any value to the 'presort' parameter. We also recommend using HistGradientBoosting models instead.\n",
      "  FutureWarning)\n"
     ]
    },
    {
     "name": "stdout",
     "output_type": "stream",
     "text": [
      "[27] random_holdout_set_from_training_data's score is: -1.037\n",
      "[28] random_holdout_set_from_training_data's score is: -1.025\n",
      "[29] random_holdout_set_from_training_data's score is: -1.013\n"
     ]
    },
    {
     "name": "stderr",
     "output_type": "stream",
     "text": [
      "E:\\wei\\logiciel\\envs\\alpheeenv\\lib\\site-packages\\sklearn\\ensemble\\_gb.py:1342: FutureWarning: The parameter 'presort' is deprecated and has no effect. It will be removed in v0.24. You can suppress this warning by not passing any value to the 'presort' parameter. We also recommend using HistGradientBoosting models instead.\n",
      "  FutureWarning)\n",
      "E:\\wei\\logiciel\\envs\\alpheeenv\\lib\\site-packages\\sklearn\\ensemble\\_gb.py:1342: FutureWarning: The parameter 'presort' is deprecated and has no effect. It will be removed in v0.24. You can suppress this warning by not passing any value to the 'presort' parameter. We also recommend using HistGradientBoosting models instead.\n",
      "  FutureWarning)\n",
      "E:\\wei\\logiciel\\envs\\alpheeenv\\lib\\site-packages\\sklearn\\ensemble\\_gb.py:1342: FutureWarning: The parameter 'presort' is deprecated and has no effect. It will be removed in v0.24. You can suppress this warning by not passing any value to the 'presort' parameter. We also recommend using HistGradientBoosting models instead.\n",
      "  FutureWarning)\n"
     ]
    },
    {
     "name": "stdout",
     "output_type": "stream",
     "text": [
      "[30] random_holdout_set_from_training_data's score is: -1.003\n",
      "[31] random_holdout_set_from_training_data's score is: -0.995\n",
      "[32] random_holdout_set_from_training_data's score is: -0.986\n"
     ]
    },
    {
     "name": "stderr",
     "output_type": "stream",
     "text": [
      "E:\\wei\\logiciel\\envs\\alpheeenv\\lib\\site-packages\\sklearn\\ensemble\\_gb.py:1342: FutureWarning: The parameter 'presort' is deprecated and has no effect. It will be removed in v0.24. You can suppress this warning by not passing any value to the 'presort' parameter. We also recommend using HistGradientBoosting models instead.\n",
      "  FutureWarning)\n",
      "E:\\wei\\logiciel\\envs\\alpheeenv\\lib\\site-packages\\sklearn\\ensemble\\_gb.py:1342: FutureWarning: The parameter 'presort' is deprecated and has no effect. It will be removed in v0.24. You can suppress this warning by not passing any value to the 'presort' parameter. We also recommend using HistGradientBoosting models instead.\n",
      "  FutureWarning)\n",
      "E:\\wei\\logiciel\\envs\\alpheeenv\\lib\\site-packages\\sklearn\\ensemble\\_gb.py:1342: FutureWarning: The parameter 'presort' is deprecated and has no effect. It will be removed in v0.24. You can suppress this warning by not passing any value to the 'presort' parameter. We also recommend using HistGradientBoosting models instead.\n",
      "  FutureWarning)\n"
     ]
    },
    {
     "name": "stdout",
     "output_type": "stream",
     "text": [
      "[33] random_holdout_set_from_training_data's score is: -0.98\n",
      "[34] random_holdout_set_from_training_data's score is: -0.972\n",
      "[35] random_holdout_set_from_training_data's score is: -0.966\n"
     ]
    },
    {
     "name": "stderr",
     "output_type": "stream",
     "text": [
      "E:\\wei\\logiciel\\envs\\alpheeenv\\lib\\site-packages\\sklearn\\ensemble\\_gb.py:1342: FutureWarning: The parameter 'presort' is deprecated and has no effect. It will be removed in v0.24. You can suppress this warning by not passing any value to the 'presort' parameter. We also recommend using HistGradientBoosting models instead.\n",
      "  FutureWarning)\n",
      "E:\\wei\\logiciel\\envs\\alpheeenv\\lib\\site-packages\\sklearn\\ensemble\\_gb.py:1342: FutureWarning: The parameter 'presort' is deprecated and has no effect. It will be removed in v0.24. You can suppress this warning by not passing any value to the 'presort' parameter. We also recommend using HistGradientBoosting models instead.\n",
      "  FutureWarning)\n",
      "E:\\wei\\logiciel\\envs\\alpheeenv\\lib\\site-packages\\sklearn\\ensemble\\_gb.py:1342: FutureWarning: The parameter 'presort' is deprecated and has no effect. It will be removed in v0.24. You can suppress this warning by not passing any value to the 'presort' parameter. We also recommend using HistGradientBoosting models instead.\n",
      "  FutureWarning)\n"
     ]
    },
    {
     "name": "stdout",
     "output_type": "stream",
     "text": [
      "[36] random_holdout_set_from_training_data's score is: -0.958\n",
      "[37] random_holdout_set_from_training_data's score is: -0.953\n",
      "[38] random_holdout_set_from_training_data's score is: -0.945\n"
     ]
    },
    {
     "name": "stderr",
     "output_type": "stream",
     "text": [
      "E:\\wei\\logiciel\\envs\\alpheeenv\\lib\\site-packages\\sklearn\\ensemble\\_gb.py:1342: FutureWarning: The parameter 'presort' is deprecated and has no effect. It will be removed in v0.24. You can suppress this warning by not passing any value to the 'presort' parameter. We also recommend using HistGradientBoosting models instead.\n",
      "  FutureWarning)\n",
      "E:\\wei\\logiciel\\envs\\alpheeenv\\lib\\site-packages\\sklearn\\ensemble\\_gb.py:1342: FutureWarning: The parameter 'presort' is deprecated and has no effect. It will be removed in v0.24. You can suppress this warning by not passing any value to the 'presort' parameter. We also recommend using HistGradientBoosting models instead.\n",
      "  FutureWarning)\n",
      "E:\\wei\\logiciel\\envs\\alpheeenv\\lib\\site-packages\\sklearn\\ensemble\\_gb.py:1342: FutureWarning: The parameter 'presort' is deprecated and has no effect. It will be removed in v0.24. You can suppress this warning by not passing any value to the 'presort' parameter. We also recommend using HistGradientBoosting models instead.\n",
      "  FutureWarning)\n"
     ]
    },
    {
     "name": "stdout",
     "output_type": "stream",
     "text": [
      "[39] random_holdout_set_from_training_data's score is: -0.942\n",
      "[40] random_holdout_set_from_training_data's score is: -0.934\n",
      "[41] random_holdout_set_from_training_data's score is: -0.928\n"
     ]
    },
    {
     "name": "stderr",
     "output_type": "stream",
     "text": [
      "E:\\wei\\logiciel\\envs\\alpheeenv\\lib\\site-packages\\sklearn\\ensemble\\_gb.py:1342: FutureWarning: The parameter 'presort' is deprecated and has no effect. It will be removed in v0.24. You can suppress this warning by not passing any value to the 'presort' parameter. We also recommend using HistGradientBoosting models instead.\n",
      "  FutureWarning)\n",
      "E:\\wei\\logiciel\\envs\\alpheeenv\\lib\\site-packages\\sklearn\\ensemble\\_gb.py:1342: FutureWarning: The parameter 'presort' is deprecated and has no effect. It will be removed in v0.24. You can suppress this warning by not passing any value to the 'presort' parameter. We also recommend using HistGradientBoosting models instead.\n",
      "  FutureWarning)\n",
      "E:\\wei\\logiciel\\envs\\alpheeenv\\lib\\site-packages\\sklearn\\ensemble\\_gb.py:1342: FutureWarning: The parameter 'presort' is deprecated and has no effect. It will be removed in v0.24. You can suppress this warning by not passing any value to the 'presort' parameter. We also recommend using HistGradientBoosting models instead.\n",
      "  FutureWarning)\n"
     ]
    },
    {
     "name": "stdout",
     "output_type": "stream",
     "text": [
      "[42] random_holdout_set_from_training_data's score is: -0.923\n",
      "[43] random_holdout_set_from_training_data's score is: -0.919\n",
      "[44] random_holdout_set_from_training_data's score is: -0.914\n"
     ]
    },
    {
     "name": "stderr",
     "output_type": "stream",
     "text": [
      "E:\\wei\\logiciel\\envs\\alpheeenv\\lib\\site-packages\\sklearn\\ensemble\\_gb.py:1342: FutureWarning: The parameter 'presort' is deprecated and has no effect. It will be removed in v0.24. You can suppress this warning by not passing any value to the 'presort' parameter. We also recommend using HistGradientBoosting models instead.\n",
      "  FutureWarning)\n",
      "E:\\wei\\logiciel\\envs\\alpheeenv\\lib\\site-packages\\sklearn\\ensemble\\_gb.py:1342: FutureWarning: The parameter 'presort' is deprecated and has no effect. It will be removed in v0.24. You can suppress this warning by not passing any value to the 'presort' parameter. We also recommend using HistGradientBoosting models instead.\n",
      "  FutureWarning)\n",
      "E:\\wei\\logiciel\\envs\\alpheeenv\\lib\\site-packages\\sklearn\\ensemble\\_gb.py:1342: FutureWarning: The parameter 'presort' is deprecated and has no effect. It will be removed in v0.24. You can suppress this warning by not passing any value to the 'presort' parameter. We also recommend using HistGradientBoosting models instead.\n",
      "  FutureWarning)\n"
     ]
    },
    {
     "name": "stdout",
     "output_type": "stream",
     "text": [
      "[45] random_holdout_set_from_training_data's score is: -0.911\n",
      "[46] random_holdout_set_from_training_data's score is: -0.907\n",
      "[47] random_holdout_set_from_training_data's score is: -0.905\n"
     ]
    },
    {
     "name": "stderr",
     "output_type": "stream",
     "text": [
      "E:\\wei\\logiciel\\envs\\alpheeenv\\lib\\site-packages\\sklearn\\ensemble\\_gb.py:1342: FutureWarning: The parameter 'presort' is deprecated and has no effect. It will be removed in v0.24. You can suppress this warning by not passing any value to the 'presort' parameter. We also recommend using HistGradientBoosting models instead.\n",
      "  FutureWarning)\n",
      "E:\\wei\\logiciel\\envs\\alpheeenv\\lib\\site-packages\\sklearn\\ensemble\\_gb.py:1342: FutureWarning: The parameter 'presort' is deprecated and has no effect. It will be removed in v0.24. You can suppress this warning by not passing any value to the 'presort' parameter. We also recommend using HistGradientBoosting models instead.\n",
      "  FutureWarning)\n",
      "E:\\wei\\logiciel\\envs\\alpheeenv\\lib\\site-packages\\sklearn\\ensemble\\_gb.py:1342: FutureWarning: The parameter 'presort' is deprecated and has no effect. It will be removed in v0.24. You can suppress this warning by not passing any value to the 'presort' parameter. We also recommend using HistGradientBoosting models instead.\n",
      "  FutureWarning)\n"
     ]
    },
    {
     "name": "stdout",
     "output_type": "stream",
     "text": [
      "[48] random_holdout_set_from_training_data's score is: -0.901\n",
      "[49] random_holdout_set_from_training_data's score is: -0.898\n",
      "[50] random_holdout_set_from_training_data's score is: -0.895\n"
     ]
    },
    {
     "name": "stderr",
     "output_type": "stream",
     "text": [
      "E:\\wei\\logiciel\\envs\\alpheeenv\\lib\\site-packages\\sklearn\\ensemble\\_gb.py:1342: FutureWarning: The parameter 'presort' is deprecated and has no effect. It will be removed in v0.24. You can suppress this warning by not passing any value to the 'presort' parameter. We also recommend using HistGradientBoosting models instead.\n",
      "  FutureWarning)\n",
      "E:\\wei\\logiciel\\envs\\alpheeenv\\lib\\site-packages\\sklearn\\ensemble\\_gb.py:1342: FutureWarning: The parameter 'presort' is deprecated and has no effect. It will be removed in v0.24. You can suppress this warning by not passing any value to the 'presort' parameter. We also recommend using HistGradientBoosting models instead.\n",
      "  FutureWarning)\n",
      "E:\\wei\\logiciel\\envs\\alpheeenv\\lib\\site-packages\\sklearn\\ensemble\\_gb.py:1342: FutureWarning: The parameter 'presort' is deprecated and has no effect. It will be removed in v0.24. You can suppress this warning by not passing any value to the 'presort' parameter. We also recommend using HistGradientBoosting models instead.\n",
      "  FutureWarning)\n"
     ]
    },
    {
     "name": "stdout",
     "output_type": "stream",
     "text": [
      "[52] random_holdout_set_from_training_data's score is: -0.89\n",
      "[54] random_holdout_set_from_training_data's score is: -0.885\n"
     ]
    },
    {
     "name": "stderr",
     "output_type": "stream",
     "text": [
      "E:\\wei\\logiciel\\envs\\alpheeenv\\lib\\site-packages\\sklearn\\ensemble\\_gb.py:1342: FutureWarning: The parameter 'presort' is deprecated and has no effect. It will be removed in v0.24. You can suppress this warning by not passing any value to the 'presort' parameter. We also recommend using HistGradientBoosting models instead.\n",
      "  FutureWarning)\n",
      "E:\\wei\\logiciel\\envs\\alpheeenv\\lib\\site-packages\\sklearn\\ensemble\\_gb.py:1342: FutureWarning: The parameter 'presort' is deprecated and has no effect. It will be removed in v0.24. You can suppress this warning by not passing any value to the 'presort' parameter. We also recommend using HistGradientBoosting models instead.\n",
      "  FutureWarning)\n"
     ]
    },
    {
     "name": "stdout",
     "output_type": "stream",
     "text": [
      "[56] random_holdout_set_from_training_data's score is: -0.88\n",
      "[58] random_holdout_set_from_training_data's score is: -0.876\n"
     ]
    },
    {
     "name": "stderr",
     "output_type": "stream",
     "text": [
      "E:\\wei\\logiciel\\envs\\alpheeenv\\lib\\site-packages\\sklearn\\ensemble\\_gb.py:1342: FutureWarning: The parameter 'presort' is deprecated and has no effect. It will be removed in v0.24. You can suppress this warning by not passing any value to the 'presort' parameter. We also recommend using HistGradientBoosting models instead.\n",
      "  FutureWarning)\n",
      "E:\\wei\\logiciel\\envs\\alpheeenv\\lib\\site-packages\\sklearn\\ensemble\\_gb.py:1342: FutureWarning: The parameter 'presort' is deprecated and has no effect. It will be removed in v0.24. You can suppress this warning by not passing any value to the 'presort' parameter. We also recommend using HistGradientBoosting models instead.\n",
      "  FutureWarning)\n"
     ]
    },
    {
     "name": "stdout",
     "output_type": "stream",
     "text": [
      "[60] random_holdout_set_from_training_data's score is: -0.871\n",
      "[62] random_holdout_set_from_training_data's score is: -0.869\n"
     ]
    },
    {
     "name": "stderr",
     "output_type": "stream",
     "text": [
      "E:\\wei\\logiciel\\envs\\alpheeenv\\lib\\site-packages\\sklearn\\ensemble\\_gb.py:1342: FutureWarning: The parameter 'presort' is deprecated and has no effect. It will be removed in v0.24. You can suppress this warning by not passing any value to the 'presort' parameter. We also recommend using HistGradientBoosting models instead.\n",
      "  FutureWarning)\n",
      "E:\\wei\\logiciel\\envs\\alpheeenv\\lib\\site-packages\\sklearn\\ensemble\\_gb.py:1342: FutureWarning: The parameter 'presort' is deprecated and has no effect. It will be removed in v0.24. You can suppress this warning by not passing any value to the 'presort' parameter. We also recommend using HistGradientBoosting models instead.\n",
      "  FutureWarning)\n"
     ]
    },
    {
     "name": "stdout",
     "output_type": "stream",
     "text": [
      "[64] random_holdout_set_from_training_data's score is: -0.867\n",
      "[66] random_holdout_set_from_training_data's score is: -0.864\n"
     ]
    },
    {
     "name": "stderr",
     "output_type": "stream",
     "text": [
      "E:\\wei\\logiciel\\envs\\alpheeenv\\lib\\site-packages\\sklearn\\ensemble\\_gb.py:1342: FutureWarning: The parameter 'presort' is deprecated and has no effect. It will be removed in v0.24. You can suppress this warning by not passing any value to the 'presort' parameter. We also recommend using HistGradientBoosting models instead.\n",
      "  FutureWarning)\n",
      "E:\\wei\\logiciel\\envs\\alpheeenv\\lib\\site-packages\\sklearn\\ensemble\\_gb.py:1342: FutureWarning: The parameter 'presort' is deprecated and has no effect. It will be removed in v0.24. You can suppress this warning by not passing any value to the 'presort' parameter. We also recommend using HistGradientBoosting models instead.\n",
      "  FutureWarning)\n"
     ]
    },
    {
     "name": "stdout",
     "output_type": "stream",
     "text": [
      "[68] random_holdout_set_from_training_data's score is: -0.86\n",
      "[70] random_holdout_set_from_training_data's score is: -0.858\n"
     ]
    },
    {
     "name": "stderr",
     "output_type": "stream",
     "text": [
      "E:\\wei\\logiciel\\envs\\alpheeenv\\lib\\site-packages\\sklearn\\ensemble\\_gb.py:1342: FutureWarning: The parameter 'presort' is deprecated and has no effect. It will be removed in v0.24. You can suppress this warning by not passing any value to the 'presort' parameter. We also recommend using HistGradientBoosting models instead.\n",
      "  FutureWarning)\n",
      "E:\\wei\\logiciel\\envs\\alpheeenv\\lib\\site-packages\\sklearn\\ensemble\\_gb.py:1342: FutureWarning: The parameter 'presort' is deprecated and has no effect. It will be removed in v0.24. You can suppress this warning by not passing any value to the 'presort' parameter. We also recommend using HistGradientBoosting models instead.\n",
      "  FutureWarning)\n"
     ]
    },
    {
     "name": "stdout",
     "output_type": "stream",
     "text": [
      "[72] random_holdout_set_from_training_data's score is: -0.857\n",
      "[74] random_holdout_set_from_training_data's score is: -0.855\n"
     ]
    },
    {
     "name": "stderr",
     "output_type": "stream",
     "text": [
      "E:\\wei\\logiciel\\envs\\alpheeenv\\lib\\site-packages\\sklearn\\ensemble\\_gb.py:1342: FutureWarning: The parameter 'presort' is deprecated and has no effect. It will be removed in v0.24. You can suppress this warning by not passing any value to the 'presort' parameter. We also recommend using HistGradientBoosting models instead.\n",
      "  FutureWarning)\n",
      "E:\\wei\\logiciel\\envs\\alpheeenv\\lib\\site-packages\\sklearn\\ensemble\\_gb.py:1342: FutureWarning: The parameter 'presort' is deprecated and has no effect. It will be removed in v0.24. You can suppress this warning by not passing any value to the 'presort' parameter. We also recommend using HistGradientBoosting models instead.\n",
      "  FutureWarning)\n"
     ]
    },
    {
     "name": "stdout",
     "output_type": "stream",
     "text": [
      "[76] random_holdout_set_from_training_data's score is: -0.854\n",
      "[78] random_holdout_set_from_training_data's score is: -0.852\n"
     ]
    },
    {
     "name": "stderr",
     "output_type": "stream",
     "text": [
      "E:\\wei\\logiciel\\envs\\alpheeenv\\lib\\site-packages\\sklearn\\ensemble\\_gb.py:1342: FutureWarning: The parameter 'presort' is deprecated and has no effect. It will be removed in v0.24. You can suppress this warning by not passing any value to the 'presort' parameter. We also recommend using HistGradientBoosting models instead.\n",
      "  FutureWarning)\n",
      "E:\\wei\\logiciel\\envs\\alpheeenv\\lib\\site-packages\\sklearn\\ensemble\\_gb.py:1342: FutureWarning: The parameter 'presort' is deprecated and has no effect. It will be removed in v0.24. You can suppress this warning by not passing any value to the 'presort' parameter. We also recommend using HistGradientBoosting models instead.\n",
      "  FutureWarning)\n"
     ]
    },
    {
     "name": "stdout",
     "output_type": "stream",
     "text": [
      "[80] random_holdout_set_from_training_data's score is: -0.849\n",
      "[82] random_holdout_set_from_training_data's score is: -0.847\n"
     ]
    },
    {
     "name": "stderr",
     "output_type": "stream",
     "text": [
      "E:\\wei\\logiciel\\envs\\alpheeenv\\lib\\site-packages\\sklearn\\ensemble\\_gb.py:1342: FutureWarning: The parameter 'presort' is deprecated and has no effect. It will be removed in v0.24. You can suppress this warning by not passing any value to the 'presort' parameter. We also recommend using HistGradientBoosting models instead.\n",
      "  FutureWarning)\n",
      "E:\\wei\\logiciel\\envs\\alpheeenv\\lib\\site-packages\\sklearn\\ensemble\\_gb.py:1342: FutureWarning: The parameter 'presort' is deprecated and has no effect. It will be removed in v0.24. You can suppress this warning by not passing any value to the 'presort' parameter. We also recommend using HistGradientBoosting models instead.\n",
      "  FutureWarning)\n"
     ]
    },
    {
     "name": "stdout",
     "output_type": "stream",
     "text": [
      "[84] random_holdout_set_from_training_data's score is: -0.847\n",
      "[86] random_holdout_set_from_training_data's score is: -0.846\n"
     ]
    },
    {
     "name": "stderr",
     "output_type": "stream",
     "text": [
      "E:\\wei\\logiciel\\envs\\alpheeenv\\lib\\site-packages\\sklearn\\ensemble\\_gb.py:1342: FutureWarning: The parameter 'presort' is deprecated and has no effect. It will be removed in v0.24. You can suppress this warning by not passing any value to the 'presort' parameter. We also recommend using HistGradientBoosting models instead.\n",
      "  FutureWarning)\n",
      "E:\\wei\\logiciel\\envs\\alpheeenv\\lib\\site-packages\\sklearn\\ensemble\\_gb.py:1342: FutureWarning: The parameter 'presort' is deprecated and has no effect. It will be removed in v0.24. You can suppress this warning by not passing any value to the 'presort' parameter. We also recommend using HistGradientBoosting models instead.\n",
      "  FutureWarning)\n"
     ]
    },
    {
     "name": "stdout",
     "output_type": "stream",
     "text": [
      "[88] random_holdout_set_from_training_data's score is: -0.845\n",
      "[90] random_holdout_set_from_training_data's score is: -0.844\n"
     ]
    },
    {
     "name": "stderr",
     "output_type": "stream",
     "text": [
      "E:\\wei\\logiciel\\envs\\alpheeenv\\lib\\site-packages\\sklearn\\ensemble\\_gb.py:1342: FutureWarning: The parameter 'presort' is deprecated and has no effect. It will be removed in v0.24. You can suppress this warning by not passing any value to the 'presort' parameter. We also recommend using HistGradientBoosting models instead.\n",
      "  FutureWarning)\n",
      "E:\\wei\\logiciel\\envs\\alpheeenv\\lib\\site-packages\\sklearn\\ensemble\\_gb.py:1342: FutureWarning: The parameter 'presort' is deprecated and has no effect. It will be removed in v0.24. You can suppress this warning by not passing any value to the 'presort' parameter. We also recommend using HistGradientBoosting models instead.\n",
      "  FutureWarning)\n"
     ]
    },
    {
     "name": "stdout",
     "output_type": "stream",
     "text": [
      "[92] random_holdout_set_from_training_data's score is: -0.842\n",
      "[94] random_holdout_set_from_training_data's score is: -0.839\n"
     ]
    },
    {
     "name": "stderr",
     "output_type": "stream",
     "text": [
      "E:\\wei\\logiciel\\envs\\alpheeenv\\lib\\site-packages\\sklearn\\ensemble\\_gb.py:1342: FutureWarning: The parameter 'presort' is deprecated and has no effect. It will be removed in v0.24. You can suppress this warning by not passing any value to the 'presort' parameter. We also recommend using HistGradientBoosting models instead.\n",
      "  FutureWarning)\n",
      "E:\\wei\\logiciel\\envs\\alpheeenv\\lib\\site-packages\\sklearn\\ensemble\\_gb.py:1342: FutureWarning: The parameter 'presort' is deprecated and has no effect. It will be removed in v0.24. You can suppress this warning by not passing any value to the 'presort' parameter. We also recommend using HistGradientBoosting models instead.\n",
      "  FutureWarning)\n"
     ]
    },
    {
     "name": "stdout",
     "output_type": "stream",
     "text": [
      "[96] random_holdout_set_from_training_data's score is: -0.835\n",
      "[98] random_holdout_set_from_training_data's score is: -0.834\n"
     ]
    },
    {
     "name": "stderr",
     "output_type": "stream",
     "text": [
      "E:\\wei\\logiciel\\envs\\alpheeenv\\lib\\site-packages\\sklearn\\ensemble\\_gb.py:1342: FutureWarning: The parameter 'presort' is deprecated and has no effect. It will be removed in v0.24. You can suppress this warning by not passing any value to the 'presort' parameter. We also recommend using HistGradientBoosting models instead.\n",
      "  FutureWarning)\n",
      "E:\\wei\\logiciel\\envs\\alpheeenv\\lib\\site-packages\\sklearn\\ensemble\\_gb.py:1342: FutureWarning: The parameter 'presort' is deprecated and has no effect. It will be removed in v0.24. You can suppress this warning by not passing any value to the 'presort' parameter. We also recommend using HistGradientBoosting models instead.\n",
      "  FutureWarning)\n"
     ]
    },
    {
     "name": "stdout",
     "output_type": "stream",
     "text": [
      "[100] random_holdout_set_from_training_data's score is: -0.834\n",
      "[103] random_holdout_set_from_training_data's score is: -0.833\n"
     ]
    },
    {
     "name": "stderr",
     "output_type": "stream",
     "text": [
      "E:\\wei\\logiciel\\envs\\alpheeenv\\lib\\site-packages\\sklearn\\ensemble\\_gb.py:1342: FutureWarning: The parameter 'presort' is deprecated and has no effect. It will be removed in v0.24. You can suppress this warning by not passing any value to the 'presort' parameter. We also recommend using HistGradientBoosting models instead.\n",
      "  FutureWarning)\n",
      "E:\\wei\\logiciel\\envs\\alpheeenv\\lib\\site-packages\\sklearn\\ensemble\\_gb.py:1342: FutureWarning: The parameter 'presort' is deprecated and has no effect. It will be removed in v0.24. You can suppress this warning by not passing any value to the 'presort' parameter. We also recommend using HistGradientBoosting models instead.\n",
      "  FutureWarning)\n"
     ]
    },
    {
     "name": "stdout",
     "output_type": "stream",
     "text": [
      "[106] random_holdout_set_from_training_data's score is: -0.833\n"
     ]
    },
    {
     "name": "stderr",
     "output_type": "stream",
     "text": [
      "E:\\wei\\logiciel\\envs\\alpheeenv\\lib\\site-packages\\sklearn\\ensemble\\_gb.py:1342: FutureWarning: The parameter 'presort' is deprecated and has no effect. It will be removed in v0.24. You can suppress this warning by not passing any value to the 'presort' parameter. We also recommend using HistGradientBoosting models instead.\n",
      "  FutureWarning)\n"
     ]
    },
    {
     "name": "stdout",
     "output_type": "stream",
     "text": [
      "[109] random_holdout_set_from_training_data's score is: -0.831\n",
      "[112] random_holdout_set_from_training_data's score is: -0.83\n"
     ]
    },
    {
     "name": "stderr",
     "output_type": "stream",
     "text": [
      "E:\\wei\\logiciel\\envs\\alpheeenv\\lib\\site-packages\\sklearn\\ensemble\\_gb.py:1342: FutureWarning: The parameter 'presort' is deprecated and has no effect. It will be removed in v0.24. You can suppress this warning by not passing any value to the 'presort' parameter. We also recommend using HistGradientBoosting models instead.\n",
      "  FutureWarning)\n",
      "E:\\wei\\logiciel\\envs\\alpheeenv\\lib\\site-packages\\sklearn\\ensemble\\_gb.py:1342: FutureWarning: The parameter 'presort' is deprecated and has no effect. It will be removed in v0.24. You can suppress this warning by not passing any value to the 'presort' parameter. We also recommend using HistGradientBoosting models instead.\n",
      "  FutureWarning)\n"
     ]
    },
    {
     "name": "stdout",
     "output_type": "stream",
     "text": [
      "[115] random_holdout_set_from_training_data's score is: -0.831\n"
     ]
    },
    {
     "name": "stderr",
     "output_type": "stream",
     "text": [
      "E:\\wei\\logiciel\\envs\\alpheeenv\\lib\\site-packages\\sklearn\\ensemble\\_gb.py:1342: FutureWarning: The parameter 'presort' is deprecated and has no effect. It will be removed in v0.24. You can suppress this warning by not passing any value to the 'presort' parameter. We also recommend using HistGradientBoosting models instead.\n",
      "  FutureWarning)\n"
     ]
    },
    {
     "name": "stdout",
     "output_type": "stream",
     "text": [
      "[118] random_holdout_set_from_training_data's score is: -0.83\n"
     ]
    },
    {
     "name": "stderr",
     "output_type": "stream",
     "text": [
      "E:\\wei\\logiciel\\envs\\alpheeenv\\lib\\site-packages\\sklearn\\ensemble\\_gb.py:1342: FutureWarning: The parameter 'presort' is deprecated and has no effect. It will be removed in v0.24. You can suppress this warning by not passing any value to the 'presort' parameter. We also recommend using HistGradientBoosting models instead.\n",
      "  FutureWarning)\n"
     ]
    },
    {
     "name": "stdout",
     "output_type": "stream",
     "text": [
      "[121] random_holdout_set_from_training_data's score is: -0.828\n"
     ]
    },
    {
     "name": "stderr",
     "output_type": "stream",
     "text": [
      "E:\\wei\\logiciel\\envs\\alpheeenv\\lib\\site-packages\\sklearn\\ensemble\\_gb.py:1342: FutureWarning: The parameter 'presort' is deprecated and has no effect. It will be removed in v0.24. You can suppress this warning by not passing any value to the 'presort' parameter. We also recommend using HistGradientBoosting models instead.\n",
      "  FutureWarning)\n"
     ]
    },
    {
     "name": "stdout",
     "output_type": "stream",
     "text": [
      "[124] random_holdout_set_from_training_data's score is: -0.825\n"
     ]
    },
    {
     "name": "stderr",
     "output_type": "stream",
     "text": [
      "E:\\wei\\logiciel\\envs\\alpheeenv\\lib\\site-packages\\sklearn\\ensemble\\_gb.py:1342: FutureWarning: The parameter 'presort' is deprecated and has no effect. It will be removed in v0.24. You can suppress this warning by not passing any value to the 'presort' parameter. We also recommend using HistGradientBoosting models instead.\n",
      "  FutureWarning)\n"
     ]
    },
    {
     "name": "stdout",
     "output_type": "stream",
     "text": [
      "[127] random_holdout_set_from_training_data's score is: -0.823\n"
     ]
    },
    {
     "name": "stderr",
     "output_type": "stream",
     "text": [
      "E:\\wei\\logiciel\\envs\\alpheeenv\\lib\\site-packages\\sklearn\\ensemble\\_gb.py:1342: FutureWarning: The parameter 'presort' is deprecated and has no effect. It will be removed in v0.24. You can suppress this warning by not passing any value to the 'presort' parameter. We also recommend using HistGradientBoosting models instead.\n",
      "  FutureWarning)\n"
     ]
    },
    {
     "name": "stdout",
     "output_type": "stream",
     "text": [
      "[130] random_holdout_set_from_training_data's score is: -0.823\n"
     ]
    },
    {
     "name": "stderr",
     "output_type": "stream",
     "text": [
      "E:\\wei\\logiciel\\envs\\alpheeenv\\lib\\site-packages\\sklearn\\ensemble\\_gb.py:1342: FutureWarning: The parameter 'presort' is deprecated and has no effect. It will be removed in v0.24. You can suppress this warning by not passing any value to the 'presort' parameter. We also recommend using HistGradientBoosting models instead.\n",
      "  FutureWarning)\n"
     ]
    },
    {
     "name": "stdout",
     "output_type": "stream",
     "text": [
      "[133] random_holdout_set_from_training_data's score is: -0.821\n"
     ]
    },
    {
     "name": "stderr",
     "output_type": "stream",
     "text": [
      "E:\\wei\\logiciel\\envs\\alpheeenv\\lib\\site-packages\\sklearn\\ensemble\\_gb.py:1342: FutureWarning: The parameter 'presort' is deprecated and has no effect. It will be removed in v0.24. You can suppress this warning by not passing any value to the 'presort' parameter. We also recommend using HistGradientBoosting models instead.\n",
      "  FutureWarning)\n"
     ]
    },
    {
     "name": "stdout",
     "output_type": "stream",
     "text": [
      "[136] random_holdout_set_from_training_data's score is: -0.82\n"
     ]
    },
    {
     "name": "stderr",
     "output_type": "stream",
     "text": [
      "E:\\wei\\logiciel\\envs\\alpheeenv\\lib\\site-packages\\sklearn\\ensemble\\_gb.py:1342: FutureWarning: The parameter 'presort' is deprecated and has no effect. It will be removed in v0.24. You can suppress this warning by not passing any value to the 'presort' parameter. We also recommend using HistGradientBoosting models instead.\n",
      "  FutureWarning)\n"
     ]
    },
    {
     "name": "stdout",
     "output_type": "stream",
     "text": [
      "[139] random_holdout_set_from_training_data's score is: -0.819\n"
     ]
    },
    {
     "name": "stderr",
     "output_type": "stream",
     "text": [
      "E:\\wei\\logiciel\\envs\\alpheeenv\\lib\\site-packages\\sklearn\\ensemble\\_gb.py:1342: FutureWarning: The parameter 'presort' is deprecated and has no effect. It will be removed in v0.24. You can suppress this warning by not passing any value to the 'presort' parameter. We also recommend using HistGradientBoosting models instead.\n",
      "  FutureWarning)\n"
     ]
    },
    {
     "name": "stdout",
     "output_type": "stream",
     "text": [
      "[142] random_holdout_set_from_training_data's score is: -0.819\n"
     ]
    },
    {
     "name": "stderr",
     "output_type": "stream",
     "text": [
      "E:\\wei\\logiciel\\envs\\alpheeenv\\lib\\site-packages\\sklearn\\ensemble\\_gb.py:1342: FutureWarning: The parameter 'presort' is deprecated and has no effect. It will be removed in v0.24. You can suppress this warning by not passing any value to the 'presort' parameter. We also recommend using HistGradientBoosting models instead.\n",
      "  FutureWarning)\n"
     ]
    },
    {
     "name": "stdout",
     "output_type": "stream",
     "text": [
      "[145] random_holdout_set_from_training_data's score is: -0.818\n"
     ]
    },
    {
     "name": "stderr",
     "output_type": "stream",
     "text": [
      "E:\\wei\\logiciel\\envs\\alpheeenv\\lib\\site-packages\\sklearn\\ensemble\\_gb.py:1342: FutureWarning: The parameter 'presort' is deprecated and has no effect. It will be removed in v0.24. You can suppress this warning by not passing any value to the 'presort' parameter. We also recommend using HistGradientBoosting models instead.\n",
      "  FutureWarning)\n"
     ]
    },
    {
     "name": "stdout",
     "output_type": "stream",
     "text": [
      "[148] random_holdout_set_from_training_data's score is: -0.818\n"
     ]
    },
    {
     "name": "stderr",
     "output_type": "stream",
     "text": [
      "E:\\wei\\logiciel\\envs\\alpheeenv\\lib\\site-packages\\sklearn\\ensemble\\_gb.py:1342: FutureWarning: The parameter 'presort' is deprecated and has no effect. It will be removed in v0.24. You can suppress this warning by not passing any value to the 'presort' parameter. We also recommend using HistGradientBoosting models instead.\n",
      "  FutureWarning)\n"
     ]
    },
    {
     "name": "stdout",
     "output_type": "stream",
     "text": [
      "[151] random_holdout_set_from_training_data's score is: -0.818\n"
     ]
    },
    {
     "name": "stderr",
     "output_type": "stream",
     "text": [
      "E:\\wei\\logiciel\\envs\\alpheeenv\\lib\\site-packages\\sklearn\\ensemble\\_gb.py:1342: FutureWarning: The parameter 'presort' is deprecated and has no effect. It will be removed in v0.24. You can suppress this warning by not passing any value to the 'presort' parameter. We also recommend using HistGradientBoosting models instead.\n",
      "  FutureWarning)\n"
     ]
    },
    {
     "name": "stdout",
     "output_type": "stream",
     "text": [
      "[154] random_holdout_set_from_training_data's score is: -0.816\n"
     ]
    },
    {
     "name": "stderr",
     "output_type": "stream",
     "text": [
      "E:\\wei\\logiciel\\envs\\alpheeenv\\lib\\site-packages\\sklearn\\ensemble\\_gb.py:1342: FutureWarning: The parameter 'presort' is deprecated and has no effect. It will be removed in v0.24. You can suppress this warning by not passing any value to the 'presort' parameter. We also recommend using HistGradientBoosting models instead.\n",
      "  FutureWarning)\n"
     ]
    },
    {
     "name": "stdout",
     "output_type": "stream",
     "text": [
      "[157] random_holdout_set_from_training_data's score is: -0.812\n"
     ]
    },
    {
     "name": "stderr",
     "output_type": "stream",
     "text": [
      "E:\\wei\\logiciel\\envs\\alpheeenv\\lib\\site-packages\\sklearn\\ensemble\\_gb.py:1342: FutureWarning: The parameter 'presort' is deprecated and has no effect. It will be removed in v0.24. You can suppress this warning by not passing any value to the 'presort' parameter. We also recommend using HistGradientBoosting models instead.\n",
      "  FutureWarning)\n"
     ]
    },
    {
     "name": "stdout",
     "output_type": "stream",
     "text": [
      "[160] random_holdout_set_from_training_data's score is: -0.812\n"
     ]
    },
    {
     "name": "stderr",
     "output_type": "stream",
     "text": [
      "E:\\wei\\logiciel\\envs\\alpheeenv\\lib\\site-packages\\sklearn\\ensemble\\_gb.py:1342: FutureWarning: The parameter 'presort' is deprecated and has no effect. It will be removed in v0.24. You can suppress this warning by not passing any value to the 'presort' parameter. We also recommend using HistGradientBoosting models instead.\n",
      "  FutureWarning)\n"
     ]
    },
    {
     "name": "stdout",
     "output_type": "stream",
     "text": [
      "[163] random_holdout_set_from_training_data's score is: -0.811\n"
     ]
    },
    {
     "name": "stderr",
     "output_type": "stream",
     "text": [
      "E:\\wei\\logiciel\\envs\\alpheeenv\\lib\\site-packages\\sklearn\\ensemble\\_gb.py:1342: FutureWarning: The parameter 'presort' is deprecated and has no effect. It will be removed in v0.24. You can suppress this warning by not passing any value to the 'presort' parameter. We also recommend using HistGradientBoosting models instead.\n",
      "  FutureWarning)\n"
     ]
    },
    {
     "name": "stdout",
     "output_type": "stream",
     "text": [
      "[166] random_holdout_set_from_training_data's score is: -0.81\n"
     ]
    },
    {
     "name": "stderr",
     "output_type": "stream",
     "text": [
      "E:\\wei\\logiciel\\envs\\alpheeenv\\lib\\site-packages\\sklearn\\ensemble\\_gb.py:1342: FutureWarning: The parameter 'presort' is deprecated and has no effect. It will be removed in v0.24. You can suppress this warning by not passing any value to the 'presort' parameter. We also recommend using HistGradientBoosting models instead.\n",
      "  FutureWarning)\n"
     ]
    },
    {
     "name": "stdout",
     "output_type": "stream",
     "text": [
      "[169] random_holdout_set_from_training_data's score is: -0.809\n"
     ]
    },
    {
     "name": "stderr",
     "output_type": "stream",
     "text": [
      "E:\\wei\\logiciel\\envs\\alpheeenv\\lib\\site-packages\\sklearn\\ensemble\\_gb.py:1342: FutureWarning: The parameter 'presort' is deprecated and has no effect. It will be removed in v0.24. You can suppress this warning by not passing any value to the 'presort' parameter. We also recommend using HistGradientBoosting models instead.\n",
      "  FutureWarning)\n"
     ]
    },
    {
     "name": "stdout",
     "output_type": "stream",
     "text": [
      "[172] random_holdout_set_from_training_data's score is: -0.807\n"
     ]
    },
    {
     "name": "stderr",
     "output_type": "stream",
     "text": [
      "E:\\wei\\logiciel\\envs\\alpheeenv\\lib\\site-packages\\sklearn\\ensemble\\_gb.py:1342: FutureWarning: The parameter 'presort' is deprecated and has no effect. It will be removed in v0.24. You can suppress this warning by not passing any value to the 'presort' parameter. We also recommend using HistGradientBoosting models instead.\n",
      "  FutureWarning)\n"
     ]
    },
    {
     "name": "stdout",
     "output_type": "stream",
     "text": [
      "[175] random_holdout_set_from_training_data's score is: -0.805\n"
     ]
    },
    {
     "name": "stderr",
     "output_type": "stream",
     "text": [
      "E:\\wei\\logiciel\\envs\\alpheeenv\\lib\\site-packages\\sklearn\\ensemble\\_gb.py:1342: FutureWarning: The parameter 'presort' is deprecated and has no effect. It will be removed in v0.24. You can suppress this warning by not passing any value to the 'presort' parameter. We also recommend using HistGradientBoosting models instead.\n",
      "  FutureWarning)\n"
     ]
    },
    {
     "name": "stdout",
     "output_type": "stream",
     "text": [
      "[178] random_holdout_set_from_training_data's score is: -0.803\n"
     ]
    },
    {
     "name": "stderr",
     "output_type": "stream",
     "text": [
      "E:\\wei\\logiciel\\envs\\alpheeenv\\lib\\site-packages\\sklearn\\ensemble\\_gb.py:1342: FutureWarning: The parameter 'presort' is deprecated and has no effect. It will be removed in v0.24. You can suppress this warning by not passing any value to the 'presort' parameter. We also recommend using HistGradientBoosting models instead.\n",
      "  FutureWarning)\n"
     ]
    },
    {
     "name": "stdout",
     "output_type": "stream",
     "text": [
      "[181] random_holdout_set_from_training_data's score is: -0.803\n"
     ]
    },
    {
     "name": "stderr",
     "output_type": "stream",
     "text": [
      "E:\\wei\\logiciel\\envs\\alpheeenv\\lib\\site-packages\\sklearn\\ensemble\\_gb.py:1342: FutureWarning: The parameter 'presort' is deprecated and has no effect. It will be removed in v0.24. You can suppress this warning by not passing any value to the 'presort' parameter. We also recommend using HistGradientBoosting models instead.\n",
      "  FutureWarning)\n"
     ]
    },
    {
     "name": "stdout",
     "output_type": "stream",
     "text": [
      "[184] random_holdout_set_from_training_data's score is: -0.801\n"
     ]
    },
    {
     "name": "stderr",
     "output_type": "stream",
     "text": [
      "E:\\wei\\logiciel\\envs\\alpheeenv\\lib\\site-packages\\sklearn\\ensemble\\_gb.py:1342: FutureWarning: The parameter 'presort' is deprecated and has no effect. It will be removed in v0.24. You can suppress this warning by not passing any value to the 'presort' parameter. We also recommend using HistGradientBoosting models instead.\n",
      "  FutureWarning)\n"
     ]
    },
    {
     "name": "stdout",
     "output_type": "stream",
     "text": [
      "[187] random_holdout_set_from_training_data's score is: -0.799\n"
     ]
    },
    {
     "name": "stderr",
     "output_type": "stream",
     "text": [
      "E:\\wei\\logiciel\\envs\\alpheeenv\\lib\\site-packages\\sklearn\\ensemble\\_gb.py:1342: FutureWarning: The parameter 'presort' is deprecated and has no effect. It will be removed in v0.24. You can suppress this warning by not passing any value to the 'presort' parameter. We also recommend using HistGradientBoosting models instead.\n",
      "  FutureWarning)\n"
     ]
    },
    {
     "name": "stdout",
     "output_type": "stream",
     "text": [
      "[190] random_holdout_set_from_training_data's score is: -0.798\n"
     ]
    },
    {
     "name": "stderr",
     "output_type": "stream",
     "text": [
      "E:\\wei\\logiciel\\envs\\alpheeenv\\lib\\site-packages\\sklearn\\ensemble\\_gb.py:1342: FutureWarning: The parameter 'presort' is deprecated and has no effect. It will be removed in v0.24. You can suppress this warning by not passing any value to the 'presort' parameter. We also recommend using HistGradientBoosting models instead.\n",
      "  FutureWarning)\n"
     ]
    },
    {
     "name": "stdout",
     "output_type": "stream",
     "text": [
      "[193] random_holdout_set_from_training_data's score is: -0.797\n"
     ]
    },
    {
     "name": "stderr",
     "output_type": "stream",
     "text": [
      "E:\\wei\\logiciel\\envs\\alpheeenv\\lib\\site-packages\\sklearn\\ensemble\\_gb.py:1342: FutureWarning: The parameter 'presort' is deprecated and has no effect. It will be removed in v0.24. You can suppress this warning by not passing any value to the 'presort' parameter. We also recommend using HistGradientBoosting models instead.\n",
      "  FutureWarning)\n"
     ]
    },
    {
     "name": "stdout",
     "output_type": "stream",
     "text": [
      "[196] random_holdout_set_from_training_data's score is: -0.795\n"
     ]
    },
    {
     "name": "stderr",
     "output_type": "stream",
     "text": [
      "E:\\wei\\logiciel\\envs\\alpheeenv\\lib\\site-packages\\sklearn\\ensemble\\_gb.py:1342: FutureWarning: The parameter 'presort' is deprecated and has no effect. It will be removed in v0.24. You can suppress this warning by not passing any value to the 'presort' parameter. We also recommend using HistGradientBoosting models instead.\n",
      "  FutureWarning)\n"
     ]
    },
    {
     "name": "stdout",
     "output_type": "stream",
     "text": [
      "[199] random_holdout_set_from_training_data's score is: -0.795\n"
     ]
    },
    {
     "name": "stderr",
     "output_type": "stream",
     "text": [
      "E:\\wei\\logiciel\\envs\\alpheeenv\\lib\\site-packages\\sklearn\\ensemble\\_gb.py:1342: FutureWarning: The parameter 'presort' is deprecated and has no effect. It will be removed in v0.24. You can suppress this warning by not passing any value to the 'presort' parameter. We also recommend using HistGradientBoosting models instead.\n",
      "  FutureWarning)\n"
     ]
    },
    {
     "name": "stdout",
     "output_type": "stream",
     "text": [
      "[202] random_holdout_set_from_training_data's score is: -0.794\n"
     ]
    },
    {
     "name": "stderr",
     "output_type": "stream",
     "text": [
      "E:\\wei\\logiciel\\envs\\alpheeenv\\lib\\site-packages\\sklearn\\ensemble\\_gb.py:1342: FutureWarning: The parameter 'presort' is deprecated and has no effect. It will be removed in v0.24. You can suppress this warning by not passing any value to the 'presort' parameter. We also recommend using HistGradientBoosting models instead.\n",
      "  FutureWarning)\n"
     ]
    },
    {
     "name": "stdout",
     "output_type": "stream",
     "text": [
      "[205] random_holdout_set_from_training_data's score is: -0.794\n"
     ]
    },
    {
     "name": "stderr",
     "output_type": "stream",
     "text": [
      "E:\\wei\\logiciel\\envs\\alpheeenv\\lib\\site-packages\\sklearn\\ensemble\\_gb.py:1342: FutureWarning: The parameter 'presort' is deprecated and has no effect. It will be removed in v0.24. You can suppress this warning by not passing any value to the 'presort' parameter. We also recommend using HistGradientBoosting models instead.\n",
      "  FutureWarning)\n"
     ]
    },
    {
     "name": "stdout",
     "output_type": "stream",
     "text": [
      "[208] random_holdout_set_from_training_data's score is: -0.792\n"
     ]
    },
    {
     "name": "stderr",
     "output_type": "stream",
     "text": [
      "E:\\wei\\logiciel\\envs\\alpheeenv\\lib\\site-packages\\sklearn\\ensemble\\_gb.py:1342: FutureWarning: The parameter 'presort' is deprecated and has no effect. It will be removed in v0.24. You can suppress this warning by not passing any value to the 'presort' parameter. We also recommend using HistGradientBoosting models instead.\n",
      "  FutureWarning)\n"
     ]
    },
    {
     "name": "stdout",
     "output_type": "stream",
     "text": [
      "[211] random_holdout_set_from_training_data's score is: -0.791\n"
     ]
    },
    {
     "name": "stderr",
     "output_type": "stream",
     "text": [
      "E:\\wei\\logiciel\\envs\\alpheeenv\\lib\\site-packages\\sklearn\\ensemble\\_gb.py:1342: FutureWarning: The parameter 'presort' is deprecated and has no effect. It will be removed in v0.24. You can suppress this warning by not passing any value to the 'presort' parameter. We also recommend using HistGradientBoosting models instead.\n",
      "  FutureWarning)\n"
     ]
    },
    {
     "name": "stdout",
     "output_type": "stream",
     "text": [
      "[214] random_holdout_set_from_training_data's score is: -0.79\n"
     ]
    },
    {
     "name": "stderr",
     "output_type": "stream",
     "text": [
      "E:\\wei\\logiciel\\envs\\alpheeenv\\lib\\site-packages\\sklearn\\ensemble\\_gb.py:1342: FutureWarning: The parameter 'presort' is deprecated and has no effect. It will be removed in v0.24. You can suppress this warning by not passing any value to the 'presort' parameter. We also recommend using HistGradientBoosting models instead.\n",
      "  FutureWarning)\n"
     ]
    },
    {
     "name": "stdout",
     "output_type": "stream",
     "text": [
      "[217] random_holdout_set_from_training_data's score is: -0.789\n"
     ]
    },
    {
     "name": "stderr",
     "output_type": "stream",
     "text": [
      "E:\\wei\\logiciel\\envs\\alpheeenv\\lib\\site-packages\\sklearn\\ensemble\\_gb.py:1342: FutureWarning: The parameter 'presort' is deprecated and has no effect. It will be removed in v0.24. You can suppress this warning by not passing any value to the 'presort' parameter. We also recommend using HistGradientBoosting models instead.\n",
      "  FutureWarning)\n"
     ]
    },
    {
     "name": "stdout",
     "output_type": "stream",
     "text": [
      "[220] random_holdout_set_from_training_data's score is: -0.789\n"
     ]
    },
    {
     "name": "stderr",
     "output_type": "stream",
     "text": [
      "E:\\wei\\logiciel\\envs\\alpheeenv\\lib\\site-packages\\sklearn\\ensemble\\_gb.py:1342: FutureWarning: The parameter 'presort' is deprecated and has no effect. It will be removed in v0.24. You can suppress this warning by not passing any value to the 'presort' parameter. We also recommend using HistGradientBoosting models instead.\n",
      "  FutureWarning)\n"
     ]
    },
    {
     "name": "stdout",
     "output_type": "stream",
     "text": [
      "[223] random_holdout_set_from_training_data's score is: -0.788\n"
     ]
    },
    {
     "name": "stderr",
     "output_type": "stream",
     "text": [
      "E:\\wei\\logiciel\\envs\\alpheeenv\\lib\\site-packages\\sklearn\\ensemble\\_gb.py:1342: FutureWarning: The parameter 'presort' is deprecated and has no effect. It will be removed in v0.24. You can suppress this warning by not passing any value to the 'presort' parameter. We also recommend using HistGradientBoosting models instead.\n",
      "  FutureWarning)\n"
     ]
    },
    {
     "name": "stdout",
     "output_type": "stream",
     "text": [
      "[226] random_holdout_set_from_training_data's score is: -0.787\n"
     ]
    },
    {
     "name": "stderr",
     "output_type": "stream",
     "text": [
      "E:\\wei\\logiciel\\envs\\alpheeenv\\lib\\site-packages\\sklearn\\ensemble\\_gb.py:1342: FutureWarning: The parameter 'presort' is deprecated and has no effect. It will be removed in v0.24. You can suppress this warning by not passing any value to the 'presort' parameter. We also recommend using HistGradientBoosting models instead.\n",
      "  FutureWarning)\n"
     ]
    },
    {
     "name": "stdout",
     "output_type": "stream",
     "text": [
      "[229] random_holdout_set_from_training_data's score is: -0.786\n"
     ]
    },
    {
     "name": "stderr",
     "output_type": "stream",
     "text": [
      "E:\\wei\\logiciel\\envs\\alpheeenv\\lib\\site-packages\\sklearn\\ensemble\\_gb.py:1342: FutureWarning: The parameter 'presort' is deprecated and has no effect. It will be removed in v0.24. You can suppress this warning by not passing any value to the 'presort' parameter. We also recommend using HistGradientBoosting models instead.\n",
      "  FutureWarning)\n"
     ]
    },
    {
     "name": "stdout",
     "output_type": "stream",
     "text": [
      "[232] random_holdout_set_from_training_data's score is: -0.785\n"
     ]
    },
    {
     "name": "stderr",
     "output_type": "stream",
     "text": [
      "E:\\wei\\logiciel\\envs\\alpheeenv\\lib\\site-packages\\sklearn\\ensemble\\_gb.py:1342: FutureWarning: The parameter 'presort' is deprecated and has no effect. It will be removed in v0.24. You can suppress this warning by not passing any value to the 'presort' parameter. We also recommend using HistGradientBoosting models instead.\n",
      "  FutureWarning)\n"
     ]
    },
    {
     "name": "stdout",
     "output_type": "stream",
     "text": [
      "[235] random_holdout_set_from_training_data's score is: -0.784\n"
     ]
    },
    {
     "name": "stderr",
     "output_type": "stream",
     "text": [
      "E:\\wei\\logiciel\\envs\\alpheeenv\\lib\\site-packages\\sklearn\\ensemble\\_gb.py:1342: FutureWarning: The parameter 'presort' is deprecated and has no effect. It will be removed in v0.24. You can suppress this warning by not passing any value to the 'presort' parameter. We also recommend using HistGradientBoosting models instead.\n",
      "  FutureWarning)\n"
     ]
    },
    {
     "name": "stdout",
     "output_type": "stream",
     "text": [
      "[238] random_holdout_set_from_training_data's score is: -0.783\n"
     ]
    },
    {
     "name": "stderr",
     "output_type": "stream",
     "text": [
      "E:\\wei\\logiciel\\envs\\alpheeenv\\lib\\site-packages\\sklearn\\ensemble\\_gb.py:1342: FutureWarning: The parameter 'presort' is deprecated and has no effect. It will be removed in v0.24. You can suppress this warning by not passing any value to the 'presort' parameter. We also recommend using HistGradientBoosting models instead.\n",
      "  FutureWarning)\n"
     ]
    },
    {
     "name": "stdout",
     "output_type": "stream",
     "text": [
      "[241] random_holdout_set_from_training_data's score is: -0.783\n"
     ]
    },
    {
     "name": "stderr",
     "output_type": "stream",
     "text": [
      "E:\\wei\\logiciel\\envs\\alpheeenv\\lib\\site-packages\\sklearn\\ensemble\\_gb.py:1342: FutureWarning: The parameter 'presort' is deprecated and has no effect. It will be removed in v0.24. You can suppress this warning by not passing any value to the 'presort' parameter. We also recommend using HistGradientBoosting models instead.\n",
      "  FutureWarning)\n"
     ]
    },
    {
     "name": "stdout",
     "output_type": "stream",
     "text": [
      "[244] random_holdout_set_from_training_data's score is: -0.782\n"
     ]
    },
    {
     "name": "stderr",
     "output_type": "stream",
     "text": [
      "E:\\wei\\logiciel\\envs\\alpheeenv\\lib\\site-packages\\sklearn\\ensemble\\_gb.py:1342: FutureWarning: The parameter 'presort' is deprecated and has no effect. It will be removed in v0.24. You can suppress this warning by not passing any value to the 'presort' parameter. We also recommend using HistGradientBoosting models instead.\n",
      "  FutureWarning)\n"
     ]
    },
    {
     "name": "stdout",
     "output_type": "stream",
     "text": [
      "[247] random_holdout_set_from_training_data's score is: -0.78\n"
     ]
    },
    {
     "name": "stderr",
     "output_type": "stream",
     "text": [
      "E:\\wei\\logiciel\\envs\\alpheeenv\\lib\\site-packages\\sklearn\\ensemble\\_gb.py:1342: FutureWarning: The parameter 'presort' is deprecated and has no effect. It will be removed in v0.24. You can suppress this warning by not passing any value to the 'presort' parameter. We also recommend using HistGradientBoosting models instead.\n",
      "  FutureWarning)\n"
     ]
    },
    {
     "name": "stdout",
     "output_type": "stream",
     "text": [
      "[250] random_holdout_set_from_training_data's score is: -0.779\n"
     ]
    },
    {
     "name": "stderr",
     "output_type": "stream",
     "text": [
      "E:\\wei\\logiciel\\envs\\alpheeenv\\lib\\site-packages\\sklearn\\ensemble\\_gb.py:1342: FutureWarning: The parameter 'presort' is deprecated and has no effect. It will be removed in v0.24. You can suppress this warning by not passing any value to the 'presort' parameter. We also recommend using HistGradientBoosting models instead.\n",
      "  FutureWarning)\n"
     ]
    },
    {
     "name": "stdout",
     "output_type": "stream",
     "text": [
      "[255] random_holdout_set_from_training_data's score is: -0.778\n"
     ]
    },
    {
     "name": "stderr",
     "output_type": "stream",
     "text": [
      "E:\\wei\\logiciel\\envs\\alpheeenv\\lib\\site-packages\\sklearn\\ensemble\\_gb.py:1342: FutureWarning: The parameter 'presort' is deprecated and has no effect. It will be removed in v0.24. You can suppress this warning by not passing any value to the 'presort' parameter. We also recommend using HistGradientBoosting models instead.\n",
      "  FutureWarning)\n"
     ]
    },
    {
     "name": "stdout",
     "output_type": "stream",
     "text": [
      "[260] random_holdout_set_from_training_data's score is: -0.777\n"
     ]
    },
    {
     "name": "stderr",
     "output_type": "stream",
     "text": [
      "E:\\wei\\logiciel\\envs\\alpheeenv\\lib\\site-packages\\sklearn\\ensemble\\_gb.py:1342: FutureWarning: The parameter 'presort' is deprecated and has no effect. It will be removed in v0.24. You can suppress this warning by not passing any value to the 'presort' parameter. We also recommend using HistGradientBoosting models instead.\n",
      "  FutureWarning)\n"
     ]
    },
    {
     "name": "stdout",
     "output_type": "stream",
     "text": [
      "[265] random_holdout_set_from_training_data's score is: -0.775\n"
     ]
    },
    {
     "name": "stderr",
     "output_type": "stream",
     "text": [
      "E:\\wei\\logiciel\\envs\\alpheeenv\\lib\\site-packages\\sklearn\\ensemble\\_gb.py:1342: FutureWarning: The parameter 'presort' is deprecated and has no effect. It will be removed in v0.24. You can suppress this warning by not passing any value to the 'presort' parameter. We also recommend using HistGradientBoosting models instead.\n",
      "  FutureWarning)\n"
     ]
    },
    {
     "name": "stdout",
     "output_type": "stream",
     "text": [
      "[270] random_holdout_set_from_training_data's score is: -0.774\n"
     ]
    },
    {
     "name": "stderr",
     "output_type": "stream",
     "text": [
      "E:\\wei\\logiciel\\envs\\alpheeenv\\lib\\site-packages\\sklearn\\ensemble\\_gb.py:1342: FutureWarning: The parameter 'presort' is deprecated and has no effect. It will be removed in v0.24. You can suppress this warning by not passing any value to the 'presort' parameter. We also recommend using HistGradientBoosting models instead.\n",
      "  FutureWarning)\n"
     ]
    },
    {
     "name": "stdout",
     "output_type": "stream",
     "text": [
      "[275] random_holdout_set_from_training_data's score is: -0.772\n"
     ]
    },
    {
     "name": "stderr",
     "output_type": "stream",
     "text": [
      "E:\\wei\\logiciel\\envs\\alpheeenv\\lib\\site-packages\\sklearn\\ensemble\\_gb.py:1342: FutureWarning: The parameter 'presort' is deprecated and has no effect. It will be removed in v0.24. You can suppress this warning by not passing any value to the 'presort' parameter. We also recommend using HistGradientBoosting models instead.\n",
      "  FutureWarning)\n"
     ]
    },
    {
     "name": "stdout",
     "output_type": "stream",
     "text": [
      "[280] random_holdout_set_from_training_data's score is: -0.771\n"
     ]
    },
    {
     "name": "stderr",
     "output_type": "stream",
     "text": [
      "E:\\wei\\logiciel\\envs\\alpheeenv\\lib\\site-packages\\sklearn\\ensemble\\_gb.py:1342: FutureWarning: The parameter 'presort' is deprecated and has no effect. It will be removed in v0.24. You can suppress this warning by not passing any value to the 'presort' parameter. We also recommend using HistGradientBoosting models instead.\n",
      "  FutureWarning)\n"
     ]
    },
    {
     "name": "stdout",
     "output_type": "stream",
     "text": [
      "[285] random_holdout_set_from_training_data's score is: -0.771\n"
     ]
    },
    {
     "name": "stderr",
     "output_type": "stream",
     "text": [
      "E:\\wei\\logiciel\\envs\\alpheeenv\\lib\\site-packages\\sklearn\\ensemble\\_gb.py:1342: FutureWarning: The parameter 'presort' is deprecated and has no effect. It will be removed in v0.24. You can suppress this warning by not passing any value to the 'presort' parameter. We also recommend using HistGradientBoosting models instead.\n",
      "  FutureWarning)\n"
     ]
    },
    {
     "name": "stdout",
     "output_type": "stream",
     "text": [
      "[290] random_holdout_set_from_training_data's score is: -0.771\n"
     ]
    },
    {
     "name": "stderr",
     "output_type": "stream",
     "text": [
      "E:\\wei\\logiciel\\envs\\alpheeenv\\lib\\site-packages\\sklearn\\ensemble\\_gb.py:1342: FutureWarning: The parameter 'presort' is deprecated and has no effect. It will be removed in v0.24. You can suppress this warning by not passing any value to the 'presort' parameter. We also recommend using HistGradientBoosting models instead.\n",
      "  FutureWarning)\n"
     ]
    },
    {
     "name": "stdout",
     "output_type": "stream",
     "text": [
      "[295] random_holdout_set_from_training_data's score is: -0.769\n"
     ]
    },
    {
     "name": "stderr",
     "output_type": "stream",
     "text": [
      "E:\\wei\\logiciel\\envs\\alpheeenv\\lib\\site-packages\\sklearn\\ensemble\\_gb.py:1342: FutureWarning: The parameter 'presort' is deprecated and has no effect. It will be removed in v0.24. You can suppress this warning by not passing any value to the 'presort' parameter. We also recommend using HistGradientBoosting models instead.\n",
      "  FutureWarning)\n"
     ]
    },
    {
     "name": "stdout",
     "output_type": "stream",
     "text": [
      "[300] random_holdout_set_from_training_data's score is: -0.768\n"
     ]
    },
    {
     "name": "stderr",
     "output_type": "stream",
     "text": [
      "E:\\wei\\logiciel\\envs\\alpheeenv\\lib\\site-packages\\sklearn\\ensemble\\_gb.py:1342: FutureWarning: The parameter 'presort' is deprecated and has no effect. It will be removed in v0.24. You can suppress this warning by not passing any value to the 'presort' parameter. We also recommend using HistGradientBoosting models instead.\n",
      "  FutureWarning)\n"
     ]
    },
    {
     "name": "stdout",
     "output_type": "stream",
     "text": [
      "[305] random_holdout_set_from_training_data's score is: -0.767\n"
     ]
    },
    {
     "name": "stderr",
     "output_type": "stream",
     "text": [
      "E:\\wei\\logiciel\\envs\\alpheeenv\\lib\\site-packages\\sklearn\\ensemble\\_gb.py:1342: FutureWarning: The parameter 'presort' is deprecated and has no effect. It will be removed in v0.24. You can suppress this warning by not passing any value to the 'presort' parameter. We also recommend using HistGradientBoosting models instead.\n",
      "  FutureWarning)\n"
     ]
    },
    {
     "name": "stdout",
     "output_type": "stream",
     "text": [
      "[310] random_holdout_set_from_training_data's score is: -0.767\n"
     ]
    },
    {
     "name": "stderr",
     "output_type": "stream",
     "text": [
      "E:\\wei\\logiciel\\envs\\alpheeenv\\lib\\site-packages\\sklearn\\ensemble\\_gb.py:1342: FutureWarning: The parameter 'presort' is deprecated and has no effect. It will be removed in v0.24. You can suppress this warning by not passing any value to the 'presort' parameter. We also recommend using HistGradientBoosting models instead.\n",
      "  FutureWarning)\n"
     ]
    },
    {
     "name": "stdout",
     "output_type": "stream",
     "text": [
      "[315] random_holdout_set_from_training_data's score is: -0.766\n"
     ]
    },
    {
     "name": "stderr",
     "output_type": "stream",
     "text": [
      "E:\\wei\\logiciel\\envs\\alpheeenv\\lib\\site-packages\\sklearn\\ensemble\\_gb.py:1342: FutureWarning: The parameter 'presort' is deprecated and has no effect. It will be removed in v0.24. You can suppress this warning by not passing any value to the 'presort' parameter. We also recommend using HistGradientBoosting models instead.\n",
      "  FutureWarning)\n"
     ]
    },
    {
     "name": "stdout",
     "output_type": "stream",
     "text": [
      "[320] random_holdout_set_from_training_data's score is: -0.766\n"
     ]
    },
    {
     "name": "stderr",
     "output_type": "stream",
     "text": [
      "E:\\wei\\logiciel\\envs\\alpheeenv\\lib\\site-packages\\sklearn\\ensemble\\_gb.py:1342: FutureWarning: The parameter 'presort' is deprecated and has no effect. It will be removed in v0.24. You can suppress this warning by not passing any value to the 'presort' parameter. We also recommend using HistGradientBoosting models instead.\n",
      "  FutureWarning)\n"
     ]
    },
    {
     "name": "stdout",
     "output_type": "stream",
     "text": [
      "[325] random_holdout_set_from_training_data's score is: -0.766\n"
     ]
    },
    {
     "name": "stderr",
     "output_type": "stream",
     "text": [
      "E:\\wei\\logiciel\\envs\\alpheeenv\\lib\\site-packages\\sklearn\\ensemble\\_gb.py:1342: FutureWarning: The parameter 'presort' is deprecated and has no effect. It will be removed in v0.24. You can suppress this warning by not passing any value to the 'presort' parameter. We also recommend using HistGradientBoosting models instead.\n",
      "  FutureWarning)\n"
     ]
    },
    {
     "name": "stdout",
     "output_type": "stream",
     "text": [
      "[330] random_holdout_set_from_training_data's score is: -0.764\n"
     ]
    },
    {
     "name": "stderr",
     "output_type": "stream",
     "text": [
      "E:\\wei\\logiciel\\envs\\alpheeenv\\lib\\site-packages\\sklearn\\ensemble\\_gb.py:1342: FutureWarning: The parameter 'presort' is deprecated and has no effect. It will be removed in v0.24. You can suppress this warning by not passing any value to the 'presort' parameter. We also recommend using HistGradientBoosting models instead.\n",
      "  FutureWarning)\n"
     ]
    },
    {
     "name": "stdout",
     "output_type": "stream",
     "text": [
      "[335] random_holdout_set_from_training_data's score is: -0.763\n"
     ]
    },
    {
     "name": "stderr",
     "output_type": "stream",
     "text": [
      "E:\\wei\\logiciel\\envs\\alpheeenv\\lib\\site-packages\\sklearn\\ensemble\\_gb.py:1342: FutureWarning: The parameter 'presort' is deprecated and has no effect. It will be removed in v0.24. You can suppress this warning by not passing any value to the 'presort' parameter. We also recommend using HistGradientBoosting models instead.\n",
      "  FutureWarning)\n"
     ]
    },
    {
     "name": "stdout",
     "output_type": "stream",
     "text": [
      "[340] random_holdout_set_from_training_data's score is: -0.761\n"
     ]
    },
    {
     "name": "stderr",
     "output_type": "stream",
     "text": [
      "E:\\wei\\logiciel\\envs\\alpheeenv\\lib\\site-packages\\sklearn\\ensemble\\_gb.py:1342: FutureWarning: The parameter 'presort' is deprecated and has no effect. It will be removed in v0.24. You can suppress this warning by not passing any value to the 'presort' parameter. We also recommend using HistGradientBoosting models instead.\n",
      "  FutureWarning)\n"
     ]
    },
    {
     "name": "stdout",
     "output_type": "stream",
     "text": [
      "[345] random_holdout_set_from_training_data's score is: -0.761\n"
     ]
    },
    {
     "name": "stderr",
     "output_type": "stream",
     "text": [
      "E:\\wei\\logiciel\\envs\\alpheeenv\\lib\\site-packages\\sklearn\\ensemble\\_gb.py:1342: FutureWarning: The parameter 'presort' is deprecated and has no effect. It will be removed in v0.24. You can suppress this warning by not passing any value to the 'presort' parameter. We also recommend using HistGradientBoosting models instead.\n",
      "  FutureWarning)\n"
     ]
    },
    {
     "name": "stdout",
     "output_type": "stream",
     "text": [
      "[350] random_holdout_set_from_training_data's score is: -0.761\n"
     ]
    },
    {
     "name": "stderr",
     "output_type": "stream",
     "text": [
      "E:\\wei\\logiciel\\envs\\alpheeenv\\lib\\site-packages\\sklearn\\ensemble\\_gb.py:1342: FutureWarning: The parameter 'presort' is deprecated and has no effect. It will be removed in v0.24. You can suppress this warning by not passing any value to the 'presort' parameter. We also recommend using HistGradientBoosting models instead.\n",
      "  FutureWarning)\n"
     ]
    },
    {
     "name": "stdout",
     "output_type": "stream",
     "text": [
      "[355] random_holdout_set_from_training_data's score is: -0.761\n"
     ]
    },
    {
     "name": "stderr",
     "output_type": "stream",
     "text": [
      "E:\\wei\\logiciel\\envs\\alpheeenv\\lib\\site-packages\\sklearn\\ensemble\\_gb.py:1342: FutureWarning: The parameter 'presort' is deprecated and has no effect. It will be removed in v0.24. You can suppress this warning by not passing any value to the 'presort' parameter. We also recommend using HistGradientBoosting models instead.\n",
      "  FutureWarning)\n"
     ]
    },
    {
     "name": "stdout",
     "output_type": "stream",
     "text": [
      "[360] random_holdout_set_from_training_data's score is: -0.76\n"
     ]
    },
    {
     "name": "stderr",
     "output_type": "stream",
     "text": [
      "E:\\wei\\logiciel\\envs\\alpheeenv\\lib\\site-packages\\sklearn\\ensemble\\_gb.py:1342: FutureWarning: The parameter 'presort' is deprecated and has no effect. It will be removed in v0.24. You can suppress this warning by not passing any value to the 'presort' parameter. We also recommend using HistGradientBoosting models instead.\n",
      "  FutureWarning)\n"
     ]
    },
    {
     "name": "stdout",
     "output_type": "stream",
     "text": [
      "[365] random_holdout_set_from_training_data's score is: -0.76\n"
     ]
    },
    {
     "name": "stderr",
     "output_type": "stream",
     "text": [
      "E:\\wei\\logiciel\\envs\\alpheeenv\\lib\\site-packages\\sklearn\\ensemble\\_gb.py:1342: FutureWarning: The parameter 'presort' is deprecated and has no effect. It will be removed in v0.24. You can suppress this warning by not passing any value to the 'presort' parameter. We also recommend using HistGradientBoosting models instead.\n",
      "  FutureWarning)\n"
     ]
    },
    {
     "name": "stdout",
     "output_type": "stream",
     "text": [
      "[370] random_holdout_set_from_training_data's score is: -0.758\n"
     ]
    },
    {
     "name": "stderr",
     "output_type": "stream",
     "text": [
      "E:\\wei\\logiciel\\envs\\alpheeenv\\lib\\site-packages\\sklearn\\ensemble\\_gb.py:1342: FutureWarning: The parameter 'presort' is deprecated and has no effect. It will be removed in v0.24. You can suppress this warning by not passing any value to the 'presort' parameter. We also recommend using HistGradientBoosting models instead.\n",
      "  FutureWarning)\n"
     ]
    },
    {
     "name": "stdout",
     "output_type": "stream",
     "text": [
      "[375] random_holdout_set_from_training_data's score is: -0.756\n"
     ]
    },
    {
     "name": "stderr",
     "output_type": "stream",
     "text": [
      "E:\\wei\\logiciel\\envs\\alpheeenv\\lib\\site-packages\\sklearn\\ensemble\\_gb.py:1342: FutureWarning: The parameter 'presort' is deprecated and has no effect. It will be removed in v0.24. You can suppress this warning by not passing any value to the 'presort' parameter. We also recommend using HistGradientBoosting models instead.\n",
      "  FutureWarning)\n"
     ]
    },
    {
     "name": "stdout",
     "output_type": "stream",
     "text": [
      "[380] random_holdout_set_from_training_data's score is: -0.756\n"
     ]
    },
    {
     "name": "stderr",
     "output_type": "stream",
     "text": [
      "E:\\wei\\logiciel\\envs\\alpheeenv\\lib\\site-packages\\sklearn\\ensemble\\_gb.py:1342: FutureWarning: The parameter 'presort' is deprecated and has no effect. It will be removed in v0.24. You can suppress this warning by not passing any value to the 'presort' parameter. We also recommend using HistGradientBoosting models instead.\n",
      "  FutureWarning)\n"
     ]
    },
    {
     "name": "stdout",
     "output_type": "stream",
     "text": [
      "[385] random_holdout_set_from_training_data's score is: -0.754\n"
     ]
    },
    {
     "name": "stderr",
     "output_type": "stream",
     "text": [
      "E:\\wei\\logiciel\\envs\\alpheeenv\\lib\\site-packages\\sklearn\\ensemble\\_gb.py:1342: FutureWarning: The parameter 'presort' is deprecated and has no effect. It will be removed in v0.24. You can suppress this warning by not passing any value to the 'presort' parameter. We also recommend using HistGradientBoosting models instead.\n",
      "  FutureWarning)\n"
     ]
    },
    {
     "name": "stdout",
     "output_type": "stream",
     "text": [
      "[390] random_holdout_set_from_training_data's score is: -0.753\n"
     ]
    },
    {
     "name": "stderr",
     "output_type": "stream",
     "text": [
      "E:\\wei\\logiciel\\envs\\alpheeenv\\lib\\site-packages\\sklearn\\ensemble\\_gb.py:1342: FutureWarning: The parameter 'presort' is deprecated and has no effect. It will be removed in v0.24. You can suppress this warning by not passing any value to the 'presort' parameter. We also recommend using HistGradientBoosting models instead.\n",
      "  FutureWarning)\n"
     ]
    },
    {
     "name": "stdout",
     "output_type": "stream",
     "text": [
      "[395] random_holdout_set_from_training_data's score is: -0.752\n"
     ]
    },
    {
     "name": "stderr",
     "output_type": "stream",
     "text": [
      "E:\\wei\\logiciel\\envs\\alpheeenv\\lib\\site-packages\\sklearn\\ensemble\\_gb.py:1342: FutureWarning: The parameter 'presort' is deprecated and has no effect. It will be removed in v0.24. You can suppress this warning by not passing any value to the 'presort' parameter. We also recommend using HistGradientBoosting models instead.\n",
      "  FutureWarning)\n"
     ]
    },
    {
     "name": "stdout",
     "output_type": "stream",
     "text": [
      "[400] random_holdout_set_from_training_data's score is: -0.751\n"
     ]
    },
    {
     "name": "stderr",
     "output_type": "stream",
     "text": [
      "E:\\wei\\logiciel\\envs\\alpheeenv\\lib\\site-packages\\sklearn\\ensemble\\_gb.py:1342: FutureWarning: The parameter 'presort' is deprecated and has no effect. It will be removed in v0.24. You can suppress this warning by not passing any value to the 'presort' parameter. We also recommend using HistGradientBoosting models instead.\n",
      "  FutureWarning)\n"
     ]
    },
    {
     "name": "stdout",
     "output_type": "stream",
     "text": [
      "[405] random_holdout_set_from_training_data's score is: -0.751\n"
     ]
    },
    {
     "name": "stderr",
     "output_type": "stream",
     "text": [
      "E:\\wei\\logiciel\\envs\\alpheeenv\\lib\\site-packages\\sklearn\\ensemble\\_gb.py:1342: FutureWarning: The parameter 'presort' is deprecated and has no effect. It will be removed in v0.24. You can suppress this warning by not passing any value to the 'presort' parameter. We also recommend using HistGradientBoosting models instead.\n",
      "  FutureWarning)\n"
     ]
    },
    {
     "name": "stdout",
     "output_type": "stream",
     "text": [
      "[410] random_holdout_set_from_training_data's score is: -0.75\n"
     ]
    },
    {
     "name": "stderr",
     "output_type": "stream",
     "text": [
      "E:\\wei\\logiciel\\envs\\alpheeenv\\lib\\site-packages\\sklearn\\ensemble\\_gb.py:1342: FutureWarning: The parameter 'presort' is deprecated and has no effect. It will be removed in v0.24. You can suppress this warning by not passing any value to the 'presort' parameter. We also recommend using HistGradientBoosting models instead.\n",
      "  FutureWarning)\n"
     ]
    },
    {
     "name": "stdout",
     "output_type": "stream",
     "text": [
      "[415] random_holdout_set_from_training_data's score is: -0.75\n"
     ]
    },
    {
     "name": "stderr",
     "output_type": "stream",
     "text": [
      "E:\\wei\\logiciel\\envs\\alpheeenv\\lib\\site-packages\\sklearn\\ensemble\\_gb.py:1342: FutureWarning: The parameter 'presort' is deprecated and has no effect. It will be removed in v0.24. You can suppress this warning by not passing any value to the 'presort' parameter. We also recommend using HistGradientBoosting models instead.\n",
      "  FutureWarning)\n"
     ]
    },
    {
     "name": "stdout",
     "output_type": "stream",
     "text": [
      "[420] random_holdout_set_from_training_data's score is: -0.75\n"
     ]
    },
    {
     "name": "stderr",
     "output_type": "stream",
     "text": [
      "E:\\wei\\logiciel\\envs\\alpheeenv\\lib\\site-packages\\sklearn\\ensemble\\_gb.py:1342: FutureWarning: The parameter 'presort' is deprecated and has no effect. It will be removed in v0.24. You can suppress this warning by not passing any value to the 'presort' parameter. We also recommend using HistGradientBoosting models instead.\n",
      "  FutureWarning)\n"
     ]
    },
    {
     "name": "stdout",
     "output_type": "stream",
     "text": [
      "[425] random_holdout_set_from_training_data's score is: -0.749\n"
     ]
    },
    {
     "name": "stderr",
     "output_type": "stream",
     "text": [
      "E:\\wei\\logiciel\\envs\\alpheeenv\\lib\\site-packages\\sklearn\\ensemble\\_gb.py:1342: FutureWarning: The parameter 'presort' is deprecated and has no effect. It will be removed in v0.24. You can suppress this warning by not passing any value to the 'presort' parameter. We also recommend using HistGradientBoosting models instead.\n",
      "  FutureWarning)\n"
     ]
    },
    {
     "name": "stdout",
     "output_type": "stream",
     "text": [
      "[430] random_holdout_set_from_training_data's score is: -0.747\n"
     ]
    },
    {
     "name": "stderr",
     "output_type": "stream",
     "text": [
      "E:\\wei\\logiciel\\envs\\alpheeenv\\lib\\site-packages\\sklearn\\ensemble\\_gb.py:1342: FutureWarning: The parameter 'presort' is deprecated and has no effect. It will be removed in v0.24. You can suppress this warning by not passing any value to the 'presort' parameter. We also recommend using HistGradientBoosting models instead.\n",
      "  FutureWarning)\n"
     ]
    },
    {
     "name": "stdout",
     "output_type": "stream",
     "text": [
      "[435] random_holdout_set_from_training_data's score is: -0.745\n"
     ]
    },
    {
     "name": "stderr",
     "output_type": "stream",
     "text": [
      "E:\\wei\\logiciel\\envs\\alpheeenv\\lib\\site-packages\\sklearn\\ensemble\\_gb.py:1342: FutureWarning: The parameter 'presort' is deprecated and has no effect. It will be removed in v0.24. You can suppress this warning by not passing any value to the 'presort' parameter. We also recommend using HistGradientBoosting models instead.\n",
      "  FutureWarning)\n"
     ]
    },
    {
     "name": "stdout",
     "output_type": "stream",
     "text": [
      "[440] random_holdout_set_from_training_data's score is: -0.744\n"
     ]
    },
    {
     "name": "stderr",
     "output_type": "stream",
     "text": [
      "E:\\wei\\logiciel\\envs\\alpheeenv\\lib\\site-packages\\sklearn\\ensemble\\_gb.py:1342: FutureWarning: The parameter 'presort' is deprecated and has no effect. It will be removed in v0.24. You can suppress this warning by not passing any value to the 'presort' parameter. We also recommend using HistGradientBoosting models instead.\n",
      "  FutureWarning)\n"
     ]
    },
    {
     "name": "stdout",
     "output_type": "stream",
     "text": [
      "[445] random_holdout_set_from_training_data's score is: -0.743\n"
     ]
    },
    {
     "name": "stderr",
     "output_type": "stream",
     "text": [
      "E:\\wei\\logiciel\\envs\\alpheeenv\\lib\\site-packages\\sklearn\\ensemble\\_gb.py:1342: FutureWarning: The parameter 'presort' is deprecated and has no effect. It will be removed in v0.24. You can suppress this warning by not passing any value to the 'presort' parameter. We also recommend using HistGradientBoosting models instead.\n",
      "  FutureWarning)\n"
     ]
    },
    {
     "name": "stdout",
     "output_type": "stream",
     "text": [
      "[450] random_holdout_set_from_training_data's score is: -0.741\n"
     ]
    },
    {
     "name": "stderr",
     "output_type": "stream",
     "text": [
      "E:\\wei\\logiciel\\envs\\alpheeenv\\lib\\site-packages\\sklearn\\ensemble\\_gb.py:1342: FutureWarning: The parameter 'presort' is deprecated and has no effect. It will be removed in v0.24. You can suppress this warning by not passing any value to the 'presort' parameter. We also recommend using HistGradientBoosting models instead.\n",
      "  FutureWarning)\n"
     ]
    },
    {
     "name": "stdout",
     "output_type": "stream",
     "text": [
      "[455] random_holdout_set_from_training_data's score is: -0.741\n"
     ]
    },
    {
     "name": "stderr",
     "output_type": "stream",
     "text": [
      "E:\\wei\\logiciel\\envs\\alpheeenv\\lib\\site-packages\\sklearn\\ensemble\\_gb.py:1342: FutureWarning: The parameter 'presort' is deprecated and has no effect. It will be removed in v0.24. You can suppress this warning by not passing any value to the 'presort' parameter. We also recommend using HistGradientBoosting models instead.\n",
      "  FutureWarning)\n"
     ]
    },
    {
     "name": "stdout",
     "output_type": "stream",
     "text": [
      "[460] random_holdout_set_from_training_data's score is: -0.74\n"
     ]
    },
    {
     "name": "stderr",
     "output_type": "stream",
     "text": [
      "E:\\wei\\logiciel\\envs\\alpheeenv\\lib\\site-packages\\sklearn\\ensemble\\_gb.py:1342: FutureWarning: The parameter 'presort' is deprecated and has no effect. It will be removed in v0.24. You can suppress this warning by not passing any value to the 'presort' parameter. We also recommend using HistGradientBoosting models instead.\n",
      "  FutureWarning)\n"
     ]
    },
    {
     "name": "stdout",
     "output_type": "stream",
     "text": [
      "[465] random_holdout_set_from_training_data's score is: -0.74\n"
     ]
    },
    {
     "name": "stderr",
     "output_type": "stream",
     "text": [
      "E:\\wei\\logiciel\\envs\\alpheeenv\\lib\\site-packages\\sklearn\\ensemble\\_gb.py:1342: FutureWarning: The parameter 'presort' is deprecated and has no effect. It will be removed in v0.24. You can suppress this warning by not passing any value to the 'presort' parameter. We also recommend using HistGradientBoosting models instead.\n",
      "  FutureWarning)\n"
     ]
    },
    {
     "name": "stdout",
     "output_type": "stream",
     "text": [
      "[470] random_holdout_set_from_training_data's score is: -0.739\n"
     ]
    },
    {
     "name": "stderr",
     "output_type": "stream",
     "text": [
      "E:\\wei\\logiciel\\envs\\alpheeenv\\lib\\site-packages\\sklearn\\ensemble\\_gb.py:1342: FutureWarning: The parameter 'presort' is deprecated and has no effect. It will be removed in v0.24. You can suppress this warning by not passing any value to the 'presort' parameter. We also recommend using HistGradientBoosting models instead.\n",
      "  FutureWarning)\n"
     ]
    },
    {
     "name": "stdout",
     "output_type": "stream",
     "text": [
      "[475] random_holdout_set_from_training_data's score is: -0.739\n"
     ]
    },
    {
     "name": "stderr",
     "output_type": "stream",
     "text": [
      "E:\\wei\\logiciel\\envs\\alpheeenv\\lib\\site-packages\\sklearn\\ensemble\\_gb.py:1342: FutureWarning: The parameter 'presort' is deprecated and has no effect. It will be removed in v0.24. You can suppress this warning by not passing any value to the 'presort' parameter. We also recommend using HistGradientBoosting models instead.\n",
      "  FutureWarning)\n"
     ]
    },
    {
     "name": "stdout",
     "output_type": "stream",
     "text": [
      "[480] random_holdout_set_from_training_data's score is: -0.738\n"
     ]
    },
    {
     "name": "stderr",
     "output_type": "stream",
     "text": [
      "E:\\wei\\logiciel\\envs\\alpheeenv\\lib\\site-packages\\sklearn\\ensemble\\_gb.py:1342: FutureWarning: The parameter 'presort' is deprecated and has no effect. It will be removed in v0.24. You can suppress this warning by not passing any value to the 'presort' parameter. We also recommend using HistGradientBoosting models instead.\n",
      "  FutureWarning)\n"
     ]
    },
    {
     "name": "stdout",
     "output_type": "stream",
     "text": [
      "[485] random_holdout_set_from_training_data's score is: -0.738\n"
     ]
    },
    {
     "name": "stderr",
     "output_type": "stream",
     "text": [
      "E:\\wei\\logiciel\\envs\\alpheeenv\\lib\\site-packages\\sklearn\\ensemble\\_gb.py:1342: FutureWarning: The parameter 'presort' is deprecated and has no effect. It will be removed in v0.24. You can suppress this warning by not passing any value to the 'presort' parameter. We also recommend using HistGradientBoosting models instead.\n",
      "  FutureWarning)\n"
     ]
    },
    {
     "name": "stdout",
     "output_type": "stream",
     "text": [
      "[490] random_holdout_set_from_training_data's score is: -0.737\n"
     ]
    },
    {
     "name": "stderr",
     "output_type": "stream",
     "text": [
      "E:\\wei\\logiciel\\envs\\alpheeenv\\lib\\site-packages\\sklearn\\ensemble\\_gb.py:1342: FutureWarning: The parameter 'presort' is deprecated and has no effect. It will be removed in v0.24. You can suppress this warning by not passing any value to the 'presort' parameter. We also recommend using HistGradientBoosting models instead.\n",
      "  FutureWarning)\n"
     ]
    },
    {
     "name": "stdout",
     "output_type": "stream",
     "text": [
      "[495] random_holdout_set_from_training_data's score is: -0.737\n"
     ]
    },
    {
     "name": "stderr",
     "output_type": "stream",
     "text": [
      "E:\\wei\\logiciel\\envs\\alpheeenv\\lib\\site-packages\\sklearn\\ensemble\\_gb.py:1342: FutureWarning: The parameter 'presort' is deprecated and has no effect. It will be removed in v0.24. You can suppress this warning by not passing any value to the 'presort' parameter. We also recommend using HistGradientBoosting models instead.\n",
      "  FutureWarning)\n"
     ]
    },
    {
     "name": "stdout",
     "output_type": "stream",
     "text": [
      "[500] random_holdout_set_from_training_data's score is: -0.737\n"
     ]
    },
    {
     "name": "stderr",
     "output_type": "stream",
     "text": [
      "E:\\wei\\logiciel\\envs\\alpheeenv\\lib\\site-packages\\sklearn\\ensemble\\_gb.py:1342: FutureWarning: The parameter 'presort' is deprecated and has no effect. It will be removed in v0.24. You can suppress this warning by not passing any value to the 'presort' parameter. We also recommend using HistGradientBoosting models instead.\n",
      "  FutureWarning)\n"
     ]
    },
    {
     "name": "stdout",
     "output_type": "stream",
     "text": [
      "[510] random_holdout_set_from_training_data's score is: -0.736\n"
     ]
    },
    {
     "name": "stderr",
     "output_type": "stream",
     "text": [
      "E:\\wei\\logiciel\\envs\\alpheeenv\\lib\\site-packages\\sklearn\\ensemble\\_gb.py:1342: FutureWarning: The parameter 'presort' is deprecated and has no effect. It will be removed in v0.24. You can suppress this warning by not passing any value to the 'presort' parameter. We also recommend using HistGradientBoosting models instead.\n",
      "  FutureWarning)\n"
     ]
    },
    {
     "name": "stdout",
     "output_type": "stream",
     "text": [
      "[520] random_holdout_set_from_training_data's score is: -0.735\n"
     ]
    },
    {
     "name": "stderr",
     "output_type": "stream",
     "text": [
      "E:\\wei\\logiciel\\envs\\alpheeenv\\lib\\site-packages\\sklearn\\ensemble\\_gb.py:1342: FutureWarning: The parameter 'presort' is deprecated and has no effect. It will be removed in v0.24. You can suppress this warning by not passing any value to the 'presort' parameter. We also recommend using HistGradientBoosting models instead.\n",
      "  FutureWarning)\n"
     ]
    },
    {
     "name": "stdout",
     "output_type": "stream",
     "text": [
      "[530] random_holdout_set_from_training_data's score is: -0.734\n"
     ]
    },
    {
     "name": "stderr",
     "output_type": "stream",
     "text": [
      "E:\\wei\\logiciel\\envs\\alpheeenv\\lib\\site-packages\\sklearn\\ensemble\\_gb.py:1342: FutureWarning: The parameter 'presort' is deprecated and has no effect. It will be removed in v0.24. You can suppress this warning by not passing any value to the 'presort' parameter. We also recommend using HistGradientBoosting models instead.\n",
      "  FutureWarning)\n"
     ]
    },
    {
     "name": "stdout",
     "output_type": "stream",
     "text": [
      "[540] random_holdout_set_from_training_data's score is: -0.732\n"
     ]
    },
    {
     "name": "stderr",
     "output_type": "stream",
     "text": [
      "E:\\wei\\logiciel\\envs\\alpheeenv\\lib\\site-packages\\sklearn\\ensemble\\_gb.py:1342: FutureWarning: The parameter 'presort' is deprecated and has no effect. It will be removed in v0.24. You can suppress this warning by not passing any value to the 'presort' parameter. We also recommend using HistGradientBoosting models instead.\n",
      "  FutureWarning)\n"
     ]
    },
    {
     "name": "stdout",
     "output_type": "stream",
     "text": [
      "[550] random_holdout_set_from_training_data's score is: -0.732\n"
     ]
    },
    {
     "name": "stderr",
     "output_type": "stream",
     "text": [
      "E:\\wei\\logiciel\\envs\\alpheeenv\\lib\\site-packages\\sklearn\\ensemble\\_gb.py:1342: FutureWarning: The parameter 'presort' is deprecated and has no effect. It will be removed in v0.24. You can suppress this warning by not passing any value to the 'presort' parameter. We also recommend using HistGradientBoosting models instead.\n",
      "  FutureWarning)\n"
     ]
    },
    {
     "name": "stdout",
     "output_type": "stream",
     "text": [
      "[560] random_holdout_set_from_training_data's score is: -0.731\n"
     ]
    },
    {
     "name": "stderr",
     "output_type": "stream",
     "text": [
      "E:\\wei\\logiciel\\envs\\alpheeenv\\lib\\site-packages\\sklearn\\ensemble\\_gb.py:1342: FutureWarning: The parameter 'presort' is deprecated and has no effect. It will be removed in v0.24. You can suppress this warning by not passing any value to the 'presort' parameter. We also recommend using HistGradientBoosting models instead.\n",
      "  FutureWarning)\n"
     ]
    },
    {
     "name": "stdout",
     "output_type": "stream",
     "text": [
      "[570] random_holdout_set_from_training_data's score is: -0.729\n"
     ]
    },
    {
     "name": "stderr",
     "output_type": "stream",
     "text": [
      "E:\\wei\\logiciel\\envs\\alpheeenv\\lib\\site-packages\\sklearn\\ensemble\\_gb.py:1342: FutureWarning: The parameter 'presort' is deprecated and has no effect. It will be removed in v0.24. You can suppress this warning by not passing any value to the 'presort' parameter. We also recommend using HistGradientBoosting models instead.\n",
      "  FutureWarning)\n"
     ]
    },
    {
     "name": "stdout",
     "output_type": "stream",
     "text": [
      "[580] random_holdout_set_from_training_data's score is: -0.729\n"
     ]
    },
    {
     "name": "stderr",
     "output_type": "stream",
     "text": [
      "E:\\wei\\logiciel\\envs\\alpheeenv\\lib\\site-packages\\sklearn\\ensemble\\_gb.py:1342: FutureWarning: The parameter 'presort' is deprecated and has no effect. It will be removed in v0.24. You can suppress this warning by not passing any value to the 'presort' parameter. We also recommend using HistGradientBoosting models instead.\n",
      "  FutureWarning)\n"
     ]
    },
    {
     "name": "stdout",
     "output_type": "stream",
     "text": [
      "[590] random_holdout_set_from_training_data's score is: -0.728\n"
     ]
    },
    {
     "name": "stderr",
     "output_type": "stream",
     "text": [
      "E:\\wei\\logiciel\\envs\\alpheeenv\\lib\\site-packages\\sklearn\\ensemble\\_gb.py:1342: FutureWarning: The parameter 'presort' is deprecated and has no effect. It will be removed in v0.24. You can suppress this warning by not passing any value to the 'presort' parameter. We also recommend using HistGradientBoosting models instead.\n",
      "  FutureWarning)\n"
     ]
    },
    {
     "name": "stdout",
     "output_type": "stream",
     "text": [
      "[600] random_holdout_set_from_training_data's score is: -0.728\n"
     ]
    },
    {
     "name": "stderr",
     "output_type": "stream",
     "text": [
      "E:\\wei\\logiciel\\envs\\alpheeenv\\lib\\site-packages\\sklearn\\ensemble\\_gb.py:1342: FutureWarning: The parameter 'presort' is deprecated and has no effect. It will be removed in v0.24. You can suppress this warning by not passing any value to the 'presort' parameter. We also recommend using HistGradientBoosting models instead.\n",
      "  FutureWarning)\n"
     ]
    },
    {
     "name": "stdout",
     "output_type": "stream",
     "text": [
      "[610] random_holdout_set_from_training_data's score is: -0.727\n"
     ]
    },
    {
     "name": "stderr",
     "output_type": "stream",
     "text": [
      "E:\\wei\\logiciel\\envs\\alpheeenv\\lib\\site-packages\\sklearn\\ensemble\\_gb.py:1342: FutureWarning: The parameter 'presort' is deprecated and has no effect. It will be removed in v0.24. You can suppress this warning by not passing any value to the 'presort' parameter. We also recommend using HistGradientBoosting models instead.\n",
      "  FutureWarning)\n"
     ]
    },
    {
     "name": "stdout",
     "output_type": "stream",
     "text": [
      "[620] random_holdout_set_from_training_data's score is: -0.727\n"
     ]
    },
    {
     "name": "stderr",
     "output_type": "stream",
     "text": [
      "E:\\wei\\logiciel\\envs\\alpheeenv\\lib\\site-packages\\sklearn\\ensemble\\_gb.py:1342: FutureWarning: The parameter 'presort' is deprecated and has no effect. It will be removed in v0.24. You can suppress this warning by not passing any value to the 'presort' parameter. We also recommend using HistGradientBoosting models instead.\n",
      "  FutureWarning)\n"
     ]
    },
    {
     "name": "stdout",
     "output_type": "stream",
     "text": [
      "[630] random_holdout_set_from_training_data's score is: -0.726\n"
     ]
    },
    {
     "name": "stderr",
     "output_type": "stream",
     "text": [
      "E:\\wei\\logiciel\\envs\\alpheeenv\\lib\\site-packages\\sklearn\\ensemble\\_gb.py:1342: FutureWarning: The parameter 'presort' is deprecated and has no effect. It will be removed in v0.24. You can suppress this warning by not passing any value to the 'presort' parameter. We also recommend using HistGradientBoosting models instead.\n",
      "  FutureWarning)\n"
     ]
    },
    {
     "name": "stdout",
     "output_type": "stream",
     "text": [
      "[640] random_holdout_set_from_training_data's score is: -0.726\n"
     ]
    },
    {
     "name": "stderr",
     "output_type": "stream",
     "text": [
      "E:\\wei\\logiciel\\envs\\alpheeenv\\lib\\site-packages\\sklearn\\ensemble\\_gb.py:1342: FutureWarning: The parameter 'presort' is deprecated and has no effect. It will be removed in v0.24. You can suppress this warning by not passing any value to the 'presort' parameter. We also recommend using HistGradientBoosting models instead.\n",
      "  FutureWarning)\n"
     ]
    },
    {
     "name": "stdout",
     "output_type": "stream",
     "text": [
      "[650] random_holdout_set_from_training_data's score is: -0.726\n"
     ]
    },
    {
     "name": "stderr",
     "output_type": "stream",
     "text": [
      "E:\\wei\\logiciel\\envs\\alpheeenv\\lib\\site-packages\\sklearn\\ensemble\\_gb.py:1342: FutureWarning: The parameter 'presort' is deprecated and has no effect. It will be removed in v0.24. You can suppress this warning by not passing any value to the 'presort' parameter. We also recommend using HistGradientBoosting models instead.\n",
      "  FutureWarning)\n"
     ]
    },
    {
     "name": "stdout",
     "output_type": "stream",
     "text": [
      "[660] random_holdout_set_from_training_data's score is: -0.725\n"
     ]
    },
    {
     "name": "stderr",
     "output_type": "stream",
     "text": [
      "E:\\wei\\logiciel\\envs\\alpheeenv\\lib\\site-packages\\sklearn\\ensemble\\_gb.py:1342: FutureWarning: The parameter 'presort' is deprecated and has no effect. It will be removed in v0.24. You can suppress this warning by not passing any value to the 'presort' parameter. We also recommend using HistGradientBoosting models instead.\n",
      "  FutureWarning)\n"
     ]
    },
    {
     "name": "stdout",
     "output_type": "stream",
     "text": [
      "[670] random_holdout_set_from_training_data's score is: -0.725\n"
     ]
    },
    {
     "name": "stderr",
     "output_type": "stream",
     "text": [
      "E:\\wei\\logiciel\\envs\\alpheeenv\\lib\\site-packages\\sklearn\\ensemble\\_gb.py:1342: FutureWarning: The parameter 'presort' is deprecated and has no effect. It will be removed in v0.24. You can suppress this warning by not passing any value to the 'presort' parameter. We also recommend using HistGradientBoosting models instead.\n",
      "  FutureWarning)\n"
     ]
    },
    {
     "name": "stdout",
     "output_type": "stream",
     "text": [
      "[680] random_holdout_set_from_training_data's score is: -0.725\n"
     ]
    },
    {
     "name": "stderr",
     "output_type": "stream",
     "text": [
      "E:\\wei\\logiciel\\envs\\alpheeenv\\lib\\site-packages\\sklearn\\ensemble\\_gb.py:1342: FutureWarning: The parameter 'presort' is deprecated and has no effect. It will be removed in v0.24. You can suppress this warning by not passing any value to the 'presort' parameter. We also recommend using HistGradientBoosting models instead.\n",
      "  FutureWarning)\n"
     ]
    },
    {
     "name": "stdout",
     "output_type": "stream",
     "text": [
      "[690] random_holdout_set_from_training_data's score is: -0.725\n"
     ]
    },
    {
     "name": "stderr",
     "output_type": "stream",
     "text": [
      "E:\\wei\\logiciel\\envs\\alpheeenv\\lib\\site-packages\\sklearn\\ensemble\\_gb.py:1342: FutureWarning: The parameter 'presort' is deprecated and has no effect. It will be removed in v0.24. You can suppress this warning by not passing any value to the 'presort' parameter. We also recommend using HistGradientBoosting models instead.\n",
      "  FutureWarning)\n"
     ]
    },
    {
     "name": "stdout",
     "output_type": "stream",
     "text": [
      "[700] random_holdout_set_from_training_data's score is: -0.725\n"
     ]
    },
    {
     "name": "stderr",
     "output_type": "stream",
     "text": [
      "E:\\wei\\logiciel\\envs\\alpheeenv\\lib\\site-packages\\sklearn\\ensemble\\_gb.py:1342: FutureWarning: The parameter 'presort' is deprecated and has no effect. It will be removed in v0.24. You can suppress this warning by not passing any value to the 'presort' parameter. We also recommend using HistGradientBoosting models instead.\n",
      "  FutureWarning)\n"
     ]
    },
    {
     "name": "stdout",
     "output_type": "stream",
     "text": [
      "[710] random_holdout_set_from_training_data's score is: -0.726\n"
     ]
    },
    {
     "name": "stderr",
     "output_type": "stream",
     "text": [
      "E:\\wei\\logiciel\\envs\\alpheeenv\\lib\\site-packages\\sklearn\\ensemble\\_gb.py:1342: FutureWarning: The parameter 'presort' is deprecated and has no effect. It will be removed in v0.24. You can suppress this warning by not passing any value to the 'presort' parameter. We also recommend using HistGradientBoosting models instead.\n",
      "  FutureWarning)\n"
     ]
    },
    {
     "name": "stdout",
     "output_type": "stream",
     "text": [
      "[720] random_holdout_set_from_training_data's score is: -0.725\n"
     ]
    },
    {
     "name": "stderr",
     "output_type": "stream",
     "text": [
      "E:\\wei\\logiciel\\envs\\alpheeenv\\lib\\site-packages\\sklearn\\ensemble\\_gb.py:1342: FutureWarning: The parameter 'presort' is deprecated and has no effect. It will be removed in v0.24. You can suppress this warning by not passing any value to the 'presort' parameter. We also recommend using HistGradientBoosting models instead.\n",
      "  FutureWarning)\n"
     ]
    },
    {
     "name": "stdout",
     "output_type": "stream",
     "text": [
      "[730] random_holdout_set_from_training_data's score is: -0.723\n"
     ]
    },
    {
     "name": "stderr",
     "output_type": "stream",
     "text": [
      "E:\\wei\\logiciel\\envs\\alpheeenv\\lib\\site-packages\\sklearn\\ensemble\\_gb.py:1342: FutureWarning: The parameter 'presort' is deprecated and has no effect. It will be removed in v0.24. You can suppress this warning by not passing any value to the 'presort' parameter. We also recommend using HistGradientBoosting models instead.\n",
      "  FutureWarning)\n"
     ]
    },
    {
     "name": "stdout",
     "output_type": "stream",
     "text": [
      "[740] random_holdout_set_from_training_data's score is: -0.722\n"
     ]
    },
    {
     "name": "stderr",
     "output_type": "stream",
     "text": [
      "E:\\wei\\logiciel\\envs\\alpheeenv\\lib\\site-packages\\sklearn\\ensemble\\_gb.py:1342: FutureWarning: The parameter 'presort' is deprecated and has no effect. It will be removed in v0.24. You can suppress this warning by not passing any value to the 'presort' parameter. We also recommend using HistGradientBoosting models instead.\n",
      "  FutureWarning)\n"
     ]
    },
    {
     "name": "stdout",
     "output_type": "stream",
     "text": [
      "[750] random_holdout_set_from_training_data's score is: -0.721\n"
     ]
    },
    {
     "name": "stderr",
     "output_type": "stream",
     "text": [
      "E:\\wei\\logiciel\\envs\\alpheeenv\\lib\\site-packages\\sklearn\\ensemble\\_gb.py:1342: FutureWarning: The parameter 'presort' is deprecated and has no effect. It will be removed in v0.24. You can suppress this warning by not passing any value to the 'presort' parameter. We also recommend using HistGradientBoosting models instead.\n",
      "  FutureWarning)\n"
     ]
    },
    {
     "name": "stdout",
     "output_type": "stream",
     "text": [
      "[760] random_holdout_set_from_training_data's score is: -0.721\n"
     ]
    },
    {
     "name": "stderr",
     "output_type": "stream",
     "text": [
      "E:\\wei\\logiciel\\envs\\alpheeenv\\lib\\site-packages\\sklearn\\ensemble\\_gb.py:1342: FutureWarning: The parameter 'presort' is deprecated and has no effect. It will be removed in v0.24. You can suppress this warning by not passing any value to the 'presort' parameter. We also recommend using HistGradientBoosting models instead.\n",
      "  FutureWarning)\n"
     ]
    },
    {
     "name": "stdout",
     "output_type": "stream",
     "text": [
      "[770] random_holdout_set_from_training_data's score is: -0.721\n"
     ]
    },
    {
     "name": "stderr",
     "output_type": "stream",
     "text": [
      "E:\\wei\\logiciel\\envs\\alpheeenv\\lib\\site-packages\\sklearn\\ensemble\\_gb.py:1342: FutureWarning: The parameter 'presort' is deprecated and has no effect. It will be removed in v0.24. You can suppress this warning by not passing any value to the 'presort' parameter. We also recommend using HistGradientBoosting models instead.\n",
      "  FutureWarning)\n"
     ]
    },
    {
     "name": "stdout",
     "output_type": "stream",
     "text": [
      "[780] random_holdout_set_from_training_data's score is: -0.72\n"
     ]
    },
    {
     "name": "stderr",
     "output_type": "stream",
     "text": [
      "E:\\wei\\logiciel\\envs\\alpheeenv\\lib\\site-packages\\sklearn\\ensemble\\_gb.py:1342: FutureWarning: The parameter 'presort' is deprecated and has no effect. It will be removed in v0.24. You can suppress this warning by not passing any value to the 'presort' parameter. We also recommend using HistGradientBoosting models instead.\n",
      "  FutureWarning)\n"
     ]
    },
    {
     "name": "stdout",
     "output_type": "stream",
     "text": [
      "[790] random_holdout_set_from_training_data's score is: -0.72\n"
     ]
    },
    {
     "name": "stderr",
     "output_type": "stream",
     "text": [
      "E:\\wei\\logiciel\\envs\\alpheeenv\\lib\\site-packages\\sklearn\\ensemble\\_gb.py:1342: FutureWarning: The parameter 'presort' is deprecated and has no effect. It will be removed in v0.24. You can suppress this warning by not passing any value to the 'presort' parameter. We also recommend using HistGradientBoosting models instead.\n",
      "  FutureWarning)\n"
     ]
    },
    {
     "name": "stdout",
     "output_type": "stream",
     "text": [
      "[800] random_holdout_set_from_training_data's score is: -0.719\n"
     ]
    },
    {
     "name": "stderr",
     "output_type": "stream",
     "text": [
      "E:\\wei\\logiciel\\envs\\alpheeenv\\lib\\site-packages\\sklearn\\ensemble\\_gb.py:1342: FutureWarning: The parameter 'presort' is deprecated and has no effect. It will be removed in v0.24. You can suppress this warning by not passing any value to the 'presort' parameter. We also recommend using HistGradientBoosting models instead.\n",
      "  FutureWarning)\n"
     ]
    },
    {
     "name": "stdout",
     "output_type": "stream",
     "text": [
      "[810] random_holdout_set_from_training_data's score is: -0.719\n"
     ]
    },
    {
     "name": "stderr",
     "output_type": "stream",
     "text": [
      "E:\\wei\\logiciel\\envs\\alpheeenv\\lib\\site-packages\\sklearn\\ensemble\\_gb.py:1342: FutureWarning: The parameter 'presort' is deprecated and has no effect. It will be removed in v0.24. You can suppress this warning by not passing any value to the 'presort' parameter. We also recommend using HistGradientBoosting models instead.\n",
      "  FutureWarning)\n"
     ]
    },
    {
     "name": "stdout",
     "output_type": "stream",
     "text": [
      "[820] random_holdout_set_from_training_data's score is: -0.719\n"
     ]
    },
    {
     "name": "stderr",
     "output_type": "stream",
     "text": [
      "E:\\wei\\logiciel\\envs\\alpheeenv\\lib\\site-packages\\sklearn\\ensemble\\_gb.py:1342: FutureWarning: The parameter 'presort' is deprecated and has no effect. It will be removed in v0.24. You can suppress this warning by not passing any value to the 'presort' parameter. We also recommend using HistGradientBoosting models instead.\n",
      "  FutureWarning)\n"
     ]
    },
    {
     "name": "stdout",
     "output_type": "stream",
     "text": [
      "[830] random_holdout_set_from_training_data's score is: -0.719\n"
     ]
    },
    {
     "name": "stderr",
     "output_type": "stream",
     "text": [
      "E:\\wei\\logiciel\\envs\\alpheeenv\\lib\\site-packages\\sklearn\\ensemble\\_gb.py:1342: FutureWarning: The parameter 'presort' is deprecated and has no effect. It will be removed in v0.24. You can suppress this warning by not passing any value to the 'presort' parameter. We also recommend using HistGradientBoosting models instead.\n",
      "  FutureWarning)\n"
     ]
    },
    {
     "name": "stdout",
     "output_type": "stream",
     "text": [
      "[840] random_holdout_set_from_training_data's score is: -0.719\n"
     ]
    },
    {
     "name": "stderr",
     "output_type": "stream",
     "text": [
      "E:\\wei\\logiciel\\envs\\alpheeenv\\lib\\site-packages\\sklearn\\ensemble\\_gb.py:1342: FutureWarning: The parameter 'presort' is deprecated and has no effect. It will be removed in v0.24. You can suppress this warning by not passing any value to the 'presort' parameter. We also recommend using HistGradientBoosting models instead.\n",
      "  FutureWarning)\n"
     ]
    },
    {
     "name": "stdout",
     "output_type": "stream",
     "text": [
      "[850] random_holdout_set_from_training_data's score is: -0.719\n"
     ]
    },
    {
     "name": "stderr",
     "output_type": "stream",
     "text": [
      "E:\\wei\\logiciel\\envs\\alpheeenv\\lib\\site-packages\\sklearn\\ensemble\\_gb.py:1342: FutureWarning: The parameter 'presort' is deprecated and has no effect. It will be removed in v0.24. You can suppress this warning by not passing any value to the 'presort' parameter. We also recommend using HistGradientBoosting models instead.\n",
      "  FutureWarning)\n"
     ]
    },
    {
     "name": "stdout",
     "output_type": "stream",
     "text": [
      "[860] random_holdout_set_from_training_data's score is: -0.718\n"
     ]
    },
    {
     "name": "stderr",
     "output_type": "stream",
     "text": [
      "E:\\wei\\logiciel\\envs\\alpheeenv\\lib\\site-packages\\sklearn\\ensemble\\_gb.py:1342: FutureWarning: The parameter 'presort' is deprecated and has no effect. It will be removed in v0.24. You can suppress this warning by not passing any value to the 'presort' parameter. We also recommend using HistGradientBoosting models instead.\n",
      "  FutureWarning)\n"
     ]
    },
    {
     "name": "stdout",
     "output_type": "stream",
     "text": [
      "[870] random_holdout_set_from_training_data's score is: -0.719\n"
     ]
    },
    {
     "name": "stderr",
     "output_type": "stream",
     "text": [
      "E:\\wei\\logiciel\\envs\\alpheeenv\\lib\\site-packages\\sklearn\\ensemble\\_gb.py:1342: FutureWarning: The parameter 'presort' is deprecated and has no effect. It will be removed in v0.24. You can suppress this warning by not passing any value to the 'presort' parameter. We also recommend using HistGradientBoosting models instead.\n",
      "  FutureWarning)\n"
     ]
    },
    {
     "name": "stdout",
     "output_type": "stream",
     "text": [
      "[880] random_holdout_set_from_training_data's score is: -0.718\n"
     ]
    },
    {
     "name": "stderr",
     "output_type": "stream",
     "text": [
      "E:\\wei\\logiciel\\envs\\alpheeenv\\lib\\site-packages\\sklearn\\ensemble\\_gb.py:1342: FutureWarning: The parameter 'presort' is deprecated and has no effect. It will be removed in v0.24. You can suppress this warning by not passing any value to the 'presort' parameter. We also recommend using HistGradientBoosting models instead.\n",
      "  FutureWarning)\n"
     ]
    },
    {
     "name": "stdout",
     "output_type": "stream",
     "text": [
      "[890] random_holdout_set_from_training_data's score is: -0.719\n"
     ]
    },
    {
     "name": "stderr",
     "output_type": "stream",
     "text": [
      "E:\\wei\\logiciel\\envs\\alpheeenv\\lib\\site-packages\\sklearn\\ensemble\\_gb.py:1342: FutureWarning: The parameter 'presort' is deprecated and has no effect. It will be removed in v0.24. You can suppress this warning by not passing any value to the 'presort' parameter. We also recommend using HistGradientBoosting models instead.\n",
      "  FutureWarning)\n"
     ]
    },
    {
     "name": "stdout",
     "output_type": "stream",
     "text": [
      "[900] random_holdout_set_from_training_data's score is: -0.719\n"
     ]
    },
    {
     "name": "stderr",
     "output_type": "stream",
     "text": [
      "E:\\wei\\logiciel\\envs\\alpheeenv\\lib\\site-packages\\sklearn\\ensemble\\_gb.py:1342: FutureWarning: The parameter 'presort' is deprecated and has no effect. It will be removed in v0.24. You can suppress this warning by not passing any value to the 'presort' parameter. We also recommend using HistGradientBoosting models instead.\n",
      "  FutureWarning)\n"
     ]
    },
    {
     "name": "stdout",
     "output_type": "stream",
     "text": [
      "[910] random_holdout_set_from_training_data's score is: -0.719\n"
     ]
    },
    {
     "name": "stderr",
     "output_type": "stream",
     "text": [
      "E:\\wei\\logiciel\\envs\\alpheeenv\\lib\\site-packages\\sklearn\\ensemble\\_gb.py:1342: FutureWarning: The parameter 'presort' is deprecated and has no effect. It will be removed in v0.24. You can suppress this warning by not passing any value to the 'presort' parameter. We also recommend using HistGradientBoosting models instead.\n",
      "  FutureWarning)\n"
     ]
    },
    {
     "name": "stdout",
     "output_type": "stream",
     "text": [
      "[920] random_holdout_set_from_training_data's score is: -0.718\n"
     ]
    },
    {
     "name": "stderr",
     "output_type": "stream",
     "text": [
      "E:\\wei\\logiciel\\envs\\alpheeenv\\lib\\site-packages\\sklearn\\ensemble\\_gb.py:1342: FutureWarning: The parameter 'presort' is deprecated and has no effect. It will be removed in v0.24. You can suppress this warning by not passing any value to the 'presort' parameter. We also recommend using HistGradientBoosting models instead.\n",
      "  FutureWarning)\n"
     ]
    },
    {
     "name": "stdout",
     "output_type": "stream",
     "text": [
      "[930] random_holdout_set_from_training_data's score is: -0.719\n"
     ]
    },
    {
     "name": "stderr",
     "output_type": "stream",
     "text": [
      "E:\\wei\\logiciel\\envs\\alpheeenv\\lib\\site-packages\\sklearn\\ensemble\\_gb.py:1342: FutureWarning: The parameter 'presort' is deprecated and has no effect. It will be removed in v0.24. You can suppress this warning by not passing any value to the 'presort' parameter. We also recommend using HistGradientBoosting models instead.\n",
      "  FutureWarning)\n"
     ]
    },
    {
     "name": "stdout",
     "output_type": "stream",
     "text": [
      "[940] random_holdout_set_from_training_data's score is: -0.719\n"
     ]
    },
    {
     "name": "stderr",
     "output_type": "stream",
     "text": [
      "E:\\wei\\logiciel\\envs\\alpheeenv\\lib\\site-packages\\sklearn\\ensemble\\_gb.py:1342: FutureWarning: The parameter 'presort' is deprecated and has no effect. It will be removed in v0.24. You can suppress this warning by not passing any value to the 'presort' parameter. We also recommend using HistGradientBoosting models instead.\n",
      "  FutureWarning)\n"
     ]
    },
    {
     "name": "stdout",
     "output_type": "stream",
     "text": [
      "[950] random_holdout_set_from_training_data's score is: -0.719\n"
     ]
    },
    {
     "name": "stderr",
     "output_type": "stream",
     "text": [
      "E:\\wei\\logiciel\\envs\\alpheeenv\\lib\\site-packages\\sklearn\\ensemble\\_gb.py:1342: FutureWarning: The parameter 'presort' is deprecated and has no effect. It will be removed in v0.24. You can suppress this warning by not passing any value to the 'presort' parameter. We also recommend using HistGradientBoosting models instead.\n",
      "  FutureWarning)\n"
     ]
    },
    {
     "name": "stdout",
     "output_type": "stream",
     "text": [
      "[960] random_holdout_set_from_training_data's score is: -0.719\n"
     ]
    },
    {
     "name": "stderr",
     "output_type": "stream",
     "text": [
      "E:\\wei\\logiciel\\envs\\alpheeenv\\lib\\site-packages\\sklearn\\ensemble\\_gb.py:1342: FutureWarning: The parameter 'presort' is deprecated and has no effect. It will be removed in v0.24. You can suppress this warning by not passing any value to the 'presort' parameter. We also recommend using HistGradientBoosting models instead.\n",
      "  FutureWarning)\n"
     ]
    },
    {
     "name": "stdout",
     "output_type": "stream",
     "text": [
      "[970] random_holdout_set_from_training_data's score is: -0.719\n"
     ]
    },
    {
     "name": "stderr",
     "output_type": "stream",
     "text": [
      "E:\\wei\\logiciel\\envs\\alpheeenv\\lib\\site-packages\\sklearn\\ensemble\\_gb.py:1342: FutureWarning: The parameter 'presort' is deprecated and has no effect. It will be removed in v0.24. You can suppress this warning by not passing any value to the 'presort' parameter. We also recommend using HistGradientBoosting models instead.\n",
      "  FutureWarning)\n"
     ]
    },
    {
     "name": "stdout",
     "output_type": "stream",
     "text": [
      "[980] random_holdout_set_from_training_data's score is: -0.719\n"
     ]
    },
    {
     "name": "stderr",
     "output_type": "stream",
     "text": [
      "E:\\wei\\logiciel\\envs\\alpheeenv\\lib\\site-packages\\sklearn\\ensemble\\_gb.py:1342: FutureWarning: The parameter 'presort' is deprecated and has no effect. It will be removed in v0.24. You can suppress this warning by not passing any value to the 'presort' parameter. We also recommend using HistGradientBoosting models instead.\n",
      "  FutureWarning)\n"
     ]
    },
    {
     "name": "stdout",
     "output_type": "stream",
     "text": [
      "[990] random_holdout_set_from_training_data's score is: -0.719\n"
     ]
    },
    {
     "name": "stderr",
     "output_type": "stream",
     "text": [
      "E:\\wei\\logiciel\\envs\\alpheeenv\\lib\\site-packages\\sklearn\\ensemble\\_gb.py:1342: FutureWarning: The parameter 'presort' is deprecated and has no effect. It will be removed in v0.24. You can suppress this warning by not passing any value to the 'presort' parameter. We also recommend using HistGradientBoosting models instead.\n",
      "  FutureWarning)\n"
     ]
    },
    {
     "name": "stdout",
     "output_type": "stream",
     "text": [
      "[1000] random_holdout_set_from_training_data's score is: -0.718\n"
     ]
    },
    {
     "name": "stderr",
     "output_type": "stream",
     "text": [
      "E:\\wei\\logiciel\\envs\\alpheeenv\\lib\\site-packages\\sklearn\\ensemble\\_gb.py:1342: FutureWarning: The parameter 'presort' is deprecated and has no effect. It will be removed in v0.24. You can suppress this warning by not passing any value to the 'presort' parameter. We also recommend using HistGradientBoosting models instead.\n",
      "  FutureWarning)\n"
     ]
    },
    {
     "name": "stdout",
     "output_type": "stream",
     "text": [
      "[1020] random_holdout_set_from_training_data's score is: -0.717\n"
     ]
    },
    {
     "name": "stderr",
     "output_type": "stream",
     "text": [
      "E:\\wei\\logiciel\\envs\\alpheeenv\\lib\\site-packages\\sklearn\\ensemble\\_gb.py:1342: FutureWarning: The parameter 'presort' is deprecated and has no effect. It will be removed in v0.24. You can suppress this warning by not passing any value to the 'presort' parameter. We also recommend using HistGradientBoosting models instead.\n",
      "  FutureWarning)\n"
     ]
    },
    {
     "name": "stdout",
     "output_type": "stream",
     "text": [
      "[1040] random_holdout_set_from_training_data's score is: -0.717\n"
     ]
    },
    {
     "name": "stderr",
     "output_type": "stream",
     "text": [
      "E:\\wei\\logiciel\\envs\\alpheeenv\\lib\\site-packages\\sklearn\\ensemble\\_gb.py:1342: FutureWarning: The parameter 'presort' is deprecated and has no effect. It will be removed in v0.24. You can suppress this warning by not passing any value to the 'presort' parameter. We also recommend using HistGradientBoosting models instead.\n",
      "  FutureWarning)\n"
     ]
    },
    {
     "name": "stdout",
     "output_type": "stream",
     "text": [
      "[1060] random_holdout_set_from_training_data's score is: -0.716\n"
     ]
    },
    {
     "name": "stderr",
     "output_type": "stream",
     "text": [
      "E:\\wei\\logiciel\\envs\\alpheeenv\\lib\\site-packages\\sklearn\\ensemble\\_gb.py:1342: FutureWarning: The parameter 'presort' is deprecated and has no effect. It will be removed in v0.24. You can suppress this warning by not passing any value to the 'presort' parameter. We also recommend using HistGradientBoosting models instead.\n",
      "  FutureWarning)\n"
     ]
    },
    {
     "name": "stdout",
     "output_type": "stream",
     "text": [
      "[1080] random_holdout_set_from_training_data's score is: -0.715\n"
     ]
    },
    {
     "name": "stderr",
     "output_type": "stream",
     "text": [
      "E:\\wei\\logiciel\\envs\\alpheeenv\\lib\\site-packages\\sklearn\\ensemble\\_gb.py:1342: FutureWarning: The parameter 'presort' is deprecated and has no effect. It will be removed in v0.24. You can suppress this warning by not passing any value to the 'presort' parameter. We also recommend using HistGradientBoosting models instead.\n",
      "  FutureWarning)\n"
     ]
    },
    {
     "name": "stdout",
     "output_type": "stream",
     "text": [
      "[1100] random_holdout_set_from_training_data's score is: -0.715\n"
     ]
    },
    {
     "name": "stderr",
     "output_type": "stream",
     "text": [
      "E:\\wei\\logiciel\\envs\\alpheeenv\\lib\\site-packages\\sklearn\\ensemble\\_gb.py:1342: FutureWarning: The parameter 'presort' is deprecated and has no effect. It will be removed in v0.24. You can suppress this warning by not passing any value to the 'presort' parameter. We also recommend using HistGradientBoosting models instead.\n",
      "  FutureWarning)\n"
     ]
    },
    {
     "name": "stdout",
     "output_type": "stream",
     "text": [
      "[1120] random_holdout_set_from_training_data's score is: -0.714\n"
     ]
    },
    {
     "name": "stderr",
     "output_type": "stream",
     "text": [
      "E:\\wei\\logiciel\\envs\\alpheeenv\\lib\\site-packages\\sklearn\\ensemble\\_gb.py:1342: FutureWarning: The parameter 'presort' is deprecated and has no effect. It will be removed in v0.24. You can suppress this warning by not passing any value to the 'presort' parameter. We also recommend using HistGradientBoosting models instead.\n",
      "  FutureWarning)\n"
     ]
    },
    {
     "name": "stdout",
     "output_type": "stream",
     "text": [
      "[1140] random_holdout_set_from_training_data's score is: -0.714\n"
     ]
    },
    {
     "name": "stderr",
     "output_type": "stream",
     "text": [
      "E:\\wei\\logiciel\\envs\\alpheeenv\\lib\\site-packages\\sklearn\\ensemble\\_gb.py:1342: FutureWarning: The parameter 'presort' is deprecated and has no effect. It will be removed in v0.24. You can suppress this warning by not passing any value to the 'presort' parameter. We also recommend using HistGradientBoosting models instead.\n",
      "  FutureWarning)\n"
     ]
    },
    {
     "name": "stdout",
     "output_type": "stream",
     "text": [
      "[1160] random_holdout_set_from_training_data's score is: -0.715\n"
     ]
    },
    {
     "name": "stderr",
     "output_type": "stream",
     "text": [
      "E:\\wei\\logiciel\\envs\\alpheeenv\\lib\\site-packages\\sklearn\\ensemble\\_gb.py:1342: FutureWarning: The parameter 'presort' is deprecated and has no effect. It will be removed in v0.24. You can suppress this warning by not passing any value to the 'presort' parameter. We also recommend using HistGradientBoosting models instead.\n",
      "  FutureWarning)\n"
     ]
    },
    {
     "name": "stdout",
     "output_type": "stream",
     "text": [
      "[1180] random_holdout_set_from_training_data's score is: -0.714\n"
     ]
    },
    {
     "name": "stderr",
     "output_type": "stream",
     "text": [
      "E:\\wei\\logiciel\\envs\\alpheeenv\\lib\\site-packages\\sklearn\\ensemble\\_gb.py:1342: FutureWarning: The parameter 'presort' is deprecated and has no effect. It will be removed in v0.24. You can suppress this warning by not passing any value to the 'presort' parameter. We also recommend using HistGradientBoosting models instead.\n",
      "  FutureWarning)\n"
     ]
    },
    {
     "name": "stdout",
     "output_type": "stream",
     "text": [
      "[1200] random_holdout_set_from_training_data's score is: -0.713\n"
     ]
    },
    {
     "name": "stderr",
     "output_type": "stream",
     "text": [
      "E:\\wei\\logiciel\\envs\\alpheeenv\\lib\\site-packages\\sklearn\\ensemble\\_gb.py:1342: FutureWarning: The parameter 'presort' is deprecated and has no effect. It will be removed in v0.24. You can suppress this warning by not passing any value to the 'presort' parameter. We also recommend using HistGradientBoosting models instead.\n",
      "  FutureWarning)\n"
     ]
    },
    {
     "name": "stdout",
     "output_type": "stream",
     "text": [
      "[1220] random_holdout_set_from_training_data's score is: -0.713\n"
     ]
    },
    {
     "name": "stderr",
     "output_type": "stream",
     "text": [
      "E:\\wei\\logiciel\\envs\\alpheeenv\\lib\\site-packages\\sklearn\\ensemble\\_gb.py:1342: FutureWarning: The parameter 'presort' is deprecated and has no effect. It will be removed in v0.24. You can suppress this warning by not passing any value to the 'presort' parameter. We also recommend using HistGradientBoosting models instead.\n",
      "  FutureWarning)\n"
     ]
    },
    {
     "name": "stdout",
     "output_type": "stream",
     "text": [
      "[1240] random_holdout_set_from_training_data's score is: -0.712\n"
     ]
    },
    {
     "name": "stderr",
     "output_type": "stream",
     "text": [
      "E:\\wei\\logiciel\\envs\\alpheeenv\\lib\\site-packages\\sklearn\\ensemble\\_gb.py:1342: FutureWarning: The parameter 'presort' is deprecated and has no effect. It will be removed in v0.24. You can suppress this warning by not passing any value to the 'presort' parameter. We also recommend using HistGradientBoosting models instead.\n",
      "  FutureWarning)\n"
     ]
    },
    {
     "name": "stdout",
     "output_type": "stream",
     "text": [
      "[1260] random_holdout_set_from_training_data's score is: -0.712\n"
     ]
    },
    {
     "name": "stderr",
     "output_type": "stream",
     "text": [
      "E:\\wei\\logiciel\\envs\\alpheeenv\\lib\\site-packages\\sklearn\\ensemble\\_gb.py:1342: FutureWarning: The parameter 'presort' is deprecated and has no effect. It will be removed in v0.24. You can suppress this warning by not passing any value to the 'presort' parameter. We also recommend using HistGradientBoosting models instead.\n",
      "  FutureWarning)\n"
     ]
    },
    {
     "name": "stdout",
     "output_type": "stream",
     "text": [
      "[1280] random_holdout_set_from_training_data's score is: -0.712\n"
     ]
    },
    {
     "name": "stderr",
     "output_type": "stream",
     "text": [
      "E:\\wei\\logiciel\\envs\\alpheeenv\\lib\\site-packages\\sklearn\\ensemble\\_gb.py:1342: FutureWarning: The parameter 'presort' is deprecated and has no effect. It will be removed in v0.24. You can suppress this warning by not passing any value to the 'presort' parameter. We also recommend using HistGradientBoosting models instead.\n",
      "  FutureWarning)\n"
     ]
    },
    {
     "name": "stdout",
     "output_type": "stream",
     "text": [
      "[1300] random_holdout_set_from_training_data's score is: -0.712\n"
     ]
    },
    {
     "name": "stderr",
     "output_type": "stream",
     "text": [
      "E:\\wei\\logiciel\\envs\\alpheeenv\\lib\\site-packages\\sklearn\\ensemble\\_gb.py:1342: FutureWarning: The parameter 'presort' is deprecated and has no effect. It will be removed in v0.24. You can suppress this warning by not passing any value to the 'presort' parameter. We also recommend using HistGradientBoosting models instead.\n",
      "  FutureWarning)\n"
     ]
    },
    {
     "name": "stdout",
     "output_type": "stream",
     "text": [
      "[1320] random_holdout_set_from_training_data's score is: -0.712\n"
     ]
    },
    {
     "name": "stderr",
     "output_type": "stream",
     "text": [
      "E:\\wei\\logiciel\\envs\\alpheeenv\\lib\\site-packages\\sklearn\\ensemble\\_gb.py:1342: FutureWarning: The parameter 'presort' is deprecated and has no effect. It will be removed in v0.24. You can suppress this warning by not passing any value to the 'presort' parameter. We also recommend using HistGradientBoosting models instead.\n",
      "  FutureWarning)\n"
     ]
    },
    {
     "name": "stdout",
     "output_type": "stream",
     "text": [
      "[1340] random_holdout_set_from_training_data's score is: -0.712\n"
     ]
    },
    {
     "name": "stderr",
     "output_type": "stream",
     "text": [
      "E:\\wei\\logiciel\\envs\\alpheeenv\\lib\\site-packages\\sklearn\\ensemble\\_gb.py:1342: FutureWarning: The parameter 'presort' is deprecated and has no effect. It will be removed in v0.24. You can suppress this warning by not passing any value to the 'presort' parameter. We also recommend using HistGradientBoosting models instead.\n",
      "  FutureWarning)\n"
     ]
    },
    {
     "name": "stdout",
     "output_type": "stream",
     "text": [
      "[1360] random_holdout_set_from_training_data's score is: -0.711\n"
     ]
    },
    {
     "name": "stderr",
     "output_type": "stream",
     "text": [
      "E:\\wei\\logiciel\\envs\\alpheeenv\\lib\\site-packages\\sklearn\\ensemble\\_gb.py:1342: FutureWarning: The parameter 'presort' is deprecated and has no effect. It will be removed in v0.24. You can suppress this warning by not passing any value to the 'presort' parameter. We also recommend using HistGradientBoosting models instead.\n",
      "  FutureWarning)\n"
     ]
    },
    {
     "name": "stdout",
     "output_type": "stream",
     "text": [
      "[1380] random_holdout_set_from_training_data's score is: -0.711\n"
     ]
    },
    {
     "name": "stderr",
     "output_type": "stream",
     "text": [
      "E:\\wei\\logiciel\\envs\\alpheeenv\\lib\\site-packages\\sklearn\\ensemble\\_gb.py:1342: FutureWarning: The parameter 'presort' is deprecated and has no effect. It will be removed in v0.24. You can suppress this warning by not passing any value to the 'presort' parameter. We also recommend using HistGradientBoosting models instead.\n",
      "  FutureWarning)\n"
     ]
    },
    {
     "name": "stdout",
     "output_type": "stream",
     "text": [
      "[1400] random_holdout_set_from_training_data's score is: -0.711\n"
     ]
    },
    {
     "name": "stderr",
     "output_type": "stream",
     "text": [
      "E:\\wei\\logiciel\\envs\\alpheeenv\\lib\\site-packages\\sklearn\\ensemble\\_gb.py:1342: FutureWarning: The parameter 'presort' is deprecated and has no effect. It will be removed in v0.24. You can suppress this warning by not passing any value to the 'presort' parameter. We also recommend using HistGradientBoosting models instead.\n",
      "  FutureWarning)\n"
     ]
    },
    {
     "name": "stdout",
     "output_type": "stream",
     "text": [
      "[1420] random_holdout_set_from_training_data's score is: -0.711\n"
     ]
    },
    {
     "name": "stderr",
     "output_type": "stream",
     "text": [
      "E:\\wei\\logiciel\\envs\\alpheeenv\\lib\\site-packages\\sklearn\\ensemble\\_gb.py:1342: FutureWarning: The parameter 'presort' is deprecated and has no effect. It will be removed in v0.24. You can suppress this warning by not passing any value to the 'presort' parameter. We also recommend using HistGradientBoosting models instead.\n",
      "  FutureWarning)\n"
     ]
    },
    {
     "name": "stdout",
     "output_type": "stream",
     "text": [
      "[1440] random_holdout_set_from_training_data's score is: -0.711\n"
     ]
    },
    {
     "name": "stderr",
     "output_type": "stream",
     "text": [
      "E:\\wei\\logiciel\\envs\\alpheeenv\\lib\\site-packages\\sklearn\\ensemble\\_gb.py:1342: FutureWarning: The parameter 'presort' is deprecated and has no effect. It will be removed in v0.24. You can suppress this warning by not passing any value to the 'presort' parameter. We also recommend using HistGradientBoosting models instead.\n",
      "  FutureWarning)\n"
     ]
    },
    {
     "name": "stdout",
     "output_type": "stream",
     "text": [
      "[1460] random_holdout_set_from_training_data's score is: -0.711\n"
     ]
    },
    {
     "name": "stderr",
     "output_type": "stream",
     "text": [
      "E:\\wei\\logiciel\\envs\\alpheeenv\\lib\\site-packages\\sklearn\\ensemble\\_gb.py:1342: FutureWarning: The parameter 'presort' is deprecated and has no effect. It will be removed in v0.24. You can suppress this warning by not passing any value to the 'presort' parameter. We also recommend using HistGradientBoosting models instead.\n",
      "  FutureWarning)\n"
     ]
    },
    {
     "name": "stdout",
     "output_type": "stream",
     "text": [
      "[1480] random_holdout_set_from_training_data's score is: -0.711\n"
     ]
    },
    {
     "name": "stderr",
     "output_type": "stream",
     "text": [
      "E:\\wei\\logiciel\\envs\\alpheeenv\\lib\\site-packages\\sklearn\\ensemble\\_gb.py:1342: FutureWarning: The parameter 'presort' is deprecated and has no effect. It will be removed in v0.24. You can suppress this warning by not passing any value to the 'presort' parameter. We also recommend using HistGradientBoosting models instead.\n",
      "  FutureWarning)\n"
     ]
    },
    {
     "name": "stdout",
     "output_type": "stream",
     "text": [
      "[1500] random_holdout_set_from_training_data's score is: -0.711\n"
     ]
    },
    {
     "name": "stderr",
     "output_type": "stream",
     "text": [
      "E:\\wei\\logiciel\\envs\\alpheeenv\\lib\\site-packages\\sklearn\\ensemble\\_gb.py:1342: FutureWarning: The parameter 'presort' is deprecated and has no effect. It will be removed in v0.24. You can suppress this warning by not passing any value to the 'presort' parameter. We also recommend using HistGradientBoosting models instead.\n",
      "  FutureWarning)\n"
     ]
    },
    {
     "name": "stdout",
     "output_type": "stream",
     "text": [
      "[1520] random_holdout_set_from_training_data's score is: -0.711\n"
     ]
    },
    {
     "name": "stderr",
     "output_type": "stream",
     "text": [
      "E:\\wei\\logiciel\\envs\\alpheeenv\\lib\\site-packages\\sklearn\\ensemble\\_gb.py:1342: FutureWarning: The parameter 'presort' is deprecated and has no effect. It will be removed in v0.24. You can suppress this warning by not passing any value to the 'presort' parameter. We also recommend using HistGradientBoosting models instead.\n",
      "  FutureWarning)\n"
     ]
    },
    {
     "name": "stdout",
     "output_type": "stream",
     "text": [
      "[1540] random_holdout_set_from_training_data's score is: -0.71\n"
     ]
    },
    {
     "name": "stderr",
     "output_type": "stream",
     "text": [
      "E:\\wei\\logiciel\\envs\\alpheeenv\\lib\\site-packages\\sklearn\\ensemble\\_gb.py:1342: FutureWarning: The parameter 'presort' is deprecated and has no effect. It will be removed in v0.24. You can suppress this warning by not passing any value to the 'presort' parameter. We also recommend using HistGradientBoosting models instead.\n",
      "  FutureWarning)\n"
     ]
    },
    {
     "name": "stdout",
     "output_type": "stream",
     "text": [
      "[1560] random_holdout_set_from_training_data's score is: -0.71\n"
     ]
    },
    {
     "name": "stderr",
     "output_type": "stream",
     "text": [
      "E:\\wei\\logiciel\\envs\\alpheeenv\\lib\\site-packages\\sklearn\\ensemble\\_gb.py:1342: FutureWarning: The parameter 'presort' is deprecated and has no effect. It will be removed in v0.24. You can suppress this warning by not passing any value to the 'presort' parameter. We also recommend using HistGradientBoosting models instead.\n",
      "  FutureWarning)\n"
     ]
    },
    {
     "name": "stdout",
     "output_type": "stream",
     "text": [
      "[1580] random_holdout_set_from_training_data's score is: -0.71\n"
     ]
    },
    {
     "name": "stderr",
     "output_type": "stream",
     "text": [
      "E:\\wei\\logiciel\\envs\\alpheeenv\\lib\\site-packages\\sklearn\\ensemble\\_gb.py:1342: FutureWarning: The parameter 'presort' is deprecated and has no effect. It will be removed in v0.24. You can suppress this warning by not passing any value to the 'presort' parameter. We also recommend using HistGradientBoosting models instead.\n",
      "  FutureWarning)\n"
     ]
    },
    {
     "name": "stdout",
     "output_type": "stream",
     "text": [
      "[1600] random_holdout_set_from_training_data's score is: -0.709\n"
     ]
    },
    {
     "name": "stderr",
     "output_type": "stream",
     "text": [
      "E:\\wei\\logiciel\\envs\\alpheeenv\\lib\\site-packages\\sklearn\\ensemble\\_gb.py:1342: FutureWarning: The parameter 'presort' is deprecated and has no effect. It will be removed in v0.24. You can suppress this warning by not passing any value to the 'presort' parameter. We also recommend using HistGradientBoosting models instead.\n",
      "  FutureWarning)\n"
     ]
    },
    {
     "name": "stdout",
     "output_type": "stream",
     "text": [
      "[1620] random_holdout_set_from_training_data's score is: -0.709\n"
     ]
    },
    {
     "name": "stderr",
     "output_type": "stream",
     "text": [
      "E:\\wei\\logiciel\\envs\\alpheeenv\\lib\\site-packages\\sklearn\\ensemble\\_gb.py:1342: FutureWarning: The parameter 'presort' is deprecated and has no effect. It will be removed in v0.24. You can suppress this warning by not passing any value to the 'presort' parameter. We also recommend using HistGradientBoosting models instead.\n",
      "  FutureWarning)\n"
     ]
    },
    {
     "name": "stdout",
     "output_type": "stream",
     "text": [
      "[1640] random_holdout_set_from_training_data's score is: -0.709\n"
     ]
    },
    {
     "name": "stderr",
     "output_type": "stream",
     "text": [
      "E:\\wei\\logiciel\\envs\\alpheeenv\\lib\\site-packages\\sklearn\\ensemble\\_gb.py:1342: FutureWarning: The parameter 'presort' is deprecated and has no effect. It will be removed in v0.24. You can suppress this warning by not passing any value to the 'presort' parameter. We also recommend using HistGradientBoosting models instead.\n",
      "  FutureWarning)\n"
     ]
    },
    {
     "name": "stdout",
     "output_type": "stream",
     "text": [
      "[1660] random_holdout_set_from_training_data's score is: -0.708\n"
     ]
    },
    {
     "name": "stderr",
     "output_type": "stream",
     "text": [
      "E:\\wei\\logiciel\\envs\\alpheeenv\\lib\\site-packages\\sklearn\\ensemble\\_gb.py:1342: FutureWarning: The parameter 'presort' is deprecated and has no effect. It will be removed in v0.24. You can suppress this warning by not passing any value to the 'presort' parameter. We also recommend using HistGradientBoosting models instead.\n",
      "  FutureWarning)\n"
     ]
    },
    {
     "name": "stdout",
     "output_type": "stream",
     "text": [
      "[1680] random_holdout_set_from_training_data's score is: -0.709\n"
     ]
    },
    {
     "name": "stderr",
     "output_type": "stream",
     "text": [
      "E:\\wei\\logiciel\\envs\\alpheeenv\\lib\\site-packages\\sklearn\\ensemble\\_gb.py:1342: FutureWarning: The parameter 'presort' is deprecated and has no effect. It will be removed in v0.24. You can suppress this warning by not passing any value to the 'presort' parameter. We also recommend using HistGradientBoosting models instead.\n",
      "  FutureWarning)\n"
     ]
    },
    {
     "name": "stdout",
     "output_type": "stream",
     "text": [
      "[1700] random_holdout_set_from_training_data's score is: -0.709\n"
     ]
    },
    {
     "name": "stderr",
     "output_type": "stream",
     "text": [
      "E:\\wei\\logiciel\\envs\\alpheeenv\\lib\\site-packages\\sklearn\\ensemble\\_gb.py:1342: FutureWarning: The parameter 'presort' is deprecated and has no effect. It will be removed in v0.24. You can suppress this warning by not passing any value to the 'presort' parameter. We also recommend using HistGradientBoosting models instead.\n",
      "  FutureWarning)\n"
     ]
    },
    {
     "name": "stdout",
     "output_type": "stream",
     "text": [
      "[1720] random_holdout_set_from_training_data's score is: -0.708\n"
     ]
    },
    {
     "name": "stderr",
     "output_type": "stream",
     "text": [
      "E:\\wei\\logiciel\\envs\\alpheeenv\\lib\\site-packages\\sklearn\\ensemble\\_gb.py:1342: FutureWarning: The parameter 'presort' is deprecated and has no effect. It will be removed in v0.24. You can suppress this warning by not passing any value to the 'presort' parameter. We also recommend using HistGradientBoosting models instead.\n",
      "  FutureWarning)\n"
     ]
    },
    {
     "name": "stdout",
     "output_type": "stream",
     "text": [
      "[1740] random_holdout_set_from_training_data's score is: -0.708\n"
     ]
    },
    {
     "name": "stderr",
     "output_type": "stream",
     "text": [
      "E:\\wei\\logiciel\\envs\\alpheeenv\\lib\\site-packages\\sklearn\\ensemble\\_gb.py:1342: FutureWarning: The parameter 'presort' is deprecated and has no effect. It will be removed in v0.24. You can suppress this warning by not passing any value to the 'presort' parameter. We also recommend using HistGradientBoosting models instead.\n",
      "  FutureWarning)\n"
     ]
    },
    {
     "name": "stdout",
     "output_type": "stream",
     "text": [
      "[1760] random_holdout_set_from_training_data's score is: -0.708\n"
     ]
    },
    {
     "name": "stderr",
     "output_type": "stream",
     "text": [
      "E:\\wei\\logiciel\\envs\\alpheeenv\\lib\\site-packages\\sklearn\\ensemble\\_gb.py:1342: FutureWarning: The parameter 'presort' is deprecated and has no effect. It will be removed in v0.24. You can suppress this warning by not passing any value to the 'presort' parameter. We also recommend using HistGradientBoosting models instead.\n",
      "  FutureWarning)\n"
     ]
    },
    {
     "name": "stdout",
     "output_type": "stream",
     "text": [
      "[1780] random_holdout_set_from_training_data's score is: -0.708\n"
     ]
    },
    {
     "name": "stderr",
     "output_type": "stream",
     "text": [
      "E:\\wei\\logiciel\\envs\\alpheeenv\\lib\\site-packages\\sklearn\\ensemble\\_gb.py:1342: FutureWarning: The parameter 'presort' is deprecated and has no effect. It will be removed in v0.24. You can suppress this warning by not passing any value to the 'presort' parameter. We also recommend using HistGradientBoosting models instead.\n",
      "  FutureWarning)\n"
     ]
    },
    {
     "name": "stdout",
     "output_type": "stream",
     "text": [
      "[1800] random_holdout_set_from_training_data's score is: -0.708\n"
     ]
    },
    {
     "name": "stderr",
     "output_type": "stream",
     "text": [
      "E:\\wei\\logiciel\\envs\\alpheeenv\\lib\\site-packages\\sklearn\\ensemble\\_gb.py:1342: FutureWarning: The parameter 'presort' is deprecated and has no effect. It will be removed in v0.24. You can suppress this warning by not passing any value to the 'presort' parameter. We also recommend using HistGradientBoosting models instead.\n",
      "  FutureWarning)\n"
     ]
    },
    {
     "name": "stdout",
     "output_type": "stream",
     "text": [
      "[1820] random_holdout_set_from_training_data's score is: -0.708\n"
     ]
    },
    {
     "name": "stderr",
     "output_type": "stream",
     "text": [
      "E:\\wei\\logiciel\\envs\\alpheeenv\\lib\\site-packages\\sklearn\\ensemble\\_gb.py:1342: FutureWarning: The parameter 'presort' is deprecated and has no effect. It will be removed in v0.24. You can suppress this warning by not passing any value to the 'presort' parameter. We also recommend using HistGradientBoosting models instead.\n",
      "  FutureWarning)\n"
     ]
    },
    {
     "name": "stdout",
     "output_type": "stream",
     "text": [
      "[1840] random_holdout_set_from_training_data's score is: -0.708\n"
     ]
    },
    {
     "name": "stderr",
     "output_type": "stream",
     "text": [
      "E:\\wei\\logiciel\\envs\\alpheeenv\\lib\\site-packages\\sklearn\\ensemble\\_gb.py:1342: FutureWarning: The parameter 'presort' is deprecated and has no effect. It will be removed in v0.24. You can suppress this warning by not passing any value to the 'presort' parameter. We also recommend using HistGradientBoosting models instead.\n",
      "  FutureWarning)\n"
     ]
    },
    {
     "name": "stdout",
     "output_type": "stream",
     "text": [
      "[1860] random_holdout_set_from_training_data's score is: -0.708\n"
     ]
    },
    {
     "name": "stderr",
     "output_type": "stream",
     "text": [
      "E:\\wei\\logiciel\\envs\\alpheeenv\\lib\\site-packages\\sklearn\\ensemble\\_gb.py:1342: FutureWarning: The parameter 'presort' is deprecated and has no effect. It will be removed in v0.24. You can suppress this warning by not passing any value to the 'presort' parameter. We also recommend using HistGradientBoosting models instead.\n",
      "  FutureWarning)\n"
     ]
    },
    {
     "name": "stdout",
     "output_type": "stream",
     "text": [
      "[1880] random_holdout_set_from_training_data's score is: -0.708\n"
     ]
    },
    {
     "name": "stderr",
     "output_type": "stream",
     "text": [
      "E:\\wei\\logiciel\\envs\\alpheeenv\\lib\\site-packages\\sklearn\\ensemble\\_gb.py:1342: FutureWarning: The parameter 'presort' is deprecated and has no effect. It will be removed in v0.24. You can suppress this warning by not passing any value to the 'presort' parameter. We also recommend using HistGradientBoosting models instead.\n",
      "  FutureWarning)\n"
     ]
    },
    {
     "name": "stdout",
     "output_type": "stream",
     "text": [
      "[1900] random_holdout_set_from_training_data's score is: -0.707\n"
     ]
    },
    {
     "name": "stderr",
     "output_type": "stream",
     "text": [
      "E:\\wei\\logiciel\\envs\\alpheeenv\\lib\\site-packages\\sklearn\\ensemble\\_gb.py:1342: FutureWarning: The parameter 'presort' is deprecated and has no effect. It will be removed in v0.24. You can suppress this warning by not passing any value to the 'presort' parameter. We also recommend using HistGradientBoosting models instead.\n",
      "  FutureWarning)\n"
     ]
    },
    {
     "name": "stdout",
     "output_type": "stream",
     "text": [
      "[1920] random_holdout_set_from_training_data's score is: -0.707\n"
     ]
    },
    {
     "name": "stderr",
     "output_type": "stream",
     "text": [
      "E:\\wei\\logiciel\\envs\\alpheeenv\\lib\\site-packages\\sklearn\\ensemble\\_gb.py:1342: FutureWarning: The parameter 'presort' is deprecated and has no effect. It will be removed in v0.24. You can suppress this warning by not passing any value to the 'presort' parameter. We also recommend using HistGradientBoosting models instead.\n",
      "  FutureWarning)\n"
     ]
    },
    {
     "name": "stdout",
     "output_type": "stream",
     "text": [
      "[1940] random_holdout_set_from_training_data's score is: -0.707\n"
     ]
    },
    {
     "name": "stderr",
     "output_type": "stream",
     "text": [
      "E:\\wei\\logiciel\\envs\\alpheeenv\\lib\\site-packages\\sklearn\\ensemble\\_gb.py:1342: FutureWarning: The parameter 'presort' is deprecated and has no effect. It will be removed in v0.24. You can suppress this warning by not passing any value to the 'presort' parameter. We also recommend using HistGradientBoosting models instead.\n",
      "  FutureWarning)\n"
     ]
    },
    {
     "name": "stdout",
     "output_type": "stream",
     "text": [
      "[1960] random_holdout_set_from_training_data's score is: -0.707\n"
     ]
    },
    {
     "name": "stderr",
     "output_type": "stream",
     "text": [
      "E:\\wei\\logiciel\\envs\\alpheeenv\\lib\\site-packages\\sklearn\\ensemble\\_gb.py:1342: FutureWarning: The parameter 'presort' is deprecated and has no effect. It will be removed in v0.24. You can suppress this warning by not passing any value to the 'presort' parameter. We also recommend using HistGradientBoosting models instead.\n",
      "  FutureWarning)\n"
     ]
    },
    {
     "name": "stdout",
     "output_type": "stream",
     "text": [
      "[1980] random_holdout_set_from_training_data's score is: -0.707\n"
     ]
    },
    {
     "name": "stderr",
     "output_type": "stream",
     "text": [
      "E:\\wei\\logiciel\\envs\\alpheeenv\\lib\\site-packages\\sklearn\\ensemble\\_gb.py:1342: FutureWarning: The parameter 'presort' is deprecated and has no effect. It will be removed in v0.24. You can suppress this warning by not passing any value to the 'presort' parameter. We also recommend using HistGradientBoosting models instead.\n",
      "  FutureWarning)\n"
     ]
    },
    {
     "name": "stdout",
     "output_type": "stream",
     "text": [
      "[2000] random_holdout_set_from_training_data's score is: -0.707\n"
     ]
    },
    {
     "name": "stderr",
     "output_type": "stream",
     "text": [
      "E:\\wei\\logiciel\\envs\\alpheeenv\\lib\\site-packages\\sklearn\\ensemble\\_gb.py:1342: FutureWarning: The parameter 'presort' is deprecated and has no effect. It will be removed in v0.24. You can suppress this warning by not passing any value to the 'presort' parameter. We also recommend using HistGradientBoosting models instead.\n",
      "  FutureWarning)\n"
     ]
    },
    {
     "name": "stdout",
     "output_type": "stream",
     "text": [
      "[2100] random_holdout_set_from_training_data's score is: -0.707\n"
     ]
    },
    {
     "name": "stderr",
     "output_type": "stream",
     "text": [
      "E:\\wei\\logiciel\\envs\\alpheeenv\\lib\\site-packages\\sklearn\\ensemble\\_gb.py:1342: FutureWarning: The parameter 'presort' is deprecated and has no effect. It will be removed in v0.24. You can suppress this warning by not passing any value to the 'presort' parameter. We also recommend using HistGradientBoosting models instead.\n",
      "  FutureWarning)\n"
     ]
    },
    {
     "name": "stdout",
     "output_type": "stream",
     "text": [
      "[2200] random_holdout_set_from_training_data's score is: -0.707\n"
     ]
    },
    {
     "name": "stderr",
     "output_type": "stream",
     "text": [
      "E:\\wei\\logiciel\\envs\\alpheeenv\\lib\\site-packages\\sklearn\\ensemble\\_gb.py:1342: FutureWarning: The parameter 'presort' is deprecated and has no effect. It will be removed in v0.24. You can suppress this warning by not passing any value to the 'presort' parameter. We also recommend using HistGradientBoosting models instead.\n",
      "  FutureWarning)\n"
     ]
    },
    {
     "name": "stdout",
     "output_type": "stream",
     "text": [
      "[2300] random_holdout_set_from_training_data's score is: -0.707\n"
     ]
    },
    {
     "name": "stderr",
     "output_type": "stream",
     "text": [
      "E:\\wei\\logiciel\\envs\\alpheeenv\\lib\\site-packages\\sklearn\\ensemble\\_gb.py:1342: FutureWarning: The parameter 'presort' is deprecated and has no effect. It will be removed in v0.24. You can suppress this warning by not passing any value to the 'presort' parameter. We also recommend using HistGradientBoosting models instead.\n",
      "  FutureWarning)\n"
     ]
    },
    {
     "name": "stdout",
     "output_type": "stream",
     "text": [
      "[2400] random_holdout_set_from_training_data's score is: -0.707\n"
     ]
    },
    {
     "name": "stderr",
     "output_type": "stream",
     "text": [
      "E:\\wei\\logiciel\\envs\\alpheeenv\\lib\\site-packages\\sklearn\\ensemble\\_gb.py:1342: FutureWarning: The parameter 'presort' is deprecated and has no effect. It will be removed in v0.24. You can suppress this warning by not passing any value to the 'presort' parameter. We also recommend using HistGradientBoosting models instead.\n",
      "  FutureWarning)\n"
     ]
    },
    {
     "name": "stdout",
     "output_type": "stream",
     "text": [
      "[2500] random_holdout_set_from_training_data's score is: -0.706\n"
     ]
    },
    {
     "name": "stderr",
     "output_type": "stream",
     "text": [
      "E:\\wei\\logiciel\\envs\\alpheeenv\\lib\\site-packages\\sklearn\\ensemble\\_gb.py:1342: FutureWarning: The parameter 'presort' is deprecated and has no effect. It will be removed in v0.24. You can suppress this warning by not passing any value to the 'presort' parameter. We also recommend using HistGradientBoosting models instead.\n",
      "  FutureWarning)\n"
     ]
    },
    {
     "name": "stdout",
     "output_type": "stream",
     "text": [
      "[2600] random_holdout_set_from_training_data's score is: -0.707\n"
     ]
    },
    {
     "name": "stderr",
     "output_type": "stream",
     "text": [
      "E:\\wei\\logiciel\\envs\\alpheeenv\\lib\\site-packages\\sklearn\\ensemble\\_gb.py:1342: FutureWarning: The parameter 'presort' is deprecated and has no effect. It will be removed in v0.24. You can suppress this warning by not passing any value to the 'presort' parameter. We also recommend using HistGradientBoosting models instead.\n",
      "  FutureWarning)\n"
     ]
    },
    {
     "name": "stdout",
     "output_type": "stream",
     "text": [
      "[2700] random_holdout_set_from_training_data's score is: -0.707\n"
     ]
    },
    {
     "name": "stderr",
     "output_type": "stream",
     "text": [
      "E:\\wei\\logiciel\\envs\\alpheeenv\\lib\\site-packages\\sklearn\\ensemble\\_gb.py:1342: FutureWarning: The parameter 'presort' is deprecated and has no effect. It will be removed in v0.24. You can suppress this warning by not passing any value to the 'presort' parameter. We also recommend using HistGradientBoosting models instead.\n",
      "  FutureWarning)\n"
     ]
    },
    {
     "name": "stdout",
     "output_type": "stream",
     "text": [
      "[2800] random_holdout_set_from_training_data's score is: -0.706\n"
     ]
    },
    {
     "name": "stderr",
     "output_type": "stream",
     "text": [
      "E:\\wei\\logiciel\\envs\\alpheeenv\\lib\\site-packages\\sklearn\\ensemble\\_gb.py:1342: FutureWarning: The parameter 'presort' is deprecated and has no effect. It will be removed in v0.24. You can suppress this warning by not passing any value to the 'presort' parameter. We also recommend using HistGradientBoosting models instead.\n",
      "  FutureWarning)\n"
     ]
    },
    {
     "name": "stdout",
     "output_type": "stream",
     "text": [
      "[2900] random_holdout_set_from_training_data's score is: -0.707\n"
     ]
    },
    {
     "name": "stderr",
     "output_type": "stream",
     "text": [
      "E:\\wei\\logiciel\\envs\\alpheeenv\\lib\\site-packages\\sklearn\\ensemble\\_gb.py:1342: FutureWarning: The parameter 'presort' is deprecated and has no effect. It will be removed in v0.24. You can suppress this warning by not passing any value to the 'presort' parameter. We also recommend using HistGradientBoosting models instead.\n",
      "  FutureWarning)\n"
     ]
    },
    {
     "name": "stdout",
     "output_type": "stream",
     "text": [
      "[3000] random_holdout_set_from_training_data's score is: -0.707\n"
     ]
    },
    {
     "name": "stderr",
     "output_type": "stream",
     "text": [
      "E:\\wei\\logiciel\\envs\\alpheeenv\\lib\\site-packages\\sklearn\\ensemble\\_gb.py:1342: FutureWarning: The parameter 'presort' is deprecated and has no effect. It will be removed in v0.24. You can suppress this warning by not passing any value to the 'presort' parameter. We also recommend using HistGradientBoosting models instead.\n",
      "  FutureWarning)\n"
     ]
    },
    {
     "name": "stdout",
     "output_type": "stream",
     "text": [
      "[3100] random_holdout_set_from_training_data's score is: -0.707\n"
     ]
    },
    {
     "name": "stderr",
     "output_type": "stream",
     "text": [
      "E:\\wei\\logiciel\\envs\\alpheeenv\\lib\\site-packages\\sklearn\\ensemble\\_gb.py:1342: FutureWarning: The parameter 'presort' is deprecated and has no effect. It will be removed in v0.24. You can suppress this warning by not passing any value to the 'presort' parameter. We also recommend using HistGradientBoosting models instead.\n",
      "  FutureWarning)\n"
     ]
    },
    {
     "name": "stdout",
     "output_type": "stream",
     "text": [
      "[3200] random_holdout_set_from_training_data's score is: -0.707\n"
     ]
    },
    {
     "name": "stderr",
     "output_type": "stream",
     "text": [
      "E:\\wei\\logiciel\\envs\\alpheeenv\\lib\\site-packages\\sklearn\\ensemble\\_gb.py:1342: FutureWarning: The parameter 'presort' is deprecated and has no effect. It will be removed in v0.24. You can suppress this warning by not passing any value to the 'presort' parameter. We also recommend using HistGradientBoosting models instead.\n",
      "  FutureWarning)\n"
     ]
    },
    {
     "name": "stdout",
     "output_type": "stream",
     "text": [
      "[3300] random_holdout_set_from_training_data's score is: -0.707\n"
     ]
    },
    {
     "name": "stderr",
     "output_type": "stream",
     "text": [
      "E:\\wei\\logiciel\\envs\\alpheeenv\\lib\\site-packages\\sklearn\\ensemble\\_gb.py:1342: FutureWarning: The parameter 'presort' is deprecated and has no effect. It will be removed in v0.24. You can suppress this warning by not passing any value to the 'presort' parameter. We also recommend using HistGradientBoosting models instead.\n",
      "  FutureWarning)\n"
     ]
    },
    {
     "name": "stdout",
     "output_type": "stream",
     "text": [
      "[3400] random_holdout_set_from_training_data's score is: -0.707\n"
     ]
    },
    {
     "name": "stderr",
     "output_type": "stream",
     "text": [
      "E:\\wei\\logiciel\\envs\\alpheeenv\\lib\\site-packages\\sklearn\\ensemble\\_gb.py:1342: FutureWarning: The parameter 'presort' is deprecated and has no effect. It will be removed in v0.24. You can suppress this warning by not passing any value to the 'presort' parameter. We also recommend using HistGradientBoosting models instead.\n",
      "  FutureWarning)\n"
     ]
    },
    {
     "name": "stdout",
     "output_type": "stream",
     "text": [
      "[3500] random_holdout_set_from_training_data's score is: -0.708\n"
     ]
    },
    {
     "name": "stderr",
     "output_type": "stream",
     "text": [
      "E:\\wei\\logiciel\\envs\\alpheeenv\\lib\\site-packages\\sklearn\\ensemble\\_gb.py:1342: FutureWarning: The parameter 'presort' is deprecated and has no effect. It will be removed in v0.24. You can suppress this warning by not passing any value to the 'presort' parameter. We also recommend using HistGradientBoosting models instead.\n",
      "  FutureWarning)\n"
     ]
    },
    {
     "name": "stdout",
     "output_type": "stream",
     "text": [
      "[3600] random_holdout_set_from_training_data's score is: -0.708\n"
     ]
    },
    {
     "name": "stderr",
     "output_type": "stream",
     "text": [
      "E:\\wei\\logiciel\\envs\\alpheeenv\\lib\\site-packages\\sklearn\\ensemble\\_gb.py:1342: FutureWarning: The parameter 'presort' is deprecated and has no effect. It will be removed in v0.24. You can suppress this warning by not passing any value to the 'presort' parameter. We also recommend using HistGradientBoosting models instead.\n",
      "  FutureWarning)\n"
     ]
    },
    {
     "name": "stdout",
     "output_type": "stream",
     "text": [
      "[3700] random_holdout_set_from_training_data's score is: -0.708\n"
     ]
    },
    {
     "name": "stderr",
     "output_type": "stream",
     "text": [
      "E:\\wei\\logiciel\\envs\\alpheeenv\\lib\\site-packages\\sklearn\\ensemble\\_gb.py:1342: FutureWarning: The parameter 'presort' is deprecated and has no effect. It will be removed in v0.24. You can suppress this warning by not passing any value to the 'presort' parameter. We also recommend using HistGradientBoosting models instead.\n",
      "  FutureWarning)\n"
     ]
    },
    {
     "name": "stdout",
     "output_type": "stream",
     "text": [
      "[3800] random_holdout_set_from_training_data's score is: -0.708\n"
     ]
    },
    {
     "name": "stderr",
     "output_type": "stream",
     "text": [
      "E:\\wei\\logiciel\\envs\\alpheeenv\\lib\\site-packages\\sklearn\\ensemble\\_gb.py:1342: FutureWarning: The parameter 'presort' is deprecated and has no effect. It will be removed in v0.24. You can suppress this warning by not passing any value to the 'presort' parameter. We also recommend using HistGradientBoosting models instead.\n",
      "  FutureWarning)\n"
     ]
    },
    {
     "name": "stdout",
     "output_type": "stream",
     "text": [
      "[3900] random_holdout_set_from_training_data's score is: -0.708\n"
     ]
    },
    {
     "name": "stderr",
     "output_type": "stream",
     "text": [
      "E:\\wei\\logiciel\\envs\\alpheeenv\\lib\\site-packages\\sklearn\\ensemble\\_gb.py:1342: FutureWarning: The parameter 'presort' is deprecated and has no effect. It will be removed in v0.24. You can suppress this warning by not passing any value to the 'presort' parameter. We also recommend using HistGradientBoosting models instead.\n",
      "  FutureWarning)\n"
     ]
    },
    {
     "name": "stdout",
     "output_type": "stream",
     "text": [
      "[4000] random_holdout_set_from_training_data's score is: -0.708\n"
     ]
    },
    {
     "name": "stderr",
     "output_type": "stream",
     "text": [
      "E:\\wei\\logiciel\\envs\\alpheeenv\\lib\\site-packages\\sklearn\\ensemble\\_gb.py:1342: FutureWarning: The parameter 'presort' is deprecated and has no effect. It will be removed in v0.24. You can suppress this warning by not passing any value to the 'presort' parameter. We also recommend using HistGradientBoosting models instead.\n",
      "  FutureWarning)\n"
     ]
    },
    {
     "name": "stdout",
     "output_type": "stream",
     "text": [
      "[4100] random_holdout_set_from_training_data's score is: -0.707\n"
     ]
    },
    {
     "name": "stderr",
     "output_type": "stream",
     "text": [
      "E:\\wei\\logiciel\\envs\\alpheeenv\\lib\\site-packages\\sklearn\\ensemble\\_gb.py:1342: FutureWarning: The parameter 'presort' is deprecated and has no effect. It will be removed in v0.24. You can suppress this warning by not passing any value to the 'presort' parameter. We also recommend using HistGradientBoosting models instead.\n",
      "  FutureWarning)\n"
     ]
    },
    {
     "name": "stdout",
     "output_type": "stream",
     "text": [
      "[4200] random_holdout_set_from_training_data's score is: -0.707\n"
     ]
    },
    {
     "name": "stderr",
     "output_type": "stream",
     "text": [
      "E:\\wei\\logiciel\\envs\\alpheeenv\\lib\\site-packages\\sklearn\\ensemble\\_gb.py:1342: FutureWarning: The parameter 'presort' is deprecated and has no effect. It will be removed in v0.24. You can suppress this warning by not passing any value to the 'presort' parameter. We also recommend using HistGradientBoosting models instead.\n",
      "  FutureWarning)\n"
     ]
    },
    {
     "name": "stdout",
     "output_type": "stream",
     "text": [
      "[4300] random_holdout_set_from_training_data's score is: -0.707\n"
     ]
    },
    {
     "name": "stderr",
     "output_type": "stream",
     "text": [
      "E:\\wei\\logiciel\\envs\\alpheeenv\\lib\\site-packages\\sklearn\\ensemble\\_gb.py:1342: FutureWarning: The parameter 'presort' is deprecated and has no effect. It will be removed in v0.24. You can suppress this warning by not passing any value to the 'presort' parameter. We also recommend using HistGradientBoosting models instead.\n",
      "  FutureWarning)\n"
     ]
    },
    {
     "name": "stdout",
     "output_type": "stream",
     "text": [
      "[4400] random_holdout_set_from_training_data's score is: -0.707\n"
     ]
    },
    {
     "name": "stderr",
     "output_type": "stream",
     "text": [
      "E:\\wei\\logiciel\\envs\\alpheeenv\\lib\\site-packages\\sklearn\\ensemble\\_gb.py:1342: FutureWarning: The parameter 'presort' is deprecated and has no effect. It will be removed in v0.24. You can suppress this warning by not passing any value to the 'presort' parameter. We also recommend using HistGradientBoosting models instead.\n",
      "  FutureWarning)\n"
     ]
    },
    {
     "name": "stdout",
     "output_type": "stream",
     "text": [
      "[4500] random_holdout_set_from_training_data's score is: -0.707\n",
      "The number of estimators that were the best for this training dataset: 2500\n",
      "The best score on the holdout set: -0.7062498483556015\n",
      "The best CV score from our hyperparameter search (by default averaging across k-fold CV) for Production is:\n",
      "-1.0727138266968828\n",
      "The best params were\n",
      "{'model': 'GradientBoostingRegressor'}\n",
      "Here are all the hyperparameters that were tried:\n",
      "Score in the following columns always refers to cross-validation score\n",
      "+--------------+\n",
      "|   mean_score |\n",
      "|--------------|\n",
      "|      -4.0045 |\n",
      "|      -3.7408 |\n",
      "|      -3.6449 |\n",
      "|      -2.3099 |\n",
      "|      -2.3056 |\n",
      "|      -2.1789 |\n",
      "|      -1.7747 |\n",
      "|      -1.1625 |\n",
      "|      -1.1428 |\n",
      "|      -1.1299 |\n",
      "|      -1.0727 |\n",
      "+--------------+\n",
      "Calculating feature responses, for advanced analytics.\n",
      "Here are our feature responses for the trained model\n",
      "+----+-------------------+---------+-------------------+-------------------+-----------+-----------+\n",
      "|    | Feature Name      |   Delta |   FR_Decrementing |   FR_Incrementing |   FRD_MAD |   FRI_MAD |\n",
      "|----+-------------------+---------+-------------------+-------------------+-----------+-----------|\n",
      "| 31 | NWP4_00h_D-1_U    |  0.1528 |           -0.0105 |            0.0001 |    0.0491 |    0.0510 |\n",
      "| 30 | NWP4_00h_D-1_V    |  0.1593 |            0.0023 |           -0.0032 |    0.0526 |    0.0583 |\n",
      "| 29 | NWP1_12h_D-1_V    |  0.1561 |            0.0549 |            0.0043 |    0.0756 |    0.0579 |\n",
      "| 28 | NWP1_12h_D-1_U    |  0.1615 |            0.1648 |            0.0068 |    0.0957 |    0.0502 |\n",
      "| 27 | NWP4_12h_D_V      |  0.1580 |           -0.0299 |            0.0081 |    0.0382 |    0.0056 |\n",
      "| 26 | NWP1_00h_D_V      |  0.1571 |            0.0354 |           -0.0123 |    0.1129 |    0.1266 |\n",
      "| 25 | NWP4_00h_D_U      |  0.1515 |           -0.0313 |            0.0154 |    0.0569 |    0.0569 |\n",
      "| 24 | NWP4_12h_D-1_U    |  0.1538 |            0.0508 |           -0.0155 |    0.0643 |    0.0475 |\n",
      "| 23 | NWP4_00h_D-1_CLCT |  0.2124 |            0.0031 |           -0.0190 |    0.0094 |    0.0099 |\n",
      "| 22 | NWP1_12h_D_V      |  0.1543 |            0.1620 |            0.0198 |    0.1354 |    0.0321 |\n",
      "| 21 | NWP1_06h_D-1_U    |  0.1609 |           -0.0702 |            0.0227 |    0.0515 |    0.0360 |\n",
      "| 20 | NWP1_00h_D-1_T    |  0.1516 |            0.0132 |            0.0233 |    0.0680 |    0.0550 |\n",
      "| 19 | NWP1_06h_D_T      |  0.1730 |            0.0726 |           -0.0285 |    0.0447 |    0.0367 |\n",
      "| 18 | NWP1_00h_D-1_V    |  0.1567 |            0.0421 |           -0.0288 |    0.0716 |    0.0635 |\n",
      "| 17 | NWP4_12h_D_U      |  0.1631 |            0.3566 |            0.0302 |    0.3490 |    0.0069 |\n",
      "| 16 | NWP1_18h_D-1_V    |  0.1574 |            0.0323 |           -0.0316 |    0.0827 |    0.0812 |\n",
      "| 15 | NWP1_06h_D-2_V    |  0.1628 |            0.0978 |           -0.0326 |    0.0589 |    0.0399 |\n",
      "| 14 | NWP1_12h_D-2_U    |  0.1607 |           -0.0720 |            0.0361 |    0.0639 |    0.0670 |\n",
      "| 13 | NWP4_12h_D-1_V    |  0.1553 |           -0.0383 |            0.0392 |    0.0543 |    0.0526 |\n",
      "| 12 | NWP1_00h_D-1_U    |  0.1607 |            0.0238 |            0.0476 |    0.0418 |    0.0387 |\n",
      "| 11 | NWP1_06h_D_V      |  0.1610 |            0.0429 |           -0.0491 |    0.1071 |    0.1073 |\n",
      "| 10 | NWP1_18h_D-2_U    |  0.1608 |            0.0512 |            0.0508 |    0.0752 |    0.0521 |\n",
      "|  9 | NWP1_06h_D_U      |  0.1722 |            0.0471 |           -0.0516 |    0.0894 |    0.0801 |\n",
      "|  8 | NWP1_18h_D-2_V    |  0.1579 |           -0.0062 |            0.0522 |    0.0602 |    0.0612 |\n",
      "|  7 | NWP1_00h_D_U      |  0.1615 |            0.0973 |           -0.0526 |    0.1148 |    0.1246 |\n",
      "|  6 | NWP1_12h_D-2_V    |  0.1577 |            0.0234 |           -0.0529 |    0.0627 |    0.0608 |\n",
      "|  5 | NWP1_12h_D_U      |  0.1711 |            0.4334 |            0.0559 |    0.6097 |    0.0290 |\n",
      "|  4 | NWP1_18h_D-1_U    |  0.1609 |           -0.0453 |            0.0637 |    0.0952 |    0.1118 |\n",
      "|  3 | NWP1_06h_D-2_U    |  0.1669 |           -0.0318 |           -0.0754 |    0.0701 |    0.0651 |\n",
      "|  2 | NWP4_00h_D_V      |  0.1586 |            0.1399 |           -0.0768 |    0.1011 |    0.0754 |\n",
      "|  1 | NWP1_00h_D-2_T    |  0.1724 |            0.1283 |            0.0806 |    0.1496 |    0.0821 |\n",
      "|  0 | NWP1_06h_D-1_V    |  0.1544 |           -0.0595 |            0.1004 |    0.0623 |    0.0580 |\n",
      "+----+-------------------+---------+-------------------+-------------------+-----------+-----------+\n"
     ]
    },
    {
     "name": "stderr",
     "output_type": "stream",
     "text": [
      "E:\\wei\\logiciel\\envs\\alpheeenv\\lib\\site-packages\\sklearn\\base.py:197: FutureWarning: From version 0.24, get_params will raise an AttributeError if a parameter cannot be retrieved as an instance attribute. Previously it would return None.\n",
      "  FutureWarning)\n"
     ]
    },
    {
     "name": "stdout",
     "output_type": "stream",
     "text": [
      "Now using the model training_params that you passed in:\n",
      "{}\n",
      "After overwriting our defaults with your values, here are the final params that will be used to initialize the model:\n",
      "{'presort': False, 'learning_rate': 0.1, 'warm_start': True}\n"
     ]
    },
    {
     "name": "stderr",
     "output_type": "stream",
     "text": [
      "E:\\wei\\logiciel\\envs\\alpheeenv\\lib\\site-packages\\sklearn\\base.py:197: FutureWarning: From version 0.24, get_params will raise an AttributeError if a parameter cannot be retrieved as an instance attribute. Previously it would return None.\n",
      "  FutureWarning)\n"
     ]
    },
    {
     "name": "stdout",
     "output_type": "stream",
     "text": [
      "Running basic data cleaning\n",
      "Performing feature scaling\n",
      "Fitting DataFrameVectorizer\n",
      "Performing feature selection\n"
     ]
    },
    {
     "name": "stderr",
     "output_type": "stream",
     "text": [
      "E:\\wei\\logiciel\\envs\\alpheeenv\\lib\\site-packages\\sklearn\\base.py:197: FutureWarning: From version 0.24, get_params will raise an AttributeError if a parameter cannot be retrieved as an instance attribute. Previously it would return None.\n",
      "  FutureWarning)\n"
     ]
    },
    {
     "name": "stdout",
     "output_type": "stream",
     "text": [
      "Now using the model training_params that you passed in:\n",
      "{}\n",
      "After overwriting our defaults with your values, here are the final params that will be used to initialize the model:\n",
      "{'presort': False, 'learning_rate': 0.1, 'warm_start': True}\n",
      "\n",
      "\n",
      "********************************************************************************************\n",
      "About to run GridSearchCV on the pipeline for several models to predict Production\n",
      "Fitting 3 folds for each of 11 candidates, totalling 33 fits\n"
     ]
    },
    {
     "name": "stderr",
     "output_type": "stream",
     "text": [
      "[Parallel(n_jobs=-1)]: Using backend LokyBackend with 4 concurrent workers.\n",
      "[Parallel(n_jobs=-1)]: Done  12 tasks      | elapsed:   33.3s\n",
      "[Parallel(n_jobs=-1)]: Done  33 out of  33 | elapsed:  6.8min finished\n"
     ]
    },
    {
     "name": "stdout",
     "output_type": "stream",
     "text": [
      "The best CV score from our hyperparameter search (by default averaging across k-fold CV) for Production is:\n",
      "-1.2957659819658949\n",
      "The best params were\n",
      "{'model': 'ExtraTreesRegressor'}\n",
      "Here are all the hyperparameters that were tried:\n",
      "Score in the following columns always refers to cross-validation score\n",
      "+--------------+\n",
      "|   mean_score |\n",
      "|--------------|\n",
      "|      -5.2609 |\n",
      "|      -4.7144 |\n",
      "|      -3.3099 |\n",
      "|      -2.6390 |\n",
      "|      -2.5454 |\n",
      "|      -2.5367 |\n",
      "|      -2.1381 |\n",
      "|      -1.4358 |\n",
      "|      -1.3918 |\n",
      "|      -1.3636 |\n",
      "|      -1.2958 |\n",
      "+--------------+\n",
      "Calculating feature responses, for advanced analytics.\n",
      "Here are our feature responses for the trained model\n",
      "+----+-----------------+---------+-------------------+-------------------+-----------+-----------+\n",
      "|    | Feature Name    |   Delta |   FR_Decrementing |   FR_Incrementing |   FRD_MAD |   FRI_MAD |\n",
      "|----+-----------------+---------+-------------------+-------------------+-----------+-----------|\n",
      "| 31 | NWP4_00h_D_CLCT |  0.2061 |           -0.0083 |           -0.0008 |    0.0147 |    0.0087 |\n",
      "| 30 | NWP4_12h_D-1_U  |  0.1501 |            0.0178 |            0.0019 |    0.0336 |    0.0285 |\n",
      "| 29 | NWP4_00h_D-1_U  |  0.1512 |            0.0139 |            0.0026 |    0.0325 |    0.0282 |\n",
      "| 28 | NWP1_06h_D-1_V  |  0.1598 |            0.0593 |           -0.0026 |    0.1048 |    0.0733 |\n",
      "| 27 | NWP1_00h_D-2_V  |  0.1586 |            0.0295 |           -0.0054 |    0.0185 |    0.0196 |\n",
      "| 26 | NWP1_12h_D_U    |  0.1658 |            0.0392 |           -0.0063 |    0.0270 |    0.0265 |\n",
      "| 25 | NWP1_06h_D_V    |  0.1664 |            0.0989 |           -0.0066 |    0.0886 |    0.0738 |\n",
      "| 24 | NWP4_00h_D-1_V  |  0.1500 |            0.0039 |            0.0070 |    0.0336 |    0.0333 |\n",
      "| 23 | NWP4_00h_D_V    |  0.1524 |           -0.0013 |            0.0070 |    0.0383 |    0.0428 |\n",
      "| 22 | NWP1_18h_D-1_T  |  0.1542 |            0.0040 |           -0.0071 |    0.0292 |    0.0241 |\n",
      "| 21 | NWP1_12h_D_V    |  0.1531 |            0.0352 |           -0.0077 |    0.0226 |    0.0263 |\n",
      "| 20 | NWP1_06h_D-2_U  |  0.1720 |            0.0160 |           -0.0092 |    0.0253 |    0.0332 |\n",
      "| 19 | NWP1_00h_D_T    |  0.1530 |            0.0068 |           -0.0094 |    0.0285 |    0.0244 |\n",
      "| 18 | NWP1_18h_D-2_U  |  0.1615 |            0.0345 |           -0.0098 |    0.0745 |    0.0620 |\n",
      "| 17 | NWP1_06h_D-1_U  |  0.1607 |            0.0306 |            0.0106 |    0.0981 |    0.0838 |\n",
      "| 16 | NWP1_18h_D-1_U  |  0.1613 |            0.0440 |            0.0124 |    0.0961 |    0.0743 |\n",
      "| 15 | NWP4_00h_D_U    |  0.1501 |            0.0243 |           -0.0127 |    0.0410 |    0.0350 |\n",
      "| 14 | NWP1_12h_D-2_V  |  0.1607 |            0.0308 |           -0.0129 |    0.0567 |    0.0466 |\n",
      "| 13 | NWP1_06h_D-2_T  |  0.1729 |            0.0099 |           -0.0131 |    0.0296 |    0.0325 |\n",
      "| 12 | NWP1_06h_D-1_T  |  0.1542 |            0.0156 |           -0.0132 |    0.0290 |    0.0243 |\n",
      "| 11 | NWP1_12h_D-2_U  |  0.1610 |            0.0033 |            0.0140 |    0.0472 |    0.0550 |\n",
      "| 10 | NWP1_18h_D-2_V  |  0.1590 |            0.0512 |           -0.0141 |    0.0818 |    0.0545 |\n",
      "|  9 | NWP1_06h_D_T    |  0.1771 |            0.0190 |           -0.0142 |    0.0245 |    0.0225 |\n",
      "|  8 | NWP4_12h_D-1_V  |  0.1514 |           -0.0034 |            0.0200 |    0.0348 |    0.0387 |\n",
      "|  7 | NWP1_00h_D-1_V  |  0.1604 |            0.0455 |           -0.0202 |    0.0784 |    0.0561 |\n",
      "|  6 | NWP1_00h_D-1_U  |  0.1609 |            0.0132 |            0.0210 |    0.0551 |    0.0589 |\n",
      "|  5 | NWP1_12h_D-1_U  |  0.1608 |            0.0349 |            0.0215 |    0.0822 |    0.0743 |\n",
      "|  4 | NWP1_06h_D_U    |  0.1737 |            0.0914 |           -0.0321 |    0.0943 |    0.0618 |\n",
      "|  3 | NWP1_00h_D_U    |  0.1613 |            0.1151 |           -0.0337 |    0.1557 |    0.1102 |\n",
      "|  2 | NWP1_12h_D-1_V  |  0.1599 |            0.0288 |            0.0371 |    0.1185 |    0.0909 |\n",
      "|  1 | NWP1_18h_D-1_V  |  0.1602 |            0.0475 |            0.0656 |    0.1670 |    0.1168 |\n",
      "|  0 | NWP1_00h_D_V    |  0.1610 |            0.0048 |            0.1186 |    0.1710 |    0.1168 |\n",
      "+----+-----------------+---------+-------------------+-------------------+-----------+-----------+\n"
     ]
    },
    {
     "name": "stderr",
     "output_type": "stream",
     "text": [
      "E:\\wei\\logiciel\\envs\\alpheeenv\\lib\\site-packages\\sklearn\\base.py:197: FutureWarning: From version 0.24, get_params will raise an AttributeError if a parameter cannot be retrieved as an instance attribute. Previously it would return None.\n",
      "  FutureWarning)\n"
     ]
    },
    {
     "name": "stdout",
     "output_type": "stream",
     "text": [
      "Now using the model training_params that you passed in:\n",
      "{}\n",
      "After overwriting our defaults with your values, here are the final params that will be used to initialize the model:\n",
      "{'presort': False, 'learning_rate': 0.1, 'warm_start': True}\n",
      "Running basic data cleaning\n",
      "Performing feature scaling\n",
      "Fitting DataFrameVectorizer\n",
      "Performing feature selection\n"
     ]
    },
    {
     "name": "stderr",
     "output_type": "stream",
     "text": [
      "E:\\wei\\logiciel\\envs\\alpheeenv\\lib\\site-packages\\sklearn\\base.py:197: FutureWarning: From version 0.24, get_params will raise an AttributeError if a parameter cannot be retrieved as an instance attribute. Previously it would return None.\n",
      "  FutureWarning)\n"
     ]
    },
    {
     "name": "stdout",
     "output_type": "stream",
     "text": [
      "Now using the model training_params that you passed in:\n",
      "{}\n",
      "After overwriting our defaults with your values, here are the final params that will be used to initialize the model:\n",
      "{'presort': False, 'learning_rate': 0.1, 'warm_start': True}\n",
      "\n",
      "\n",
      "********************************************************************************************\n",
      "About to run GridSearchCV on the pipeline for several models to predict Production\n",
      "Fitting 3 folds for each of 11 candidates, totalling 33 fits\n"
     ]
    },
    {
     "name": "stderr",
     "output_type": "stream",
     "text": [
      "[Parallel(n_jobs=-1)]: Using backend LokyBackend with 4 concurrent workers.\n",
      "[Parallel(n_jobs=-1)]: Done  12 tasks      | elapsed:   22.0s\n",
      "[Parallel(n_jobs=-1)]: Done  33 out of  33 | elapsed:  3.6min finished\n",
      "E:\\wei\\logiciel\\envs\\alpheeenv\\lib\\site-packages\\sklearn\\ensemble\\_gb.py:1342: FutureWarning: The parameter 'presort' is deprecated and has no effect. It will be removed in v0.24. You can suppress this warning by not passing any value to the 'presort' parameter. We also recommend using HistGradientBoosting models instead.\n",
      "  FutureWarning)\n",
      "E:\\wei\\logiciel\\envs\\alpheeenv\\lib\\site-packages\\sklearn\\ensemble\\_gb.py:1342: FutureWarning: The parameter 'presort' is deprecated and has no effect. It will be removed in v0.24. You can suppress this warning by not passing any value to the 'presort' parameter. We also recommend using HistGradientBoosting models instead.\n",
      "  FutureWarning)\n",
      "E:\\wei\\logiciel\\envs\\alpheeenv\\lib\\site-packages\\sklearn\\ensemble\\_gb.py:1342: FutureWarning: The parameter 'presort' is deprecated and has no effect. It will be removed in v0.24. You can suppress this warning by not passing any value to the 'presort' parameter. We also recommend using HistGradientBoosting models instead.\n",
      "  FutureWarning)\n",
      "E:\\wei\\logiciel\\envs\\alpheeenv\\lib\\site-packages\\sklearn\\ensemble\\_gb.py:1342: FutureWarning: The parameter 'presort' is deprecated and has no effect. It will be removed in v0.24. You can suppress this warning by not passing any value to the 'presort' parameter. We also recommend using HistGradientBoosting models instead.\n",
      "  FutureWarning)\n"
     ]
    },
    {
     "name": "stdout",
     "output_type": "stream",
     "text": [
      "[1] random_holdout_set_from_training_data's score is: -1.624\n",
      "[2] random_holdout_set_from_training_data's score is: -1.528\n",
      "[3] random_holdout_set_from_training_data's score is: -1.443\n",
      "[4] random_holdout_set_from_training_data's score is: -1.366\n",
      "[5] random_holdout_set_from_training_data's score is: -1.296\n"
     ]
    },
    {
     "name": "stderr",
     "output_type": "stream",
     "text": [
      "E:\\wei\\logiciel\\envs\\alpheeenv\\lib\\site-packages\\sklearn\\ensemble\\_gb.py:1342: FutureWarning: The parameter 'presort' is deprecated and has no effect. It will be removed in v0.24. You can suppress this warning by not passing any value to the 'presort' parameter. We also recommend using HistGradientBoosting models instead.\n",
      "  FutureWarning)\n",
      "E:\\wei\\logiciel\\envs\\alpheeenv\\lib\\site-packages\\sklearn\\ensemble\\_gb.py:1342: FutureWarning: The parameter 'presort' is deprecated and has no effect. It will be removed in v0.24. You can suppress this warning by not passing any value to the 'presort' parameter. We also recommend using HistGradientBoosting models instead.\n",
      "  FutureWarning)\n",
      "E:\\wei\\logiciel\\envs\\alpheeenv\\lib\\site-packages\\sklearn\\ensemble\\_gb.py:1342: FutureWarning: The parameter 'presort' is deprecated and has no effect. It will be removed in v0.24. You can suppress this warning by not passing any value to the 'presort' parameter. We also recommend using HistGradientBoosting models instead.\n",
      "  FutureWarning)\n",
      "E:\\wei\\logiciel\\envs\\alpheeenv\\lib\\site-packages\\sklearn\\ensemble\\_gb.py:1342: FutureWarning: The parameter 'presort' is deprecated and has no effect. It will be removed in v0.24. You can suppress this warning by not passing any value to the 'presort' parameter. We also recommend using HistGradientBoosting models instead.\n",
      "  FutureWarning)\n"
     ]
    },
    {
     "name": "stdout",
     "output_type": "stream",
     "text": [
      "[6] random_holdout_set_from_training_data's score is: -1.237\n",
      "[7] random_holdout_set_from_training_data's score is: -1.182\n",
      "[8] random_holdout_set_from_training_data's score is: -1.136\n",
      "[9] random_holdout_set_from_training_data's score is: -1.094\n"
     ]
    },
    {
     "name": "stderr",
     "output_type": "stream",
     "text": [
      "E:\\wei\\logiciel\\envs\\alpheeenv\\lib\\site-packages\\sklearn\\ensemble\\_gb.py:1342: FutureWarning: The parameter 'presort' is deprecated and has no effect. It will be removed in v0.24. You can suppress this warning by not passing any value to the 'presort' parameter. We also recommend using HistGradientBoosting models instead.\n",
      "  FutureWarning)\n",
      "E:\\wei\\logiciel\\envs\\alpheeenv\\lib\\site-packages\\sklearn\\ensemble\\_gb.py:1342: FutureWarning: The parameter 'presort' is deprecated and has no effect. It will be removed in v0.24. You can suppress this warning by not passing any value to the 'presort' parameter. We also recommend using HistGradientBoosting models instead.\n",
      "  FutureWarning)\n",
      "E:\\wei\\logiciel\\envs\\alpheeenv\\lib\\site-packages\\sklearn\\ensemble\\_gb.py:1342: FutureWarning: The parameter 'presort' is deprecated and has no effect. It will be removed in v0.24. You can suppress this warning by not passing any value to the 'presort' parameter. We also recommend using HistGradientBoosting models instead.\n",
      "  FutureWarning)\n",
      "E:\\wei\\logiciel\\envs\\alpheeenv\\lib\\site-packages\\sklearn\\ensemble\\_gb.py:1342: FutureWarning: The parameter 'presort' is deprecated and has no effect. It will be removed in v0.24. You can suppress this warning by not passing any value to the 'presort' parameter. We also recommend using HistGradientBoosting models instead.\n",
      "  FutureWarning)\n"
     ]
    },
    {
     "name": "stdout",
     "output_type": "stream",
     "text": [
      "[10] random_holdout_set_from_training_data's score is: -1.056\n",
      "[11] random_holdout_set_from_training_data's score is: -1.022\n",
      "[12] random_holdout_set_from_training_data's score is: -0.992\n",
      "[13] random_holdout_set_from_training_data's score is: -0.966\n"
     ]
    },
    {
     "name": "stderr",
     "output_type": "stream",
     "text": [
      "E:\\wei\\logiciel\\envs\\alpheeenv\\lib\\site-packages\\sklearn\\ensemble\\_gb.py:1342: FutureWarning: The parameter 'presort' is deprecated and has no effect. It will be removed in v0.24. You can suppress this warning by not passing any value to the 'presort' parameter. We also recommend using HistGradientBoosting models instead.\n",
      "  FutureWarning)\n",
      "E:\\wei\\logiciel\\envs\\alpheeenv\\lib\\site-packages\\sklearn\\ensemble\\_gb.py:1342: FutureWarning: The parameter 'presort' is deprecated and has no effect. It will be removed in v0.24. You can suppress this warning by not passing any value to the 'presort' parameter. We also recommend using HistGradientBoosting models instead.\n",
      "  FutureWarning)\n",
      "E:\\wei\\logiciel\\envs\\alpheeenv\\lib\\site-packages\\sklearn\\ensemble\\_gb.py:1342: FutureWarning: The parameter 'presort' is deprecated and has no effect. It will be removed in v0.24. You can suppress this warning by not passing any value to the 'presort' parameter. We also recommend using HistGradientBoosting models instead.\n",
      "  FutureWarning)\n",
      "E:\\wei\\logiciel\\envs\\alpheeenv\\lib\\site-packages\\sklearn\\ensemble\\_gb.py:1342: FutureWarning: The parameter 'presort' is deprecated and has no effect. It will be removed in v0.24. You can suppress this warning by not passing any value to the 'presort' parameter. We also recommend using HistGradientBoosting models instead.\n",
      "  FutureWarning)\n"
     ]
    },
    {
     "name": "stdout",
     "output_type": "stream",
     "text": [
      "[14] random_holdout_set_from_training_data's score is: -0.944\n",
      "[15] random_holdout_set_from_training_data's score is: -0.922\n",
      "[16] random_holdout_set_from_training_data's score is: -0.9\n",
      "[17] random_holdout_set_from_training_data's score is: -0.878\n"
     ]
    },
    {
     "name": "stderr",
     "output_type": "stream",
     "text": [
      "E:\\wei\\logiciel\\envs\\alpheeenv\\lib\\site-packages\\sklearn\\ensemble\\_gb.py:1342: FutureWarning: The parameter 'presort' is deprecated and has no effect. It will be removed in v0.24. You can suppress this warning by not passing any value to the 'presort' parameter. We also recommend using HistGradientBoosting models instead.\n",
      "  FutureWarning)\n",
      "E:\\wei\\logiciel\\envs\\alpheeenv\\lib\\site-packages\\sklearn\\ensemble\\_gb.py:1342: FutureWarning: The parameter 'presort' is deprecated and has no effect. It will be removed in v0.24. You can suppress this warning by not passing any value to the 'presort' parameter. We also recommend using HistGradientBoosting models instead.\n",
      "  FutureWarning)\n",
      "E:\\wei\\logiciel\\envs\\alpheeenv\\lib\\site-packages\\sklearn\\ensemble\\_gb.py:1342: FutureWarning: The parameter 'presort' is deprecated and has no effect. It will be removed in v0.24. You can suppress this warning by not passing any value to the 'presort' parameter. We also recommend using HistGradientBoosting models instead.\n",
      "  FutureWarning)\n",
      "E:\\wei\\logiciel\\envs\\alpheeenv\\lib\\site-packages\\sklearn\\ensemble\\_gb.py:1342: FutureWarning: The parameter 'presort' is deprecated and has no effect. It will be removed in v0.24. You can suppress this warning by not passing any value to the 'presort' parameter. We also recommend using HistGradientBoosting models instead.\n",
      "  FutureWarning)\n"
     ]
    },
    {
     "name": "stdout",
     "output_type": "stream",
     "text": [
      "[18] random_holdout_set_from_training_data's score is: -0.863\n",
      "[19] random_holdout_set_from_training_data's score is: -0.847\n",
      "[20] random_holdout_set_from_training_data's score is: -0.833\n",
      "[21] random_holdout_set_from_training_data's score is: -0.819\n"
     ]
    },
    {
     "name": "stderr",
     "output_type": "stream",
     "text": [
      "E:\\wei\\logiciel\\envs\\alpheeenv\\lib\\site-packages\\sklearn\\ensemble\\_gb.py:1342: FutureWarning: The parameter 'presort' is deprecated and has no effect. It will be removed in v0.24. You can suppress this warning by not passing any value to the 'presort' parameter. We also recommend using HistGradientBoosting models instead.\n",
      "  FutureWarning)\n",
      "E:\\wei\\logiciel\\envs\\alpheeenv\\lib\\site-packages\\sklearn\\ensemble\\_gb.py:1342: FutureWarning: The parameter 'presort' is deprecated and has no effect. It will be removed in v0.24. You can suppress this warning by not passing any value to the 'presort' parameter. We also recommend using HistGradientBoosting models instead.\n",
      "  FutureWarning)\n",
      "E:\\wei\\logiciel\\envs\\alpheeenv\\lib\\site-packages\\sklearn\\ensemble\\_gb.py:1342: FutureWarning: The parameter 'presort' is deprecated and has no effect. It will be removed in v0.24. You can suppress this warning by not passing any value to the 'presort' parameter. We also recommend using HistGradientBoosting models instead.\n",
      "  FutureWarning)\n",
      "E:\\wei\\logiciel\\envs\\alpheeenv\\lib\\site-packages\\sklearn\\ensemble\\_gb.py:1342: FutureWarning: The parameter 'presort' is deprecated and has no effect. It will be removed in v0.24. You can suppress this warning by not passing any value to the 'presort' parameter. We also recommend using HistGradientBoosting models instead.\n",
      "  FutureWarning)\n"
     ]
    },
    {
     "name": "stdout",
     "output_type": "stream",
     "text": [
      "[22] random_holdout_set_from_training_data's score is: -0.804\n",
      "[23] random_holdout_set_from_training_data's score is: -0.791\n",
      "[24] random_holdout_set_from_training_data's score is: -0.782\n",
      "[25] random_holdout_set_from_training_data's score is: -0.771\n"
     ]
    },
    {
     "name": "stderr",
     "output_type": "stream",
     "text": [
      "E:\\wei\\logiciel\\envs\\alpheeenv\\lib\\site-packages\\sklearn\\ensemble\\_gb.py:1342: FutureWarning: The parameter 'presort' is deprecated and has no effect. It will be removed in v0.24. You can suppress this warning by not passing any value to the 'presort' parameter. We also recommend using HistGradientBoosting models instead.\n",
      "  FutureWarning)\n",
      "E:\\wei\\logiciel\\envs\\alpheeenv\\lib\\site-packages\\sklearn\\ensemble\\_gb.py:1342: FutureWarning: The parameter 'presort' is deprecated and has no effect. It will be removed in v0.24. You can suppress this warning by not passing any value to the 'presort' parameter. We also recommend using HistGradientBoosting models instead.\n",
      "  FutureWarning)\n",
      "E:\\wei\\logiciel\\envs\\alpheeenv\\lib\\site-packages\\sklearn\\ensemble\\_gb.py:1342: FutureWarning: The parameter 'presort' is deprecated and has no effect. It will be removed in v0.24. You can suppress this warning by not passing any value to the 'presort' parameter. We also recommend using HistGradientBoosting models instead.\n",
      "  FutureWarning)\n",
      "E:\\wei\\logiciel\\envs\\alpheeenv\\lib\\site-packages\\sklearn\\ensemble\\_gb.py:1342: FutureWarning: The parameter 'presort' is deprecated and has no effect. It will be removed in v0.24. You can suppress this warning by not passing any value to the 'presort' parameter. We also recommend using HistGradientBoosting models instead.\n",
      "  FutureWarning)\n"
     ]
    },
    {
     "name": "stdout",
     "output_type": "stream",
     "text": [
      "[26] random_holdout_set_from_training_data's score is: -0.762\n",
      "[27] random_holdout_set_from_training_data's score is: -0.753\n",
      "[28] random_holdout_set_from_training_data's score is: -0.743\n",
      "[29] random_holdout_set_from_training_data's score is: -0.734\n"
     ]
    },
    {
     "name": "stderr",
     "output_type": "stream",
     "text": [
      "E:\\wei\\logiciel\\envs\\alpheeenv\\lib\\site-packages\\sklearn\\ensemble\\_gb.py:1342: FutureWarning: The parameter 'presort' is deprecated and has no effect. It will be removed in v0.24. You can suppress this warning by not passing any value to the 'presort' parameter. We also recommend using HistGradientBoosting models instead.\n",
      "  FutureWarning)\n",
      "E:\\wei\\logiciel\\envs\\alpheeenv\\lib\\site-packages\\sklearn\\ensemble\\_gb.py:1342: FutureWarning: The parameter 'presort' is deprecated and has no effect. It will be removed in v0.24. You can suppress this warning by not passing any value to the 'presort' parameter. We also recommend using HistGradientBoosting models instead.\n",
      "  FutureWarning)\n",
      "E:\\wei\\logiciel\\envs\\alpheeenv\\lib\\site-packages\\sklearn\\ensemble\\_gb.py:1342: FutureWarning: The parameter 'presort' is deprecated and has no effect. It will be removed in v0.24. You can suppress this warning by not passing any value to the 'presort' parameter. We also recommend using HistGradientBoosting models instead.\n",
      "  FutureWarning)\n",
      "E:\\wei\\logiciel\\envs\\alpheeenv\\lib\\site-packages\\sklearn\\ensemble\\_gb.py:1342: FutureWarning: The parameter 'presort' is deprecated and has no effect. It will be removed in v0.24. You can suppress this warning by not passing any value to the 'presort' parameter. We also recommend using HistGradientBoosting models instead.\n",
      "  FutureWarning)\n"
     ]
    },
    {
     "name": "stdout",
     "output_type": "stream",
     "text": [
      "[30] random_holdout_set_from_training_data's score is: -0.726\n",
      "[31] random_holdout_set_from_training_data's score is: -0.718\n",
      "[32] random_holdout_set_from_training_data's score is: -0.712\n",
      "[33] random_holdout_set_from_training_data's score is: -0.706\n"
     ]
    },
    {
     "name": "stderr",
     "output_type": "stream",
     "text": [
      "E:\\wei\\logiciel\\envs\\alpheeenv\\lib\\site-packages\\sklearn\\ensemble\\_gb.py:1342: FutureWarning: The parameter 'presort' is deprecated and has no effect. It will be removed in v0.24. You can suppress this warning by not passing any value to the 'presort' parameter. We also recommend using HistGradientBoosting models instead.\n",
      "  FutureWarning)\n",
      "E:\\wei\\logiciel\\envs\\alpheeenv\\lib\\site-packages\\sklearn\\ensemble\\_gb.py:1342: FutureWarning: The parameter 'presort' is deprecated and has no effect. It will be removed in v0.24. You can suppress this warning by not passing any value to the 'presort' parameter. We also recommend using HistGradientBoosting models instead.\n",
      "  FutureWarning)\n",
      "E:\\wei\\logiciel\\envs\\alpheeenv\\lib\\site-packages\\sklearn\\ensemble\\_gb.py:1342: FutureWarning: The parameter 'presort' is deprecated and has no effect. It will be removed in v0.24. You can suppress this warning by not passing any value to the 'presort' parameter. We also recommend using HistGradientBoosting models instead.\n",
      "  FutureWarning)\n",
      "E:\\wei\\logiciel\\envs\\alpheeenv\\lib\\site-packages\\sklearn\\ensemble\\_gb.py:1342: FutureWarning: The parameter 'presort' is deprecated and has no effect. It will be removed in v0.24. You can suppress this warning by not passing any value to the 'presort' parameter. We also recommend using HistGradientBoosting models instead.\n",
      "  FutureWarning)\n"
     ]
    },
    {
     "name": "stdout",
     "output_type": "stream",
     "text": [
      "[34] random_holdout_set_from_training_data's score is: -0.701\n",
      "[35] random_holdout_set_from_training_data's score is: -0.695\n",
      "[36] random_holdout_set_from_training_data's score is: -0.689\n",
      "[37] random_holdout_set_from_training_data's score is: -0.684\n"
     ]
    },
    {
     "name": "stderr",
     "output_type": "stream",
     "text": [
      "E:\\wei\\logiciel\\envs\\alpheeenv\\lib\\site-packages\\sklearn\\ensemble\\_gb.py:1342: FutureWarning: The parameter 'presort' is deprecated and has no effect. It will be removed in v0.24. You can suppress this warning by not passing any value to the 'presort' parameter. We also recommend using HistGradientBoosting models instead.\n",
      "  FutureWarning)\n",
      "E:\\wei\\logiciel\\envs\\alpheeenv\\lib\\site-packages\\sklearn\\ensemble\\_gb.py:1342: FutureWarning: The parameter 'presort' is deprecated and has no effect. It will be removed in v0.24. You can suppress this warning by not passing any value to the 'presort' parameter. We also recommend using HistGradientBoosting models instead.\n",
      "  FutureWarning)\n",
      "E:\\wei\\logiciel\\envs\\alpheeenv\\lib\\site-packages\\sklearn\\ensemble\\_gb.py:1342: FutureWarning: The parameter 'presort' is deprecated and has no effect. It will be removed in v0.24. You can suppress this warning by not passing any value to the 'presort' parameter. We also recommend using HistGradientBoosting models instead.\n",
      "  FutureWarning)\n",
      "E:\\wei\\logiciel\\envs\\alpheeenv\\lib\\site-packages\\sklearn\\ensemble\\_gb.py:1342: FutureWarning: The parameter 'presort' is deprecated and has no effect. It will be removed in v0.24. You can suppress this warning by not passing any value to the 'presort' parameter. We also recommend using HistGradientBoosting models instead.\n",
      "  FutureWarning)\n"
     ]
    },
    {
     "name": "stdout",
     "output_type": "stream",
     "text": [
      "[38] random_holdout_set_from_training_data's score is: -0.679\n",
      "[39] random_holdout_set_from_training_data's score is: -0.674\n",
      "[40] random_holdout_set_from_training_data's score is: -0.671\n",
      "[41] random_holdout_set_from_training_data's score is: -0.668\n"
     ]
    },
    {
     "name": "stderr",
     "output_type": "stream",
     "text": [
      "E:\\wei\\logiciel\\envs\\alpheeenv\\lib\\site-packages\\sklearn\\ensemble\\_gb.py:1342: FutureWarning: The parameter 'presort' is deprecated and has no effect. It will be removed in v0.24. You can suppress this warning by not passing any value to the 'presort' parameter. We also recommend using HistGradientBoosting models instead.\n",
      "  FutureWarning)\n",
      "E:\\wei\\logiciel\\envs\\alpheeenv\\lib\\site-packages\\sklearn\\ensemble\\_gb.py:1342: FutureWarning: The parameter 'presort' is deprecated and has no effect. It will be removed in v0.24. You can suppress this warning by not passing any value to the 'presort' parameter. We also recommend using HistGradientBoosting models instead.\n",
      "  FutureWarning)\n",
      "E:\\wei\\logiciel\\envs\\alpheeenv\\lib\\site-packages\\sklearn\\ensemble\\_gb.py:1342: FutureWarning: The parameter 'presort' is deprecated and has no effect. It will be removed in v0.24. You can suppress this warning by not passing any value to the 'presort' parameter. We also recommend using HistGradientBoosting models instead.\n",
      "  FutureWarning)\n",
      "E:\\wei\\logiciel\\envs\\alpheeenv\\lib\\site-packages\\sklearn\\ensemble\\_gb.py:1342: FutureWarning: The parameter 'presort' is deprecated and has no effect. It will be removed in v0.24. You can suppress this warning by not passing any value to the 'presort' parameter. We also recommend using HistGradientBoosting models instead.\n",
      "  FutureWarning)\n"
     ]
    },
    {
     "name": "stdout",
     "output_type": "stream",
     "text": [
      "[42] random_holdout_set_from_training_data's score is: -0.665\n",
      "[43] random_holdout_set_from_training_data's score is: -0.662\n",
      "[44] random_holdout_set_from_training_data's score is: -0.659\n",
      "[45] random_holdout_set_from_training_data's score is: -0.655\n"
     ]
    },
    {
     "name": "stderr",
     "output_type": "stream",
     "text": [
      "E:\\wei\\logiciel\\envs\\alpheeenv\\lib\\site-packages\\sklearn\\ensemble\\_gb.py:1342: FutureWarning: The parameter 'presort' is deprecated and has no effect. It will be removed in v0.24. You can suppress this warning by not passing any value to the 'presort' parameter. We also recommend using HistGradientBoosting models instead.\n",
      "  FutureWarning)\n",
      "E:\\wei\\logiciel\\envs\\alpheeenv\\lib\\site-packages\\sklearn\\ensemble\\_gb.py:1342: FutureWarning: The parameter 'presort' is deprecated and has no effect. It will be removed in v0.24. You can suppress this warning by not passing any value to the 'presort' parameter. We also recommend using HistGradientBoosting models instead.\n",
      "  FutureWarning)\n",
      "E:\\wei\\logiciel\\envs\\alpheeenv\\lib\\site-packages\\sklearn\\ensemble\\_gb.py:1342: FutureWarning: The parameter 'presort' is deprecated and has no effect. It will be removed in v0.24. You can suppress this warning by not passing any value to the 'presort' parameter. We also recommend using HistGradientBoosting models instead.\n",
      "  FutureWarning)\n",
      "E:\\wei\\logiciel\\envs\\alpheeenv\\lib\\site-packages\\sklearn\\ensemble\\_gb.py:1342: FutureWarning: The parameter 'presort' is deprecated and has no effect. It will be removed in v0.24. You can suppress this warning by not passing any value to the 'presort' parameter. We also recommend using HistGradientBoosting models instead.\n",
      "  FutureWarning)\n"
     ]
    },
    {
     "name": "stdout",
     "output_type": "stream",
     "text": [
      "[46] random_holdout_set_from_training_data's score is: -0.653\n",
      "[47] random_holdout_set_from_training_data's score is: -0.652\n",
      "[48] random_holdout_set_from_training_data's score is: -0.648\n",
      "[49] random_holdout_set_from_training_data's score is: -0.645\n"
     ]
    },
    {
     "name": "stderr",
     "output_type": "stream",
     "text": [
      "E:\\wei\\logiciel\\envs\\alpheeenv\\lib\\site-packages\\sklearn\\ensemble\\_gb.py:1342: FutureWarning: The parameter 'presort' is deprecated and has no effect. It will be removed in v0.24. You can suppress this warning by not passing any value to the 'presort' parameter. We also recommend using HistGradientBoosting models instead.\n",
      "  FutureWarning)\n",
      "E:\\wei\\logiciel\\envs\\alpheeenv\\lib\\site-packages\\sklearn\\ensemble\\_gb.py:1342: FutureWarning: The parameter 'presort' is deprecated and has no effect. It will be removed in v0.24. You can suppress this warning by not passing any value to the 'presort' parameter. We also recommend using HistGradientBoosting models instead.\n",
      "  FutureWarning)\n",
      "E:\\wei\\logiciel\\envs\\alpheeenv\\lib\\site-packages\\sklearn\\ensemble\\_gb.py:1342: FutureWarning: The parameter 'presort' is deprecated and has no effect. It will be removed in v0.24. You can suppress this warning by not passing any value to the 'presort' parameter. We also recommend using HistGradientBoosting models instead.\n",
      "  FutureWarning)\n"
     ]
    },
    {
     "name": "stdout",
     "output_type": "stream",
     "text": [
      "[50] random_holdout_set_from_training_data's score is: -0.643\n",
      "[52] random_holdout_set_from_training_data's score is: -0.639\n"
     ]
    },
    {
     "name": "stderr",
     "output_type": "stream",
     "text": [
      "E:\\wei\\logiciel\\envs\\alpheeenv\\lib\\site-packages\\sklearn\\ensemble\\_gb.py:1342: FutureWarning: The parameter 'presort' is deprecated and has no effect. It will be removed in v0.24. You can suppress this warning by not passing any value to the 'presort' parameter. We also recommend using HistGradientBoosting models instead.\n",
      "  FutureWarning)\n",
      "E:\\wei\\logiciel\\envs\\alpheeenv\\lib\\site-packages\\sklearn\\ensemble\\_gb.py:1342: FutureWarning: The parameter 'presort' is deprecated and has no effect. It will be removed in v0.24. You can suppress this warning by not passing any value to the 'presort' parameter. We also recommend using HistGradientBoosting models instead.\n",
      "  FutureWarning)\n"
     ]
    },
    {
     "name": "stdout",
     "output_type": "stream",
     "text": [
      "[54] random_holdout_set_from_training_data's score is: -0.637\n",
      "[56] random_holdout_set_from_training_data's score is: -0.635\n",
      "[58] random_holdout_set_from_training_data's score is: -0.632\n"
     ]
    },
    {
     "name": "stderr",
     "output_type": "stream",
     "text": [
      "E:\\wei\\logiciel\\envs\\alpheeenv\\lib\\site-packages\\sklearn\\ensemble\\_gb.py:1342: FutureWarning: The parameter 'presort' is deprecated and has no effect. It will be removed in v0.24. You can suppress this warning by not passing any value to the 'presort' parameter. We also recommend using HistGradientBoosting models instead.\n",
      "  FutureWarning)\n",
      "E:\\wei\\logiciel\\envs\\alpheeenv\\lib\\site-packages\\sklearn\\ensemble\\_gb.py:1342: FutureWarning: The parameter 'presort' is deprecated and has no effect. It will be removed in v0.24. You can suppress this warning by not passing any value to the 'presort' parameter. We also recommend using HistGradientBoosting models instead.\n",
      "  FutureWarning)\n"
     ]
    },
    {
     "name": "stdout",
     "output_type": "stream",
     "text": [
      "[60] random_holdout_set_from_training_data's score is: -0.63\n",
      "[62] random_holdout_set_from_training_data's score is: -0.629\n"
     ]
    },
    {
     "name": "stderr",
     "output_type": "stream",
     "text": [
      "E:\\wei\\logiciel\\envs\\alpheeenv\\lib\\site-packages\\sklearn\\ensemble\\_gb.py:1342: FutureWarning: The parameter 'presort' is deprecated and has no effect. It will be removed in v0.24. You can suppress this warning by not passing any value to the 'presort' parameter. We also recommend using HistGradientBoosting models instead.\n",
      "  FutureWarning)\n",
      "E:\\wei\\logiciel\\envs\\alpheeenv\\lib\\site-packages\\sklearn\\ensemble\\_gb.py:1342: FutureWarning: The parameter 'presort' is deprecated and has no effect. It will be removed in v0.24. You can suppress this warning by not passing any value to the 'presort' parameter. We also recommend using HistGradientBoosting models instead.\n",
      "  FutureWarning)\n"
     ]
    },
    {
     "name": "stdout",
     "output_type": "stream",
     "text": [
      "[64] random_holdout_set_from_training_data's score is: -0.627\n",
      "[66] random_holdout_set_from_training_data's score is: -0.626\n",
      "[68] random_holdout_set_from_training_data's score is: -0.624\n"
     ]
    },
    {
     "name": "stderr",
     "output_type": "stream",
     "text": [
      "E:\\wei\\logiciel\\envs\\alpheeenv\\lib\\site-packages\\sklearn\\ensemble\\_gb.py:1342: FutureWarning: The parameter 'presort' is deprecated and has no effect. It will be removed in v0.24. You can suppress this warning by not passing any value to the 'presort' parameter. We also recommend using HistGradientBoosting models instead.\n",
      "  FutureWarning)\n",
      "E:\\wei\\logiciel\\envs\\alpheeenv\\lib\\site-packages\\sklearn\\ensemble\\_gb.py:1342: FutureWarning: The parameter 'presort' is deprecated and has no effect. It will be removed in v0.24. You can suppress this warning by not passing any value to the 'presort' parameter. We also recommend using HistGradientBoosting models instead.\n",
      "  FutureWarning)\n",
      "E:\\wei\\logiciel\\envs\\alpheeenv\\lib\\site-packages\\sklearn\\ensemble\\_gb.py:1342: FutureWarning: The parameter 'presort' is deprecated and has no effect. It will be removed in v0.24. You can suppress this warning by not passing any value to the 'presort' parameter. We also recommend using HistGradientBoosting models instead.\n",
      "  FutureWarning)\n",
      "E:\\wei\\logiciel\\envs\\alpheeenv\\lib\\site-packages\\sklearn\\ensemble\\_gb.py:1342: FutureWarning: The parameter 'presort' is deprecated and has no effect. It will be removed in v0.24. You can suppress this warning by not passing any value to the 'presort' parameter. We also recommend using HistGradientBoosting models instead.\n",
      "  FutureWarning)\n"
     ]
    },
    {
     "name": "stdout",
     "output_type": "stream",
     "text": [
      "[70] random_holdout_set_from_training_data's score is: -0.622\n",
      "[72] random_holdout_set_from_training_data's score is: -0.622\n"
     ]
    },
    {
     "name": "stderr",
     "output_type": "stream",
     "text": [
      "E:\\wei\\logiciel\\envs\\alpheeenv\\lib\\site-packages\\sklearn\\ensemble\\_gb.py:1342: FutureWarning: The parameter 'presort' is deprecated and has no effect. It will be removed in v0.24. You can suppress this warning by not passing any value to the 'presort' parameter. We also recommend using HistGradientBoosting models instead.\n",
      "  FutureWarning)\n",
      "E:\\wei\\logiciel\\envs\\alpheeenv\\lib\\site-packages\\sklearn\\ensemble\\_gb.py:1342: FutureWarning: The parameter 'presort' is deprecated and has no effect. It will be removed in v0.24. You can suppress this warning by not passing any value to the 'presort' parameter. We also recommend using HistGradientBoosting models instead.\n",
      "  FutureWarning)\n"
     ]
    },
    {
     "name": "stdout",
     "output_type": "stream",
     "text": [
      "[74] random_holdout_set_from_training_data's score is: -0.62\n",
      "[76] random_holdout_set_from_training_data's score is: -0.619\n"
     ]
    },
    {
     "name": "stderr",
     "output_type": "stream",
     "text": [
      "E:\\wei\\logiciel\\envs\\alpheeenv\\lib\\site-packages\\sklearn\\ensemble\\_gb.py:1342: FutureWarning: The parameter 'presort' is deprecated and has no effect. It will be removed in v0.24. You can suppress this warning by not passing any value to the 'presort' parameter. We also recommend using HistGradientBoosting models instead.\n",
      "  FutureWarning)\n",
      "E:\\wei\\logiciel\\envs\\alpheeenv\\lib\\site-packages\\sklearn\\ensemble\\_gb.py:1342: FutureWarning: The parameter 'presort' is deprecated and has no effect. It will be removed in v0.24. You can suppress this warning by not passing any value to the 'presort' parameter. We also recommend using HistGradientBoosting models instead.\n",
      "  FutureWarning)\n"
     ]
    },
    {
     "name": "stdout",
     "output_type": "stream",
     "text": [
      "[78] random_holdout_set_from_training_data's score is: -0.618\n",
      "[80] random_holdout_set_from_training_data's score is: -0.616\n"
     ]
    },
    {
     "name": "stderr",
     "output_type": "stream",
     "text": [
      "E:\\wei\\logiciel\\envs\\alpheeenv\\lib\\site-packages\\sklearn\\ensemble\\_gb.py:1342: FutureWarning: The parameter 'presort' is deprecated and has no effect. It will be removed in v0.24. You can suppress this warning by not passing any value to the 'presort' parameter. We also recommend using HistGradientBoosting models instead.\n",
      "  FutureWarning)\n",
      "E:\\wei\\logiciel\\envs\\alpheeenv\\lib\\site-packages\\sklearn\\ensemble\\_gb.py:1342: FutureWarning: The parameter 'presort' is deprecated and has no effect. It will be removed in v0.24. You can suppress this warning by not passing any value to the 'presort' parameter. We also recommend using HistGradientBoosting models instead.\n",
      "  FutureWarning)\n"
     ]
    },
    {
     "name": "stdout",
     "output_type": "stream",
     "text": [
      "[82] random_holdout_set_from_training_data's score is: -0.616\n",
      "[84] random_holdout_set_from_training_data's score is: -0.615\n"
     ]
    },
    {
     "name": "stderr",
     "output_type": "stream",
     "text": [
      "E:\\wei\\logiciel\\envs\\alpheeenv\\lib\\site-packages\\sklearn\\ensemble\\_gb.py:1342: FutureWarning: The parameter 'presort' is deprecated and has no effect. It will be removed in v0.24. You can suppress this warning by not passing any value to the 'presort' parameter. We also recommend using HistGradientBoosting models instead.\n",
      "  FutureWarning)\n",
      "E:\\wei\\logiciel\\envs\\alpheeenv\\lib\\site-packages\\sklearn\\ensemble\\_gb.py:1342: FutureWarning: The parameter 'presort' is deprecated and has no effect. It will be removed in v0.24. You can suppress this warning by not passing any value to the 'presort' parameter. We also recommend using HistGradientBoosting models instead.\n",
      "  FutureWarning)\n"
     ]
    },
    {
     "name": "stdout",
     "output_type": "stream",
     "text": [
      "[86] random_holdout_set_from_training_data's score is: -0.615\n",
      "[88] random_holdout_set_from_training_data's score is: -0.614\n"
     ]
    },
    {
     "name": "stderr",
     "output_type": "stream",
     "text": [
      "E:\\wei\\logiciel\\envs\\alpheeenv\\lib\\site-packages\\sklearn\\ensemble\\_gb.py:1342: FutureWarning: The parameter 'presort' is deprecated and has no effect. It will be removed in v0.24. You can suppress this warning by not passing any value to the 'presort' parameter. We also recommend using HistGradientBoosting models instead.\n",
      "  FutureWarning)\n",
      "E:\\wei\\logiciel\\envs\\alpheeenv\\lib\\site-packages\\sklearn\\ensemble\\_gb.py:1342: FutureWarning: The parameter 'presort' is deprecated and has no effect. It will be removed in v0.24. You can suppress this warning by not passing any value to the 'presort' parameter. We also recommend using HistGradientBoosting models instead.\n",
      "  FutureWarning)\n"
     ]
    },
    {
     "name": "stdout",
     "output_type": "stream",
     "text": [
      "[90] random_holdout_set_from_training_data's score is: -0.614\n",
      "[92] random_holdout_set_from_training_data's score is: -0.613\n"
     ]
    },
    {
     "name": "stderr",
     "output_type": "stream",
     "text": [
      "E:\\wei\\logiciel\\envs\\alpheeenv\\lib\\site-packages\\sklearn\\ensemble\\_gb.py:1342: FutureWarning: The parameter 'presort' is deprecated and has no effect. It will be removed in v0.24. You can suppress this warning by not passing any value to the 'presort' parameter. We also recommend using HistGradientBoosting models instead.\n",
      "  FutureWarning)\n",
      "E:\\wei\\logiciel\\envs\\alpheeenv\\lib\\site-packages\\sklearn\\ensemble\\_gb.py:1342: FutureWarning: The parameter 'presort' is deprecated and has no effect. It will be removed in v0.24. You can suppress this warning by not passing any value to the 'presort' parameter. We also recommend using HistGradientBoosting models instead.\n",
      "  FutureWarning)\n"
     ]
    },
    {
     "name": "stdout",
     "output_type": "stream",
     "text": [
      "[94] random_holdout_set_from_training_data's score is: -0.612\n",
      "[96] random_holdout_set_from_training_data's score is: -0.612\n"
     ]
    },
    {
     "name": "stderr",
     "output_type": "stream",
     "text": [
      "E:\\wei\\logiciel\\envs\\alpheeenv\\lib\\site-packages\\sklearn\\ensemble\\_gb.py:1342: FutureWarning: The parameter 'presort' is deprecated and has no effect. It will be removed in v0.24. You can suppress this warning by not passing any value to the 'presort' parameter. We also recommend using HistGradientBoosting models instead.\n",
      "  FutureWarning)\n",
      "E:\\wei\\logiciel\\envs\\alpheeenv\\lib\\site-packages\\sklearn\\ensemble\\_gb.py:1342: FutureWarning: The parameter 'presort' is deprecated and has no effect. It will be removed in v0.24. You can suppress this warning by not passing any value to the 'presort' parameter. We also recommend using HistGradientBoosting models instead.\n",
      "  FutureWarning)\n"
     ]
    },
    {
     "name": "stdout",
     "output_type": "stream",
     "text": [
      "[98] random_holdout_set_from_training_data's score is: -0.611\n",
      "[100] random_holdout_set_from_training_data's score is: -0.611\n"
     ]
    },
    {
     "name": "stderr",
     "output_type": "stream",
     "text": [
      "E:\\wei\\logiciel\\envs\\alpheeenv\\lib\\site-packages\\sklearn\\ensemble\\_gb.py:1342: FutureWarning: The parameter 'presort' is deprecated and has no effect. It will be removed in v0.24. You can suppress this warning by not passing any value to the 'presort' parameter. We also recommend using HistGradientBoosting models instead.\n",
      "  FutureWarning)\n",
      "E:\\wei\\logiciel\\envs\\alpheeenv\\lib\\site-packages\\sklearn\\ensemble\\_gb.py:1342: FutureWarning: The parameter 'presort' is deprecated and has no effect. It will be removed in v0.24. You can suppress this warning by not passing any value to the 'presort' parameter. We also recommend using HistGradientBoosting models instead.\n",
      "  FutureWarning)\n"
     ]
    },
    {
     "name": "stdout",
     "output_type": "stream",
     "text": [
      "[103] random_holdout_set_from_training_data's score is: -0.61\n",
      "[106] random_holdout_set_from_training_data's score is: -0.609\n"
     ]
    },
    {
     "name": "stderr",
     "output_type": "stream",
     "text": [
      "E:\\wei\\logiciel\\envs\\alpheeenv\\lib\\site-packages\\sklearn\\ensemble\\_gb.py:1342: FutureWarning: The parameter 'presort' is deprecated and has no effect. It will be removed in v0.24. You can suppress this warning by not passing any value to the 'presort' parameter. We also recommend using HistGradientBoosting models instead.\n",
      "  FutureWarning)\n",
      "E:\\wei\\logiciel\\envs\\alpheeenv\\lib\\site-packages\\sklearn\\ensemble\\_gb.py:1342: FutureWarning: The parameter 'presort' is deprecated and has no effect. It will be removed in v0.24. You can suppress this warning by not passing any value to the 'presort' parameter. We also recommend using HistGradientBoosting models instead.\n",
      "  FutureWarning)\n"
     ]
    },
    {
     "name": "stdout",
     "output_type": "stream",
     "text": [
      "[109] random_holdout_set_from_training_data's score is: -0.609\n",
      "[112] random_holdout_set_from_training_data's score is: -0.609\n"
     ]
    },
    {
     "name": "stderr",
     "output_type": "stream",
     "text": [
      "E:\\wei\\logiciel\\envs\\alpheeenv\\lib\\site-packages\\sklearn\\ensemble\\_gb.py:1342: FutureWarning: The parameter 'presort' is deprecated and has no effect. It will be removed in v0.24. You can suppress this warning by not passing any value to the 'presort' parameter. We also recommend using HistGradientBoosting models instead.\n",
      "  FutureWarning)\n",
      "E:\\wei\\logiciel\\envs\\alpheeenv\\lib\\site-packages\\sklearn\\ensemble\\_gb.py:1342: FutureWarning: The parameter 'presort' is deprecated and has no effect. It will be removed in v0.24. You can suppress this warning by not passing any value to the 'presort' parameter. We also recommend using HistGradientBoosting models instead.\n",
      "  FutureWarning)\n"
     ]
    },
    {
     "name": "stdout",
     "output_type": "stream",
     "text": [
      "[115] random_holdout_set_from_training_data's score is: -0.607\n",
      "[118] random_holdout_set_from_training_data's score is: -0.607\n"
     ]
    },
    {
     "name": "stderr",
     "output_type": "stream",
     "text": [
      "E:\\wei\\logiciel\\envs\\alpheeenv\\lib\\site-packages\\sklearn\\ensemble\\_gb.py:1342: FutureWarning: The parameter 'presort' is deprecated and has no effect. It will be removed in v0.24. You can suppress this warning by not passing any value to the 'presort' parameter. We also recommend using HistGradientBoosting models instead.\n",
      "  FutureWarning)\n",
      "E:\\wei\\logiciel\\envs\\alpheeenv\\lib\\site-packages\\sklearn\\ensemble\\_gb.py:1342: FutureWarning: The parameter 'presort' is deprecated and has no effect. It will be removed in v0.24. You can suppress this warning by not passing any value to the 'presort' parameter. We also recommend using HistGradientBoosting models instead.\n",
      "  FutureWarning)\n"
     ]
    },
    {
     "name": "stdout",
     "output_type": "stream",
     "text": [
      "[121] random_holdout_set_from_training_data's score is: -0.607\n",
      "[124] random_holdout_set_from_training_data's score is: -0.606\n"
     ]
    },
    {
     "name": "stderr",
     "output_type": "stream",
     "text": [
      "E:\\wei\\logiciel\\envs\\alpheeenv\\lib\\site-packages\\sklearn\\ensemble\\_gb.py:1342: FutureWarning: The parameter 'presort' is deprecated and has no effect. It will be removed in v0.24. You can suppress this warning by not passing any value to the 'presort' parameter. We also recommend using HistGradientBoosting models instead.\n",
      "  FutureWarning)\n",
      "E:\\wei\\logiciel\\envs\\alpheeenv\\lib\\site-packages\\sklearn\\ensemble\\_gb.py:1342: FutureWarning: The parameter 'presort' is deprecated and has no effect. It will be removed in v0.24. You can suppress this warning by not passing any value to the 'presort' parameter. We also recommend using HistGradientBoosting models instead.\n",
      "  FutureWarning)\n"
     ]
    },
    {
     "name": "stdout",
     "output_type": "stream",
     "text": [
      "[127] random_holdout_set_from_training_data's score is: -0.605\n",
      "[130] random_holdout_set_from_training_data's score is: -0.606\n"
     ]
    },
    {
     "name": "stderr",
     "output_type": "stream",
     "text": [
      "E:\\wei\\logiciel\\envs\\alpheeenv\\lib\\site-packages\\sklearn\\ensemble\\_gb.py:1342: FutureWarning: The parameter 'presort' is deprecated and has no effect. It will be removed in v0.24. You can suppress this warning by not passing any value to the 'presort' parameter. We also recommend using HistGradientBoosting models instead.\n",
      "  FutureWarning)\n",
      "E:\\wei\\logiciel\\envs\\alpheeenv\\lib\\site-packages\\sklearn\\ensemble\\_gb.py:1342: FutureWarning: The parameter 'presort' is deprecated and has no effect. It will be removed in v0.24. You can suppress this warning by not passing any value to the 'presort' parameter. We also recommend using HistGradientBoosting models instead.\n",
      "  FutureWarning)\n"
     ]
    },
    {
     "name": "stdout",
     "output_type": "stream",
     "text": [
      "[133] random_holdout_set_from_training_data's score is: -0.605\n",
      "[136] random_holdout_set_from_training_data's score is: -0.605\n"
     ]
    },
    {
     "name": "stderr",
     "output_type": "stream",
     "text": [
      "E:\\wei\\logiciel\\envs\\alpheeenv\\lib\\site-packages\\sklearn\\ensemble\\_gb.py:1342: FutureWarning: The parameter 'presort' is deprecated and has no effect. It will be removed in v0.24. You can suppress this warning by not passing any value to the 'presort' parameter. We also recommend using HistGradientBoosting models instead.\n",
      "  FutureWarning)\n",
      "E:\\wei\\logiciel\\envs\\alpheeenv\\lib\\site-packages\\sklearn\\ensemble\\_gb.py:1342: FutureWarning: The parameter 'presort' is deprecated and has no effect. It will be removed in v0.24. You can suppress this warning by not passing any value to the 'presort' parameter. We also recommend using HistGradientBoosting models instead.\n",
      "  FutureWarning)\n"
     ]
    },
    {
     "name": "stdout",
     "output_type": "stream",
     "text": [
      "[139] random_holdout_set_from_training_data's score is: -0.604\n",
      "[142] random_holdout_set_from_training_data's score is: -0.604\n"
     ]
    },
    {
     "name": "stderr",
     "output_type": "stream",
     "text": [
      "E:\\wei\\logiciel\\envs\\alpheeenv\\lib\\site-packages\\sklearn\\ensemble\\_gb.py:1342: FutureWarning: The parameter 'presort' is deprecated and has no effect. It will be removed in v0.24. You can suppress this warning by not passing any value to the 'presort' parameter. We also recommend using HistGradientBoosting models instead.\n",
      "  FutureWarning)\n",
      "E:\\wei\\logiciel\\envs\\alpheeenv\\lib\\site-packages\\sklearn\\ensemble\\_gb.py:1342: FutureWarning: The parameter 'presort' is deprecated and has no effect. It will be removed in v0.24. You can suppress this warning by not passing any value to the 'presort' parameter. We also recommend using HistGradientBoosting models instead.\n",
      "  FutureWarning)\n"
     ]
    },
    {
     "name": "stdout",
     "output_type": "stream",
     "text": [
      "[145] random_holdout_set_from_training_data's score is: -0.603\n",
      "[148] random_holdout_set_from_training_data's score is: -0.604\n"
     ]
    },
    {
     "name": "stderr",
     "output_type": "stream",
     "text": [
      "E:\\wei\\logiciel\\envs\\alpheeenv\\lib\\site-packages\\sklearn\\ensemble\\_gb.py:1342: FutureWarning: The parameter 'presort' is deprecated and has no effect. It will be removed in v0.24. You can suppress this warning by not passing any value to the 'presort' parameter. We also recommend using HistGradientBoosting models instead.\n",
      "  FutureWarning)\n",
      "E:\\wei\\logiciel\\envs\\alpheeenv\\lib\\site-packages\\sklearn\\ensemble\\_gb.py:1342: FutureWarning: The parameter 'presort' is deprecated and has no effect. It will be removed in v0.24. You can suppress this warning by not passing any value to the 'presort' parameter. We also recommend using HistGradientBoosting models instead.\n",
      "  FutureWarning)\n"
     ]
    },
    {
     "name": "stdout",
     "output_type": "stream",
     "text": [
      "[151] random_holdout_set_from_training_data's score is: -0.603\n",
      "[154] random_holdout_set_from_training_data's score is: -0.602\n"
     ]
    },
    {
     "name": "stderr",
     "output_type": "stream",
     "text": [
      "E:\\wei\\logiciel\\envs\\alpheeenv\\lib\\site-packages\\sklearn\\ensemble\\_gb.py:1342: FutureWarning: The parameter 'presort' is deprecated and has no effect. It will be removed in v0.24. You can suppress this warning by not passing any value to the 'presort' parameter. We also recommend using HistGradientBoosting models instead.\n",
      "  FutureWarning)\n",
      "E:\\wei\\logiciel\\envs\\alpheeenv\\lib\\site-packages\\sklearn\\ensemble\\_gb.py:1342: FutureWarning: The parameter 'presort' is deprecated and has no effect. It will be removed in v0.24. You can suppress this warning by not passing any value to the 'presort' parameter. We also recommend using HistGradientBoosting models instead.\n",
      "  FutureWarning)\n"
     ]
    },
    {
     "name": "stdout",
     "output_type": "stream",
     "text": [
      "[157] random_holdout_set_from_training_data's score is: -0.602\n",
      "[160] random_holdout_set_from_training_data's score is: -0.602\n"
     ]
    },
    {
     "name": "stderr",
     "output_type": "stream",
     "text": [
      "E:\\wei\\logiciel\\envs\\alpheeenv\\lib\\site-packages\\sklearn\\ensemble\\_gb.py:1342: FutureWarning: The parameter 'presort' is deprecated and has no effect. It will be removed in v0.24. You can suppress this warning by not passing any value to the 'presort' parameter. We also recommend using HistGradientBoosting models instead.\n",
      "  FutureWarning)\n",
      "E:\\wei\\logiciel\\envs\\alpheeenv\\lib\\site-packages\\sklearn\\ensemble\\_gb.py:1342: FutureWarning: The parameter 'presort' is deprecated and has no effect. It will be removed in v0.24. You can suppress this warning by not passing any value to the 'presort' parameter. We also recommend using HistGradientBoosting models instead.\n",
      "  FutureWarning)\n"
     ]
    },
    {
     "name": "stdout",
     "output_type": "stream",
     "text": [
      "[163] random_holdout_set_from_training_data's score is: -0.603\n",
      "[166] random_holdout_set_from_training_data's score is: -0.603\n"
     ]
    },
    {
     "name": "stderr",
     "output_type": "stream",
     "text": [
      "E:\\wei\\logiciel\\envs\\alpheeenv\\lib\\site-packages\\sklearn\\ensemble\\_gb.py:1342: FutureWarning: The parameter 'presort' is deprecated and has no effect. It will be removed in v0.24. You can suppress this warning by not passing any value to the 'presort' parameter. We also recommend using HistGradientBoosting models instead.\n",
      "  FutureWarning)\n",
      "E:\\wei\\logiciel\\envs\\alpheeenv\\lib\\site-packages\\sklearn\\ensemble\\_gb.py:1342: FutureWarning: The parameter 'presort' is deprecated and has no effect. It will be removed in v0.24. You can suppress this warning by not passing any value to the 'presort' parameter. We also recommend using HistGradientBoosting models instead.\n",
      "  FutureWarning)\n"
     ]
    },
    {
     "name": "stdout",
     "output_type": "stream",
     "text": [
      "[169] random_holdout_set_from_training_data's score is: -0.602\n",
      "[172] random_holdout_set_from_training_data's score is: -0.602\n"
     ]
    },
    {
     "name": "stderr",
     "output_type": "stream",
     "text": [
      "E:\\wei\\logiciel\\envs\\alpheeenv\\lib\\site-packages\\sklearn\\ensemble\\_gb.py:1342: FutureWarning: The parameter 'presort' is deprecated and has no effect. It will be removed in v0.24. You can suppress this warning by not passing any value to the 'presort' parameter. We also recommend using HistGradientBoosting models instead.\n",
      "  FutureWarning)\n",
      "E:\\wei\\logiciel\\envs\\alpheeenv\\lib\\site-packages\\sklearn\\ensemble\\_gb.py:1342: FutureWarning: The parameter 'presort' is deprecated and has no effect. It will be removed in v0.24. You can suppress this warning by not passing any value to the 'presort' parameter. We also recommend using HistGradientBoosting models instead.\n",
      "  FutureWarning)\n"
     ]
    },
    {
     "name": "stdout",
     "output_type": "stream",
     "text": [
      "[175] random_holdout_set_from_training_data's score is: -0.601\n",
      "[178] random_holdout_set_from_training_data's score is: -0.601\n"
     ]
    },
    {
     "name": "stderr",
     "output_type": "stream",
     "text": [
      "E:\\wei\\logiciel\\envs\\alpheeenv\\lib\\site-packages\\sklearn\\ensemble\\_gb.py:1342: FutureWarning: The parameter 'presort' is deprecated and has no effect. It will be removed in v0.24. You can suppress this warning by not passing any value to the 'presort' parameter. We also recommend using HistGradientBoosting models instead.\n",
      "  FutureWarning)\n",
      "E:\\wei\\logiciel\\envs\\alpheeenv\\lib\\site-packages\\sklearn\\ensemble\\_gb.py:1342: FutureWarning: The parameter 'presort' is deprecated and has no effect. It will be removed in v0.24. You can suppress this warning by not passing any value to the 'presort' parameter. We also recommend using HistGradientBoosting models instead.\n",
      "  FutureWarning)\n"
     ]
    },
    {
     "name": "stdout",
     "output_type": "stream",
     "text": [
      "[181] random_holdout_set_from_training_data's score is: -0.6\n",
      "[184] random_holdout_set_from_training_data's score is: -0.6\n"
     ]
    },
    {
     "name": "stderr",
     "output_type": "stream",
     "text": [
      "E:\\wei\\logiciel\\envs\\alpheeenv\\lib\\site-packages\\sklearn\\ensemble\\_gb.py:1342: FutureWarning: The parameter 'presort' is deprecated and has no effect. It will be removed in v0.24. You can suppress this warning by not passing any value to the 'presort' parameter. We also recommend using HistGradientBoosting models instead.\n",
      "  FutureWarning)\n",
      "E:\\wei\\logiciel\\envs\\alpheeenv\\lib\\site-packages\\sklearn\\ensemble\\_gb.py:1342: FutureWarning: The parameter 'presort' is deprecated and has no effect. It will be removed in v0.24. You can suppress this warning by not passing any value to the 'presort' parameter. We also recommend using HistGradientBoosting models instead.\n",
      "  FutureWarning)\n"
     ]
    },
    {
     "name": "stdout",
     "output_type": "stream",
     "text": [
      "[187] random_holdout_set_from_training_data's score is: -0.6\n",
      "[190] random_holdout_set_from_training_data's score is: -0.599\n"
     ]
    },
    {
     "name": "stderr",
     "output_type": "stream",
     "text": [
      "E:\\wei\\logiciel\\envs\\alpheeenv\\lib\\site-packages\\sklearn\\ensemble\\_gb.py:1342: FutureWarning: The parameter 'presort' is deprecated and has no effect. It will be removed in v0.24. You can suppress this warning by not passing any value to the 'presort' parameter. We also recommend using HistGradientBoosting models instead.\n",
      "  FutureWarning)\n",
      "E:\\wei\\logiciel\\envs\\alpheeenv\\lib\\site-packages\\sklearn\\ensemble\\_gb.py:1342: FutureWarning: The parameter 'presort' is deprecated and has no effect. It will be removed in v0.24. You can suppress this warning by not passing any value to the 'presort' parameter. We also recommend using HistGradientBoosting models instead.\n",
      "  FutureWarning)\n"
     ]
    },
    {
     "name": "stdout",
     "output_type": "stream",
     "text": [
      "[193] random_holdout_set_from_training_data's score is: -0.599\n",
      "[196] random_holdout_set_from_training_data's score is: -0.599\n"
     ]
    },
    {
     "name": "stderr",
     "output_type": "stream",
     "text": [
      "E:\\wei\\logiciel\\envs\\alpheeenv\\lib\\site-packages\\sklearn\\ensemble\\_gb.py:1342: FutureWarning: The parameter 'presort' is deprecated and has no effect. It will be removed in v0.24. You can suppress this warning by not passing any value to the 'presort' parameter. We also recommend using HistGradientBoosting models instead.\n",
      "  FutureWarning)\n"
     ]
    },
    {
     "name": "stdout",
     "output_type": "stream",
     "text": [
      "[199] random_holdout_set_from_training_data's score is: -0.598\n",
      "[202] random_holdout_set_from_training_data's score is: -0.597\n"
     ]
    },
    {
     "name": "stderr",
     "output_type": "stream",
     "text": [
      "E:\\wei\\logiciel\\envs\\alpheeenv\\lib\\site-packages\\sklearn\\ensemble\\_gb.py:1342: FutureWarning: The parameter 'presort' is deprecated and has no effect. It will be removed in v0.24. You can suppress this warning by not passing any value to the 'presort' parameter. We also recommend using HistGradientBoosting models instead.\n",
      "  FutureWarning)\n",
      "E:\\wei\\logiciel\\envs\\alpheeenv\\lib\\site-packages\\sklearn\\ensemble\\_gb.py:1342: FutureWarning: The parameter 'presort' is deprecated and has no effect. It will be removed in v0.24. You can suppress this warning by not passing any value to the 'presort' parameter. We also recommend using HistGradientBoosting models instead.\n",
      "  FutureWarning)\n"
     ]
    },
    {
     "name": "stdout",
     "output_type": "stream",
     "text": [
      "[205] random_holdout_set_from_training_data's score is: -0.597\n",
      "[208] random_holdout_set_from_training_data's score is: -0.596"
     ]
    },
    {
     "name": "stderr",
     "output_type": "stream",
     "text": [
      "E:\\wei\\logiciel\\envs\\alpheeenv\\lib\\site-packages\\sklearn\\ensemble\\_gb.py:1342: FutureWarning: The parameter 'presort' is deprecated and has no effect. It will be removed in v0.24. You can suppress this warning by not passing any value to the 'presort' parameter. We also recommend using HistGradientBoosting models instead.\n",
      "  FutureWarning)\n"
     ]
    },
    {
     "name": "stdout",
     "output_type": "stream",
     "text": [
      "\n",
      "[211] random_holdout_set_from_training_data's score is: -0.597\n"
     ]
    },
    {
     "name": "stderr",
     "output_type": "stream",
     "text": [
      "E:\\wei\\logiciel\\envs\\alpheeenv\\lib\\site-packages\\sklearn\\ensemble\\_gb.py:1342: FutureWarning: The parameter 'presort' is deprecated and has no effect. It will be removed in v0.24. You can suppress this warning by not passing any value to the 'presort' parameter. We also recommend using HistGradientBoosting models instead.\n",
      "  FutureWarning)\n",
      "E:\\wei\\logiciel\\envs\\alpheeenv\\lib\\site-packages\\sklearn\\ensemble\\_gb.py:1342: FutureWarning: The parameter 'presort' is deprecated and has no effect. It will be removed in v0.24. You can suppress this warning by not passing any value to the 'presort' parameter. We also recommend using HistGradientBoosting models instead.\n",
      "  FutureWarning)\n"
     ]
    },
    {
     "name": "stdout",
     "output_type": "stream",
     "text": [
      "[214] random_holdout_set_from_training_data's score is: -0.596\n",
      "[217] random_holdout_set_from_training_data's score is: -0.596\n"
     ]
    },
    {
     "name": "stderr",
     "output_type": "stream",
     "text": [
      "E:\\wei\\logiciel\\envs\\alpheeenv\\lib\\site-packages\\sklearn\\ensemble\\_gb.py:1342: FutureWarning: The parameter 'presort' is deprecated and has no effect. It will be removed in v0.24. You can suppress this warning by not passing any value to the 'presort' parameter. We also recommend using HistGradientBoosting models instead.\n",
      "  FutureWarning)\n",
      "E:\\wei\\logiciel\\envs\\alpheeenv\\lib\\site-packages\\sklearn\\ensemble\\_gb.py:1342: FutureWarning: The parameter 'presort' is deprecated and has no effect. It will be removed in v0.24. You can suppress this warning by not passing any value to the 'presort' parameter. We also recommend using HistGradientBoosting models instead.\n",
      "  FutureWarning)\n"
     ]
    },
    {
     "name": "stdout",
     "output_type": "stream",
     "text": [
      "[220] random_holdout_set_from_training_data's score is: -0.596\n",
      "[223] random_holdout_set_from_training_data's score is: -0.596"
     ]
    },
    {
     "name": "stderr",
     "output_type": "stream",
     "text": [
      "E:\\wei\\logiciel\\envs\\alpheeenv\\lib\\site-packages\\sklearn\\ensemble\\_gb.py:1342: FutureWarning: The parameter 'presort' is deprecated and has no effect. It will be removed in v0.24. You can suppress this warning by not passing any value to the 'presort' parameter. We also recommend using HistGradientBoosting models instead.\n",
      "  FutureWarning)\n"
     ]
    },
    {
     "name": "stdout",
     "output_type": "stream",
     "text": [
      "\n",
      "[226] random_holdout_set_from_training_data's score is: -0.595\n"
     ]
    },
    {
     "name": "stderr",
     "output_type": "stream",
     "text": [
      "E:\\wei\\logiciel\\envs\\alpheeenv\\lib\\site-packages\\sklearn\\ensemble\\_gb.py:1342: FutureWarning: The parameter 'presort' is deprecated and has no effect. It will be removed in v0.24. You can suppress this warning by not passing any value to the 'presort' parameter. We also recommend using HistGradientBoosting models instead.\n",
      "  FutureWarning)\n",
      "E:\\wei\\logiciel\\envs\\alpheeenv\\lib\\site-packages\\sklearn\\ensemble\\_gb.py:1342: FutureWarning: The parameter 'presort' is deprecated and has no effect. It will be removed in v0.24. You can suppress this warning by not passing any value to the 'presort' parameter. We also recommend using HistGradientBoosting models instead.\n",
      "  FutureWarning)\n"
     ]
    },
    {
     "name": "stdout",
     "output_type": "stream",
     "text": [
      "[229] random_holdout_set_from_training_data's score is: -0.594\n",
      "[232] random_holdout_set_from_training_data's score is: -0.594"
     ]
    },
    {
     "name": "stderr",
     "output_type": "stream",
     "text": [
      "E:\\wei\\logiciel\\envs\\alpheeenv\\lib\\site-packages\\sklearn\\ensemble\\_gb.py:1342: FutureWarning: The parameter 'presort' is deprecated and has no effect. It will be removed in v0.24. You can suppress this warning by not passing any value to the 'presort' parameter. We also recommend using HistGradientBoosting models instead.\n",
      "  FutureWarning)\n"
     ]
    },
    {
     "name": "stdout",
     "output_type": "stream",
     "text": [
      "\n",
      "[235] random_holdout_set_from_training_data's score is: -0.594"
     ]
    },
    {
     "name": "stderr",
     "output_type": "stream",
     "text": [
      "E:\\wei\\logiciel\\envs\\alpheeenv\\lib\\site-packages\\sklearn\\ensemble\\_gb.py:1342: FutureWarning: The parameter 'presort' is deprecated and has no effect. It will be removed in v0.24. You can suppress this warning by not passing any value to the 'presort' parameter. We also recommend using HistGradientBoosting models instead.\n",
      "  FutureWarning)\n"
     ]
    },
    {
     "name": "stdout",
     "output_type": "stream",
     "text": [
      "\n",
      "[238] random_holdout_set_from_training_data's score is: -0.594\n"
     ]
    },
    {
     "name": "stderr",
     "output_type": "stream",
     "text": [
      "E:\\wei\\logiciel\\envs\\alpheeenv\\lib\\site-packages\\sklearn\\ensemble\\_gb.py:1342: FutureWarning: The parameter 'presort' is deprecated and has no effect. It will be removed in v0.24. You can suppress this warning by not passing any value to the 'presort' parameter. We also recommend using HistGradientBoosting models instead.\n",
      "  FutureWarning)\n",
      "E:\\wei\\logiciel\\envs\\alpheeenv\\lib\\site-packages\\sklearn\\ensemble\\_gb.py:1342: FutureWarning: The parameter 'presort' is deprecated and has no effect. It will be removed in v0.24. You can suppress this warning by not passing any value to the 'presort' parameter. We also recommend using HistGradientBoosting models instead.\n",
      "  FutureWarning)\n"
     ]
    },
    {
     "name": "stdout",
     "output_type": "stream",
     "text": [
      "[241] random_holdout_set_from_training_data's score is: -0.594\n",
      "[244] random_holdout_set_from_training_data's score is: -0.594\n"
     ]
    },
    {
     "name": "stderr",
     "output_type": "stream",
     "text": [
      "E:\\wei\\logiciel\\envs\\alpheeenv\\lib\\site-packages\\sklearn\\ensemble\\_gb.py:1342: FutureWarning: The parameter 'presort' is deprecated and has no effect. It will be removed in v0.24. You can suppress this warning by not passing any value to the 'presort' parameter. We also recommend using HistGradientBoosting models instead.\n",
      "  FutureWarning)\n",
      "E:\\wei\\logiciel\\envs\\alpheeenv\\lib\\site-packages\\sklearn\\ensemble\\_gb.py:1342: FutureWarning: The parameter 'presort' is deprecated and has no effect. It will be removed in v0.24. You can suppress this warning by not passing any value to the 'presort' parameter. We also recommend using HistGradientBoosting models instead.\n",
      "  FutureWarning)\n"
     ]
    },
    {
     "name": "stdout",
     "output_type": "stream",
     "text": [
      "[247] random_holdout_set_from_training_data's score is: -0.593\n"
     ]
    },
    {
     "name": "stderr",
     "output_type": "stream",
     "text": [
      "E:\\wei\\logiciel\\envs\\alpheeenv\\lib\\site-packages\\sklearn\\ensemble\\_gb.py:1342: FutureWarning: The parameter 'presort' is deprecated and has no effect. It will be removed in v0.24. You can suppress this warning by not passing any value to the 'presort' parameter. We also recommend using HistGradientBoosting models instead.\n",
      "  FutureWarning)\n"
     ]
    },
    {
     "name": "stdout",
     "output_type": "stream",
     "text": [
      "[250] random_holdout_set_from_training_data's score is: -0.593\n"
     ]
    },
    {
     "name": "stderr",
     "output_type": "stream",
     "text": [
      "E:\\wei\\logiciel\\envs\\alpheeenv\\lib\\site-packages\\sklearn\\ensemble\\_gb.py:1342: FutureWarning: The parameter 'presort' is deprecated and has no effect. It will be removed in v0.24. You can suppress this warning by not passing any value to the 'presort' parameter. We also recommend using HistGradientBoosting models instead.\n",
      "  FutureWarning)\n"
     ]
    },
    {
     "name": "stdout",
     "output_type": "stream",
     "text": [
      "[255] random_holdout_set_from_training_data's score is: -0.593\n"
     ]
    },
    {
     "name": "stderr",
     "output_type": "stream",
     "text": [
      "E:\\wei\\logiciel\\envs\\alpheeenv\\lib\\site-packages\\sklearn\\ensemble\\_gb.py:1342: FutureWarning: The parameter 'presort' is deprecated and has no effect. It will be removed in v0.24. You can suppress this warning by not passing any value to the 'presort' parameter. We also recommend using HistGradientBoosting models instead.\n",
      "  FutureWarning)\n"
     ]
    },
    {
     "name": "stdout",
     "output_type": "stream",
     "text": [
      "[260] random_holdout_set_from_training_data's score is: -0.593\n"
     ]
    },
    {
     "name": "stderr",
     "output_type": "stream",
     "text": [
      "E:\\wei\\logiciel\\envs\\alpheeenv\\lib\\site-packages\\sklearn\\ensemble\\_gb.py:1342: FutureWarning: The parameter 'presort' is deprecated and has no effect. It will be removed in v0.24. You can suppress this warning by not passing any value to the 'presort' parameter. We also recommend using HistGradientBoosting models instead.\n",
      "  FutureWarning)\n"
     ]
    },
    {
     "name": "stdout",
     "output_type": "stream",
     "text": [
      "[265] random_holdout_set_from_training_data's score is: -0.591\n"
     ]
    },
    {
     "name": "stderr",
     "output_type": "stream",
     "text": [
      "E:\\wei\\logiciel\\envs\\alpheeenv\\lib\\site-packages\\sklearn\\ensemble\\_gb.py:1342: FutureWarning: The parameter 'presort' is deprecated and has no effect. It will be removed in v0.24. You can suppress this warning by not passing any value to the 'presort' parameter. We also recommend using HistGradientBoosting models instead.\n",
      "  FutureWarning)\n"
     ]
    },
    {
     "name": "stdout",
     "output_type": "stream",
     "text": [
      "[270] random_holdout_set_from_training_data's score is: -0.591\n"
     ]
    },
    {
     "name": "stderr",
     "output_type": "stream",
     "text": [
      "E:\\wei\\logiciel\\envs\\alpheeenv\\lib\\site-packages\\sklearn\\ensemble\\_gb.py:1342: FutureWarning: The parameter 'presort' is deprecated and has no effect. It will be removed in v0.24. You can suppress this warning by not passing any value to the 'presort' parameter. We also recommend using HistGradientBoosting models instead.\n",
      "  FutureWarning)\n"
     ]
    },
    {
     "name": "stdout",
     "output_type": "stream",
     "text": [
      "[275] random_holdout_set_from_training_data's score is: -0.59\n"
     ]
    },
    {
     "name": "stderr",
     "output_type": "stream",
     "text": [
      "E:\\wei\\logiciel\\envs\\alpheeenv\\lib\\site-packages\\sklearn\\ensemble\\_gb.py:1342: FutureWarning: The parameter 'presort' is deprecated and has no effect. It will be removed in v0.24. You can suppress this warning by not passing any value to the 'presort' parameter. We also recommend using HistGradientBoosting models instead.\n",
      "  FutureWarning)\n"
     ]
    },
    {
     "name": "stdout",
     "output_type": "stream",
     "text": [
      "[280] random_holdout_set_from_training_data's score is: -0.59\n"
     ]
    },
    {
     "name": "stderr",
     "output_type": "stream",
     "text": [
      "E:\\wei\\logiciel\\envs\\alpheeenv\\lib\\site-packages\\sklearn\\ensemble\\_gb.py:1342: FutureWarning: The parameter 'presort' is deprecated and has no effect. It will be removed in v0.24. You can suppress this warning by not passing any value to the 'presort' parameter. We also recommend using HistGradientBoosting models instead.\n",
      "  FutureWarning)\n"
     ]
    },
    {
     "name": "stdout",
     "output_type": "stream",
     "text": [
      "[285] random_holdout_set_from_training_data's score is: -0.59\n"
     ]
    },
    {
     "name": "stderr",
     "output_type": "stream",
     "text": [
      "E:\\wei\\logiciel\\envs\\alpheeenv\\lib\\site-packages\\sklearn\\ensemble\\_gb.py:1342: FutureWarning: The parameter 'presort' is deprecated and has no effect. It will be removed in v0.24. You can suppress this warning by not passing any value to the 'presort' parameter. We also recommend using HistGradientBoosting models instead.\n",
      "  FutureWarning)\n"
     ]
    },
    {
     "name": "stdout",
     "output_type": "stream",
     "text": [
      "[290] random_holdout_set_from_training_data's score is: -0.59\n"
     ]
    },
    {
     "name": "stderr",
     "output_type": "stream",
     "text": [
      "E:\\wei\\logiciel\\envs\\alpheeenv\\lib\\site-packages\\sklearn\\ensemble\\_gb.py:1342: FutureWarning: The parameter 'presort' is deprecated and has no effect. It will be removed in v0.24. You can suppress this warning by not passing any value to the 'presort' parameter. We also recommend using HistGradientBoosting models instead.\n",
      "  FutureWarning)\n"
     ]
    },
    {
     "name": "stdout",
     "output_type": "stream",
     "text": [
      "[295] random_holdout_set_from_training_data's score is: -0.59\n"
     ]
    },
    {
     "name": "stderr",
     "output_type": "stream",
     "text": [
      "E:\\wei\\logiciel\\envs\\alpheeenv\\lib\\site-packages\\sklearn\\ensemble\\_gb.py:1342: FutureWarning: The parameter 'presort' is deprecated and has no effect. It will be removed in v0.24. You can suppress this warning by not passing any value to the 'presort' parameter. We also recommend using HistGradientBoosting models instead.\n",
      "  FutureWarning)\n"
     ]
    },
    {
     "name": "stdout",
     "output_type": "stream",
     "text": [
      "[300] random_holdout_set_from_training_data's score is: -0.589\n"
     ]
    },
    {
     "name": "stderr",
     "output_type": "stream",
     "text": [
      "E:\\wei\\logiciel\\envs\\alpheeenv\\lib\\site-packages\\sklearn\\ensemble\\_gb.py:1342: FutureWarning: The parameter 'presort' is deprecated and has no effect. It will be removed in v0.24. You can suppress this warning by not passing any value to the 'presort' parameter. We also recommend using HistGradientBoosting models instead.\n",
      "  FutureWarning)\n"
     ]
    },
    {
     "name": "stdout",
     "output_type": "stream",
     "text": [
      "[305] random_holdout_set_from_training_data's score is: -0.589\n"
     ]
    },
    {
     "name": "stderr",
     "output_type": "stream",
     "text": [
      "E:\\wei\\logiciel\\envs\\alpheeenv\\lib\\site-packages\\sklearn\\ensemble\\_gb.py:1342: FutureWarning: The parameter 'presort' is deprecated and has no effect. It will be removed in v0.24. You can suppress this warning by not passing any value to the 'presort' parameter. We also recommend using HistGradientBoosting models instead.\n",
      "  FutureWarning)\n"
     ]
    },
    {
     "name": "stdout",
     "output_type": "stream",
     "text": [
      "[310] random_holdout_set_from_training_data's score is: -0.589\n"
     ]
    },
    {
     "name": "stderr",
     "output_type": "stream",
     "text": [
      "E:\\wei\\logiciel\\envs\\alpheeenv\\lib\\site-packages\\sklearn\\ensemble\\_gb.py:1342: FutureWarning: The parameter 'presort' is deprecated and has no effect. It will be removed in v0.24. You can suppress this warning by not passing any value to the 'presort' parameter. We also recommend using HistGradientBoosting models instead.\n",
      "  FutureWarning)\n"
     ]
    },
    {
     "name": "stdout",
     "output_type": "stream",
     "text": [
      "[315] random_holdout_set_from_training_data's score is: -0.588\n"
     ]
    },
    {
     "name": "stderr",
     "output_type": "stream",
     "text": [
      "E:\\wei\\logiciel\\envs\\alpheeenv\\lib\\site-packages\\sklearn\\ensemble\\_gb.py:1342: FutureWarning: The parameter 'presort' is deprecated and has no effect. It will be removed in v0.24. You can suppress this warning by not passing any value to the 'presort' parameter. We also recommend using HistGradientBoosting models instead.\n",
      "  FutureWarning)\n"
     ]
    },
    {
     "name": "stdout",
     "output_type": "stream",
     "text": [
      "[320] random_holdout_set_from_training_data's score is: -0.588\n"
     ]
    },
    {
     "name": "stderr",
     "output_type": "stream",
     "text": [
      "E:\\wei\\logiciel\\envs\\alpheeenv\\lib\\site-packages\\sklearn\\ensemble\\_gb.py:1342: FutureWarning: The parameter 'presort' is deprecated and has no effect. It will be removed in v0.24. You can suppress this warning by not passing any value to the 'presort' parameter. We also recommend using HistGradientBoosting models instead.\n",
      "  FutureWarning)\n"
     ]
    },
    {
     "name": "stdout",
     "output_type": "stream",
     "text": [
      "[325] random_holdout_set_from_training_data's score is: -0.588\n"
     ]
    },
    {
     "name": "stderr",
     "output_type": "stream",
     "text": [
      "E:\\wei\\logiciel\\envs\\alpheeenv\\lib\\site-packages\\sklearn\\ensemble\\_gb.py:1342: FutureWarning: The parameter 'presort' is deprecated and has no effect. It will be removed in v0.24. You can suppress this warning by not passing any value to the 'presort' parameter. We also recommend using HistGradientBoosting models instead.\n",
      "  FutureWarning)\n"
     ]
    },
    {
     "name": "stdout",
     "output_type": "stream",
     "text": [
      "[330] random_holdout_set_from_training_data's score is: -0.588\n"
     ]
    },
    {
     "name": "stderr",
     "output_type": "stream",
     "text": [
      "E:\\wei\\logiciel\\envs\\alpheeenv\\lib\\site-packages\\sklearn\\ensemble\\_gb.py:1342: FutureWarning: The parameter 'presort' is deprecated and has no effect. It will be removed in v0.24. You can suppress this warning by not passing any value to the 'presort' parameter. We also recommend using HistGradientBoosting models instead.\n",
      "  FutureWarning)\n"
     ]
    },
    {
     "name": "stdout",
     "output_type": "stream",
     "text": [
      "[335] random_holdout_set_from_training_data's score is: -0.589\n"
     ]
    },
    {
     "name": "stderr",
     "output_type": "stream",
     "text": [
      "E:\\wei\\logiciel\\envs\\alpheeenv\\lib\\site-packages\\sklearn\\ensemble\\_gb.py:1342: FutureWarning: The parameter 'presort' is deprecated and has no effect. It will be removed in v0.24. You can suppress this warning by not passing any value to the 'presort' parameter. We also recommend using HistGradientBoosting models instead.\n",
      "  FutureWarning)\n"
     ]
    },
    {
     "name": "stdout",
     "output_type": "stream",
     "text": [
      "[340] random_holdout_set_from_training_data's score is: -0.588\n"
     ]
    },
    {
     "name": "stderr",
     "output_type": "stream",
     "text": [
      "E:\\wei\\logiciel\\envs\\alpheeenv\\lib\\site-packages\\sklearn\\ensemble\\_gb.py:1342: FutureWarning: The parameter 'presort' is deprecated and has no effect. It will be removed in v0.24. You can suppress this warning by not passing any value to the 'presort' parameter. We also recommend using HistGradientBoosting models instead.\n",
      "  FutureWarning)\n"
     ]
    },
    {
     "name": "stdout",
     "output_type": "stream",
     "text": [
      "[345] random_holdout_set_from_training_data's score is: -0.589\n"
     ]
    },
    {
     "name": "stderr",
     "output_type": "stream",
     "text": [
      "E:\\wei\\logiciel\\envs\\alpheeenv\\lib\\site-packages\\sklearn\\ensemble\\_gb.py:1342: FutureWarning: The parameter 'presort' is deprecated and has no effect. It will be removed in v0.24. You can suppress this warning by not passing any value to the 'presort' parameter. We also recommend using HistGradientBoosting models instead.\n",
      "  FutureWarning)\n"
     ]
    },
    {
     "name": "stdout",
     "output_type": "stream",
     "text": [
      "[350] random_holdout_set_from_training_data's score is: -0.589\n"
     ]
    },
    {
     "name": "stderr",
     "output_type": "stream",
     "text": [
      "E:\\wei\\logiciel\\envs\\alpheeenv\\lib\\site-packages\\sklearn\\ensemble\\_gb.py:1342: FutureWarning: The parameter 'presort' is deprecated and has no effect. It will be removed in v0.24. You can suppress this warning by not passing any value to the 'presort' parameter. We also recommend using HistGradientBoosting models instead.\n",
      "  FutureWarning)\n"
     ]
    },
    {
     "name": "stdout",
     "output_type": "stream",
     "text": [
      "[355] random_holdout_set_from_training_data's score is: -0.59\n"
     ]
    },
    {
     "name": "stderr",
     "output_type": "stream",
     "text": [
      "E:\\wei\\logiciel\\envs\\alpheeenv\\lib\\site-packages\\sklearn\\ensemble\\_gb.py:1342: FutureWarning: The parameter 'presort' is deprecated and has no effect. It will be removed in v0.24. You can suppress this warning by not passing any value to the 'presort' parameter. We also recommend using HistGradientBoosting models instead.\n",
      "  FutureWarning)\n"
     ]
    },
    {
     "name": "stdout",
     "output_type": "stream",
     "text": [
      "[360] random_holdout_set_from_training_data's score is: -0.589\n"
     ]
    },
    {
     "name": "stderr",
     "output_type": "stream",
     "text": [
      "E:\\wei\\logiciel\\envs\\alpheeenv\\lib\\site-packages\\sklearn\\ensemble\\_gb.py:1342: FutureWarning: The parameter 'presort' is deprecated and has no effect. It will be removed in v0.24. You can suppress this warning by not passing any value to the 'presort' parameter. We also recommend using HistGradientBoosting models instead.\n",
      "  FutureWarning)\n"
     ]
    },
    {
     "name": "stdout",
     "output_type": "stream",
     "text": [
      "[365] random_holdout_set_from_training_data's score is: -0.59\n"
     ]
    },
    {
     "name": "stderr",
     "output_type": "stream",
     "text": [
      "E:\\wei\\logiciel\\envs\\alpheeenv\\lib\\site-packages\\sklearn\\ensemble\\_gb.py:1342: FutureWarning: The parameter 'presort' is deprecated and has no effect. It will be removed in v0.24. You can suppress this warning by not passing any value to the 'presort' parameter. We also recommend using HistGradientBoosting models instead.\n",
      "  FutureWarning)\n"
     ]
    },
    {
     "name": "stdout",
     "output_type": "stream",
     "text": [
      "[370] random_holdout_set_from_training_data's score is: -0.59\n"
     ]
    },
    {
     "name": "stderr",
     "output_type": "stream",
     "text": [
      "E:\\wei\\logiciel\\envs\\alpheeenv\\lib\\site-packages\\sklearn\\ensemble\\_gb.py:1342: FutureWarning: The parameter 'presort' is deprecated and has no effect. It will be removed in v0.24. You can suppress this warning by not passing any value to the 'presort' parameter. We also recommend using HistGradientBoosting models instead.\n",
      "  FutureWarning)\n"
     ]
    },
    {
     "name": "stdout",
     "output_type": "stream",
     "text": [
      "[375] random_holdout_set_from_training_data's score is: -0.589\n"
     ]
    },
    {
     "name": "stderr",
     "output_type": "stream",
     "text": [
      "E:\\wei\\logiciel\\envs\\alpheeenv\\lib\\site-packages\\sklearn\\ensemble\\_gb.py:1342: FutureWarning: The parameter 'presort' is deprecated and has no effect. It will be removed in v0.24. You can suppress this warning by not passing any value to the 'presort' parameter. We also recommend using HistGradientBoosting models instead.\n",
      "  FutureWarning)\n"
     ]
    },
    {
     "name": "stdout",
     "output_type": "stream",
     "text": [
      "[380] random_holdout_set_from_training_data's score is: -0.59\n"
     ]
    },
    {
     "name": "stderr",
     "output_type": "stream",
     "text": [
      "E:\\wei\\logiciel\\envs\\alpheeenv\\lib\\site-packages\\sklearn\\ensemble\\_gb.py:1342: FutureWarning: The parameter 'presort' is deprecated and has no effect. It will be removed in v0.24. You can suppress this warning by not passing any value to the 'presort' parameter. We also recommend using HistGradientBoosting models instead.\n",
      "  FutureWarning)\n"
     ]
    },
    {
     "name": "stdout",
     "output_type": "stream",
     "text": [
      "[385] random_holdout_set_from_training_data's score is: -0.59\n"
     ]
    },
    {
     "name": "stderr",
     "output_type": "stream",
     "text": [
      "E:\\wei\\logiciel\\envs\\alpheeenv\\lib\\site-packages\\sklearn\\ensemble\\_gb.py:1342: FutureWarning: The parameter 'presort' is deprecated and has no effect. It will be removed in v0.24. You can suppress this warning by not passing any value to the 'presort' parameter. We also recommend using HistGradientBoosting models instead.\n",
      "  FutureWarning)\n"
     ]
    },
    {
     "name": "stdout",
     "output_type": "stream",
     "text": [
      "[390] random_holdout_set_from_training_data's score is: -0.59\n"
     ]
    },
    {
     "name": "stderr",
     "output_type": "stream",
     "text": [
      "E:\\wei\\logiciel\\envs\\alpheeenv\\lib\\site-packages\\sklearn\\ensemble\\_gb.py:1342: FutureWarning: The parameter 'presort' is deprecated and has no effect. It will be removed in v0.24. You can suppress this warning by not passing any value to the 'presort' parameter. We also recommend using HistGradientBoosting models instead.\n",
      "  FutureWarning)\n"
     ]
    },
    {
     "name": "stdout",
     "output_type": "stream",
     "text": [
      "[395] random_holdout_set_from_training_data's score is: -0.59\n"
     ]
    },
    {
     "name": "stderr",
     "output_type": "stream",
     "text": [
      "E:\\wei\\logiciel\\envs\\alpheeenv\\lib\\site-packages\\sklearn\\ensemble\\_gb.py:1342: FutureWarning: The parameter 'presort' is deprecated and has no effect. It will be removed in v0.24. You can suppress this warning by not passing any value to the 'presort' parameter. We also recommend using HistGradientBoosting models instead.\n",
      "  FutureWarning)\n"
     ]
    },
    {
     "name": "stdout",
     "output_type": "stream",
     "text": [
      "[400] random_holdout_set_from_training_data's score is: -0.589\n"
     ]
    },
    {
     "name": "stderr",
     "output_type": "stream",
     "text": [
      "E:\\wei\\logiciel\\envs\\alpheeenv\\lib\\site-packages\\sklearn\\ensemble\\_gb.py:1342: FutureWarning: The parameter 'presort' is deprecated and has no effect. It will be removed in v0.24. You can suppress this warning by not passing any value to the 'presort' parameter. We also recommend using HistGradientBoosting models instead.\n",
      "  FutureWarning)\n"
     ]
    },
    {
     "name": "stdout",
     "output_type": "stream",
     "text": [
      "[405] random_holdout_set_from_training_data's score is: -0.589\n"
     ]
    },
    {
     "name": "stderr",
     "output_type": "stream",
     "text": [
      "E:\\wei\\logiciel\\envs\\alpheeenv\\lib\\site-packages\\sklearn\\ensemble\\_gb.py:1342: FutureWarning: The parameter 'presort' is deprecated and has no effect. It will be removed in v0.24. You can suppress this warning by not passing any value to the 'presort' parameter. We also recommend using HistGradientBoosting models instead.\n",
      "  FutureWarning)\n"
     ]
    },
    {
     "name": "stdout",
     "output_type": "stream",
     "text": [
      "[410] random_holdout_set_from_training_data's score is: -0.588\n"
     ]
    },
    {
     "name": "stderr",
     "output_type": "stream",
     "text": [
      "E:\\wei\\logiciel\\envs\\alpheeenv\\lib\\site-packages\\sklearn\\ensemble\\_gb.py:1342: FutureWarning: The parameter 'presort' is deprecated and has no effect. It will be removed in v0.24. You can suppress this warning by not passing any value to the 'presort' parameter. We also recommend using HistGradientBoosting models instead.\n",
      "  FutureWarning)\n"
     ]
    },
    {
     "name": "stdout",
     "output_type": "stream",
     "text": [
      "[415] random_holdout_set_from_training_data's score is: -0.588\n",
      "The number of estimators that were the best for this training dataset: 315\n",
      "The best score on the holdout set: -0.5876308671570142\n",
      "The best CV score from our hyperparameter search (by default averaging across k-fold CV) for Production is:\n",
      "-0.752029811482859\n",
      "The best params were\n",
      "{'model': 'GradientBoostingRegressor'}\n",
      "Here are all the hyperparameters that were tried:\n",
      "Score in the following columns always refers to cross-validation score\n",
      "+--------------+\n",
      "|   mean_score |\n",
      "|--------------|\n",
      "|      -3.4256 |\n",
      "|      -3.2134 |\n",
      "|      -2.6753 |\n",
      "|      -1.7742 |\n",
      "|      -1.7680 |\n",
      "|      -1.7650 |\n",
      "|      -1.3234 |\n",
      "|      -0.7747 |\n",
      "|      -0.7690 |\n",
      "|      -0.7636 |\n",
      "|      -0.7520 |\n",
      "+--------------+\n",
      "Calculating feature responses, for advanced analytics.\n",
      "Here are our feature responses for the trained model\n",
      "+----+----------------+---------+-------------------+-------------------+-----------+-----------+\n",
      "|    | Feature Name   |   Delta |   FR_Decrementing |   FR_Incrementing |   FRD_MAD |   FRI_MAD |\n",
      "|----+----------------+---------+-------------------+-------------------+-----------+-----------|\n",
      "| 21 | NWP1_06h_D-1_U |  0.1605 |            0.0128 |           -0.0017 |    0.0473 |    0.0276 |\n",
      "| 20 | NWP4_00h_D-1_V |  0.1502 |           -0.0009 |            0.0020 |    0.0063 |    0.0062 |\n",
      "| 19 | NWP4_00h_D_V   |  0.1533 |            0.0282 |           -0.0059 |    0.0388 |    0.0382 |\n",
      "| 18 | NWP4_00h_D_U   |  0.1536 |            0.0147 |           -0.0082 |    0.0317 |    0.0305 |\n",
      "| 17 | NWP1_12h_D-2_U |  0.1609 |           -0.0228 |            0.0096 |    0.0173 |    0.0022 |\n",
      "| 16 | NWP4_12h_D-1_V |  0.1523 |            0.0114 |            0.0102 |    0.0342 |    0.0250 |\n",
      "| 15 | NWP1_06h_D_U   |  0.1712 |            0.0531 |           -0.0114 |    0.0378 |    0.0363 |\n",
      "| 14 | NWP1_00h_D-1_U |  0.1598 |           -0.0004 |            0.0169 |    0.0000 |    0.0000 |\n",
      "| 13 | NWP1_06h_D_V   |  0.1637 |            0.2518 |           -0.0179 |    0.0900 |    0.0317 |\n",
      "| 12 | NWP4_12h_D-1_U |  0.1530 |           -0.0235 |            0.0220 |    0.0003 |    0.0000 |\n",
      "| 11 | NWP1_18h_D-2_U |  0.1592 |            0.0133 |           -0.0232 |    0.0284 |    0.0180 |\n",
      "| 10 | NWP1_06h_D-1_V |  0.1576 |            0.0453 |           -0.0293 |    0.0313 |    0.0201 |\n",
      "|  9 | NWP4_00h_D-1_U |  0.1536 |           -0.0245 |            0.0320 |    0.0181 |    0.0224 |\n",
      "|  8 | NWP1_18h_D-2_V |  0.1588 |            0.0648 |           -0.0327 |    0.0213 |    0.0010 |\n",
      "|  7 | NWP1_18h_D_V   |  0.1174 |            0.2120 |            0.0329 |    0.3205 |    0.0063 |\n",
      "|  6 | NWP1_12h_D-1_U |  0.1608 |            0.0105 |            0.0336 |    0.0123 |    0.0112 |\n",
      "|  5 | NWP1_00h_D-1_V |  0.1570 |           -0.0068 |            0.0380 |    0.0032 |    0.0000 |\n",
      "|  4 | NWP1_12h_D-1_V |  0.1579 |           -0.0260 |            0.0440 |    0.0541 |    0.0707 |\n",
      "|  3 | NWP1_18h_D-1_U |  0.1623 |           -0.0068 |            0.0461 |    0.0604 |    0.0666 |\n",
      "|  2 | NWP1_18h_D-1_V |  0.1591 |            0.1015 |            0.0513 |    0.0474 |    0.0353 |\n",
      "|  1 | NWP1_00h_D_U   |  0.1591 |            0.0227 |            0.0782 |    0.0505 |    0.0359 |\n",
      "|  0 | NWP1_00h_D_V   |  0.1596 |           -0.0625 |            0.1676 |    0.1258 |    0.1275 |\n",
      "+----+----------------+---------+-------------------+-------------------+-----------+-----------+\n"
     ]
    },
    {
     "name": "stderr",
     "output_type": "stream",
     "text": [
      "E:\\wei\\logiciel\\envs\\alpheeenv\\lib\\site-packages\\sklearn\\base.py:197: FutureWarning: From version 0.24, get_params will raise an AttributeError if a parameter cannot be retrieved as an instance attribute. Previously it would return None.\n",
      "  FutureWarning)\n"
     ]
    },
    {
     "name": "stdout",
     "output_type": "stream",
     "text": [
      "Now using the model training_params that you passed in:\n",
      "{}\n",
      "After overwriting our defaults with your values, here are the final params that will be used to initialize the model:\n",
      "{'presort': False, 'learning_rate': 0.1, 'warm_start': True}\n"
     ]
    },
    {
     "name": "stderr",
     "output_type": "stream",
     "text": [
      "E:\\wei\\logiciel\\envs\\alpheeenv\\lib\\site-packages\\sklearn\\base.py:197: FutureWarning: From version 0.24, get_params will raise an AttributeError if a parameter cannot be retrieved as an instance attribute. Previously it would return None.\n",
      "  FutureWarning)\n"
     ]
    },
    {
     "name": "stdout",
     "output_type": "stream",
     "text": [
      "Running basic data cleaning\n",
      "Performing feature scaling\n",
      "Fitting DataFrameVectorizer\n",
      "Performing feature selection\n"
     ]
    },
    {
     "name": "stderr",
     "output_type": "stream",
     "text": [
      "E:\\wei\\logiciel\\envs\\alpheeenv\\lib\\site-packages\\sklearn\\base.py:197: FutureWarning: From version 0.24, get_params will raise an AttributeError if a parameter cannot be retrieved as an instance attribute. Previously it would return None.\n",
      "  FutureWarning)\n"
     ]
    },
    {
     "name": "stdout",
     "output_type": "stream",
     "text": [
      "Now using the model training_params that you passed in:\n",
      "{}\n",
      "After overwriting our defaults with your values, here are the final params that will be used to initialize the model:\n",
      "{'presort': False, 'learning_rate': 0.1, 'warm_start': True}\n",
      "\n",
      "\n",
      "********************************************************************************************\n",
      "About to run GridSearchCV on the pipeline for several models to predict Production\n",
      "Fitting 3 folds for each of 11 candidates, totalling 33 fits\n"
     ]
    },
    {
     "name": "stderr",
     "output_type": "stream",
     "text": [
      "[Parallel(n_jobs=-1)]: Using backend LokyBackend with 4 concurrent workers.\n",
      "[Parallel(n_jobs=-1)]: Done  12 tasks      | elapsed:   18.7s\n",
      "[Parallel(n_jobs=-1)]: Done  33 out of  33 | elapsed:  1.1min finished\n"
     ]
    },
    {
     "name": "stdout",
     "output_type": "stream",
     "text": [
      "The best CV score from our hyperparameter search (by default averaging across k-fold CV) for Production is:\n",
      "-0.8627131957589317\n",
      "The best params were\n",
      "{'model': 'RandomForestRegressor'}\n",
      "Here are all the hyperparameters that were tried:\n",
      "Score in the following columns always refers to cross-validation score\n",
      "+--------------+\n",
      "|   mean_score |\n",
      "|--------------|\n",
      "|      -4.7074 |\n",
      "|      -3.6446 |\n",
      "|      -2.5360 |\n",
      "|      -2.1116 |\n",
      "|      -2.0230 |\n",
      "|      -2.0208 |\n",
      "|      -1.5996 |\n",
      "|      -0.8903 |\n",
      "|      -0.8873 |\n",
      "|      -0.8698 |\n",
      "|      -0.8627 |\n",
      "+--------------+\n",
      "Calculating feature responses, for advanced analytics.\n",
      "Here are our feature responses for the trained model\n",
      "+----+----------------+---------+-------------------+-------------------+-----------+-----------+\n",
      "|    | Feature Name   |   Delta |   FR_Decrementing |   FR_Incrementing |   FRD_MAD |   FRI_MAD |\n",
      "|----+----------------+---------+-------------------+-------------------+-----------+-----------|\n",
      "| 20 | NWP1_12h_D-2_V |  0.1540 |            0.0346 |            0.0041 |    0.0320 |    0.0230 |\n",
      "| 19 | NWP1_00h_D-1_V |  0.1541 |            0.0172 |            0.0058 |    0.0297 |    0.0267 |\n",
      "| 18 | NWP4_00h_D-1_V |  0.1462 |            0.0109 |            0.0093 |    0.0228 |    0.0260 |\n",
      "| 17 | NWP4_12h_D-1_V |  0.1479 |            0.0132 |            0.0100 |    0.0247 |    0.0218 |\n",
      "| 16 | NWP1_12h_D-1_U |  0.1624 |            0.0052 |            0.0138 |    0.0373 |    0.0330 |\n",
      "| 15 | NWP1_18h_D-2_V |  0.1551 |            0.0084 |            0.0138 |    0.0208 |    0.0200 |\n",
      "| 14 | NWP1_06h_D_T   |  0.1732 |            0.0130 |           -0.0184 |    0.0097 |    0.0110 |\n",
      "| 13 | NWP1_12h_D-2_U |  0.1620 |           -0.0151 |            0.0212 |    0.0263 |    0.0250 |\n",
      "| 12 | NWP1_06h_D-1_V |  0.1532 |            0.0017 |            0.0218 |    0.0320 |    0.0253 |\n",
      "| 11 | NWP4_12h_D_U   |  0.1587 |           -0.0000 |            0.0245 |    0.0020 |    0.0107 |\n",
      "| 10 | NWP4_00h_D_U   |  0.1534 |           -0.0035 |            0.0249 |    0.0410 |    0.0377 |\n",
      "|  9 | NWP4_00h_D-1_U |  0.1536 |           -0.0049 |            0.0286 |    0.0293 |    0.0293 |\n",
      "|  8 | NWP1_12h_D-1_V |  0.1542 |            0.0247 |            0.0298 |    0.0377 |    0.0303 |\n",
      "|  7 | NWP1_18h_D-2_U |  0.1616 |           -0.0073 |            0.0318 |    0.0260 |    0.0325 |\n",
      "|  6 | NWP4_12h_D-1_U |  0.1523 |           -0.0153 |            0.0366 |    0.0360 |    0.0350 |\n",
      "|  5 | NWP1_00h_D_V   |  0.1569 |            0.0303 |            0.0414 |    0.0897 |    0.0503 |\n",
      "|  4 | NWP4_00h_D_V   |  0.1474 |            0.0216 |            0.0427 |    0.0498 |    0.0558 |\n",
      "|  3 | NWP1_06h_D_U   |  0.1734 |            0.0058 |            0.0491 |    0.0287 |    0.0320 |\n",
      "|  2 | NWP1_18h_D-1_U |  0.1622 |            0.0080 |            0.0892 |    0.0803 |    0.0885 |\n",
      "|  1 | NWP1_18h_D-1_V |  0.1538 |           -0.0146 |            0.0975 |    0.0540 |    0.0343 |\n",
      "|  0 | NWP1_00h_D_U   |  0.1611 |           -0.0405 |            0.1155 |    0.0627 |    0.0687 |\n",
      "+----+----------------+---------+-------------------+-------------------+-----------+-----------+\n"
     ]
    },
    {
     "name": "stderr",
     "output_type": "stream",
     "text": [
      "E:\\wei\\logiciel\\envs\\alpheeenv\\lib\\site-packages\\sklearn\\base.py:197: FutureWarning: From version 0.24, get_params will raise an AttributeError if a parameter cannot be retrieved as an instance attribute. Previously it would return None.\n",
      "  FutureWarning)\n"
     ]
    },
    {
     "name": "stdout",
     "output_type": "stream",
     "text": [
      "Now using the model training_params that you passed in:\n",
      "{}\n",
      "After overwriting our defaults with your values, here are the final params that will be used to initialize the model:\n",
      "{'presort': False, 'learning_rate': 0.1, 'warm_start': True}\n",
      "Running basic data cleaning\n",
      "Performing feature scaling\n",
      "Fitting DataFrameVectorizer\n",
      "Performing feature selection\n"
     ]
    },
    {
     "name": "stderr",
     "output_type": "stream",
     "text": [
      "E:\\wei\\logiciel\\envs\\alpheeenv\\lib\\site-packages\\sklearn\\base.py:197: FutureWarning: From version 0.24, get_params will raise an AttributeError if a parameter cannot be retrieved as an instance attribute. Previously it would return None.\n",
      "  FutureWarning)\n"
     ]
    },
    {
     "name": "stdout",
     "output_type": "stream",
     "text": [
      "Now using the model training_params that you passed in:\n",
      "{}\n",
      "After overwriting our defaults with your values, here are the final params that will be used to initialize the model:\n",
      "{'presort': False, 'learning_rate': 0.1, 'warm_start': True}\n",
      "\n",
      "\n",
      "********************************************************************************************\n",
      "About to run GridSearchCV on the pipeline for several models to predict Production\n",
      "Fitting 3 folds for each of 11 candidates, totalling 33 fits\n"
     ]
    },
    {
     "name": "stderr",
     "output_type": "stream",
     "text": [
      "[Parallel(n_jobs=-1)]: Using backend LokyBackend with 4 concurrent workers.\n",
      "[Parallel(n_jobs=-1)]: Done  12 tasks      | elapsed:   10.2s\n",
      "[Parallel(n_jobs=-1)]: Done  33 out of  33 | elapsed:   37.7s finished\n"
     ]
    },
    {
     "name": "stdout",
     "output_type": "stream",
     "text": [
      "The best CV score from our hyperparameter search (by default averaging across k-fold CV) for Production is:\n",
      "-0.5964380183811048\n",
      "The best params were\n",
      "{'model': 'ExtraTreesRegressor'}\n",
      "Here are all the hyperparameters that were tried:\n",
      "Score in the following columns always refers to cross-validation score\n",
      "+--------------+\n",
      "|   mean_score |\n",
      "|--------------|\n",
      "|      -3.5695 |\n",
      "|      -3.4466 |\n",
      "|      -2.8059 |\n",
      "|      -1.2409 |\n",
      "|      -1.2332 |\n",
      "|      -1.2310 |\n",
      "|      -0.7770 |\n",
      "|      -0.6213 |\n",
      "|      -0.6194 |\n",
      "|      -0.6156 |\n",
      "|      -0.5964 |\n",
      "+--------------+\n",
      "Calculating feature responses, for advanced analytics.\n",
      "Here are our feature responses for the trained model\n",
      "+----+----------------+---------+-------------------+-------------------+-----------+-----------+\n",
      "|    | Feature Name   |   Delta |   FR_Decrementing |   FR_Incrementing |   FRD_MAD |   FRI_MAD |\n",
      "|----+----------------+---------+-------------------+-------------------+-----------+-----------|\n",
      "| 11 | NWP4_00h_D-1_V |  0.1486 |            0.0358 |           -0.0033 |    0.0798 |    0.0667 |\n",
      "| 10 | NWP4_00h_D_V   |  0.1473 |            0.0072 |            0.0043 |    0.0871 |    0.0885 |\n",
      "|  9 | NWP1_18h_D-1_V |  0.1602 |            0.1504 |            0.0080 |    0.2351 |    0.1550 |\n",
      "|  8 | NWP4_12h_D-1_V |  0.1480 |            0.0208 |            0.0109 |    0.0721 |    0.0664 |\n",
      "|  7 | NWP4_12h_D_V   |  0.1526 |            0.0068 |            0.0132 |    0.0123 |    0.0652 |\n",
      "|  6 | NWP1_06h_D-1_V |  0.1617 |            0.0875 |            0.0225 |    0.1809 |    0.1379 |\n",
      "|  5 | NWP1_12h_D-1_V |  0.1621 |            0.0447 |            0.0295 |    0.1755 |    0.1556 |\n",
      "|  4 | NWP1_00h_D-1_V |  0.1622 |            0.0677 |            0.0311 |    0.1449 |    0.1113 |\n",
      "|  3 | NWP1_00h_D_V   |  0.1587 |            0.0497 |           -0.0321 |    0.1918 |    0.2054 |\n",
      "|  2 | NWP1_12h_D-2_V |  0.1648 |            0.0504 |           -0.0433 |    0.1096 |    0.0913 |\n",
      "|  1 | NWP1_12h_D_V   |  0.1570 |            0.0232 |           -0.0451 |    0.0128 |    0.1029 |\n",
      "|  0 | NWP1_06h_D_V   |  0.1654 |            0.0903 |           -0.0489 |    0.1065 |    0.1341 |\n",
      "+----+----------------+---------+-------------------+-------------------+-----------+-----------+\n"
     ]
    },
    {
     "name": "stderr",
     "output_type": "stream",
     "text": [
      "E:\\wei\\logiciel\\envs\\alpheeenv\\lib\\site-packages\\sklearn\\base.py:197: FutureWarning: From version 0.24, get_params will raise an AttributeError if a parameter cannot be retrieved as an instance attribute. Previously it would return None.\n",
      "  FutureWarning)\n"
     ]
    }
   ],
   "source": [
    "predictions = []\n",
    "for wf_name in ['WF1', 'WF2', 'WF3', 'WF4', 'WF5', 'WF6']:\n",
    "    df_train_WFx = create_data_WFx(wf_name, X_train, y_train)\n",
    "    df_test_WFx = create_data_WFx(wf_name, X_test)\n",
    "    ml_predictor = train_wf(df_train_WFx)\n",
    "    pred = pd.DataFrame({'pred': ml_predictor.predict(df_test_WFx), 'WF': wf_name, 'Time': df_test_WFx.index})\n",
    "    predictions.append(pred)\n",
    "predictions = pd.concat(predictions)"
   ]
  },
  {
   "cell_type": "code",
   "execution_count": 228,
   "metadata": {},
   "outputs": [
    {
     "data": {
      "text/html": [
       "<div>\n",
       "<style scoped>\n",
       "    .dataframe tbody tr th:only-of-type {\n",
       "        vertical-align: middle;\n",
       "    }\n",
       "\n",
       "    .dataframe tbody tr th {\n",
       "        vertical-align: top;\n",
       "    }\n",
       "\n",
       "    .dataframe thead th {\n",
       "        text-align: right;\n",
       "    }\n",
       "</style>\n",
       "<table border=\"1\" class=\"dataframe\">\n",
       "  <thead>\n",
       "    <tr style=\"text-align: right;\">\n",
       "      <th></th>\n",
       "      <th>pred</th>\n",
       "      <th>WF</th>\n",
       "      <th>Time</th>\n",
       "    </tr>\n",
       "  </thead>\n",
       "  <tbody>\n",
       "    <tr>\n",
       "      <th>0</th>\n",
       "      <td>4.5620</td>\n",
       "      <td>WF1</td>\n",
       "      <td>2019-01-16 01:00:00</td>\n",
       "    </tr>\n",
       "    <tr>\n",
       "      <th>1</th>\n",
       "      <td>4.5733</td>\n",
       "      <td>WF1</td>\n",
       "      <td>2019-01-16 02:00:00</td>\n",
       "    </tr>\n",
       "  </tbody>\n",
       "</table>\n",
       "</div>"
      ],
      "text/plain": [
       "     pred   WF                Time\n",
       "0  4.5620  WF1 2019-01-16 01:00:00\n",
       "1  4.5733  WF1 2019-01-16 02:00:00"
      ]
     },
     "execution_count": 228,
     "metadata": {},
     "output_type": "execute_result"
    }
   ],
   "source": [
    "predictions.head(2)"
   ]
  },
  {
   "cell_type": "code",
   "execution_count": 229,
   "metadata": {},
   "outputs": [],
   "source": [
    "df_test=X_test.merge(predictions, left_on=['WF', 'Time'], right_on=['WF', 'Time'])\n",
    "pd.DataFrame({'ID': X_test.index, 'Production':df_test.pred}).to_csv('response.csv', index=False)"
   ]
  },
  {
   "cell_type": "markdown",
   "metadata": {},
   "source": [
    " score : 92.9056"
   ]
  },
  {
   "cell_type": "markdown",
   "metadata": {},
   "source": [
    "# Grandiant Boosting Branch"
   ]
  },
  {
   "cell_type": "code",
   "execution_count": 238,
   "metadata": {},
   "outputs": [],
   "source": [
    "from lightgbm import LGBMRegressor\n",
    "\n",
    "def train_gbm_wf(df_train_WFx):\n",
    "    \n",
    "    lgbm_est = LGBMRegressor()\n",
    "    X = df_train_WFx.loc[:, features]\n",
    "    y = df_train_WFx.loc[:, target]\n",
    "\n",
    "    lgbm_est.fit(X, y)\n",
    "\n",
    "    return lgbm_est\n"
   ]
  },
  {
   "cell_type": "code",
   "execution_count": 240,
   "metadata": {},
   "outputs": [],
   "source": [
    "pred = pd.DataFrame({'pred': lgbm_est.predict(df_test_WFx.loc[:, features]), 'WF': wf_name, 'Time': df_test_WFx.index})"
   ]
  },
  {
   "cell_type": "code",
   "execution_count": 242,
   "metadata": {},
   "outputs": [],
   "source": [
    "predictions = []\n",
    "for wf_name in ['WF1', 'WF2', 'WF3', 'WF4', 'WF5', 'WF6']:\n",
    "    df_train_WFx = create_data_WFx(wf_name, X_train, y_train)\n",
    "    df_test_WFx = create_data_WFx(wf_name, X_test)\n",
    "    lgbm_est = train_gbm_wf(df_train_WFx)\n",
    "    pred = pd.DataFrame({'pred': lgbm_est.predict(df_test_WFx.loc[:, features]), \n",
    "                         'WF': wf_name, \n",
    "                         'Time': df_test_WFx.index}) \n",
    "    predictions.append(pred)\n",
    "predictions = pd.concat(predictions)\n",
    "predictions.head(2)"
   ]
  },
  {
   "cell_type": "code",
   "execution_count": 244,
   "metadata": {},
   "outputs": [],
   "source": [
    "df_test=X_test.merge(predictions, left_on=['WF', 'Time'], right_on=['WF', 'Time'])\n",
    "pd.DataFrame({'ID': X_test.index, 'Production':df_test.pred}).to_csv('response_gbm.csv', index=False)"
   ]
  },
  {
   "cell_type": "markdown",
   "metadata": {},
   "source": [
    " score : 72"
   ]
  },
  {
   "cell_type": "markdown",
   "metadata": {},
   "source": [
    "## optimisation"
   ]
  },
  {
   "cell_type": "code",
   "execution_count": 305,
   "metadata": {},
   "outputs": [],
   "source": [
    "from sklearn.metrics import make_scorer\n",
    "\n",
    "def loss_func(y_true, y_pred):\n",
    "    #index = np.logical_not(np.isnan(y_true)) & (y_true>0)\n",
    "    return 100*np.sum(np.abs(y_true - y_pred)) / np.sum(y_true)\n",
    "\n",
    "score = make_scorer(loss_func, greater_is_better=False)"
   ]
  },
  {
   "cell_type": "code",
   "execution_count": 326,
   "metadata": {},
   "outputs": [],
   "source": []
  },
  {
   "cell_type": "code",
   "execution_count": 327,
   "metadata": {},
   "outputs": [],
   "source": [
    "from sklearn.model_selection import RandomizedSearchCV\n",
    "import copy\n",
    "\n",
    "def train_gbm_wf2(df_train_WFx):\n",
    "\n",
    "    distributions = dict(n_estimators=[50,100,150,200,300,400],\n",
    "                         learning_rate=[0.01,0.03, 0.05, 0.1, 0.15, 0.2, 0.25])\n",
    "\n",
    "    lgbm_est_opt = RandomizedSearchCV(LGBMRegressor(), \n",
    "                                  param_distributions = distributions, \n",
    "                                  random_state=20200229, \n",
    "                                  scoring=score,\n",
    "                                  cv=4,\n",
    "                                  verbose=3,\n",
    "                                  n_jobs=-1)\n",
    "\n",
    "    X = df_train_WFx.loc[:, features]\n",
    "    y = df_train_WFx.loc[:, target]\n",
    "\n",
    "    lgbm_est_opt.fit(X, y)\n",
    "    return copy.deepcopy(lgbm_est_opt)"
   ]
  },
  {
   "cell_type": "code",
   "execution_count": 328,
   "metadata": {},
   "outputs": [
    {
     "name": "stdout",
     "output_type": "stream",
     "text": [
      "Fitting 4 folds for each of 10 candidates, totalling 40 fits\n"
     ]
    },
    {
     "name": "stderr",
     "output_type": "stream",
     "text": [
      "[Parallel(n_jobs=-1)]: Using backend LokyBackend with 4 concurrent workers.\n",
      "[Parallel(n_jobs=-1)]: Done  24 tasks      | elapsed:   36.9s\n",
      "[Parallel(n_jobs=-1)]: Done  40 out of  40 | elapsed:  1.2min finished\n"
     ]
    },
    {
     "name": "stdout",
     "output_type": "stream",
     "text": [
      "Fitting 4 folds for each of 10 candidates, totalling 40 fits\n"
     ]
    },
    {
     "name": "stderr",
     "output_type": "stream",
     "text": [
      "[Parallel(n_jobs=-1)]: Using backend LokyBackend with 4 concurrent workers.\n",
      "[Parallel(n_jobs=-1)]: Done  24 tasks      | elapsed:   33.9s\n",
      "[Parallel(n_jobs=-1)]: Done  40 out of  40 | elapsed:  1.1min finished\n"
     ]
    },
    {
     "name": "stdout",
     "output_type": "stream",
     "text": [
      "Fitting 4 folds for each of 10 candidates, totalling 40 fits\n"
     ]
    },
    {
     "name": "stderr",
     "output_type": "stream",
     "text": [
      "[Parallel(n_jobs=-1)]: Using backend LokyBackend with 4 concurrent workers.\n",
      "[Parallel(n_jobs=-1)]: Done  24 tasks      | elapsed:   36.1s\n",
      "[Parallel(n_jobs=-1)]: Done  40 out of  40 | elapsed:  1.1min finished\n"
     ]
    },
    {
     "name": "stdout",
     "output_type": "stream",
     "text": [
      "Fitting 4 folds for each of 10 candidates, totalling 40 fits\n"
     ]
    },
    {
     "name": "stderr",
     "output_type": "stream",
     "text": [
      "[Parallel(n_jobs=-1)]: Using backend LokyBackend with 4 concurrent workers.\n",
      "[Parallel(n_jobs=-1)]: Done  24 tasks      | elapsed:   35.5s\n",
      "[Parallel(n_jobs=-1)]: Done  40 out of  40 | elapsed:  1.1min finished\n"
     ]
    },
    {
     "name": "stdout",
     "output_type": "stream",
     "text": [
      "Fitting 4 folds for each of 10 candidates, totalling 40 fits\n"
     ]
    },
    {
     "name": "stderr",
     "output_type": "stream",
     "text": [
      "[Parallel(n_jobs=-1)]: Using backend LokyBackend with 4 concurrent workers.\n",
      "[Parallel(n_jobs=-1)]: Done  24 tasks      | elapsed:   35.7s\n",
      "[Parallel(n_jobs=-1)]: Done  40 out of  40 | elapsed:  1.1min finished\n"
     ]
    },
    {
     "name": "stdout",
     "output_type": "stream",
     "text": [
      "Fitting 4 folds for each of 10 candidates, totalling 40 fits\n"
     ]
    },
    {
     "name": "stderr",
     "output_type": "stream",
     "text": [
      "[Parallel(n_jobs=-1)]: Using backend LokyBackend with 4 concurrent workers.\n",
      "[Parallel(n_jobs=-1)]: Done  24 tasks      | elapsed:   36.5s\n",
      "[Parallel(n_jobs=-1)]: Done  40 out of  40 | elapsed:  1.1min finished\n"
     ]
    },
    {
     "data": {
      "text/html": [
       "<div>\n",
       "<style scoped>\n",
       "    .dataframe tbody tr th:only-of-type {\n",
       "        vertical-align: middle;\n",
       "    }\n",
       "\n",
       "    .dataframe tbody tr th {\n",
       "        vertical-align: top;\n",
       "    }\n",
       "\n",
       "    .dataframe thead th {\n",
       "        text-align: right;\n",
       "    }\n",
       "</style>\n",
       "<table border=\"1\" class=\"dataframe\">\n",
       "  <thead>\n",
       "    <tr style=\"text-align: right;\">\n",
       "      <th></th>\n",
       "      <th>pred</th>\n",
       "      <th>WF</th>\n",
       "      <th>Time</th>\n",
       "    </tr>\n",
       "  </thead>\n",
       "  <tbody>\n",
       "    <tr>\n",
       "      <th>0</th>\n",
       "      <td>1.927554</td>\n",
       "      <td>WF1</td>\n",
       "      <td>2019-01-16 01:00:00</td>\n",
       "    </tr>\n",
       "    <tr>\n",
       "      <th>1</th>\n",
       "      <td>1.912719</td>\n",
       "      <td>WF1</td>\n",
       "      <td>2019-01-16 02:00:00</td>\n",
       "    </tr>\n",
       "  </tbody>\n",
       "</table>\n",
       "</div>"
      ],
      "text/plain": [
       "       pred   WF                Time\n",
       "0  1.927554  WF1 2019-01-16 01:00:00\n",
       "1  1.912719  WF1 2019-01-16 02:00:00"
      ]
     },
     "execution_count": 328,
     "metadata": {},
     "output_type": "execute_result"
    }
   ],
   "source": [
    "predictions = []\n",
    "models = []\n",
    "for wf_name in ['WF1', 'WF2', 'WF3', 'WF4', 'WF5', 'WF6']:\n",
    "    df_train_WFx = create_data_WFx(wf_name, X_train, y_train)\n",
    "    df_test_WFx = create_data_WFx(wf_name, X_test)\n",
    "    lgbm_est2 = train_gbm_wf2(df_train_WFx)\n",
    "    models.append(lgbm_est2)\n",
    "    pred = pd.DataFrame({'pred': lgbm_est2.predict(df_test_WFx.loc[:, features]), \n",
    "                         'WF': wf_name, \n",
    "                         'Time': df_test_WFx.index}) \n",
    "    predictions.append(pred)\n",
    "predictions = pd.concat(predictions)\n",
    "predictions.head(2)"
   ]
  },
  {
   "cell_type": "code",
   "execution_count": 332,
   "metadata": {},
   "outputs": [],
   "source": [
    "df_test=X_test.merge(predictions, left_on=['WF', 'Time'], right_on=['WF', 'Time'])\n",
    "pd.DataFrame({'ID': X_test.index, 'Production':df_test.pred}).to_csv('response_gbm_opt.csv', index=False)"
   ]
  },
  {
   "cell_type": "markdown",
   "metadata": {},
   "source": [
    " score : 70"
   ]
  },
  {
   "cell_type": "code",
   "execution_count": 333,
   "metadata": {},
   "outputs": [
    {
     "data": {
      "text/plain": [
       "-39.12501300894234"
      ]
     },
     "execution_count": 333,
     "metadata": {},
     "output_type": "execute_result"
    }
   ],
   "source": [
    "cv_scores=[]\n",
    "for model in models:\n",
    "    cv_scores.append(model.cv_results_['mean_test_score'])\n",
    "np.concatenate(cv_scores).mean()    "
   ]
  },
  {
   "cell_type": "code",
   "execution_count": 334,
   "metadata": {},
   "outputs": [
    {
     "name": "stdout",
     "output_type": "stream",
     "text": [
      "{'n_estimators': 150, 'learning_rate': 0.05}\n",
      "{'n_estimators': 200, 'learning_rate': 0.05}\n",
      "{'n_estimators': 300, 'learning_rate': 0.05}\n",
      "{'n_estimators': 300, 'learning_rate': 0.03}\n",
      "{'n_estimators': 300, 'learning_rate': 0.03}\n",
      "{'n_estimators': 300, 'learning_rate': 0.03}\n"
     ]
    }
   ],
   "source": [
    "for model in models:\n",
    "    print(model.best_params_)"
   ]
  },
  {
   "cell_type": "markdown",
   "metadata": {},
   "source": [
    "## feature engineering"
   ]
  },
  {
   "cell_type": "code",
   "execution_count": 413,
   "metadata": {},
   "outputs": [],
   "source": [
    "from sklearn.pipeline import Pipeline, FeatureUnion\n",
    "\n",
    "from sklearn.preprocessing import PowerTransformer\n",
    "from sklearn.feature_selection import SelectKBest, f_regression, mutual_info_regression\n",
    "from sklearn.decomposition import PCA\n",
    "\n",
    "from sklearn.model_selection import cross_val_score\n",
    "\n",
    "pipe_p = Pipeline([\n",
    "    ('gaussian', PowerTransformer()),\n",
    "    ('pca', PCA(n_components=15)),\n",
    "])\n",
    "\n",
    "pipe_u = FeatureUnion([('acp', pipe_p),\n",
    "                       ('sel_non_lin',SelectKBest(score_func=mutual_info_regression, k=10)),\n",
    "                       ('sel_lin',SelectKBest(score_func=f_regression, k=10))])\n",
    "\n",
    "transformed_data = pipe_u.fit_transform(df_train_WFx.loc[:, features].fillna(0), \n",
    "                                        df_train_WFx.loc[:, target])\n",
    "\n",
    "month_ = df_train_WFx.index.month.values.reshape(-1,1)\n",
    "hours_ = df_train_WFx.index.hour.values.reshape(-1,1)\n",
    "prep_data = np.concatenate( (transformed_data,month_, hours_), axis=1)"
   ]
  },
  {
   "cell_type": "code",
   "execution_count": 414,
   "metadata": {},
   "outputs": [
    {
     "data": {
      "text/plain": [
       "-33.54934622119134"
      ]
     },
     "execution_count": 414,
     "metadata": {},
     "output_type": "execute_result"
    }
   ],
   "source": [
    "cv_res = cross_val_score(estimator = LGBMRegressor(n_estimators=300, learning_rate=0.03),\n",
    "                X = prep_data, \n",
    "                y = df_train_WFx.loc[:, target], \n",
    "                scoring=score, \n",
    "                cv =4, \n",
    "                n_jobs = -1)\n",
    "np.mean(cv_res)"
   ]
  },
  {
   "cell_type": "code",
   "execution_count": 445,
   "metadata": {},
   "outputs": [
    {
     "data": {
      "text/plain": [
       "-32.740671774733"
      ]
     },
     "execution_count": 445,
     "metadata": {},
     "output_type": "execute_result"
    }
   ],
   "source": [
    "from xgboost import XGBRegressor\n",
    "from sklearn.linear_model import LassoCV, RidgeCV, LinearRegression\n",
    "from sklearn.svm import LinearSVR, SVR\n",
    "\n",
    "cv_res = cross_val_score(estimator = SVR(degree=2, C=0.9, epsilon=0.07),\n",
    "                X = prep_data, \n",
    "                y = df_train_WFx.loc[:, target], \n",
    "                scoring=score, \n",
    "                cv =4, \n",
    "                n_jobs = -1)\n",
    "np.mean(cv_res)"
   ]
  },
  {
   "cell_type": "code",
   "execution_count": 477,
   "metadata": {},
   "outputs": [],
   "source": [
    "def train_svm_wf(df_train_WFx):\n",
    "\n",
    "    transformed_data = pipe_u.fit_transform(df_train_WFx.loc[:, features].fillna(0), \n",
    "                                        df_train_WFx.loc[:, target])\n",
    "\n",
    "    month_ = df_train_WFx.index.month.values.reshape(-1,1)\n",
    "    hours_ = df_train_WFx.index.hour.values.reshape(-1,1)\n",
    "    prep_data = np.concatenate( (transformed_data,month_, hours_), axis=1)\n",
    "    \n",
    "    \n",
    "    \n",
    "    distributions = dict(C=[0.5,0.6,0.7,0.8,0.9,1],\n",
    "                         epsilon=[0.05,0.06, 0.07, 0.08, 0.09, 0.1, 0.11])\n",
    "\n",
    "    svm_est_opt = RandomizedSearchCV(SVR(), \n",
    "                                  param_distributions = distributions, \n",
    "                                  scoring=score,\n",
    "                                  cv=4,\n",
    "                                  verbose=3,\n",
    "                                  n_jobs=-1)\n",
    "    \n",
    "    svm_est_opt = SVR(degree=2, C=0.9, epsilon=0.07)\n",
    "\n",
    "    X = prep_data\n",
    "    y = df_train_WFx.loc[:, target]\n",
    "\n",
    "    svm_est_opt.fit(X, y)\n",
    "    return copy.deepcopy(svm_est_opt)"
   ]
  },
  {
   "cell_type": "code",
   "execution_count": 475,
   "metadata": {},
   "outputs": [
    {
     "data": {
      "text/html": [
       "<div>\n",
       "<style scoped>\n",
       "    .dataframe tbody tr th:only-of-type {\n",
       "        vertical-align: middle;\n",
       "    }\n",
       "\n",
       "    .dataframe tbody tr th {\n",
       "        vertical-align: top;\n",
       "    }\n",
       "\n",
       "    .dataframe thead th {\n",
       "        text-align: right;\n",
       "    }\n",
       "</style>\n",
       "<table border=\"1\" class=\"dataframe\">\n",
       "  <thead>\n",
       "    <tr style=\"text-align: right;\">\n",
       "      <th></th>\n",
       "      <th>pred</th>\n",
       "      <th>WF</th>\n",
       "      <th>Time</th>\n",
       "    </tr>\n",
       "  </thead>\n",
       "  <tbody>\n",
       "    <tr>\n",
       "      <th>0</th>\n",
       "      <td>1.315223</td>\n",
       "      <td>WF1</td>\n",
       "      <td>2019-01-16 01:00:00</td>\n",
       "    </tr>\n",
       "    <tr>\n",
       "      <th>1</th>\n",
       "      <td>1.248588</td>\n",
       "      <td>WF1</td>\n",
       "      <td>2019-01-16 02:00:00</td>\n",
       "    </tr>\n",
       "  </tbody>\n",
       "</table>\n",
       "</div>"
      ],
      "text/plain": [
       "       pred   WF                Time\n",
       "0  1.315223  WF1 2019-01-16 01:00:00\n",
       "1  1.248588  WF1 2019-01-16 02:00:00"
      ]
     },
     "execution_count": 475,
     "metadata": {},
     "output_type": "execute_result"
    }
   ],
   "source": [
    "predictions = []\n",
    "models = []\n",
    "for wf_name in ['WF1', 'WF2', 'WF3', 'WF4', 'WF5', 'WF6']:\n",
    "    df_train_WFx = create_data_WFx(wf_name, X_train, y_train)\n",
    "    df_test_WFx = create_data_WFx(wf_name, X_test)\n",
    "    svm_est = train_svm_wf(df_train_WFx)\n",
    "    models.append(svm_est)\n",
    "    pred = pd.DataFrame({'pred': svm_est.predict(df_test_WFx.loc[:, features].fillna(0)), \n",
    "                         'WF': wf_name, \n",
    "                         'Time': df_test_WFx.index}) \n",
    "    predictions.append(pred)\n",
    "predictions = pd.concat(predictions)\n",
    "predictions.head(2)"
   ]
  },
  {
   "cell_type": "code",
   "execution_count": 472,
   "metadata": {},
   "outputs": [
    {
     "data": {
      "text/plain": [
       "-79.67965976783672"
      ]
     },
     "execution_count": 472,
     "metadata": {},
     "output_type": "execute_result"
    }
   ],
   "source": [
    "cv_scores=[]\n",
    "for model in models:\n",
    "    cv_scores.append(model.cv_results_['mean_test_score'])\n",
    "np.concatenate(cv_scores).mean()    "
   ]
  },
  {
   "cell_type": "code",
   "execution_count": 473,
   "metadata": {},
   "outputs": [
    {
     "data": {
      "text/plain": [
       "[array([-86.81232162, -83.72622612, -83.73081405, -86.80425261,\n",
       "        -83.26424456, -83.26719772, -83.26481389, -84.96377987,\n",
       "        -86.79716949, -84.28738886]),\n",
       " array([-77.89626966, -77.9830144 , -77.99565752, -77.9915717 ,\n",
       "        -78.01571259, -77.98844862, -77.93084708, -77.98078164,\n",
       "        -77.9567673 , -77.97131306]),\n",
       " array([-76.3397417 , -76.31998589, -76.48264374, -76.33898117,\n",
       "        -76.36354736, -76.25851159, -76.2950147 , -76.51068602,\n",
       "        -76.4660717 , -76.24929173]),\n",
       " array([-79.13744698, -79.08762208, -79.07386028, -79.05707455,\n",
       "        -79.12832007, -79.08724096, -79.11551802, -79.09407489,\n",
       "        -79.18020388, -79.09941831]),\n",
       " array([-80.83166061, -80.79606182, -80.93090616, -80.80350608,\n",
       "        -80.91694305, -81.02105489, -80.7391661 , -80.89847453,\n",
       "        -80.80212356, -81.03441513]),\n",
       " array([-79.30444992, -79.28596161, -79.11459455, -78.96438792,\n",
       "        -78.67800519, -79.309271  , -78.82100031, -79.11819788,\n",
       "        -79.12776893, -78.96778887])]"
      ]
     },
     "execution_count": 473,
     "metadata": {},
     "output_type": "execute_result"
    }
   ],
   "source": [
    "cv_scores"
   ]
  },
  {
   "cell_type": "code",
   "execution_count": null,
   "metadata": {},
   "outputs": [],
   "source": []
  },
  {
   "cell_type": "markdown",
   "metadata": {},
   "source": [
    "## Stacking"
   ]
  },
  {
   "cell_type": "code",
   "execution_count": 449,
   "metadata": {},
   "outputs": [],
   "source": [
    "from sklearn.ensemble import StackingRegressor, RandomForestRegressor"
   ]
  },
  {
   "cell_type": "code",
   "execution_count": 464,
   "metadata": {},
   "outputs": [],
   "source": [
    "estimators = [\n",
    "    ('lgbm', LGBMRegressor(n_estimators=300, learning_rate=0.03)),\n",
    "    ('svr', SVR(degree=2, C=0.9, epsilon=0.07))\n",
    "    ]\n",
    "est_stacking = StackingRegressor(\n",
    "    estimators=estimators,\n",
    "    final_estimator=LassoCV(),\n",
    "    cv=4,\n",
    ")"
   ]
  },
  {
   "cell_type": "code",
   "execution_count": 465,
   "metadata": {},
   "outputs": [
    {
     "data": {
      "text/plain": [
       "-32.53837343289987"
      ]
     },
     "execution_count": 465,
     "metadata": {},
     "output_type": "execute_result"
    }
   ],
   "source": [
    "cv_res = cross_val_score(estimator =est_stacking,\n",
    "                X = prep_data, \n",
    "                y = df_train_WFx.loc[:, target], \n",
    "                scoring = score, \n",
    "                cv = 4, \n",
    "                n_jobs = -1)\n",
    "np.mean(cv_res)"
   ]
  },
  {
   "cell_type": "code",
   "execution_count": null,
   "metadata": {},
   "outputs": [],
   "source": []
  },
  {
   "cell_type": "code",
   "execution_count": null,
   "metadata": {},
   "outputs": [],
   "source": []
  },
  {
   "cell_type": "code",
   "execution_count": null,
   "metadata": {},
   "outputs": [],
   "source": []
  }
 ],
 "metadata": {
  "kernelspec": {
   "display_name": "Python 3",
   "language": "python",
   "name": "python3"
  },
  "language_info": {
   "codemirror_mode": {
    "name": "ipython",
    "version": 3
   },
   "file_extension": ".py",
   "mimetype": "text/x-python",
   "name": "python",
   "nbconvert_exporter": "python",
   "pygments_lexer": "ipython3",
   "version": "3.7.4"
  },
  "toc-autonumbering": true
 },
 "nbformat": 4,
 "nbformat_minor": 4
}
