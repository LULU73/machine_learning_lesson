{
 "cells": [
  {
   "cell_type": "markdown",
   "metadata": {},
   "source": [
    "### a little decorator"
   ]
  },
  {
   "cell_type": "code",
   "execution_count": 68,
   "metadata": {},
   "outputs": [],
   "source": [
    "def decorator(verbo):\n",
    "    def wrap(func):\n",
    "        def inner(*args, **kwargs):\n",
    "            if verbo:\n",
    "                print('calculons ... ')\n",
    "                print(func(*args, **kwargs))\n",
    "                print('over.')\n",
    "                return func(*args, **kwargs)\n",
    "            else:\n",
    "                return func(*args, **kwargs)\n",
    "\n",
    "        return inner\n",
    "    return wrap\n",
    "        "
   ]
  },
  {
   "cell_type": "code",
   "execution_count": 70,
   "metadata": {},
   "outputs": [
    {
     "name": "stdout",
     "output_type": "stream",
     "text": [
      "calculons ... \n",
      "9\n",
      "over.\n"
     ]
    },
    {
     "data": {
      "text/plain": [
       "9"
      ]
     },
     "execution_count": 70,
     "metadata": {},
     "output_type": "execute_result"
    }
   ],
   "source": [
    "@decorator(verbo=True)\n",
    "def ajouter(a,b):\n",
    "    return a+b\n",
    "aaa=ajouter(4,5)\n",
    "aaa"
   ]
  },
  {
   "cell_type": "code",
   "execution_count": 117,
   "metadata": {},
   "outputs": [],
   "source": [
    "def decorator2(cts=0):\n",
    "    def warp2(func):\n",
    "        def inner(self):\n",
    "            print('calculons ... ')\n",
    "            print(cts + func(self))\n",
    "            print('over.')\n",
    "            return cts+func(self)\n",
    "        return inner\n",
    "    return warp2\n",
    " "
   ]
  },
  {
   "cell_type": "code",
   "execution_count": 118,
   "metadata": {},
   "outputs": [],
   "source": [
    "class UneClasse():\n",
    "    def __init__(self, a, b):\n",
    "        self.a = a\n",
    "        self.b = b\n",
    "        \n",
    "    @decorator2(cts=100)\n",
    "    def ajouter(self):\n",
    "        return self.a + self.b"
   ]
  },
  {
   "cell_type": "code",
   "execution_count": 119,
   "metadata": {},
   "outputs": [
    {
     "name": "stdout",
     "output_type": "stream",
     "text": [
      "calculons ... \n",
      "104\n",
      "over.\n"
     ]
    },
    {
     "data": {
      "text/plain": [
       "104"
      ]
     },
     "execution_count": 119,
     "metadata": {},
     "output_type": "execute_result"
    }
   ],
   "source": [
    "obj = UneClasse(a = 1, b=3)\n",
    "res = obj.ajouter()\n",
    "res"
   ]
  },
  {
   "cell_type": "code",
   "execution_count": null,
   "metadata": {},
   "outputs": [],
   "source": []
  }
 ],
 "metadata": {
  "kernelspec": {
   "display_name": "Python 3",
   "language": "python",
   "name": "python3"
  },
  "language_info": {
   "codemirror_mode": {
    "name": "ipython",
    "version": 3
   },
   "file_extension": ".py",
   "mimetype": "text/x-python",
   "name": "python",
   "nbconvert_exporter": "python",
   "pygments_lexer": "ipython3",
   "version": "3.7.3"
  }
 },
 "nbformat": 4,
 "nbformat_minor": 2
}
