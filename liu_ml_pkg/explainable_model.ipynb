{
 "cells": [
  {
   "cell_type": "code",
   "execution_count": 2,
   "metadata": {},
   "outputs": [],
   "source": [
    "import pandas as pd"
   ]
  },
  {
   "cell_type": "code",
   "execution_count": 3,
   "metadata": {},
   "outputs": [
    {
     "data": {
      "text/html": [
       "<div>\n",
       "<style scoped>\n",
       "    .dataframe tbody tr th:only-of-type {\n",
       "        vertical-align: middle;\n",
       "    }\n",
       "\n",
       "    .dataframe tbody tr th {\n",
       "        vertical-align: top;\n",
       "    }\n",
       "\n",
       "    .dataframe thead th {\n",
       "        text-align: right;\n",
       "    }\n",
       "</style>\n",
       "<table border=\"1\" class=\"dataframe\">\n",
       "  <thead>\n",
       "    <tr style=\"text-align: right;\">\n",
       "      <th></th>\n",
       "      <th>Buying_Rate</th>\n",
       "      <th>Cash_Buying_Rate</th>\n",
       "      <th>Selling_Rate</th>\n",
       "      <th>Cash_Selling_Rate</th>\n",
       "    </tr>\n",
       "    <tr>\n",
       "      <th>datetime</th>\n",
       "      <th></th>\n",
       "      <th></th>\n",
       "      <th></th>\n",
       "      <th></th>\n",
       "    </tr>\n",
       "  </thead>\n",
       "  <tbody>\n",
       "    <tr>\n",
       "      <th>2018-01-01 17:00</th>\n",
       "      <td>1.20037</td>\n",
       "      <td>1.20100</td>\n",
       "      <td>1.20037</td>\n",
       "      <td>1.2010</td>\n",
       "    </tr>\n",
       "    <tr>\n",
       "      <th>2018-01-01 17:01</th>\n",
       "      <td>1.20083</td>\n",
       "      <td>1.20095</td>\n",
       "      <td>1.20017</td>\n",
       "      <td>1.2003</td>\n",
       "    </tr>\n",
       "  </tbody>\n",
       "</table>\n",
       "</div>"
      ],
      "text/plain": [
       "                  Buying_Rate  Cash_Buying_Rate  Selling_Rate  \\\n",
       "datetime                                                        \n",
       "2018-01-01 17:00      1.20037           1.20100       1.20037   \n",
       "2018-01-01 17:01      1.20083           1.20095       1.20017   \n",
       "\n",
       "                  Cash_Selling_Rate  \n",
       "datetime                             \n",
       "2018-01-01 17:00             1.2010  \n",
       "2018-01-01 17:01             1.2003  "
      ]
     },
     "execution_count": 3,
     "metadata": {},
     "output_type": "execute_result"
    }
   ],
   "source": [
    "data = pd.read_csv('./data/DAT_EURUSD_2018.csv', sep=',', header=0, index_col=0 )\n",
    "data.head(2)"
   ]
  },
  {
   "cell_type": "code",
   "execution_count": 21,
   "metadata": {},
   "outputs": [],
   "source": [
    "from sklearn.model_selection import train_test_split\n",
    "\n",
    "target = 'Buying_Rate'\n",
    "features = [i for i in data.columns if i!= target]\n",
    "\n",
    "X_train, X_test, y_train, y_test = train_test_split(data.loc[:, features], data.loc[:, target], test_size=0.33, random_state=42)"
   ]
  },
  {
   "cell_type": "markdown",
   "metadata": {},
   "source": [
    "## Standard Modelling"
   ]
  },
  {
   "cell_type": "code",
   "execution_count": 12,
   "metadata": {},
   "outputs": [
    {
     "data": {
      "text/plain": [
       "<interpret.glassbox.decisiontree.RegressionTree at 0x2f78c5d64c8>"
      ]
     },
     "execution_count": 12,
     "metadata": {},
     "output_type": "execute_result"
    }
   ],
   "source": [
    "from interpret.glassbox import ExplainableBoostingRegressor, LinearRegression, RegressionTree\n",
    "\n",
    "ebr = ExplainableBoostingRegressor(random_state=20200114, n_jobs=4)\n",
    "ebr.fit(X_train, y_train) \n",
    "\n",
    "lr = LinearRegression(random_state=20200114)\n",
    "lr.fit(X_train, y_train) \n",
    "\n",
    "tr = RegressionTree(random_state=20200114)\n",
    "tr.fit(X_train, y_train)\n"
   ]
  },
  {
   "cell_type": "markdown",
   "metadata": {},
   "source": [
    "### Explanation of Features"
   ]
  },
  {
   "cell_type": "code",
   "execution_count": 22,
   "metadata": {
    "collapsed": true,
    "jupyter": {
     "outputs_hidden": true
    }
   },
   "outputs": [
    {
     "data": {
      "text/html": [
       "<!-- http://127.0.0.1:7203/3262281349384/ -->\n",
       "<a href=\"http://127.0.0.1:7203/3262281349384/\" target=\"_new\">Open in new window</a><iframe src=\"http://127.0.0.1:7203/3262281349384/\" width=100% height=800 frameBorder=\"0\"></iframe>"
      ]
     },
     "metadata": {},
     "output_type": "display_data"
    }
   ],
   "source": [
    "from interpret import show\n",
    "from interpret.data import Marginal\n",
    "\n",
    "marginal_train = Marginal().explain_data(X_train, y_train, name = 'Train Data')\n",
    "marginal_test = Marginal().explain_data(X_test, y_test, name = 'Test Data')\n",
    "\n",
    "ebr_global = ebr.explain_global(name='EBR')\n",
    "lr_global = lr.explain_global(name='LR')\n",
    "tr_global = tr.explain_global(name='TR')\n",
    "\n",
    "show([marginal_train, marginal_test, ebr_global, lr_global, tr_global])"
   ]
  },
  {
   "cell_type": "markdown",
   "metadata": {},
   "source": [
    "### Explanation of prediction individus"
   ]
  },
  {
   "cell_type": "code",
   "execution_count": 24,
   "metadata": {},
   "outputs": [],
   "source": [
    "ebr_local = ebr.explain_local(X_test[:5], y_test[:5], name='EBR')\n",
    "lr_local = lr.explain_local(X_test[:5], y_test[:5], name='LR')\n",
    "tr_local = tr.explain_local(X_test[:5], y_test[:5], name='TR')"
   ]
  },
  {
   "cell_type": "code",
   "execution_count": 25,
   "metadata": {},
   "outputs": [
    {
     "data": {
      "text/html": [
       "<!-- http://127.0.0.1:7203/3262464340744/ -->\n",
       "<a href=\"http://127.0.0.1:7203/3262464340744/\" target=\"_new\">Open in new window</a><iframe src=\"http://127.0.0.1:7203/3262464340744/\" width=100% height=800 frameBorder=\"0\"></iframe>"
      ]
     },
     "metadata": {},
     "output_type": "display_data"
    }
   ],
   "source": [
    "show([ebr_local, lr_local, tr_local])"
   ]
  },
  {
   "cell_type": "code",
   "execution_count": 26,
   "metadata": {},
   "outputs": [
    {
     "name": "stdout",
     "output_type": "stream",
     "text": [
      "MAE ebr :  0.0006664150665749629\n",
      "MAE lr :  0.03237018995366083\n",
      "MAE tr :  0.0034873319539358116\n"
     ]
    },
    {
     "data": {
      "text/html": [
       "<!-- http://127.0.0.1:7203/3262515647624/ -->\n",
       "<a href=\"http://127.0.0.1:7203/3262515647624/\" target=\"_new\">Open in new window</a><iframe src=\"http://127.0.0.1:7203/3262515647624/\" width=100% height=800 frameBorder=\"0\"></iframe>"
      ]
     },
     "metadata": {},
     "output_type": "display_data"
    }
   ],
   "source": [
    "from interpret.perf import RegressionPerf\n",
    "\n",
    "ebr_perf = RegressionPerf(ebr.predict).explain_perf(X_test, y_test, name='Emr')\n",
    "lr_perf = RegressionPerf(lr.predict).explain_perf(X_test, y_test, name='Lr')\n",
    "tr_perf = RegressionPerf(tr.predict).explain_perf(X_test, y_test, name='Tr')\n",
    "\n",
    "print('MAE ebr : ', ebr_perf._internal_obj['overall']['mae'])\n",
    "print('MAE lr : ', lr_perf._internal_obj['overall']['mae'])\n",
    "print('MAE tr : ', tr_perf._internal_obj['overall']['mae'])\n",
    "\n",
    "show([ebr_perf, lr_perf, tr_perf])"
   ]
  },
  {
   "cell_type": "markdown",
   "metadata": {},
   "source": [
    "## Blackbox Customized Modelling"
   ]
  },
  {
   "cell_type": "code",
   "execution_count": 29,
   "metadata": {
    "collapsed": true,
    "jupyter": {
     "outputs_hidden": true
    }
   },
   "outputs": [
    {
     "data": {
      "text/plain": [
       "Pipeline(memory=None,\n",
       "         steps=[('e1',\n",
       "                 PowerTransformer(copy=True, method='yeo-johnson',\n",
       "                                  standardize=True)),\n",
       "                ('e2',\n",
       "                 StandardScaler(copy=True, with_mean=True, with_std=True)),\n",
       "                ('e3',\n",
       "                 SelectKBest(k='all',\n",
       "                             score_func=<function f_classif at 0x000002F79CE9DAF8>)),\n",
       "                ('m',\n",
       "                 StackingRegressor(cv=None,\n",
       "                                   estimators=[('ridge',\n",
       "                                                RidgeCV(alphas=array([ 0.1,  1. , 10. ]),\n",
       "                                                        cv=None,\n",
       "                                                        fit_intercept...\n",
       "                                                                                early_stopping_tolerance=1e-05,\n",
       "                                                                                feature_names=None,\n",
       "                                                                                feature_step_n_inner_bags=0,\n",
       "                                                                                feature_types=None,\n",
       "                                                                                holdout_size=0.15,\n",
       "                                                                                holdout_split=0.15,\n",
       "                                                                                interactions=0,\n",
       "                                                                                learning_rate=0.01,\n",
       "                                                                                main_attr='all',\n",
       "                                                                                max_tree_splits=2,\n",
       "                                                                                min_cases_for_splits=2,\n",
       "                                                                                n_estimators=16,\n",
       "                                                                                n_jobs=4,\n",
       "                                                                                random_state=20200114,\n",
       "                                                                                schema=None,\n",
       "                                                                                scoring=None,\n",
       "                                                                                training_step_episodes=1),\n",
       "                                   n_jobs=None, passthrough=False,\n",
       "                                   verbose=0))],\n",
       "         verbose=False)"
      ]
     },
     "execution_count": 29,
     "metadata": {},
     "output_type": "execute_result"
    }
   ],
   "source": [
    "from sklearn.ensemble import StackingRegressor\n",
    "from sklearn.linear_model import RidgeCV, LinearRegression\n",
    "\n",
    "from sklearn.ensemble import RandomForestRegressor\n",
    "from sklearn.preprocessing import PowerTransformer, StandardScaler\n",
    "from sklearn.feature_selection import SelectKBest\n",
    "from sklearn.pipeline import Pipeline, FeatureUnion\n",
    "from sklearn.decomposition import PCA\n",
    "from interpret.glassbox import ExplainableBoostingRegressor\n",
    "\n",
    "estimators = [\n",
    "    ('ridge', RidgeCV()),\n",
    "    ('lr', LinearRegression()),\n",
    "    ('rf', RandomForestRegressor())\n",
    "]\n",
    "\n",
    "stacker = StackingRegressor(\n",
    "    estimators=estimators,\n",
    "    final_estimator=ExplainableBoostingRegressor(random_state=20200114, n_jobs=4)\n",
    "    )\n",
    "\n",
    "black_model_emr = Pipeline([\n",
    "    ('e1', PowerTransformer()),\n",
    "    ('e2', StandardScaler()),\n",
    "    ('e3', SelectKBest(k='all')),\n",
    "    ('m', stacker)\n",
    "])\n",
    "\n",
    "black_model_emr.fit(X_train, y_train)\n"
   ]
  },
  {
   "cell_type": "markdown",
   "metadata": {},
   "source": [
    "### Explanation of Features"
   ]
  },
  {
   "cell_type": "code",
   "execution_count": 30,
   "metadata": {},
   "outputs": [
    {
     "data": {
      "text/html": [
       "<!-- http://127.0.0.1:7203/3262512511880/ -->\n",
       "<a href=\"http://127.0.0.1:7203/3262512511880/\" target=\"_new\">Open in new window</a><iframe src=\"http://127.0.0.1:7203/3262512511880/\" width=100% height=800 frameBorder=\"0\"></iframe>"
      ]
     },
     "metadata": {},
     "output_type": "display_data"
    }
   ],
   "source": [
    "from interpret.blackbox import MorrisSensitivity\n",
    "\n",
    "marginal_train = Marginal().explain_data(X_train , y_train , name = 'Train Data')\n",
    "marginal_test = Marginal().explain_data(X_test , y_test , name = 'Test Data')\n",
    "\n",
    "sensitivity_emr = MorrisSensitivity(predict_fn=black_model_emr.predict, data=X_train )\n",
    "sensitivity_emr_global = sensitivity_emr.explain_global(name=\"Global Emr Sensitivity\")\n",
    "\n",
    "\n",
    "show([marginal_train, marginal_test, sensitivity_emr_global])"
   ]
  },
  {
   "cell_type": "code",
   "execution_count": 33,
   "metadata": {},
   "outputs": [
    {
     "data": {
      "text/html": [
       "<!-- http://127.0.0.1:7203/3262508312584/ -->\n",
       "<iframe src=\"http://127.0.0.1:7203/3262508312584/\" width=100% height=800 frameBorder=\"0\"></iframe>"
      ]
     },
     "metadata": {},
     "output_type": "display_data"
    }
   ],
   "source": [
    "from interpret.blackbox import PartialDependence\n",
    "\n",
    "pdp = PartialDependence(predict_fn=black_model_emr.predict, data=X_train)\n",
    "pdp_global = pdp.explain_global(name='Partial Dependence')\n",
    "\n",
    "show(pdp_global)"
   ]
  },
  {
   "cell_type": "markdown",
   "metadata": {},
   "source": [
    "### Explanation of prediction individus"
   ]
  },
  {
   "cell_type": "code",
   "execution_count": 37,
   "metadata": {},
   "outputs": [
    {
     "data": {
      "text/html": [
       "<!-- http://127.0.0.1:7203/3262512401352/ -->\n",
       "<iframe src=\"http://127.0.0.1:7203/3262512401352/\" width=100% height=800 frameBorder=\"0\"></iframe>"
      ]
     },
     "metadata": {},
     "output_type": "display_data"
    }
   ],
   "source": [
    "from interpret.blackbox import LimeTabular\n",
    "from interpret import show\n",
    "\n",
    "#Blackbox explainers need a predict function, and optionally a dataset\n",
    "lime = LimeTabular(predict_fn=black_model_emr.predict, data=X_train, random_state=20200114)\n",
    "\n",
    "#Pick the instances to explain, optionally pass in labels if you have them\n",
    "lime_local = lime.explain_local(X_test[:5], y_test[:5], name='LIME')\n",
    "\n",
    "show(lime_local)"
   ]
  },
  {
   "cell_type": "code",
   "execution_count": null,
   "metadata": {},
   "outputs": [],
   "source": []
  },
  {
   "cell_type": "code",
   "execution_count": null,
   "metadata": {},
   "outputs": [],
   "source": []
  },
  {
   "cell_type": "code",
   "execution_count": null,
   "metadata": {},
   "outputs": [],
   "source": []
  }
 ],
 "metadata": {
  "kernelspec": {
   "display_name": "Python 3",
   "language": "python",
   "name": "python3"
  },
  "language_info": {
   "codemirror_mode": {
    "name": "ipython",
    "version": 3
   },
   "file_extension": ".py",
   "mimetype": "text/x-python",
   "name": "python",
   "nbconvert_exporter": "python",
   "pygments_lexer": "ipython3",
   "version": "3.7.6"
  }
 },
 "nbformat": 4,
 "nbformat_minor": 4
}
