{
 "cells": [
  {
   "cell_type": "code",
   "execution_count": 6,
   "metadata": {},
   "outputs": [],
   "source": [
    "from xgboost import XGBRegressor\n",
    "from sklearn.datasets import load_boston\n",
    "from sklearn.metrics import mean_squared_error as mse\n",
    "from sklearn.model_selection import train_test_split as ttsplit"
   ]
  },
  {
   "cell_type": "code",
   "execution_count": 24,
   "metadata": {},
   "outputs": [],
   "source": [
    "X = load_boston()['data']\n",
    "y = load_boston()['target']\n",
    "\n",
    "X_train, X_test, y_train, y_test = ttsplit(X, y, test_size=0.1, random_state=0)\n",
    "X_train_1, X_train_2, y_train_1, y_train_2 = ttsplit(X_train, y_train, test_size=0.5, random_state=0)"
   ]
  },
  {
   "cell_type": "code",
   "execution_count": 32,
   "metadata": {},
   "outputs": [
    {
     "data": {
      "text/plain": [
       "XGBRegressor(base_score=0.5, booster='gbtree', colsample_bylevel=1,\n",
       "             colsample_bytree=1, gamma=0, importance_type='gain',\n",
       "             learning_rate=0.1, max_delta_step=0, max_depth=3,\n",
       "             min_child_weight=1, missing=None, n_estimators=30, n_jobs=1,\n",
       "             nthread=None, objective='reg:linear', random_state=0, reg_alpha=0,\n",
       "             reg_lambda=1, scale_pos_weight=1, seed=None, silent=True,\n",
       "             subsample=1, verose=False)"
      ]
     },
     "execution_count": 32,
     "metadata": {},
     "output_type": "execute_result"
    }
   ],
   "source": [
    "params = {'objective': 'reg:linear', 'verbose': False}\n",
    "model_1 = XGBRegressor(objective='reg:linear', verose=False, n_estimators=30)\n",
    "model_2_a = XGBRegressor(objective='reg:linear', verose=False, n_estimators=30)\n",
    "model_2_b = XGBRegressor(objective='reg:linear', verose=False, n_estimators=30)\n",
    "model_2_c = XGBRegressor(objective='reg:linear', verose=False, n_estimators=30)\n",
    "\n",
    "\n",
    "model_1.fit(X_train, y_train)\n",
    "model_2_a.fit(X_train_1, y_train_1)\n",
    "model_2_a.save_model('model_2_a.model')\n",
    "model_2_b.fit(X_train_2, y_train_2)\n",
    "model_2_c.fit(X_train_2, y_train_2, xgb_model='model_2_a.model')"
   ]
  },
  {
   "cell_type": "code",
   "execution_count": 33,
   "metadata": {},
   "outputs": [
    {
     "name": "stdout",
     "output_type": "stream",
     "text": [
      "29.511025496380693\n",
      "28.22942281007079\n",
      "45.163440682220674\n",
      "26.25390484694336\n"
     ]
    }
   ],
   "source": [
    "print(mse(model_1.predict(X_test), y_test))  \n",
    "print(mse(model_2_a.predict(X_test), y_test))  \n",
    "print(mse(model_2_b.predict(X_test), y_test))  \n",
    "print(mse(model_2_c.predict(X_test), y_test))  "
   ]
  },
  {
   "cell_type": "code",
   "execution_count": null,
   "metadata": {},
   "outputs": [],
   "source": []
  },
  {
   "cell_type": "code",
   "execution_count": 44,
   "metadata": {},
   "outputs": [
    {
     "name": "stdout",
     "output_type": "stream",
     "text": [
      "(377, 443) 1336168\n"
     ]
    }
   ],
   "source": [
    "df = pd.read_csv('Db1t_pivoted_res.csv')\n",
    "print(df.shape, df.memory_usage().sum())"
   ]
  },
  {
   "cell_type": "code",
   "execution_count": 47,
   "metadata": {},
   "outputs": [],
   "source": [
    "df1 = pd.read_csv('Db1t_pivoted_res.csv', chunksize=100)"
   ]
  },
  {
   "cell_type": "code",
   "execution_count": 48,
   "metadata": {},
   "outputs": [
    {
     "name": "stdout",
     "output_type": "stream",
     "text": [
      "(100, 443) 354480\n",
      "(100, 443) 354484\n",
      "(100, 443) 354484\n",
      "(77, 443) 272972\n"
     ]
    }
   ],
   "source": [
    "for d in df1:\n",
    "    print(d.shape, d.memory_usage().sum())"
   ]
  },
  {
   "cell_type": "code",
   "execution_count": 49,
   "metadata": {},
   "outputs": [
    {
     "data": {
      "text/plain": [
       "1336420"
      ]
     },
     "execution_count": 49,
     "metadata": {},
     "output_type": "execute_result"
    }
   ],
   "source": [
    "354480+354484+354484+272972"
   ]
  },
  {
   "cell_type": "code",
   "execution_count": null,
   "metadata": {},
   "outputs": [],
   "source": []
  },
  {
   "cell_type": "code",
   "execution_count": null,
   "metadata": {},
   "outputs": [],
   "source": []
  },
  {
   "cell_type": "code",
   "execution_count": null,
   "metadata": {},
   "outputs": [],
   "source": []
  },
  {
   "cell_type": "code",
   "execution_count": null,
   "metadata": {},
   "outputs": [],
   "source": []
  },
  {
   "cell_type": "code",
   "execution_count": null,
   "metadata": {},
   "outputs": [],
   "source": []
  }
 ],
 "metadata": {
  "kernelspec": {
   "display_name": "Python 3",
   "language": "python",
   "name": "python3"
  },
  "language_info": {
   "codemirror_mode": {
    "name": "ipython",
    "version": 3
   },
   "file_extension": ".py",
   "mimetype": "text/x-python",
   "name": "python",
   "nbconvert_exporter": "python",
   "pygments_lexer": "ipython3",
   "version": "3.6.7"
  }
 },
 "nbformat": 4,
 "nbformat_minor": 2
}
