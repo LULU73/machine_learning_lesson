{
 "cells": [
  {
   "cell_type": "code",
   "execution_count": 1,
   "metadata": {},
   "outputs": [],
   "source": [
    "import pandas as pd\n",
    "import numpy as np\n",
    "\n",
    "from sklearn.base import BaseEstimator, TransformerMixin\n",
    "from sklearn.preprocessing import OneHotEncoder\n",
    "\n",
    "class SelectItem(BaseEstimator, TransformerMixin):\n",
    "    \n",
    "    def __init__(self, features=[]):\n",
    "        self._features = features\n",
    "    \n",
    "    def fit(self, X, y=None):\n",
    "        if len(self._features)==0:\n",
    "            self._features = X.columns\n",
    "        return self\n",
    "        \n",
    "    def transform(self, X, y=None):\n",
    "        return X.loc[:, self._features].values\n",
    "    \n",
    "class SinCos(BaseEstimator, TransformerMixin):\n",
    "    \n",
    "    def __init__(self, dosin=True, docos=True):\n",
    "        self._dosin = dosin\n",
    "        self._docos = docos\n",
    "        \n",
    "    def fit(self, X, y=None):\n",
    "        return self\n",
    "    \n",
    "    def transform(self, X, y=None):\n",
    "        tmp=[]\n",
    "        for j in X.T:\n",
    "            if self._dosin:\n",
    "                tmp.append( np.sin(j) )\n",
    "            if self._docos:\n",
    "                tmp.append( np.cos(j) )\n",
    "        return np.vstack(tmp).T\n",
    "                \n",
    "class Encoding(BaseEstimator, TransformerMixin):\n",
    "    \n",
    "    def __init__(self, drop='first', sparse=False, handle_unknown = 'ignore'):\n",
    "        self._drop = drop\n",
    "        self._sparse = sparse\n",
    "        self._err = handle_unknown\n",
    "        self._fitted = []\n",
    "    \n",
    "    def fit(self, X, y=None):\n",
    "        for j in X.T:\n",
    "            encoder = OneHotEncoder(sparse=self._sparse, handle_unknown = self._err)\n",
    "            encoder.fit(j.reshape(-1,1))\n",
    "            self._fitted.append(encoder)\n",
    "            \n",
    "        return self\n",
    "    \n",
    "    def transform(self, X, y=None):\n",
    "        tmp=[]\n",
    "        for i, j in enumerate(X.T):\n",
    "            encoder = self._fitted[i]\n",
    "            tmp.append( encoder.transform(j.reshape(-1,1)) )\n",
    "        return np.hstack(tmp)\n",
    "        "
   ]
  },
  {
   "cell_type": "code",
   "execution_count": 2,
   "metadata": {},
   "outputs": [],
   "source": [
    "from sklearn.datasets import load_iris\n",
    "\n",
    "data = load_iris()\n",
    "df = pd.concat([pd.DataFrame(data.target, columns=['target']),pd.DataFrame(data.data, columns=data.feature_names)], axis=1)"
   ]
  },
  {
   "cell_type": "code",
   "execution_count": 3,
   "metadata": {},
   "outputs": [
    {
     "data": {
      "text/html": [
       "<div>\n",
       "<style scoped>\n",
       "    .dataframe tbody tr th:only-of-type {\n",
       "        vertical-align: middle;\n",
       "    }\n",
       "\n",
       "    .dataframe tbody tr th {\n",
       "        vertical-align: top;\n",
       "    }\n",
       "\n",
       "    .dataframe thead th {\n",
       "        text-align: right;\n",
       "    }\n",
       "</style>\n",
       "<table border=\"1\" class=\"dataframe\">\n",
       "  <thead>\n",
       "    <tr style=\"text-align: right;\">\n",
       "      <th></th>\n",
       "      <th>target</th>\n",
       "      <th>sepal length (cm)</th>\n",
       "      <th>sepal width (cm)</th>\n",
       "      <th>petal length (cm)</th>\n",
       "      <th>petal width (cm)</th>\n",
       "    </tr>\n",
       "  </thead>\n",
       "  <tbody>\n",
       "    <tr>\n",
       "      <th>0</th>\n",
       "      <td>0</td>\n",
       "      <td>5.1</td>\n",
       "      <td>3.5</td>\n",
       "      <td>1.4</td>\n",
       "      <td>0.2</td>\n",
       "    </tr>\n",
       "    <tr>\n",
       "      <th>1</th>\n",
       "      <td>0</td>\n",
       "      <td>4.9</td>\n",
       "      <td>3.0</td>\n",
       "      <td>1.4</td>\n",
       "      <td>0.2</td>\n",
       "    </tr>\n",
       "    <tr>\n",
       "      <th>2</th>\n",
       "      <td>0</td>\n",
       "      <td>4.7</td>\n",
       "      <td>3.2</td>\n",
       "      <td>1.3</td>\n",
       "      <td>0.2</td>\n",
       "    </tr>\n",
       "    <tr>\n",
       "      <th>3</th>\n",
       "      <td>0</td>\n",
       "      <td>4.6</td>\n",
       "      <td>3.1</td>\n",
       "      <td>1.5</td>\n",
       "      <td>0.2</td>\n",
       "    </tr>\n",
       "    <tr>\n",
       "      <th>4</th>\n",
       "      <td>0</td>\n",
       "      <td>5.0</td>\n",
       "      <td>3.6</td>\n",
       "      <td>1.4</td>\n",
       "      <td>0.2</td>\n",
       "    </tr>\n",
       "  </tbody>\n",
       "</table>\n",
       "</div>"
      ],
      "text/plain": [
       "   target  sepal length (cm)  sepal width (cm)  petal length (cm)  \\\n",
       "0       0                5.1               3.5                1.4   \n",
       "1       0                4.9               3.0                1.4   \n",
       "2       0                4.7               3.2                1.3   \n",
       "3       0                4.6               3.1                1.5   \n",
       "4       0                5.0               3.6                1.4   \n",
       "\n",
       "   petal width (cm)  \n",
       "0               0.2  \n",
       "1               0.2  \n",
       "2               0.2  \n",
       "3               0.2  \n",
       "4               0.2  "
      ]
     },
     "execution_count": 3,
     "metadata": {},
     "output_type": "execute_result"
    }
   ],
   "source": [
    "df.head()"
   ]
  },
  {
   "cell_type": "code",
   "execution_count": 4,
   "metadata": {},
   "outputs": [],
   "source": [
    "from sklearn.pipeline import Pipeline\n",
    "from sklearn.pipeline import FeatureUnion\n",
    "\n",
    "pipe_sincos = Pipeline([('selsincos', SelectItem(features=['sepal width (cm)','petal length (cm)','petal width (cm)'])),\n",
    "              ('sincos',  SinCos(dosin=True, docos=True) )\n",
    "             ])\n",
    "\n",
    "pipe_dum = Pipeline([('selcat', SelectItem(features=['target'])),\n",
    "              ('categ',  Encoding() )\n",
    "             ])\n",
    "pipe_union = FeatureUnion([('etape1' ,pipe_sincos), ('etape2', pipe_dum)])"
   ]
  },
  {
   "cell_type": "code",
   "execution_count": 5,
   "metadata": {},
   "outputs": [],
   "source": [
    "pipe_union.fit(df)\n",
    "resultat = pipe_union.transform(df)"
   ]
  },
  {
   "cell_type": "code",
   "execution_count": 6,
   "metadata": {},
   "outputs": [
    {
     "data": {
      "text/html": [
       "<div>\n",
       "<style scoped>\n",
       "    .dataframe tbody tr th:only-of-type {\n",
       "        vertical-align: middle;\n",
       "    }\n",
       "\n",
       "    .dataframe tbody tr th {\n",
       "        vertical-align: top;\n",
       "    }\n",
       "\n",
       "    .dataframe thead th {\n",
       "        text-align: right;\n",
       "    }\n",
       "</style>\n",
       "<table border=\"1\" class=\"dataframe\">\n",
       "  <thead>\n",
       "    <tr style=\"text-align: right;\">\n",
       "      <th></th>\n",
       "      <th>0</th>\n",
       "      <th>1</th>\n",
       "      <th>2</th>\n",
       "      <th>3</th>\n",
       "      <th>4</th>\n",
       "      <th>5</th>\n",
       "      <th>6</th>\n",
       "      <th>7</th>\n",
       "      <th>8</th>\n",
       "    </tr>\n",
       "  </thead>\n",
       "  <tbody>\n",
       "    <tr>\n",
       "      <th>0</th>\n",
       "      <td>-0.350783</td>\n",
       "      <td>-0.936457</td>\n",
       "      <td>0.98545</td>\n",
       "      <td>0.169967</td>\n",
       "      <td>0.198669</td>\n",
       "      <td>0.980067</td>\n",
       "      <td>1.0</td>\n",
       "      <td>0.0</td>\n",
       "      <td>0.0</td>\n",
       "    </tr>\n",
       "    <tr>\n",
       "      <th>1</th>\n",
       "      <td>0.141120</td>\n",
       "      <td>-0.989992</td>\n",
       "      <td>0.98545</td>\n",
       "      <td>0.169967</td>\n",
       "      <td>0.198669</td>\n",
       "      <td>0.980067</td>\n",
       "      <td>1.0</td>\n",
       "      <td>0.0</td>\n",
       "      <td>0.0</td>\n",
       "    </tr>\n",
       "  </tbody>\n",
       "</table>\n",
       "</div>"
      ],
      "text/plain": [
       "          0         1        2         3         4         5    6    7    8\n",
       "0 -0.350783 -0.936457  0.98545  0.169967  0.198669  0.980067  1.0  0.0  0.0\n",
       "1  0.141120 -0.989992  0.98545  0.169967  0.198669  0.980067  1.0  0.0  0.0"
      ]
     },
     "execution_count": 6,
     "metadata": {},
     "output_type": "execute_result"
    }
   ],
   "source": [
    "pd.DataFrame(resultat).head(2)"
   ]
  },
  {
   "cell_type": "markdown",
   "metadata": {},
   "source": [
    "KMeans class"
   ]
  },
  {
   "cell_type": "code",
   "execution_count": 7,
   "metadata": {},
   "outputs": [],
   "source": [
    "from scipy.spatial import distance_matrix\n",
    "from numpy.linalg import norm\n",
    "\n",
    "class KmeansCluster(BaseEstimator, TransformerMixin):\n",
    "    \n",
    "    def __init__(self, center, max_iter=100):\n",
    "        self._center = center\n",
    "        self._max_iter = max_iter\n",
    "        self._gravity = None\n",
    "        \n",
    "    def fit(self, X, y=None):\n",
    "        #first iteration\n",
    "        first_iter_ind = np.random.choice(range(len(X)), self._center)\n",
    "        gravity = X[first_iter_ind, :]\n",
    "        dist_to_cluster = distance_matrix(X, gravity)\n",
    "        old_label = np.argmin(dist_to_cluster, axis=1)\n",
    "        new_label = np.empty(len(X))\n",
    "        \n",
    "        it=0\n",
    "        while (it<self._max_iter) & ((new_label != old_label).sum() > 0):\n",
    "            if it>0:\n",
    "                old_label = new_label\n",
    "            gravity = self.actualiser_gravity(old_label, X)\n",
    "            \n",
    "            dist_to_cluster = distance_matrix(X, gravity)\n",
    "            new_label = np.argmin(dist_to_cluster, axis=1)\n",
    "            it = it + 1\n",
    "        \n",
    "        self._gravity = gravity\n",
    "        return self\n",
    "\n",
    "    def score(self, X, y=None):\n",
    "        return distance_matrix(X, self._gravity)\n",
    "    \n",
    "    def transform(self, X, y=None):\n",
    "        return np.argmin( self.score(X) , axis=1)\n",
    "    \n",
    "    @staticmethod\n",
    "    def actualiser_gravity(label, X):\n",
    "        gravity=[]\n",
    "        for cl in np.unique(label):\n",
    "            gravity.append(X[label==cl, :].mean(axis=0))\n",
    "        return np.concatenate(gravity).reshape(len(np.unique(label)), -1)\n",
    "    \n",
    "def compute_sse(X, label, gravity):\n",
    "    distance = np.zeros(len(X))\n",
    "    for k in np.unique(label):\n",
    "        distance[label == k] = norm(X[label == k] - gravity[k], axis=1)\n",
    "    return np.sum(np.square(distance)) "
   ]
  },
  {
   "cell_type": "code",
   "execution_count": 10,
   "metadata": {},
   "outputs": [
    {
     "data": {
      "text/plain": [
       "<matplotlib.axes._subplots.AxesSubplot at 0x1eec293c748>"
      ]
     },
     "execution_count": 10,
     "metadata": {},
     "output_type": "execute_result"
    },
    {
     "data": {
      "image/png": "[encoded data removed]",
      "text/plain": [
       "<Figure size 432x288 with 1 Axes>"
      ]
     },
     "metadata": {
      "needs_background": "light"
     },
     "output_type": "display_data"
    }
   ],
   "source": [
    "data =  df.iloc[:, 1:].values\n",
    "\n",
    "ssc = {}\n",
    "for cluster in range(2, 50):\n",
    "    obj = KmeansCluster(center=cluster)\n",
    "    obj.fit(data)\n",
    "    pred = obj.transform(data)\n",
    "    ssc.update({cluster:compute_sse(data, pred, obj._gravity)})\n",
    "pd.DataFrame.from_dict(ssc, orient = 'index').plot()"
   ]
  },
  {
   "cell_type": "code",
   "execution_count": 9,
   "metadata": {},
   "outputs": [],
   "source": [
    "import matplotlib.pyplot as plt\n",
    "plt.show()"
   ]
  },
  {
   "cell_type": "code",
   "execution_count": 12,
   "metadata": {},
   "outputs": [
    {
     "data": {
      "text/plain": [
       "array([0, 0, 0, 0, 0, 0, 0, 0, 0, 0, 0, 0, 0, 0, 0, 0, 0, 0, 0, 0, 0, 0,\n",
       "       0, 0, 0, 0, 0, 0, 0, 0, 0, 0, 0, 0, 0, 0, 0, 0, 0, 0, 0, 0, 0, 0,\n",
       "       0, 0, 0, 0, 0, 0, 1, 1, 1, 2, 1, 2, 1, 2, 1, 2, 2, 2, 2, 1, 2, 1,\n",
       "       2, 2, 1, 2, 1, 2, 1, 1, 1, 1, 1, 1, 1, 2, 2, 2, 2, 1, 2, 1, 1, 2,\n",
       "       2, 2, 2, 1, 2, 2, 2, 2, 2, 2, 2, 2, 3, 1, 3, 1, 3, 3, 2, 3, 3, 3,\n",
       "       1, 1, 3, 1, 1, 1, 1, 3, 3, 1, 3, 1, 3, 1, 3, 3, 1, 1, 1, 3, 3, 3,\n",
       "       1, 1, 1, 3, 3, 1, 1, 3, 3, 1, 1, 3, 3, 1, 1, 1, 1, 1], dtype=int64)"
      ]
     },
     "execution_count": 12,
     "metadata": {},
     "output_type": "execute_result"
    }
   ],
   "source": [
    "pipe_kmeans = Pipeline([('selkmeans', SelectItem(features=['sepal length (cm)', 'sepal width (cm)','petal length (cm)','petal width (cm)'])),\n",
    "              ('keans',  KmeansCluster(center=4))\n",
    "             ])\n",
    "pipe_kmeans.fit(df)\n",
    "pipe_kmeans.transform(df)"
   ]
  }
 ],
 "metadata": {
  "kernelspec": {
   "display_name": "Python 3",
   "language": "python",
   "name": "python3"
  },
  "language_info": {
   "codemirror_mode": {
    "name": "ipython",
    "version": 3
   },
   "file_extension": ".py",
   "mimetype": "text/x-python",
   "name": "python",
   "nbconvert_exporter": "python",
   "pygments_lexer": "ipython3",
   "version": "3.7.3"
  }
 },
 "nbformat": 4,
 "nbformat_minor": 2
}
