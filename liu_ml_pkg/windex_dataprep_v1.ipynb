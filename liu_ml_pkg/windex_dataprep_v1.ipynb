{
 "cells": [
  {
   "cell_type": "markdown",
   "metadata": {},
   "source": [
    "# Preparation"
   ]
  },
  {
   "cell_type": "code",
   "execution_count": 1,
   "metadata": {},
   "outputs": [],
   "source": [
    "from azureml.core import Workspace\n",
    "import pandas as pd"
   ]
  },
  {
   "cell_type": "code",
   "execution_count": 2,
   "metadata": {},
   "outputs": [],
   "source": [
    "ws = Workspace.get(name='windex', subscription_id='21868db0-87fa-4f03-bb0f-db7749ad7c9f', resource_group='Darwin-Dataanalysis-ML')"
   ]
  },
  {
   "cell_type": "code",
   "execution_count": 3,
   "metadata": {},
   "outputs": [
    {
     "data": {
      "text/plain": [
       "{'id': '/subscriptions/21868db0-87fa-4f03-bb0f-db7749ad7c9f/resourceGroups/Darwin-Dataanalysis-ML/providers/Microsoft.MachineLearningServices/workspaces/windex',\n",
       " 'name': 'windex',\n",
       " 'location': 'northeurope',\n",
       " 'type': 'Microsoft.MachineLearningServices/workspaces',\n",
       " 'tags': {},\n",
       " 'workspaceid': '084f563d-7c9d-47f0-92bc-d00cca39b4f4',\n",
       " 'description': '',\n",
       " 'friendlyName': '',\n",
       " 'creationTime': '2019-06-27T16:04:36.5228409+00:00',\n",
       " 'containerRegistry': '/subscriptions/21868db0-87fa-4f03-bb0f-db7749ad7c9f/resourceGroups/Darwin-Dataanalysis-ML/providers/Microsoft.ContainerRegistry/registries/windex196f9b13',\n",
       " 'keyVault': '/subscriptions/21868db0-87fa-4f03-bb0f-db7749ad7c9f/resourcegroups/darwin-dataanalysis-ml/providers/microsoft.keyvault/vaults/windex2307198450',\n",
       " 'applicationInsights': '/subscriptions/21868db0-87fa-4f03-bb0f-db7749ad7c9f/resourcegroups/darwin-dataanalysis-ml/providers/microsoft.insights/components/windex1034289974',\n",
       " 'identityPrincipalId': 'b675b9c2-d0e5-4672-b884-ac3c81c98aaa',\n",
       " 'identityTenantId': '3d230abe-bc21-41a5-a9cc-dae9acadb2df',\n",
       " 'identityType': 'SystemAssigned',\n",
       " 'storageAccount': '/subscriptions/21868db0-87fa-4f03-bb0f-db7749ad7c9f/resourcegroups/darwin-dataanalysis-ml/providers/microsoft.storage/storageaccounts/windex8989947575'}"
      ]
     },
     "execution_count": 3,
     "metadata": {},
     "output_type": "execute_result"
    }
   ],
   "source": [
    "ws.get_details()"
   ]
  },
  {
   "cell_type": "code",
   "execution_count": 4,
   "metadata": {},
   "outputs": [],
   "source": [
    "from azureml.core.datastore import Datastore\n",
    "from azureml.data.data_reference import DataReference\n",
    "\n",
    "ds = ws.get_default_datastore()\n",
    "dataref = DataReference(datastore=ds)\n"
   ]
  },
  {
   "cell_type": "code",
   "execution_count": 6,
   "metadata": {},
   "outputs": [],
   "source": [
    "ds_era5 = Datastore.register_azure_blob_container(workspace=ws, \n",
    "                                             datastore_name='era5', \n",
    "                                             container_name=\"era5\",\n",
    "                                             account_name=\"darwinlabstorage\", \n",
    "                                             account_key=\"w9UWsOPrsAel9KgVe43WvJ6e6+0T2XrRHSlHO05au6ghAgQGi78frrkwAFcFrdVUzDvsMjq/wRB2JOPna5vpaA==\",\n",
    "                                             create_if_not_exists=False)"
   ]
  },
  {
   "cell_type": "code",
   "execution_count": 7,
   "metadata": {},
   "outputs": [],
   "source": [
    "datarefera5 = DataReference(datastore=ds_era5)\n",
    "\n",
    "#filePathInput1 = os.path.join(dataref, '2T_Brazil_East2007.nc')\n"
   ]
  },
  {
   "cell_type": "code",
   "execution_count": 9,
   "metadata": {},
   "outputs": [
    {
     "name": "stdout",
     "output_type": "stream",
     "text": [
      "$AZUREML_DATAREFERENCE_workspaceblobstore $AZUREML_DATAREFERENCE_era5\n"
     ]
    }
   ],
   "source": [
    "print(dataref, datarefera5)"
   ]
  },
  {
   "cell_type": "code",
   "execution_count": 5,
   "metadata": {},
   "outputs": [
    {
     "name": "stdout",
     "output_type": "stream",
     "text": [
      "Uploading ./ncdata\\U100_fr1979.nc\n",
      "Uploading ./ncdata\\U100_fr1980.nc\n",
      "Uploaded ./ncdata\\U100_fr1980.nc, 1 files out of an estimated total of 2\n",
      "Uploaded ./ncdata\\U100_fr1979.nc, 2 files out of an estimated total of 2\n"
     ]
    },
    {
     "data": {
      "text/plain": [
       "$AZUREML_DATAREFERENCE_workspaceblobstore"
      ]
     },
     "execution_count": 5,
     "metadata": {},
     "output_type": "execute_result"
    }
   ],
   "source": [
    "ds.upload(src_dir='./ncdata',\n",
    "          overwrite=True,\n",
    "          show_progress=True)"
   ]
  },
  {
   "cell_type": "markdown",
   "metadata": {},
   "source": [
    "# Local test"
   ]
  },
  {
   "cell_type": "code",
   "execution_count": 10,
   "metadata": {},
   "outputs": [],
   "source": [
    "from netCDF4 import Dataset\n",
    "import numpy as np"
   ]
  },
  {
   "cell_type": "code",
   "execution_count": 42,
   "metadata": {},
   "outputs": [
    {
     "data": {
      "text/plain": [
       "masked_array(\n",
       "  data=[[[ -2.44769495,  -1.81998153,  -0.98656175, ..., -19.55663776,\n",
       "          -19.68906676, -19.67758958],\n",
       "         [ -2.93856508,  -2.42827203,  -1.67342678, ..., -18.41509986,\n",
       "          -18.63140054, -18.70909222],\n",
       "         [ -3.41795803,  -3.42678663,  -3.25021464, ..., -16.5937598 ,\n",
       "          -16.8118262 , -17.05196411],\n",
       "         ...,\n",
       "         [  6.232584  ,   5.82735128,   5.40181279, ...,  15.59619654,\n",
       "           14.30457245,  10.97707333],\n",
       "         [  4.16492601,   3.80560202,   4.15521455, ...,  14.84576559,\n",
       "           14.40521848,  12.10360261],\n",
       "         [  6.68725687,   7.03863513,   7.40767058, ...,  14.38579556,\n",
       "           14.51910741,  13.62123885]],\n",
       "\n",
       "        [[ -2.04422796,  -1.6928497 ,  -1.00510181, ..., -19.13286499,\n",
       "          -19.38006578, -19.54427772],\n",
       "         [ -2.65958134,  -2.37353472,  -1.74405558, ..., -18.29238233,\n",
       "          -18.46365716, -18.62345481],\n",
       "         [ -3.02067105,  -3.13720856,  -2.95710514, ..., -16.39599917,\n",
       "          -16.55491396, -16.567274  ],\n",
       "         ...,\n",
       "         [  7.14634404,   6.2414126 ,   5.58368194, ...,  14.89697147,\n",
       "           13.66626471,  10.18603082],\n",
       "         [  4.78381083,   4.04927136,   4.29735501, ...,  14.69744512,\n",
       "           14.42375854,  12.11066549],\n",
       "         [  6.90797185,   7.15958694,   7.4359221 , ...,  14.01146295,\n",
       "           14.08827176,  13.39875815]],\n",
       "\n",
       "        [[ -1.3511829 ,  -1.16489945,  -0.57603187, ..., -19.20084521,\n",
       "          -19.29442836, -19.28824834],\n",
       "         [ -2.07601091,  -1.92062757,  -1.39885734, ..., -18.370074  ,\n",
       "          -18.4186313 , -18.42834276],\n",
       "         [ -2.47682933,  -2.67635568,  -2.642807  , ..., -16.20706714,\n",
       "          -16.24061582, -16.10200681],\n",
       "         ...,\n",
       "         [  6.2590698 ,   5.98714893,   5.80792837, ...,  14.4820273 ,\n",
       "           13.00588547,   9.68103493],\n",
       "         [  4.25232915,   3.85504217,   4.15168312, ...,  14.64888782,\n",
       "           14.34871544,  12.19277147],\n",
       "         [  6.547765  ,   6.84705452,   7.178127  , ...,  14.43611858,\n",
       "           14.56148469,  13.96467137]],\n",
       "\n",
       "        ...,\n",
       "\n",
       "        [[  1.07403336,   1.09433914,   1.32035128, ...,   7.83585765,\n",
       "            8.15898439,   8.47946255],\n",
       "         [  1.40245726,   1.43335735,   1.59668644, ...,   8.46268821,\n",
       "            8.52625413,   8.74696911],\n",
       "         [  1.75471837,   1.75824981,   1.73970975, ...,   9.35790819,\n",
       "            9.40469977,   9.2431364 ],\n",
       "         ...,\n",
       "         [  4.59046451,   4.75644218,   4.53661005, ...,  16.52761378,\n",
       "           14.20745785,  10.15159928],\n",
       "         [  2.9156792 ,   3.32091191,   3.84886216, ...,  17.59764003,\n",
       "           16.48258792,  12.78428763],\n",
       "         [  4.79440515,   5.21552935,   5.55719614, ...,  18.23771349,\n",
       "           17.8210036 ,  15.6853654 ]],\n",
       "\n",
       "        [[  0.67233208,   0.59287469,   0.90187567, ...,   7.81555187,\n",
       "            8.24991897,   8.69841182],\n",
       "         [  1.25855109,   1.10140202,   1.3265313 , ...,   8.06981554,\n",
       "            8.37351936,   8.77963493],\n",
       "         [  1.79974423,   1.6990982 ,   1.56225491, ...,   8.85202945,\n",
       "            9.13807607,   9.21488488],\n",
       "         ...,\n",
       "         [  4.48098987,   4.67521906,   4.55161867, ...,  15.69507686,\n",
       "           13.92670839,  10.08626764],\n",
       "         [  3.09666548,   3.43303512,   3.84179928, ...,  17.01142103,\n",
       "           16.37399615,  13.05797421],\n",
       "         [  4.91623982,   5.17226921,   5.41946999, ...,  17.9816841 ,\n",
       "           17.96490977,  16.15946118]],\n",
       "\n",
       "        [[  0.67762924,   0.37922258,   0.51341729, ...,   7.22933287,\n",
       "            7.60631407,   8.0044839 ],\n",
       "         [  1.22588527,   0.89657851,   0.93542435, ...,   7.35293326,\n",
       "            7.66369996,   8.04509546],\n",
       "         [  1.57902924,   1.45896029,   1.19586803, ...,   8.17399301,\n",
       "            8.46710251,   8.53243415],\n",
       "         ...,\n",
       "         [  4.78116225,   4.91270839,   5.0469031 , ...,  13.98409429,\n",
       "           12.19718577,   9.44707705],\n",
       "         [  3.42597224,   3.62814717,   4.05015422, ...,  15.57147646,\n",
       "           14.82281123,  12.13538557],\n",
       "         [  5.15019771,   5.40004707,   5.64283356, ...,  16.92754933,\n",
       "           17.00524101,  15.55911642]]],\n",
       "  mask=False,\n",
       "  fill_value=1e+20)"
      ]
     },
     "execution_count": 42,
     "metadata": {},
     "output_type": "execute_result"
    }
   ],
   "source": [
    "dataset_U100_79  = Dataset('./ncdata/U100_fr1979.nc', 'r', format = 'NETCDF')\n",
    "dataset_U100_80  = Dataset('./ncdata/U100_fr1980.nc', 'r', format = 'NETCDF')\n",
    "\n",
    "dataset_U100_79.variables['u100'][:]"
   ]
  },
  {
   "cell_type": "code",
   "execution_count": 44,
   "metadata": {},
   "outputs": [
    {
     "name": "stdout",
     "output_type": "stream",
     "text": [
      "         0         1         2         3         4         5         6   \\\n",
      "0 -2.447695 -1.819982 -0.986562 -0.048964  0.584046  1.093456  1.180859   \n",
      "1 -2.938565 -2.428272 -1.673427 -1.293797 -0.990093 -0.564555 -0.159322   \n",
      "2 -3.417958 -3.426787 -3.250215 -2.903251 -2.587187 -2.144874 -0.960076   \n",
      "3 -4.617765 -4.724591 -4.677799 -4.275215 -3.764922 -3.157514 -2.091020   \n",
      "4 -5.769014 -5.859066 -6.011801 -5.473256 -4.842894 -4.107472 -3.417958   \n",
      "5 -6.761349 -6.650991 -6.831977 -6.324333 -5.891732 -5.390267 -4.696339   \n",
      "6 -7.443799 -7.148924 -6.701314 -6.195435 -5.792851 -5.475022 -4.970026   \n",
      "7 -7.144510 -6.345522 -5.457364 -4.689276 -3.969745 -3.614836 -3.123083   \n",
      "8 -7.504717 -6.782537 -5.939406 -4.703402 -3.477110 -2.655167 -1.955059   \n",
      "9 -7.520608 -6.823149 -6.055944 -4.675151 -3.422372 -2.537747 -1.663715   \n",
      "\n",
      "         7         8         9   ...         71         72         73  \\\n",
      "0  1.156139  0.742078  0.426897  ... -15.040809 -15.858337 -16.622011   \n",
      "1  0.637901  0.866561  0.651143  ... -16.242382 -16.353622 -17.122593   \n",
      "2 -0.137250  0.200885  0.560209  ... -12.853082 -13.258315 -14.694728   \n",
      "3 -1.016579 -0.400343  0.187642  ...  -5.652477  -6.675711  -9.098279   \n",
      "4 -2.420326 -1.624869 -0.688155  ...   0.100239  -1.540998  -4.613350   \n",
      "5 -3.804651 -2.608375 -1.272608  ...  -0.809990  -2.128100  -3.441795   \n",
      "6 -4.097760 -2.874999 -1.436820  ...  -2.462704  -3.667807  -4.718411   \n",
      "7 -2.427389 -1.601915 -0.672264  ...  -3.765805  -4.499461  -5.169552   \n",
      "8 -1.238177 -0.593689 -0.000407  ...  -3.157514  -3.643087  -4.081869   \n",
      "9 -0.821467 -0.168151  0.435726  ...  -2.480361  -2.777885  -3.152217   \n",
      "\n",
      "          74         75         76         77         78         79         80  \n",
      "0 -17.345074 -18.533403 -18.916564 -19.227331 -19.556638 -19.689067 -19.677590  \n",
      "1 -17.488097 -17.657606 -17.837709 -18.147593 -18.415100 -18.631401 -18.709092  \n",
      "2 -16.096710 -16.267102 -16.433962 -16.432196 -16.593760 -16.811826 -17.051964  \n",
      "3 -11.539387 -13.939883 -14.204741 -14.632045 -14.469599 -13.893974 -13.718285  \n",
      "4  -6.967055  -9.187448 -11.264817 -11.796299 -12.002005 -11.105020  -9.982022  \n",
      "5  -5.181912  -7.277822  -8.441431  -9.230708  -9.437297  -8.584454  -8.408765  \n",
      "6  -5.649828  -6.242227  -6.920263  -7.268110  -7.259282  -6.937038  -6.901723  \n",
      "7  -5.847589  -5.897912  -5.919100  -5.851120  -5.696620  -5.412339  -5.387619  \n",
      "8  -4.554199  -4.465913  -4.355555  -4.250495  -4.178983  -4.314061  -4.510939  \n",
      "9  -3.432967  -3.406481  -3.333203  -3.161046  -3.108957  -3.252863  -3.397652  \n",
      "\n",
      "[10 rows x 81 columns]\n"
     ]
    }
   ],
   "source": [
    "dataset_U100_79  = Dataset('./ncdata/U100_fr1979.nc', 'r', format = 'NETCDF')\n",
    "dataset_U100_80  = Dataset('./ncdata/U100_fr1980.nc', 'r', format = 'NETCDF')\n",
    "U100_79 = dataset_U100_79.variables['u100'][:]\n",
    "U100_80 = dataset_U100_80.variables['u100'][:]\n",
    "df_output = pd.DataFrame(np.concatenate((U100_79, U100_80))[0])\n",
    "print(df_output.head(10))"
   ]
  },
  {
   "cell_type": "markdown",
   "metadata": {},
   "source": [
    "# server treatement"
   ]
  },
  {
   "cell_type": "code",
   "execution_count": 45,
   "metadata": {},
   "outputs": [
    {
     "name": "stdout",
     "output_type": "stream",
     "text": [
      "Overwriting ./scripts/transform_windex.py\n"
     ]
    }
   ],
   "source": [
    "%%writefile ./scripts/transform_windex.py\n",
    "\n",
    "import argparse\n",
    "import os\n",
    "import numpy as np\n",
    "import pandas as pd\n",
    "\n",
    "from netCDF4 import Dataset\n",
    "\n",
    "# let user feed in 2 parameters, the location of the data files (from datastore), and the regularization rate of the logistic regression model\n",
    "parser = argparse.ArgumentParser()\n",
    "parser.add_argument('--dataFolderInput', type=str)\n",
    "parser.add_argument('--dataFolderOutput', type=str)\n",
    "args = parser.parse_args()\n",
    "\n",
    "dataFolderInput = args.dataFolderInput\n",
    "dataFolderOutput = args.dataFolderOutput\n",
    "\n",
    "print('dataFolderInput =>', dataFolderInput, 'dataFolderOutput =>', dataFolderOutput)\n",
    "\n",
    "filePathInput1 = os.path.join(dataFolderInput, 'france','U100_fr1979.nc')\n",
    "filePathInput2 = os.path.join(dataFolderInput, 'france','U100_fr1980.nc')\n",
    "\n",
    "dataset_U100_79  = Dataset(filePathInput1, 'r', format = 'NETCDF')\n",
    "dataset_U100_80  = Dataset(filePathInput2, 'r', format = 'NETCDF')\n",
    "U100_79 = dataset_U100_79.variables['u100'][:]\n",
    "U100_80 = dataset_U100_80.variables['u100'][:]\n",
    "df_output = pd.DataFrame(np.concatenate((U100_79, U100_80))[0])\n",
    "\n",
    "filePathOutput = os.path.join(dataFolderOutput,'2Tbr.csv')\n",
    "df_output.to_csv(filePathOutput)\n"
   ]
  },
  {
   "cell_type": "code",
   "execution_count": 17,
   "metadata": {},
   "outputs": [
    {
     "name": "stdout",
     "output_type": "stream",
     "text": [
      "found existing compute target.\n",
      "Azure Machine Learning Compute attached\n"
     ]
    }
   ],
   "source": [
    "from azureml.core.compute import ComputeTarget, AmlCompute\n",
    "from azureml.core.compute_target import ComputeTargetException\n",
    "\n",
    "aml_compute_target = \"cpu-cluster\"\n",
    "try:\n",
    "    aml_compute = AmlCompute(ws, aml_compute_target)\n",
    "    print(\"found existing compute target.\")\n",
    "except ComputeTargetException:\n",
    "    print(\"creating new compute target\")\n",
    "    \n",
    "    provisioning_config = AmlCompute.provisioning_configuration(vm_size = \"STANDARD_D2_V2\",\n",
    "                                                                min_nodes = 1, \n",
    "                                                                max_nodes = 4)    \n",
    "    aml_compute = ComputeTarget.create(ws, aml_compute_target, provisioning_config)\n",
    "    aml_compute.wait_for_completion(show_output=True, min_node_count=None, timeout_in_minutes=20)\n",
    "    \n",
    "print(\"Azure Machine Learning Compute attached\")"
   ]
  },
  {
   "cell_type": "code",
   "execution_count": 18,
   "metadata": {},
   "outputs": [],
   "source": [
    "from azureml.core.runconfig import RunConfiguration\n",
    "from azureml.core.conda_dependencies import CondaDependencies\n",
    "from azureml.core.runconfig import DEFAULT_CPU_IMAGE\n",
    "\n",
    "run_config = RunConfiguration()\n",
    "run_config.environment.docker.enabled = True\n",
    "run_config.environment.docker.base_image = DEFAULT_CPU_IMAGE\n",
    "run_config.environment.python.user_managed_dependencies = False\n",
    "\n",
    "# specify CondaDependencies obj\n",
    "run_config.environment.python.conda_dependencies = CondaDependencies.create(conda_packages=['scikit-learn', 'pandas'],pip_packages=['netCDF4', 'pyarrow'] )"
   ]
  },
  {
   "cell_type": "code",
   "execution_count": 46,
   "metadata": {},
   "outputs": [],
   "source": [
    "from azureml.pipeline.core import Pipeline\n",
    "from azureml.pipeline.steps import PythonScriptStep\n",
    "from azureml.core import Experiment\n",
    "\n",
    "step_read_transf = PythonScriptStep(name=\"transform_nc_step\",\n",
    "                         script_name=\"transform_windex.py\",\n",
    "                         arguments=['--dataFolderInput',datarefera5,'--dataFolderOutput',dataref],\n",
    "                         inputs=[datarefera5, dataref],\n",
    "                         compute_target=aml_compute, \n",
    "                         source_directory='./scripts',\n",
    "                         runconfig=run_config)"
   ]
  },
  {
   "cell_type": "code",
   "execution_count": 47,
   "metadata": {},
   "outputs": [
    {
     "name": "stdout",
     "output_type": "stream",
     "text": [
      "Created step transform_nc_step [dc654d03][0bf2ac77-4521-4eb9-8212-561ca5dbabc7], (This step will run and generate new outputs)\n",
      "Created data reference era5 for StepId [a1957223][bcc3c126-cedd-47e0-b467-bd4c46ea08f6], (Consumers of this data will generate new runs.)\n",
      "Created data reference workspaceblobstore for StepId [c7877bc0][596d8cf6-cc66-4d5a-b3b5-4f335c5ad684], (Consumers of this data will generate new runs.)\n",
      "Submitted pipeline run: 26b7870e-398d-48f0-90ce-e7b3e2016597\n"
     ]
    },
    {
     "data": {
      "text/html": [
       "<table style=\"width:100%\"><tr><th>Experiment</th><th>Id</th><th>Type</th><th>Status</th><th>Details Page</th><th>Docs Page</th></tr><tr><td>run_nc_pipe</td><td>26b7870e-398d-48f0-90ce-e7b3e2016597</td><td>azureml.PipelineRun</td><td>NotStarted</td><td><a href=\"https://mlworkspace.azure.ai/portal/subscriptions/21868db0-87fa-4f03-bb0f-db7749ad7c9f/resourceGroups/Darwin-Dataanalysis-ML/providers/Microsoft.MachineLearningServices/workspaces/windex/experiments/run_nc_pipe/runs/26b7870e-398d-48f0-90ce-e7b3e2016597\" target=\"_blank\" rel=\"noopener\">Link to Azure Portal</a></td><td><a href=\"https://docs.microsoft.com/en-us/python/api/overview/azure/ml/intro?view=azure-ml-py\" target=\"_blank\" rel=\"noopener\">Link to Documentation</a></td></tr></table>"
      ],
      "text/plain": [
       "Run(Experiment: run_nc_pipe,\n",
       "Id: 26b7870e-398d-48f0-90ce-e7b3e2016597,\n",
       "Type: azureml.PipelineRun,\n",
       "Status: NotStarted)"
      ]
     },
     "execution_count": 47,
     "metadata": {},
     "output_type": "execute_result"
    }
   ],
   "source": [
    "pipeline_transform_windex = Pipeline(workspace=ws, steps=[step_read_transf])\n",
    "pipeline_transform_windex_run = Experiment(ws, 'run_nc_pipe').submit(pipeline_transform_windex, regenerate_outputs=True)\n",
    "pipeline_transform_windex_run"
   ]
  },
  {
   "cell_type": "markdown",
   "metadata": {},
   "source": [
    "##  <span style=\"color:blue\"> Prepare Class </span> TODO"
   ]
  },
  {
   "cell_type": "code",
   "execution_count": 1,
   "metadata": {},
   "outputs": [],
   "source": [
    "from sklearn.base import BaseEstimator, TransformerMixin\n",
    "import numpy as np"
   ]
  },
  {
   "cell_type": "code",
   "execution_count": 2,
   "metadata": {},
   "outputs": [],
   "source": [
    "from netCDF4 import Dataset\n",
    "import os\n",
    "import pandas as pd\n",
    "import numpy as np\n",
    "import ask.connect\n",
    "import matplotlib.pyplot as plt\n",
    "import datetime\n",
    "import calendar\n",
    "from Ask4meteo import *"
   ]
  },
  {
   "cell_type": "code",
   "execution_count": 3,
   "metadata": {},
   "outputs": [],
   "source": [
    "class WinProdex(BaseEstimator,TransformerMixin):\n",
    "    \n",
    "    def __init__(self, **params):\n",
    "        \n",
    "        self.params = params\n",
    "        self.alpha = None\n",
    "        self.csv20ans = None\n",
    "    \n",
    "    def fit(self, X, y=None, write_ref=True):\n",
    "\n",
    "        Ws_10 = X['Ws_10'].values\n",
    "        Ws_100 = X['Ws_100'].values\n",
    "    \n",
    "        self.alpha = self.turbine_height_power_law_extrapolation_fct(Ws_10, Ws_100, **self.params)\n",
    "        \n",
    "        if write_ref:\n",
    "            self.csv20ans = self.transform(X)\n",
    "        \n",
    "        return self\n",
    "    \n",
    "    \n",
    "    def transform(self, X, y=None):\n",
    "        \n",
    "        Ws_10 = X['Ws_10'].values\n",
    "        res = Ws_10 * (np.log( self.params['z2']/self.params['z0']))/(np.log(self.params['z1']/self.params['z0']))\n",
    "        return res\n",
    "    \n",
    "\n",
    "    def score_kpi(self, X):\n",
    "        res = self.csv20ans.mean() - self.transform(X).mean()\n",
    "        return res\n",
    "    \n",
    "    @staticmethod\n",
    "    def turbine_height_power_law_extrapolation_fct(Ws_z1, Ws_z2, z0, z1, z2, z3, law):\n",
    "        print(Ws_z1, Ws_z2, z0, z1, z2, z3, law)\n",
    "        \n",
    "        if law == '7th':\n",
    "            return 1/7\n",
    "        elif law == 'Hellman':\n",
    "            return (np.log(np.mean(Ws_z2)) - np.log(np.mean(Ws_z1)))/(np.log(np.mean(z2)) - np.log(np.mean(z1)))\n",
    "        elif law == 'JustusMikhail':\n",
    "            return (0.37 - 0.0881*np.log(Ws_z1))/(1-0.0881*np.log(z1))\n",
    "        elif law == 'Davenport': #---Surface rugosity\n",
    "            return \n",
    "        elif law == 'Reed': # Wind speed at ref height\n",
    "            return \n",
    "        elif law == 'Smith': #--- Atmospheric stratification\n",
    "            return \n",
    "        elif law == 'Sisterson': #--- Atmospheric stratification\n",
    "            return\n",
    "        \n",
    "    @staticmethod\n",
    "    def XlonYlat_WT_fct(WT, db):\n",
    "        \"\"\"\n",
    "        Get lat and lon of the Wind turbine\n",
    "        \"\"\"\n",
    "        request = \"\"\"\n",
    "        SELECT distinct [MAC_LATITUDE],[MAC_LONGITUDE]\n",
    "        FROM [dbo].CATALOGUE_MACHINE\n",
    "        WHERE (\"MAC_CODE\" like '%{}%')\n",
    "        \"\"\".format(WT)\n",
    "        LonLat = pd.read_sql(request, db.engine)\n",
    "        xlat, ylon =  float(LonLat['MAC_LATITUDE']), float(LonLat['MAC_LONGITUDE'])\n",
    "        return xlat, ylon \n",
    "    \n",
    "    @staticmethod\n",
    "    def ReadEraWind_fct(CountryFile, Area, Date_Start, Date_End, Dir_ERA):\n",
    "        DeltaT = 1#hour\n",
    "        VarName = ['U10','V10','U100','V100']\n",
    "        print(VarName[0],Date_Start, Date_End, CountryFile, DeltaT)\n",
    "        U10, ListDate_wish,lat,lon = ReadNetCDFbyVar(VarName[0],Date_Start, Date_End, CountryFile, Area,Dir_ERA)\n",
    "        V10 ,_,_,_ = ReadNetCDFbyVar(VarName[1],Date_Start, Date_End, CountryFile, Area,Dir_ERA)\n",
    "        U100,_,_,_ = ReadNetCDFbyVar(VarName[2],Date_Start, Date_End, CountryFile, Area,Dir_ERA)\n",
    "        V100,_,_,_ = ReadNetCDFbyVar(VarName[3],Date_Start, Date_End, CountryFile, Area,Dir_ERA)\n",
    "        Ws_10 = np.sqrt( U10*U10+V10*V10)\n",
    "        Ws_100 = np.sqrt(U100*U100+V100*V100)\n",
    "        print(\"----------------->>>> Done\")\n",
    "        return Ws_10, Ws_100, lat, lon\n",
    "    \n",
    " "
   ]
  },
  {
   "cell_type": "code",
   "execution_count": 35,
   "metadata": {},
   "outputs": [
    {
     "name": "stdout",
     "output_type": "stream",
     "text": [
      "U10 2017-01-01 2018-01-01 fr 1\n",
      "-----------------------  U10  -----------------------\n",
      "Nearest grid point Lat : 43.00   Lon : 3.00  48 32\n",
      "Year :  |  2017 |  2018\n",
      "--------------------------------------------------\n",
      "Date start :  2017-01-01 00:00:00   |  Date End : 2018-01-01 23:00:00\n",
      "-----------------------  V10  -----------------------\n",
      "Nearest grid point Lat : 43.00   Lon : 3.00  48 32\n",
      "Year :  |  2017 |  2018\n",
      "--------------------------------------------------\n",
      "Date start :  2017-01-01 00:00:00   |  Date End : 2018-01-01 23:00:00\n",
      "-----------------------  U100  -----------------------\n",
      "Nearest grid point Lat : 43.00   Lon : 3.00  48 32\n",
      "Year :  |  2017 |  2018\n",
      "--------------------------------------------------\n",
      "Date start :  2017-01-01 00:00:00   |  Date End : 2018-01-01 23:00:00\n",
      "-----------------------  V100  -----------------------\n",
      "Nearest grid point Lat : 43.00   Lon : 3.00  48 32\n",
      "Year :  |  2017 |  2018\n",
      "--------------------------------------------------\n",
      "Date start :  2017-01-01 00:00:00   |  Date End : 2018-01-01 23:00:00\n",
      "----------------->>>> Done\n",
      "U10 1998-01-01 2018-01-01 fr 1\n",
      "-----------------------  U10  -----------------------\n",
      "Nearest grid point Lat : 43.00   Lon : 3.00  48 32\n",
      "Year :  |  1998 |  1999 |  2000 |  2001 |  2002 |  2003 |  2004 |  2005 |  2006 |  2007 |  2008 |  2009 |  2010 |  2011 |  2012 |  2013 |  2014 |  2015 |  2016 |  2017 |  2018\n",
      "--------------------------------------------------\n",
      "Date start :  1998-01-01 00:00:00   |  Date End : 2018-01-01 23:00:00\n",
      "-----------------------  V10  -----------------------\n",
      "Nearest grid point Lat : 43.00   Lon : 3.00  48 32\n",
      "Year :  |  1998 |  1999 |  2000 |  2001 |  2002 |  2003 |  2004 |  2005 |  2006 |  2007 |  2008 |  2009 |  2010 |  2011 |  2012 |  2013 |  2014 |  2015 |  2016 |  2017 |  2018\n",
      "--------------------------------------------------\n",
      "Date start :  1998-01-01 00:00:00   |  Date End : 2018-01-01 23:00:00\n",
      "-----------------------  U100  -----------------------\n",
      "Nearest grid point Lat : 43.00   Lon : 3.00  48 32\n",
      "Year :  |  1998 |  1999 |  2000 |  2001 |  2002 |  2003 |  2004 |  2005 |  2006 |  2007 |  2008 |  2009 |  2010 |  2011 |  2012 |  2013 |  2014 |  2015 |  2016 |  2017 |  2018\n",
      "--------------------------------------------------\n",
      "Date start :  1998-01-01 00:00:00   |  Date End : 2018-01-01 23:00:00\n",
      "-----------------------  V100  -----------------------\n",
      "Nearest grid point Lat : 43.00   Lon : 3.00  48 32\n",
      "Year :  |  1998 |  1999 |  2000 |  2001 |  2002 |  2003 |  2004 |  2005 |  2006 |  2007 |  2008 |  2009 |  2010 |  2011 |  2012 |  2013 |  2014 |  2015 |  2016 |  2017 |  2018\n",
      "--------------------------------------------------\n",
      "Date start :  1998-01-01 00:00:00   |  Date End : 2018-01-01 23:00:00\n",
      "----------------->>>> Done\n"
     ]
    }
   ],
   "source": [
    "db = ask.connect.connect_to_darwin()\n",
    "CountryFile = 'fr'\n",
    "WT = 'FRMVF_E1_1381'\n",
    "Dir_ERA = 'X:\\\\MeteoData\\\\ERA5\\\\'\n",
    "\n",
    "\n",
    "xlat, ylon = WinProdex.XlonYlat_WT_fct(WT,db)\n",
    "Area  = [xlat, ylon]\n",
    "\n",
    "#Fetch data 20 ans pour fitter et 1 an pour transformer\n",
    "Ws_10_1an, Ws_100_1an, lat, lon = WinProdex.ReadEraWind_fct(CountryFile,Area,'2017-01-01', '2018-01-01', Dir_ERA)\n",
    "Ws_10_20ans, Ws_100_20ans, lat, lon = WinProdex.ReadEraWind_fct(CountryFile,Area,'1998-01-01', '2018-01-01', Dir_ERA)\n",
    "\n",
    "X_1an = pd.DataFrame({'Ws_10':Ws_10_1an, 'Ws_100':Ws_100_1an})\n",
    "X_20ans = pd.DataFrame({'Ws_10':Ws_10_20ans, 'Ws_100':Ws_100_20ans})"
   ]
  },
  {
   "cell_type": "code",
   "execution_count": 40,
   "metadata": {},
   "outputs": [
    {
     "name": "stdout",
     "output_type": "stream",
     "text": [
      "[3.83817101 3.99248125 4.35130947 ... 6.90750838 6.7712165  5.0318868 ] [ 6.93168417  7.15464431  7.6684532  ... 11.92066421 11.77902268\n",
      "  9.93553055] 0.15 10 100 80 Hellman\n"
     ]
    },
    {
     "data": {
      "text/plain": [
       "-0.08705081922719948"
      ]
     },
     "execution_count": 40,
     "metadata": {},
     "output_type": "execute_result"
    }
   ],
   "source": [
    "uc = WinProdex(z0=0.15, z1=10, z2=100, z3 = 80, law='Hellman')\n",
    "uc.fit(X_20ans,write_ref=True)\n",
    "\n",
    "transf_20ans = uc.transform(X_20ans)\n",
    "transf_1an = uc.transform(X_1an)\n",
    "uc.score_kpi(X_1an)"
   ]
  }
 ],
 "metadata": {
  "kernelspec": {
   "display_name": "Python 3",
   "language": "python",
   "name": "python3"
  },
  "language_info": {
   "codemirror_mode": {
    "name": "ipython",
    "version": 3
   },
   "file_extension": ".py",
   "mimetype": "text/x-python",
   "name": "python",
   "nbconvert_exporter": "python",
   "pygments_lexer": "ipython3",
   "version": "3.6.2"
  }
 },
 "nbformat": 4,
 "nbformat_minor": 2
}
